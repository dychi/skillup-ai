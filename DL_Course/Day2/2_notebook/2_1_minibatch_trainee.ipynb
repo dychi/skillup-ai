{
 "cells": [
  {
   "cell_type": "markdown",
   "metadata": {},
   "source": [
    "# ミニバッチ学習の実装"
   ]
  },
  {
   "cell_type": "code",
   "execution_count": 1,
   "metadata": {
    "ExecuteTime": {
     "end_time": "2018-03-30T08:22:18.778283Z",
     "start_time": "2018-03-30T08:22:17.521441Z"
    },
    "scrolled": true
   },
   "outputs": [
    {
     "name": "stderr",
     "output_type": "stream",
     "text": [
      "/Users/yamaokadaichi/.pyenv/versions/anaconda3-5.1.0/lib/python3.6/site-packages/h5py/__init__.py:36: FutureWarning: Conversion of the second argument of issubdtype from `float` to `np.floating` is deprecated. In future, it will be treated as `np.float64 == np.dtype(float).type`.\n",
      "  from ._conv import register_converters as _register_converters\n"
     ]
    }
   ],
   "source": [
    "from PIL import Image\n",
    "import numpy as np\n",
    "import matplotlib.pyplot as plt\n",
    "import math\n",
    "\n",
    "# Load the MNIST dataset\n",
    "import tensorflow as tf\n",
    "mnist = tf.keras.datasets.mnist\n",
    "(X_train, y_train),(X_test, y_test) = mnist.load_data()\n",
    "\n",
    "from sklearn.preprocessing import LabelBinarizer\n",
    "lb = LabelBinarizer()\n",
    "\n",
    "train = X_train/255\n",
    "test = X_test/255\n",
    "train = train.reshape(-1, 28*28)\n",
    "test = test.reshape(-1, 28*28)\n",
    "train_labels = lb.fit_transform(y_train)\n",
    "test_labels = lb.fit_transform(y_test)"
   ]
  },
  {
   "cell_type": "markdown",
   "metadata": {},
   "source": [
    "## ミニバッチ学習\n",
    "* ミニバッチ学習は、一般的には非復元抽出によって行われることが多いが、必ずこうしなければならないというわけではなく、分析者がデータセットの与え方を工夫することもできる。ただし、工夫しても計算が上手くいくとは限らない。\n",
    "* 工夫のしどころ。\n",
    "    * 一般的には、エポックのたびにシャッフルするが、シャッフルするタイミングを任意に変えてみる  \n",
    "    * 与えるミニバッチ の順番を意図的に操作してみる   \n",
    "        * 例、出現頻度の少ないラベルのデータを先に学習させる\n",
    "    * 抽出されるラベルの割合が一定になるように抽出してみる\n",
    "    * 復元抽出にしてみる"
   ]
  },
  {
   "cell_type": "code",
   "execution_count": 2,
   "metadata": {
    "ExecuteTime": {
     "end_time": "2018-03-30T08:23:46.756032Z",
     "start_time": "2018-03-30T08:23:46.750904Z"
    }
   },
   "outputs": [],
   "source": [
    "def trainer(network, x, y):\n",
    "    \"\"\"\n",
    "    学習用の関数\n",
    "    このnotebookでは、ミニバッチ学習を学ぶことが目的であるため、この関数の中身は空のままにしておく\n",
    "    実際には、何らかの学習させるための処理を記述する\n",
    "    \"\"\"\n",
    "    pass\n",
    "    return "
   ]
  },
  {
   "cell_type": "markdown",
   "metadata": {
    "ExecuteTime": {
     "end_time": "2018-03-30T08:24:31.841612Z",
     "start_time": "2018-03-30T08:24:31.837897Z"
    }
   },
   "source": [
    "### ミニバッチ学習のループ(復元抽出)"
   ]
  },
  {
   "cell_type": "code",
   "execution_count": 3,
   "metadata": {
    "ExecuteTime": {
     "end_time": "2018-03-30T08:25:54.693563Z",
     "start_time": "2018-03-30T08:25:54.673160Z"
    },
    "scrolled": true
   },
   "outputs": [
    {
     "name": "stdout",
     "output_type": "stream",
     "text": [
      "i=0\n",
      "i=1\n",
      "i=2\n",
      "i=3\n",
      "i=4\n",
      "i=5\n",
      "i=6\n",
      "i=7\n",
      "i=8\n",
      "i=9\n"
     ]
    }
   ],
   "source": [
    "train_size = train_labels.shape[0]\n",
    "batch_size = 32\n",
    "max_iter = 10 #ループの回数\n",
    "network = None #ダミー\n",
    "\n",
    "for i in range(max_iter):\n",
    "    print(\"i=%s\"%i)\n",
    "    batch_mask = np.random.choice(train_size, batch_size)\n",
    "    x_batch = train[batch_mask]\n",
    "    y_batch = train_labels[batch_mask]\n",
    "\n",
    "    trainer(network, x_batch, y_batch)"
   ]
  },
  {
   "cell_type": "markdown",
   "metadata": {},
   "source": [
    "### 復元抽出部分を理解するためのコード"
   ]
  },
  {
   "cell_type": "code",
   "execution_count": 4,
   "metadata": {},
   "outputs": [
    {
     "name": "stdout",
     "output_type": "stream",
     "text": [
      "batch_mask= [38586 16917  6196 45260 34934 49417 48622 31137  1455 14549 13769 41256\n",
      " 55277 55771 52206 44655 29912 23245 10255 20023 20658 24668 48790  9595\n",
      " 59828 34308 39281 12674 15365 43732 30033 46315]\n",
      "\n",
      "x_batch= [[0. 0. 0. ... 0. 0. 0.]\n",
      " [0. 0. 0. ... 0. 0. 0.]\n",
      " [0. 0. 0. ... 0. 0. 0.]\n",
      " ...\n",
      " [0. 0. 0. ... 0. 0. 0.]\n",
      " [0. 0. 0. ... 0. 0. 0.]\n",
      " [0. 0. 0. ... 0. 0. 0.]]\n",
      "x_batch.shape= (32, 784)\n",
      "\n",
      "y_batch= [[0 0 0 0 0 0 0 1 0 0]\n",
      " [0 0 0 0 0 0 0 0 1 0]\n",
      " [0 0 0 0 0 0 0 0 1 0]\n",
      " [0 0 0 1 0 0 0 0 0 0]\n",
      " [0 0 0 0 0 0 0 1 0 0]\n",
      " [0 0 0 0 1 0 0 0 0 0]\n",
      " [0 0 0 0 0 0 0 1 0 0]\n",
      " [0 0 0 0 0 0 0 1 0 0]\n",
      " [0 0 0 0 0 0 0 0 0 1]\n",
      " [0 0 0 0 0 1 0 0 0 0]\n",
      " [1 0 0 0 0 0 0 0 0 0]\n",
      " [0 0 1 0 0 0 0 0 0 0]\n",
      " [1 0 0 0 0 0 0 0 0 0]\n",
      " [0 0 0 1 0 0 0 0 0 0]\n",
      " [0 0 0 0 0 0 1 0 0 0]\n",
      " [0 0 0 0 0 0 1 0 0 0]\n",
      " [0 0 0 0 0 1 0 0 0 0]\n",
      " [0 1 0 0 0 0 0 0 0 0]\n",
      " [0 0 0 0 0 1 0 0 0 0]\n",
      " [0 0 0 1 0 0 0 0 0 0]\n",
      " [1 0 0 0 0 0 0 0 0 0]\n",
      " [0 0 0 0 1 0 0 0 0 0]\n",
      " [1 0 0 0 0 0 0 0 0 0]\n",
      " [0 0 0 0 1 0 0 0 0 0]\n",
      " [0 0 0 1 0 0 0 0 0 0]\n",
      " [0 0 1 0 0 0 0 0 0 0]\n",
      " [0 1 0 0 0 0 0 0 0 0]\n",
      " [0 0 0 0 0 0 0 0 0 1]\n",
      " [0 0 0 0 0 1 0 0 0 0]\n",
      " [0 0 0 0 1 0 0 0 0 0]\n",
      " [0 0 0 0 0 0 1 0 0 0]\n",
      " [0 0 0 0 0 0 0 0 0 1]]\n",
      "y_batch.shape= (32, 10)\n",
      "\n"
     ]
    }
   ],
   "source": [
    "batch_mask = np.random.choice(train_size, batch_size)\n",
    "print(\"batch_mask=\", batch_mask)\n",
    "print()\n",
    "\n",
    "x_batch = train[batch_mask]\n",
    "print(\"x_batch=\", x_batch)\n",
    "print(\"x_batch.shape=\", x_batch.shape)\n",
    "print()\n",
    "y_batch = train_labels[batch_mask]\n",
    "print(\"y_batch=\", y_batch)\n",
    "print(\"y_batch.shape=\", y_batch.shape)\n",
    "print()"
   ]
  },
  {
   "cell_type": "code",
   "execution_count": 5,
   "metadata": {},
   "outputs": [
    {
     "data": {
      "text/plain": [
       "array([1, 8, 8])"
      ]
     },
     "execution_count": 5,
     "metadata": {},
     "output_type": "execute_result"
    }
   ],
   "source": [
    "# 復元抽出部分(何回か実行してみてください)\n",
    "np.random.choice(10,3)"
   ]
  },
  {
   "cell_type": "markdown",
   "metadata": {},
   "source": [
    "### ミニバッチ学習のループ(非復元抽出)"
   ]
  },
  {
   "cell_type": "markdown",
   "metadata": {},
   "source": [
    "### [演習]\n",
    "* 以下の非復元抽出によるミニバッチ学習を完成させましょう。\n",
    "* 通常の計算では、非復元抽出で行うことが多いです。"
   ]
  },
  {
   "cell_type": "code",
   "execution_count": 6,
   "metadata": {},
   "outputs": [
    {
     "name": "stdout",
     "output_type": "stream",
     "text": [
      "index=[0 1 2 3 4 5 6 7 8 9]\n",
      "index=[4 9 6 7 8 1 2 3 5 0]\n",
      "\n",
      "[2 9 3 0 1 4 5 8 7 6]\n",
      "\n",
      "[4 9 6]\n",
      "[7 8 1]\n",
      "[2 3 5]\n",
      "[0]\n"
     ]
    }
   ],
   "source": [
    "# ヒント\n",
    "index = np.arange(10)\n",
    "print(\"index=%s\"%index)\n",
    "np.random.shuffle(index)\n",
    "print(\"index=%s\"%index)\n",
    "print()\n",
    "print(np.random.permutation(10))\n",
    "print()\n",
    "\n",
    "for i in range(4):\n",
    "    print(index[3*i:3*(i+1)])"
   ]
  },
  {
   "cell_type": "code",
   "execution_count": 9,
   "metadata": {},
   "outputs": [
    {
     "name": "stdout",
     "output_type": "stream",
     "text": [
      "epoch=0\n"
     ]
    },
    {
     "ename": "TypeError",
     "evalue": "shuffle() takes exactly one argument (0 given)",
     "output_type": "error",
     "traceback": [
      "\u001b[0;31m---------------------------------------------------------------------------\u001b[0m",
      "\u001b[0;31mTypeError\u001b[0m                                 Traceback (most recent call last)",
      "\u001b[0;32m<ipython-input-9-e6487183133d>\u001b[0m in \u001b[0;36m<module>\u001b[0;34m()\u001b[0m\n\u001b[1;32m     10\u001b[0m     \u001b[0;31m# indexを定義し、シャッフルする\u001b[0m\u001b[0;34m\u001b[0m\u001b[0;34m\u001b[0m\u001b[0m\n\u001b[1;32m     11\u001b[0m     \u001b[0mindex\u001b[0m \u001b[0;34m=\u001b[0m \u001b[0;36m1\u001b[0m\u001b[0;34m\u001b[0m\u001b[0m\n\u001b[0;32m---> 12\u001b[0;31m     \u001b[0mnp\u001b[0m\u001b[0;34m.\u001b[0m\u001b[0mrandom\u001b[0m\u001b[0;34m.\u001b[0m\u001b[0mshuffle\u001b[0m\u001b[0;34m(\u001b[0m\u001b[0;34m)\u001b[0m\u001b[0;34m\u001b[0m\u001b[0m\n\u001b[0m\u001b[1;32m     13\u001b[0m \u001b[0;34m\u001b[0m\u001b[0m\n\u001b[1;32m     14\u001b[0m     \u001b[0;32mfor\u001b[0m \u001b[0mmn\u001b[0m \u001b[0;32min\u001b[0m \u001b[0mrange\u001b[0m\u001b[0;34m(\u001b[0m\u001b[0;34m)\u001b[0m\u001b[0;34m:\u001b[0m\u001b[0;34m\u001b[0m\u001b[0m\n",
      "\u001b[0;31mTypeError\u001b[0m: shuffle() takes exactly one argument (0 given)"
     ]
    }
   ],
   "source": [
    "train_size = train_labels.shape[0]\n",
    "batch_size = 32\n",
    "epochs = 10\n",
    "network = None #ダミー\n",
    "minibatch_num = 10 # ミニバッチの個数\n",
    "    \n",
    "for epoch in range(epochs):\n",
    "    print(\"epoch=%s\"%epoch)\n",
    "    \n",
    "    # indexを定義し、シャッフルする\n",
    "    index = 1\n",
    "    np.random.shuffle()\n",
    "    \n",
    "    for mn in range():\n",
    "        \"\"\"\n",
    "        非復元抽出によるループ\n",
    "        \"\"\"\n",
    "        batch_mask = index[:]       \n",
    "        x_batch = train[batch_mask]\n",
    "        y_batch = train_labels[batch_mask]\n",
    "\n",
    "        trainer(network, x_batch, y_batch)"
   ]
  },
  {
   "cell_type": "code",
   "execution_count": null,
   "metadata": {},
   "outputs": [],
   "source": []
  }
 ],
 "metadata": {
  "kernelspec": {
   "display_name": "Python 3",
   "language": "python",
   "name": "python3"
  },
  "language_info": {
   "codemirror_mode": {
    "name": "ipython",
    "version": 3
   },
   "file_extension": ".py",
   "mimetype": "text/x-python",
   "name": "python",
   "nbconvert_exporter": "python",
   "pygments_lexer": "ipython3",
   "version": "3.6.4"
  }
 },
 "nbformat": 4,
 "nbformat_minor": 2
}
