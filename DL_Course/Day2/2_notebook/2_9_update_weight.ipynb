{
 "cells": [
  {
   "cell_type": "markdown",
   "metadata": {},
   "source": [
    "# ニューラルネットワークにおけるパラメータ更新部分の実装\n",
    "* 2_8_two_layer_NeuralNetwork_trainee.ipynbで実装したTwoLayerNetを用いて、パラメータ更新部分を実装する。"
   ]
  },
  {
   "cell_type": "code",
   "execution_count": 5,
   "metadata": {},
   "outputs": [],
   "source": [
    "import numpy as np\n",
    "import pandas as pd\n",
    "import matplotlib.pyplot as plt\n",
    "from common.network import TwoLayerNet"
   ]
  },
  {
   "cell_type": "markdown",
   "metadata": {},
   "source": [
    "## パラメータの更新\n",
    "\n",
    "* パラメータの更新式  \n",
    "  \n",
    "    $\\displaystyle {\\bf W}_{t+1} = {\\bf W}_t - \\eta \\frac{\\partial L}{\\partial {\\bf W}_t}$  \n",
    "      \n",
    "    $\\bf W$ : パラメータ(バイアスbも同様)  \n",
    "    $L$ : 損失  \n",
    "    $\\eta$ : 学習率  "
   ]
  },
  {
   "cell_type": "markdown",
   "metadata": {},
   "source": [
    "### [演習]\n",
    "* 以下のパラメータを更新する部分を完成させましょう"
   ]
  },
  {
   "cell_type": "code",
   "execution_count": 6,
   "metadata": {
    "scrolled": true
   },
   "outputs": [],
   "source": [
    "x = np.array([[1,      1],\n",
    "                        [1,      0],\n",
    "                        [0,      0],              \n",
    "                        [0,      1]])\n",
    "t = np.array([[0, 1],\n",
    "                        [1, 0],\n",
    "                        [1, 0],              \n",
    "                        [0, 1]])\n",
    "\n",
    "iters_num = 2000\n",
    "lr = 0.1#学習率\n",
    "\n",
    "tnet = TwoLayerNet(input_size=2, hidden_size=1, output_size=2)\n",
    "\n",
    "li_loss = []\n",
    "for i in range(iters_num):\n",
    "    # 勾配の計算\n",
    "    grads = tnet.gradient(x, t)\n",
    "\n",
    "    # パラメータの更新\n",
    "    for key in tnet.params.keys():\n",
    "        tnet.params[key] -= lr * grads[key] # パラメータの更新式\n",
    "        \n",
    "    # 学習経過の記録\n",
    "    loss = tnet.loss(x, t)\n",
    "    li_loss.append(loss)"
   ]
  },
  {
   "cell_type": "code",
   "execution_count": 7,
   "metadata": {},
   "outputs": [
    {
     "data": {
      "image/png": "[encoded data removed]",
      "text/plain": [
       "<matplotlib.figure.Figure at 0x1156ce4e0>"
      ]
     },
     "metadata": {},
     "output_type": "display_data"
    }
   ],
   "source": [
    "# lossのグラフ化\n",
    "pd.DataFrame(li_loss).plot()\n",
    "plt.ylabel(\"loss\")\n",
    "plt.xlabel(\"iters_num\")\n",
    "plt.show()"
   ]
  },
  {
   "cell_type": "code",
   "execution_count": 8,
   "metadata": {},
   "outputs": [
    {
     "name": "stdout",
     "output_type": "stream",
     "text": [
      "W1= [[ 0.29]\n",
      " [-4.96]]\n",
      "b1= [1.88]\n",
      "W2= [[ 4.49 -4.48]]\n",
      "b2= [-2.  2.]\n"
     ]
    }
   ],
   "source": [
    "# 最終パラメータの確認\n",
    "print(\"W1=\", tnet.params[\"W1\"].round(2))\n",
    "print(\"b1=\", tnet.params[\"b1\"].round(2))\n",
    "print(\"W2=\", tnet.params[\"W2\"].round(2))\n",
    "print(\"b2=\", tnet.params[\"b2\"].round(2))"
   ]
  },
  {
   "cell_type": "markdown",
   "metadata": {},
   "source": [
    "* 最終のパラメータを見ると、xの1変数目はほとんど影響していないことがわかる"
   ]
  },
  {
   "cell_type": "code",
   "execution_count": null,
   "metadata": {},
   "outputs": [],
   "source": []
  }
 ],
 "metadata": {
  "kernelspec": {
   "display_name": "Python 3",
   "language": "python",
   "name": "python3"
  },
  "language_info": {
   "codemirror_mode": {
    "name": "ipython",
    "version": 3
   },
   "file_extension": ".py",
   "mimetype": "text/x-python",
   "name": "python",
   "nbconvert_exporter": "python",
   "pygments_lexer": "ipython3",
   "version": "3.6.4"
  }
 },
 "nbformat": 4,
 "nbformat_minor": 2
}
