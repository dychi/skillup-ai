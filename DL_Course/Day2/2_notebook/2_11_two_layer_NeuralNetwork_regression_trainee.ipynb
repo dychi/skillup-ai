{
 "cells": [
  {
   "cell_type": "markdown",
   "metadata": {},
   "source": [
    "# 2層ニューラルネットワークで単純な回帰問題を解く"
   ]
  },
  {
   "cell_type": "code",
   "execution_count": null,
   "metadata": {},
   "outputs": [],
   "source": [
    "import numpy as np\n",
    "import pandas as pd\n",
    "import matplotlib.pyplot as plt\n",
    "from common.activations import softmax, sigmoid\n",
    "from common.grad import numerical_gradient\n",
    "from common.loss import mean_squared_error"
   ]
  },
  {
   "cell_type": "markdown",
   "metadata": {},
   "source": [
    "## 2層ニューラルネットワーククラスの改良"
   ]
  },
  {
   "cell_type": "markdown",
   "metadata": {},
   "source": [
    "### [演習]\n",
    "* 2層ニューラルネットワーククラスを回帰問題用に改良しましょう"
   ]
  },
  {
   "cell_type": "code",
   "execution_count": null,
   "metadata": {},
   "outputs": [],
   "source": [
    "class TwoLayerNet():\n",
    "    def __init__(self, input_size, hidden_size, output_size):\n",
    "        \n",
    "        # 重みの初期化\n",
    "        self.params = {}\n",
    "        init_std=0.01\n",
    "        np.random.seed(1234)\n",
    "        self.params[\"W1\"] = init_std * np.random.randn(input_size, hidden_size)\n",
    "        self.params[\"b1\"] = np.zeros(hidden_size)\n",
    "        self.params[\"W2\"] = init_std * np.random.randn(hidden_size, output_size)\n",
    "        self.params[\"b2\"] = np.zeros(output_size)\n",
    "                \n",
    "    def predict(self, x):\n",
    "        \"\"\"\n",
    "        x : 入力データ\n",
    "        \"\"\"\n",
    "        W1, W2 = self.params[\"W1\"], self.params[\"W2\"]\n",
    "        b1, b2 = self.params[\"b1\"], self.params[\"b2\"]\n",
    "        \n",
    "        h1 = np.dot(x, W1) + b1\n",
    "        z1 = h1\n",
    "        h2 = np.dot(z1, W2) + b2\n",
    "        y = h2\n",
    "        return y\n",
    "    \n",
    "    def loss(self, x, t):\n",
    "        \"\"\"\n",
    "        x : 入力データ\n",
    "        t : 正解データ\n",
    "        \"\"\"\n",
    "        y = self.predict(x)\n",
    "        loss = \n",
    "        return loss\n",
    "    \n",
    "    def gradient(self, x, t):\n",
    "        def f(W):\n",
    "            return self.loss(x,t)\n",
    "        grads={}\n",
    "        grads[\"W1\"] = numerical_gradient(f, self.params[\"W1\"])\n",
    "        grads[\"b1\"] = numerical_gradient(f, self.params[\"b1\"])\n",
    "        grads[\"W2\"] = numerical_gradient(f, self.params[\"W2\"])\n",
    "        grads[\"b2\"] = numerical_gradient(f, self.params[\"b2\"])\n",
    "        return grads"
   ]
  },
  {
   "cell_type": "markdown",
   "metadata": {},
   "source": [
    "### [演習]\n",
    "* 2層ニューラルネットワークを計算するクラスを実装しましょう"
   ]
  },
  {
   "cell_type": "markdown",
   "metadata": {},
   "source": [
    "## データの生成"
   ]
  },
  {
   "cell_type": "code",
   "execution_count": null,
   "metadata": {},
   "outputs": [],
   "source": [
    "a = 5\n",
    "b = 1\n",
    "x = np.arange(0, 1, 0.01).reshape(1,-1)\n",
    "error = np.random.rand(x.size) * 0.5\n",
    "y = a * x + b + error\n",
    "plt.scatter(x, y)\n",
    "plt.xlabel(\"x\")\n",
    "plt.ylabel(\"y\")\n",
    "plt.show()"
   ]
  },
  {
   "cell_type": "markdown",
   "metadata": {},
   "source": [
    "## バッチ学習"
   ]
  },
  {
   "cell_type": "markdown",
   "metadata": {},
   "source": [
    "### [演習]\n",
    "* 以下のNNにおける重み更新演算を完成させましょう"
   ]
  },
  {
   "cell_type": "code",
   "execution_count": null,
   "metadata": {
    "scrolled": true
   },
   "outputs": [],
   "source": [
    "x = x.reshape(-1, 1)\n",
    "t = y.reshape(-1, 1)\n",
    "\n",
    "iters_num = 10000\n",
    "lr = 0.01\n",
    "\n",
    "tnet = TwoLayerNet(input_size=1, hidden_size=1, output_size=1)\n",
    "\n",
    "li_loss = []\n",
    "for i in range(iters_num):\n",
    "    # 勾配の計算\n",
    "    grads = tnet.gradient( )\n",
    "\n",
    "    # パラメータの更新\n",
    "    for key in tnet.params.keys():\n",
    "#         print(key)\n",
    "        tnet.params[key] -= \n",
    "        \n",
    "    # 学習経過の記録\n",
    "    loss = tnet.loss( )\n",
    "    li_loss.append(loss)"
   ]
  },
  {
   "cell_type": "code",
   "execution_count": null,
   "metadata": {
    "scrolled": true
   },
   "outputs": [],
   "source": [
    "# lossのグラフ化\n",
    "pd.DataFrame(li_loss).plot()\n",
    "plt.ylabel(\"loss\")\n",
    "plt.xlabel(\"iters_num\")\n",
    "plt.show()"
   ]
  },
  {
   "cell_type": "code",
   "execution_count": null,
   "metadata": {},
   "outputs": [],
   "source": [
    "# 最終重みの確認\n",
    "print(\"W1=\", tnet.params[\"W1\"].round(2))\n",
    "print(\"b1=\", tnet.params[\"b1\"].round(2))\n",
    "print(\"W2=\", tnet.params[\"W2\"].round(2))\n",
    "print(\"b2=\", tnet.params[\"b2\"].round(2))\n",
    "\n",
    "# 訓練精度の確認\n",
    "y_pred = tnet.predict(x)\n",
    "print(\"mse=\",mean_squared_error(y_pred, t))\n",
    "\n",
    "# 学習データと予測データの比較\n",
    "plt.scatter(y, y_pred)\n",
    "plt.xlabel(\"y\")\n",
    "plt.ylabel(\"y_pred\")\n",
    "plt.show()"
   ]
  },
  {
   "cell_type": "markdown",
   "metadata": {},
   "source": [
    "## ミニバッチ学習"
   ]
  },
  {
   "cell_type": "markdown",
   "metadata": {},
   "source": [
    "### [演習]\n",
    "* 以下のミニバッチ学習を完成させましょう"
   ]
  },
  {
   "cell_type": "code",
   "execution_count": null,
   "metadata": {},
   "outputs": [],
   "source": [
    "# ヒント\n",
    "batch_size = 30\n",
    "xsize = 100\n",
    "\n",
    "# 繰り返し回数\n",
    "iter_num = np.ceil(xsize / batch_size).astype(np.int)\n",
    "\n",
    "# シャッフル\n",
    "idx = np.arange(xsize)\n",
    "np.random.shuffle(idx)\n",
    "\n",
    "for i in range(iter_num):\n",
    "    \"\"\"\n",
    "    ランダムなミニバッチを順番に取り出す\n",
    "    \"\"\"\n",
    "    mask = idx[batch_size*i:batch_size*(i+1)]\n",
    "    print(mask)\n",
    "    x[mask]\n",
    "    "
   ]
  },
  {
   "cell_type": "code",
   "execution_count": null,
   "metadata": {
    "scrolled": true
   },
   "outputs": [],
   "source": [
    "x = x.reshape(-1, 1)\n",
    "t = y.reshape(-1, 1)\n",
    "\n",
    "epochs = 1000\n",
    "batch_size = 20\n",
    "lr = 0.01\n",
    "\n",
    "# 繰り返し回数\n",
    "xsize = x.shape[0]\n",
    "iter_num = np.ceil(xsize / batch_size).astype(np.int)\n",
    "\n",
    "# 2層NNのオブジェクト生成\n",
    "tnet = TwoLayerNet(input_size=1, hidden_size=1, output_size=1)\n",
    "\n",
    "li_loss = []\n",
    "for epoch in range(epochs):\n",
    "    \n",
    "    # シャッフル\n",
    "    idx = np.arange(xsize)\n",
    "    np.random.shuffle(idx)\n",
    "\n",
    "    for it in range(iter_num):\n",
    "        \"\"\"\n",
    "        ランダムなミニバッチを順番に取り出す\n",
    "        \"\"\"\n",
    "        mask = \n",
    "    \n",
    "        # ミニバッチの生成\n",
    "        x_train = x[mask]\n",
    "        t_train = t[mask]\n",
    "        \n",
    "        # 勾配の計算\n",
    "        grads = tnet.gradient( )\n",
    "\n",
    "        # パラメータの更新\n",
    "        for key in tnet.params.keys():\n",
    "    #         print(key)\n",
    "            tnet.params[key] -=\n",
    "\n",
    "    # 学習経過の記録\n",
    "    loss = tnet.loss( )\n",
    "    li_loss.append(loss)"
   ]
  },
  {
   "cell_type": "code",
   "execution_count": null,
   "metadata": {},
   "outputs": [],
   "source": [
    "# lossのグラフ化\n",
    "pd.DataFrame(li_loss).plot()\n",
    "plt.ylabel(\"loss\")\n",
    "plt.xlabel(\"epochs\")\n",
    "plt.show()"
   ]
  },
  {
   "cell_type": "code",
   "execution_count": null,
   "metadata": {},
   "outputs": [],
   "source": [
    "# 最終重みの確認\n",
    "print(\"W1=\", tnet.params[\"W1\"].round(2))\n",
    "print(\"b1=\", tnet.params[\"b1\"].round(2))\n",
    "print(\"W2=\", tnet.params[\"W2\"].round(2))\n",
    "print(\"b2=\", tnet.params[\"b2\"].round(2))\n",
    "\n",
    "# 訓練精度の確認\n",
    "y_pred = tnet.predict(x)\n",
    "print(\"mse=\",mean_squared_error(y_pred, t))\n",
    "\n",
    "# 学習データと予測データの比較\n",
    "plt.scatter(y, y_pred)\n",
    "plt.xlabel(\"y\")\n",
    "plt.ylabel(\"y_pred\")\n",
    "plt.show()"
   ]
  },
  {
   "cell_type": "markdown",
   "metadata": {},
   "source": [
    "### [演習]\n",
    "* バッチ学習の結果とミニバッチ学習の結果を比較してみましょう\n",
    "* 中間層に活性化関数を設定した場合としない場合を比較してみましょう"
   ]
  },
  {
   "cell_type": "code",
   "execution_count": null,
   "metadata": {},
   "outputs": [],
   "source": []
  }
 ],
 "metadata": {
  "kernelspec": {
   "display_name": "Python 3",
   "language": "python",
   "name": "python3"
  },
  "language_info": {
   "codemirror_mode": {
    "name": "ipython",
    "version": 3
   },
   "file_extension": ".py",
   "mimetype": "text/x-python",
   "name": "python",
   "nbconvert_exporter": "python",
   "pygments_lexer": "ipython3",
   "version": "3.6.4"
  }
 },
 "nbformat": 4,
 "nbformat_minor": 2
}
