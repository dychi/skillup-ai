{
 "cells": [
  {
   "cell_type": "markdown",
   "metadata": {},
   "source": [
    "# 荷重減衰(weight decay)"
   ]
  },
  {
   "cell_type": "code",
   "execution_count": 1,
   "metadata": {},
   "outputs": [],
   "source": [
    "import numpy as np\n",
    "import pandas as pd\n",
    "import matplotlib.pyplot as plt\n",
    "from common.loss import mean_squared_error\n",
    "from collections import OrderedDict\n",
    "from common.layers import Affine, ReLU,MeanSquaredLoss, LeakyReLU\n",
    "from common.optimizer import RMSProp, SGD"
   ]
  },
  {
   "cell_type": "markdown",
   "metadata": {},
   "source": [
    "## 荷重減衰を考慮したニューラルネットワーク\n",
    "\n",
    "### 損失関数\n",
    "$\\displaystyle L = L' + \\frac{1}{2} \\lambda \\sum_{l=1}^{layers} \\sum_{i, ~~j} (w_{ij}^{l})^2$    \n",
    "  \n",
    "$w_{i,j}^l$ : $l$層目の重み行列${\\bf W}$の$i, j $成分   \n",
    "$L$ : 正則化項を加えた後の損失    \n",
    "$L'$ : 正則化項を加える前の損失    \n",
    "$layers$ : 層番号    \n",
    "$\\lambda$ : 係数    \n",
    "　　\n",
    "### 重みの更新(SGDの場合)\n",
    "$\\displaystyle {\\bf W}_{t+1} = {\\bf W}_{t} - \\eta (\\frac{\\partial L'}{\\partial {\\bf W}_t} + \\lambda {\\bf W}_{t})$   \n",
    "  \n",
    "$\\bf W$ : 重み行列  \n",
    "$L'$ : 正則化項を加える前の損失    \n",
    "$\\eta$ : 学習率    \n",
    "$\\lambda$ : 係数    \n",
    "\n",
    "実装する際は、上記の更新を勾配の補正によって考慮するのが簡単でよい\n",
    "\n",
    "### 勾配の補正\n",
    "$\\displaystyle \\frac{\\partial L}{\\partial {\\bf W}_t} = \\frac{\\partial L'}{\\partial {\\bf W}_t} + \\lambda {\\bf W}_{t}$    \n",
    "  \n",
    "$\\bf W$ : 重み行列  \n",
    "$L'$ : 正則化項を加える前の損失   \n",
    "$\\lambda$ : 係数    \n"
   ]
  },
  {
   "cell_type": "markdown",
   "metadata": {},
   "source": [
    "### [演習]\n",
    "* 以下の荷重減衰を取り入れたクラスを完成させましょう"
   ]
  },
  {
   "cell_type": "code",
   "execution_count": 2,
   "metadata": {},
   "outputs": [
    {
     "name": "stdout",
     "output_type": "stream",
     "text": [
      "91\n",
      "91\n",
      "91.0\n"
     ]
    }
   ],
   "source": [
    "# ヒント\n",
    "W = np.array([[1,2,3],[4,5,6]])\n",
    "print(np.sum(W**2))\n",
    "print(np.sum(W*W))\n",
    "print(np.linalg.norm(W)**2)"
   ]
  },
  {
   "cell_type": "code",
   "execution_count": 3,
   "metadata": {},
   "outputs": [],
   "source": [
    "class TwoLayerNet:\n",
    "\n",
    "    def __init__(self, input_size, hidden_size, output_size, weight_init_std = 0.01,\n",
    "                            weight_decay_lambda=0.01):\n",
    "        \n",
    "        self.hidden_layer_num = 1\n",
    "        self.weight_decay_lambda = weight_decay_lambda\n",
    "        \n",
    "        # 重みの初期化\n",
    "        self.params = {}\n",
    "        np.random.seed(1111)\n",
    "        self.params['W1'] = weight_init_std * np.random.randn(input_size, hidden_size)\n",
    "        self.params['b1'] = np.zeros(hidden_size)\n",
    "        self.params['W2'] = weight_init_std * np.random.randn(hidden_size,output_size) \n",
    "        self.params['b2'] = np.zeros(output_size)\n",
    "        \n",
    "        # レイヤの生成\n",
    "        self.layers = OrderedDict() # 順番付きdict形式.\n",
    "        self.layers['Affine1'] = Affine(self.params['W1'], self.params['b1'])\n",
    "        self.layers['Relu1'] =  ReLU()\n",
    "        self.layers['Affine2'] = Affine(self.params['W2'], self.params['b2'])\n",
    "        self.lastLayer = MeanSquaredLoss() # 出力層\n",
    "        \n",
    "    def predict(self, x):\n",
    "        \"\"\"\n",
    "        推論関数\n",
    "        x : 入力\n",
    "        \"\"\"\n",
    "        for layer in self.layers.values():\n",
    "            # 入力されたxを更新していく = 順伝播計算\n",
    "            x = layer.forward(x)\n",
    "        \n",
    "        return x\n",
    "        \n",
    "    def loss(self, x, t):\n",
    "        \"\"\"\n",
    "        損失関数\n",
    "        x:入力データ, t:教師データ\n",
    "        \"\"\"\n",
    "        y = self.predict(x)\n",
    "        \n",
    "        # 荷重減衰を考慮した損失を求める\n",
    "        lmd = self.weight_decay_lambda        \n",
    "        weight_decay = 0\n",
    "        for idx in range(1, self.hidden_layer_num + 2):\n",
    "            W = self.params['W' + str(idx)]\n",
    "            \n",
    "            # 全ての行列Wについて、1/2* lambda * Σwij^2を求め、積算していく\n",
    "            weight_decay += 0.5 * lmd * np.sum(W**2)\n",
    "\n",
    "        return self.lastLayer.forward(y, t) + weight_decay\n",
    "        \n",
    "    def gradient(self, x, t):\n",
    "        \"\"\"\n",
    "        全パラメータの勾配を計算\n",
    "        \"\"\"\n",
    "        \n",
    "        # 順伝播\n",
    "        self.loss(x, t)\n",
    "\n",
    "        # 逆伝播\n",
    "        dout = self.lastLayer.backward(dout=1) # 出力層\n",
    "        \n",
    "        ## doutを逆向きに伝える \n",
    "        layers = list(self.layers.values())\n",
    "        layers.reverse()\n",
    "        for layer in layers:\n",
    "            dout = layer.backward(dout)\n",
    "\n",
    "            \n",
    "        # 荷重減衰を考慮しながら、dW, dbをgradsにまとめる\n",
    "        lmd = self.weight_decay_lambda\n",
    "        grads = {}\n",
    "        for idx in range(1, self.hidden_layer_num+2):\n",
    "            grads['W' + str(idx)] = self.layers['Affine' + str(idx)].dW + lmd * self.layers['Affine' + str(idx)].W\n",
    "            grads['b' + str(idx)] = self.layers['Affine' + str(idx)].db\n",
    "            \n",
    "        return grads    "
   ]
  },
  {
   "cell_type": "markdown",
   "metadata": {},
   "source": [
    "### データの生成"
   ]
  },
  {
   "cell_type": "code",
   "execution_count": 4,
   "metadata": {},
   "outputs": [
    {
     "data": {
      "image/png": "[encoded data removed]",
      "text/plain": [
       "<matplotlib.figure.Figure at 0x116c1bef0>"
      ]
     },
     "metadata": {
      "needs_background": "light"
     },
     "output_type": "display_data"
    }
   ],
   "source": [
    "a = 3\n",
    "b = 0.5\n",
    "c = -0.1\n",
    "x = np.arange(-0.5, 0.5, 0.01).reshape(1,-1)\n",
    "error = np.random.rand(x.size) * 0.1\n",
    "y = a * x**3 + b * x**2 + c + error\n",
    "plt.scatter(x, y)\n",
    "plt.xlabel(\"x\")\n",
    "plt.ylabel(\"y\")\n",
    "plt.show()"
   ]
  },
  {
   "cell_type": "markdown",
   "metadata": {},
   "source": [
    "### ミニバッチ学習"
   ]
  },
  {
   "cell_type": "code",
   "execution_count": 5,
   "metadata": {},
   "outputs": [
    {
     "name": "stdout",
     "output_type": "stream",
     "text": [
      "初期パラメータ\n",
      "[[-0.013  -0.0107  0.0079 -0.0088  0.015  -0.0002  0.0028 -0.0097 -0.0158\n",
      "  -0.002 ]]\n",
      "[0. 0. 0. 0. 0. 0. 0. 0. 0. 0.]\n",
      "[[-0.0155]\n",
      " [-0.0039]\n",
      " [ 0.0109]\n",
      " [-0.0038]\n",
      " [-0.0094]\n",
      " [ 0.0041]\n",
      " [ 0.0136]\n",
      " [ 0.0138]\n",
      " [ 0.0067]\n",
      " [ 0.0017]]\n",
      "[0.]\n"
     ]
    }
   ],
   "source": [
    "x = x.reshape(-1, 1)\n",
    "t = y.reshape(-1, 1)\n",
    "\n",
    "ecpochs = 5000\n",
    "batch_size = 25\n",
    "lr = 0.01\n",
    "\n",
    "# 繰り返し回数\n",
    "xsize = x.shape[0]\n",
    "iter_num = np.ceil(xsize / batch_size).astype(np.int)\n",
    "\n",
    "# 2層NNのオブジェクト生成\n",
    "tnet = TwoLayerNet(input_size=1, hidden_size=10, output_size=1, weight_init_std=0.01,\n",
    "                                      weight_decay_lambda=0.001)\n",
    "\n",
    "# 最適化手法\n",
    "optimizer = RMSProp(lr=lr, rho=0.9)\n",
    "    \n",
    "# 初期パラメータの確認\n",
    "print(\"初期パラメータ\")\n",
    "print(tnet.params[\"W1\"].round(4))\n",
    "print(tnet.params[\"b1\"].round(4))\n",
    "print(tnet.params[\"W2\"].round(4))\n",
    "print(tnet.params[\"b2\"].round(4))\n",
    "\n",
    "\n",
    "li_loss = []\n",
    "for epoch in range(ecpochs):\n",
    "    \n",
    "    # シャッフル\n",
    "    idx = np.arange(xsize)\n",
    "    np.random.shuffle(idx)\n",
    "\n",
    "    for it in range(iter_num):\n",
    "        \"\"\"\n",
    "        ランダムなミニバッチを順番に取り出す\n",
    "        \"\"\"\n",
    "        mask = idx[batch_size*it : batch_size*(it+1)]\n",
    "    \n",
    "        # ミニバッチの生成\n",
    "        x_train = x[mask]\n",
    "        t_train = t[mask]\n",
    "        \n",
    "        # 勾配の計算 (誤差逆伝播法を用いる) \n",
    "        grads = tnet.gradient(x_train, t_train)\n",
    "\n",
    "        # パラメータの更新\n",
    "        optimizer.update(tnet.params, grads)\n",
    "\n",
    "    # 学習経過の記録\n",
    "    loss = tnet.loss(x, t)\n",
    "    li_loss.append(loss)"
   ]
  },
  {
   "cell_type": "markdown",
   "metadata": {},
   "source": [
    "### 学習結果の確認"
   ]
  },
  {
   "cell_type": "code",
   "execution_count": 6,
   "metadata": {},
   "outputs": [
    {
     "data": {
      "image/png": "[encoded data removed]",
      "text/plain": [
       "<matplotlib.figure.Figure at 0x11c43d550>"
      ]
     },
     "metadata": {
      "needs_background": "light"
     },
     "output_type": "display_data"
    }
   ],
   "source": [
    "# lossのグラフ化\n",
    "pd.DataFrame(li_loss).plot(legend=False)\n",
    "plt.ylabel(\"loss\")\n",
    "plt.xlabel(\"epochs\")\n",
    "plt.show()"
   ]
  },
  {
   "cell_type": "code",
   "execution_count": 7,
   "metadata": {},
   "outputs": [
    {
     "name": "stdout",
     "output_type": "stream",
     "text": [
      "mse= 0.0011753155337847082\n"
     ]
    },
    {
     "data": {
      "image/png": "[encoded data removed]",
      "text/plain": [
       "<matplotlib.figure.Figure at 0x11c5f6518>"
      ]
     },
     "metadata": {
      "needs_background": "light"
     },
     "output_type": "display_data"
    },
    {
     "data": {
      "image/png": "[encoded data removed]",
      "text/plain": [
       "<matplotlib.figure.Figure at 0x11c6c2f60>"
      ]
     },
     "metadata": {
      "needs_background": "light"
     },
     "output_type": "display_data"
    }
   ],
   "source": [
    "# 訓練精度の確認\n",
    "y_pred = tnet.predict(x)\n",
    "print(\"mse=\",mean_squared_error(y_pred, t))\n",
    "\n",
    "\n",
    "# 学習データと予測データの比較\n",
    "plt.scatter(x, y )\n",
    "plt.scatter(x, y_pred, color=\"r\")\n",
    "plt.xlabel(\"x\")\n",
    "plt.ylabel(\"y or y_pred\")\n",
    "plt.legend([\"y\",\"y_pred\"])\n",
    "plt.show()\n",
    "\n",
    "# 学習データと予測データの比較\n",
    "plt.scatter(y, y_pred)\n",
    "plt.xlabel(\"y\")\n",
    "plt.ylabel(\"y_pred\")\n",
    "plt.show()"
   ]
  },
  {
   "cell_type": "markdown",
   "metadata": {},
   "source": [
    "### [演習]\n",
    "* weight_decay_lambdaを変更し、結果を比較してみましょう"
   ]
  }
 ],
 "metadata": {
  "kernelspec": {
   "display_name": "Python 3",
   "language": "python",
   "name": "python3"
  },
  "language_info": {
   "codemirror_mode": {
    "name": "ipython",
    "version": 3
   },
   "file_extension": ".py",
   "mimetype": "text/x-python",
   "name": "python",
   "nbconvert_exporter": "python",
   "pygments_lexer": "ipython3",
   "version": "3.6.8"
  }
 },
 "nbformat": 4,
 "nbformat_minor": 2
}
