{
 "cells": [
  {
   "cell_type": "markdown",
   "metadata": {},
   "source": [
    "## 事前準備のお願い"
   ]
  },
  {
   "cell_type": "code",
   "execution_count": 10,
   "metadata": {
    "scrolled": true
   },
   "outputs": [],
   "source": [
    "%matplotlib inline"
   ]
  },
  {
   "cell_type": "markdown",
   "metadata": {},
   "source": [
    "### (1) Anaconda3-5.1.0がインストールされていることを確認\n",
    "* 古いバージョンのAnacondaの場合、演習用Notebookでエラーがでることがあります。\n",
    "* 最新のAnacondaの場合、TensorFlowがPython3.7に公式対応していないため、インストールがうまくいかない場合があります。\n",
    "* Anaconda3-5.1.0でない場合は、一旦このNotebookを閉じて、Anaconda3-5.1.0をインストールしなおしてください。その際、バージョンの混乱を避けるため、先にインストール済みのAnacondaをアンインストールしておいて下さい。\n",
    "* Anaconda3-5.1.0のAnacondaがインストールされていることを確認できた方は、(1)以降に進んでください。"
   ]
  },
  {
   "cell_type": "markdown",
   "metadata": {},
   "source": [
    "### (2) 端末にて、pythonのバージョンを確認\n",
    "* python -V\n",
    "* versionは、3.6代であればok"
   ]
  },
  {
   "cell_type": "markdown",
   "metadata": {
    "ExecuteTime": {
     "end_time": "2018-03-30T03:25:46.484654Z",
     "start_time": "2018-03-30T03:25:46.471092Z"
    }
   },
   "source": [
    "### (3) 端末にて、pandasのアップデート\n",
    "* pip install -U pandas\n",
    "* versionは、0.22.0以降であればok"
   ]
  },
  {
   "cell_type": "code",
   "execution_count": 1,
   "metadata": {
    "ExecuteTime": {
     "end_time": "2018-03-30T03:27:15.882241Z",
     "start_time": "2018-03-30T03:27:15.870827Z"
    }
   },
   "outputs": [
    {
     "data": {
      "text/plain": [
       "'0.22.0'"
      ]
     },
     "execution_count": 1,
     "metadata": {},
     "output_type": "execute_result"
    }
   ],
   "source": [
    "import pandas as pd\n",
    "pd.__version__"
   ]
  },
  {
   "cell_type": "markdown",
   "metadata": {},
   "source": [
    "### (4) 端末にて、daskのアップデート\n",
    "* pip install -U dask\n",
    "* versionは、0.17.2以降であればok"
   ]
  },
  {
   "cell_type": "code",
   "execution_count": 2,
   "metadata": {},
   "outputs": [
    {
     "name": "stdout",
     "output_type": "stream",
     "text": [
      "Collecting dask\n",
      "\u001b[?25l  Downloading https://files.pythonhosted.org/packages/58/80/6059587dcf80821fbccdc1f06b6d3fd29b64c9b38fbf1ea42889460de3de/dask-1.2.2-py2.py3-none-any.whl (717kB)\n",
      "\u001b[K     |████████████████████████████████| 727kB 2.6MB/s eta 0:00:01\n",
      "\u001b[?25hInstalling collected packages: dask\n",
      "  Found existing installation: dask 0.16.1\n",
      "    Uninstalling dask-0.16.1:\n",
      "      Successfully uninstalled dask-0.16.1\n",
      "Successfully installed dask-1.2.2\n"
     ]
    }
   ],
   "source": [
    "!pip install -U dask"
   ]
  },
  {
   "cell_type": "code",
   "execution_count": 3,
   "metadata": {
    "ExecuteTime": {
     "end_time": "2018-03-30T03:27:19.014087Z",
     "start_time": "2018-03-30T03:27:19.005961Z"
    }
   },
   "outputs": [
    {
     "data": {
      "text/plain": [
       "'1.2.2'"
      ]
     },
     "execution_count": 3,
     "metadata": {},
     "output_type": "execute_result"
    }
   ],
   "source": [
    "import dask\n",
    "dask.__version__"
   ]
  },
  {
   "cell_type": "markdown",
   "metadata": {},
   "source": [
    "### (5) 端末にて、TensorFlowのインストール\n",
    "* インストールガイド： https://www.tensorflow.org/install/\n",
    "* 基本的には、pip install tensorflow でインストールできる\n",
    "* すでにインストールされている場合は、pip install -U tensorflow でupdateする\n",
    "* Numpyとの依存関係エラーが出る場合は、conda install tensorflow でインストールする\n",
    "* versionは、1.11.0以降であればok"
   ]
  },
  {
   "cell_type": "code",
   "execution_count": 4,
   "metadata": {},
   "outputs": [
    {
     "name": "stdout",
     "output_type": "stream",
     "text": [
      "Requirement already satisfied: tensorflow in /Users/yamaokadaichi/.pyenv/versions/anaconda3-5.1.0/lib/python3.6/site-packages (1.12.0)\n",
      "Requirement already satisfied: numpy>=1.13.3 in /Users/yamaokadaichi/.pyenv/versions/anaconda3-5.1.0/lib/python3.6/site-packages (from tensorflow) (1.14.0)\n",
      "Requirement already satisfied: tensorboard<1.13.0,>=1.12.0 in /Users/yamaokadaichi/.pyenv/versions/anaconda3-5.1.0/lib/python3.6/site-packages (from tensorflow) (1.12.2)\n",
      "Requirement already satisfied: keras-applications>=1.0.6 in /Users/yamaokadaichi/.pyenv/versions/anaconda3-5.1.0/lib/python3.6/site-packages (from tensorflow) (1.0.8)\n",
      "Requirement already satisfied: wheel>=0.26 in /Users/yamaokadaichi/.pyenv/versions/anaconda3-5.1.0/lib/python3.6/site-packages (from tensorflow) (0.30.0)\n",
      "Requirement already satisfied: termcolor>=1.1.0 in /Users/yamaokadaichi/.pyenv/versions/anaconda3-5.1.0/lib/python3.6/site-packages (from tensorflow) (1.1.0)\n",
      "Requirement already satisfied: grpcio>=1.8.6 in /Users/yamaokadaichi/.pyenv/versions/anaconda3-5.1.0/lib/python3.6/site-packages (from tensorflow) (1.21.1)\n",
      "Requirement already satisfied: protobuf>=3.6.1 in /Users/yamaokadaichi/.pyenv/versions/anaconda3-5.1.0/lib/python3.6/site-packages (from tensorflow) (3.8.0)\n",
      "Requirement already satisfied: six>=1.10.0 in /Users/yamaokadaichi/.pyenv/versions/anaconda3-5.1.0/lib/python3.6/site-packages (from tensorflow) (1.11.0)\n",
      "Requirement already satisfied: absl-py>=0.1.6 in /Users/yamaokadaichi/.pyenv/versions/anaconda3-5.1.0/lib/python3.6/site-packages (from tensorflow) (0.7.1)\n",
      "Requirement already satisfied: astor>=0.6.0 in /Users/yamaokadaichi/.pyenv/versions/anaconda3-5.1.0/lib/python3.6/site-packages (from tensorflow) (0.8.0)\n",
      "Requirement already satisfied: keras-preprocessing>=1.0.5 in /Users/yamaokadaichi/.pyenv/versions/anaconda3-5.1.0/lib/python3.6/site-packages (from tensorflow) (1.0.9)\n",
      "Requirement already satisfied: gast>=0.2.0 in /Users/yamaokadaichi/.pyenv/versions/anaconda3-5.1.0/lib/python3.6/site-packages (from tensorflow) (0.2.2)\n",
      "Requirement already satisfied: werkzeug>=0.11.10 in /Users/yamaokadaichi/.pyenv/versions/anaconda3-5.1.0/lib/python3.6/site-packages (from tensorboard<1.13.0,>=1.12.0->tensorflow) (0.14.1)\n",
      "Requirement already satisfied: markdown>=2.6.8 in /Users/yamaokadaichi/.pyenv/versions/anaconda3-5.1.0/lib/python3.6/site-packages (from tensorboard<1.13.0,>=1.12.0->tensorflow) (3.1.1)\n",
      "Requirement already satisfied: h5py in /Users/yamaokadaichi/.pyenv/versions/anaconda3-5.1.0/lib/python3.6/site-packages (from keras-applications>=1.0.6->tensorflow) (2.7.1)\n",
      "Requirement already satisfied: setuptools in /Users/yamaokadaichi/.pyenv/versions/anaconda3-5.1.0/lib/python3.6/site-packages (from protobuf>=3.6.1->tensorflow) (38.4.0)\n"
     ]
    }
   ],
   "source": [
    "!pip install tensorflow"
   ]
  },
  {
   "cell_type": "code",
   "execution_count": 5,
   "metadata": {
    "ExecuteTime": {
     "end_time": "2018-03-30T03:28:08.645449Z",
     "start_time": "2018-03-30T03:28:08.636314Z"
    }
   },
   "outputs": [
    {
     "name": "stderr",
     "output_type": "stream",
     "text": [
      "/Users/yamaokadaichi/.pyenv/versions/anaconda3-5.1.0/lib/python3.6/site-packages/h5py/__init__.py:36: FutureWarning: Conversion of the second argument of issubdtype from `float` to `np.floating` is deprecated. In future, it will be treated as `np.float64 == np.dtype(float).type`.\n",
      "  from ._conv import register_converters as _register_converters\n"
     ]
    },
    {
     "data": {
      "text/plain": [
       "'1.12.0'"
      ]
     },
     "execution_count": 5,
     "metadata": {},
     "output_type": "execute_result"
    }
   ],
   "source": [
    "import tensorflow as tf\n",
    "tf.__version__"
   ]
  },
  {
   "cell_type": "markdown",
   "metadata": {},
   "source": [
    "### (6)TensofFlowが問題なくインストールできていることの確認"
   ]
  },
  {
   "cell_type": "code",
   "execution_count": 6,
   "metadata": {
    "ExecuteTime": {
     "end_time": "2018-03-30T03:28:21.309288Z",
     "start_time": "2018-03-30T03:28:21.287675Z"
    }
   },
   "outputs": [
    {
     "name": "stdout",
     "output_type": "stream",
     "text": [
      "b'Hello, TensorFlow!'\n"
     ]
    }
   ],
   "source": [
    "# Python\n",
    "import tensorflow as tf\n",
    "hello = tf.constant('Hello, TensorFlow!')\n",
    "sess = tf.Session()\n",
    "print(sess.run(hello))"
   ]
  },
  {
   "cell_type": "markdown",
   "metadata": {
    "collapsed": true
   },
   "source": [
    "### (7)MNISTデータをダウンロードする"
   ]
  },
  {
   "cell_type": "code",
   "execution_count": 7,
   "metadata": {
    "scrolled": true
   },
   "outputs": [
    {
     "name": "stdout",
     "output_type": "stream",
     "text": [
      "Downloading data from https://storage.googleapis.com/tensorflow/tf-keras-datasets/mnist.npz\n",
      "11493376/11490434 [==============================] - 1s 0us/step\n"
     ]
    }
   ],
   "source": [
    "import tensorflow as tf\n",
    "mnist = tf.keras.datasets.mnist\n",
    "(X_train, y_train),(X_test, y_test) = mnist.load_data()\n",
    "\n",
    "# 以下のようなメッセージが表示されればok\n",
    "#Downloading data from https://storage.googleapis.com/tensorflow/tf-keras-datasets/mnist.npz\n",
    "#11493376/11490434 [==============================] - 10s 1us/step"
   ]
  },
  {
   "cell_type": "code",
   "execution_count": 8,
   "metadata": {
    "ExecuteTime": {
     "end_time": "2018-03-30T03:28:43.109666Z",
     "start_time": "2018-03-30T03:28:43.100756Z"
    }
   },
   "outputs": [
    {
     "name": "stdout",
     "output_type": "stream",
     "text": [
      "学習用データの数 (60000,)\n",
      "テスト用データの数 (10000,)\n"
     ]
    }
   ],
   "source": [
    "print(\"学習用データの数\",y_train.shape) # 60000であればok\n",
    "print(\"テスト用データの数\",y_test.shape) # 10000であればok"
   ]
  },
  {
   "cell_type": "code",
   "execution_count": 11,
   "metadata": {
    "ExecuteTime": {
     "end_time": "2018-03-30T03:28:44.482101Z",
     "start_time": "2018-03-30T03:28:43.987197Z"
    }
   },
   "outputs": [
    {
     "name": "stdout",
     "output_type": "stream",
     "text": [
      "label= 5\n"
     ]
    },
    {
     "data": {
      "image/png": "[encoded data removed]",
      "text/plain": [
       "<matplotlib.figure.Figure at 0x182945aef0>"
      ]
     },
     "metadata": {},
     "output_type": "display_data"
    }
   ],
   "source": [
    "import numpy as np\n",
    "import matplotlib.pylab as plt\n",
    "label = y_train[0]\n",
    "img = X_train[0,:]\n",
    "print(\"label=\", label)\n",
    "plt.imshow(img)\n",
    "plt.gray()\n",
    "plt.show()\n",
    "\n",
    "# 手書きの5が表示されればok"
   ]
  },
  {
   "cell_type": "markdown",
   "metadata": {},
   "source": [
    "### (8) 端末にて、kerasをインストール\n",
    "* pip install keras\n",
    "    * 以下のようなメッセージが表示されたらok\n",
    "```\n",
    "$ pip install keras\n",
    "Collecting keras\n",
    "  Downloading Keras-2.1.4-py2.py3-none-any.whl (322kB)\n",
    "    100% |████████████████████████████████| 327kB 1.5MB/s\n",
    "Requirement already satisfied: pyyaml in /Users/ogata/.pyenv/versions/anaconda3-5.0.1/lib/python3.6/site-packages (from keras)\n",
    "Requirement already satisfied: numpy>=1.9.1 in /Users/ogata/.pyenv/versions/anaconda3-5.0.1/lib/python3.6/site-packages (from keras)\n",
    "Requirement already satisfied: six>=1.9.0 in /Users/ogata/.pyenv/versions/anaconda3-5.0.1/lib/python3.6/site-packages (from keras)\n",
    "Requirement already satisfied: scipy>=0.14 in /Users/ogata/.pyenv/versions/anaconda3-5.0.1/lib/python3.6/site-packages (from keras)\n",
    "Installing collected packages: keras\n",
    "Successfully installed keras-2.1.4\n",
    "```\n",
    "\n",
    "* すでにインストールされている場合は、pip install -U kerasでupdate\n",
    "* versionは、2.2.4以降であればok"
   ]
  },
  {
   "cell_type": "code",
   "execution_count": 24,
   "metadata": {},
   "outputs": [
    {
     "name": "stdout",
     "output_type": "stream",
     "text": [
      "Requirement already satisfied: keras==2.2.4 in /Users/yamaokadaichi/.pyenv/versions/anaconda3-5.1.0/lib/python3.6/site-packages (2.2.4)\n",
      "Requirement already satisfied: h5py in /Users/yamaokadaichi/.pyenv/versions/anaconda3-5.1.0/lib/python3.6/site-packages (from keras==2.2.4) (2.7.1)\n",
      "Requirement already satisfied: six>=1.9.0 in /Users/yamaokadaichi/.pyenv/versions/anaconda3-5.1.0/lib/python3.6/site-packages (from keras==2.2.4) (1.11.0)\n",
      "Requirement already satisfied: numpy>=1.9.1 in /Users/yamaokadaichi/.pyenv/versions/anaconda3-5.1.0/lib/python3.6/site-packages (from keras==2.2.4) (1.14.0)\n",
      "Requirement already satisfied: scipy>=0.14 in /Users/yamaokadaichi/.pyenv/versions/anaconda3-5.1.0/lib/python3.6/site-packages (from keras==2.2.4) (1.0.0)\n",
      "Requirement already satisfied: keras-preprocessing>=1.0.5 in /Users/yamaokadaichi/.pyenv/versions/anaconda3-5.1.0/lib/python3.6/site-packages (from keras==2.2.4) (1.0.9)\n",
      "Requirement already satisfied: keras-applications>=1.0.6 in /Users/yamaokadaichi/.pyenv/versions/anaconda3-5.1.0/lib/python3.6/site-packages (from keras==2.2.4) (1.0.8)\n",
      "Requirement already satisfied: pyyaml in /Users/yamaokadaichi/.pyenv/versions/anaconda3-5.1.0/lib/python3.6/site-packages (from keras==2.2.4) (3.12)\n"
     ]
    }
   ],
   "source": [
    "!pip install  keras==2.2.4"
   ]
  },
  {
   "cell_type": "code",
   "execution_count": 1,
   "metadata": {
    "ExecuteTime": {
     "end_time": "2018-03-30T03:31:32.201453Z",
     "start_time": "2018-03-30T03:31:32.193507Z"
    }
   },
   "outputs": [
    {
     "name": "stderr",
     "output_type": "stream",
     "text": [
      "/Users/yamaokadaichi/.pyenv/versions/anaconda3-5.1.0/lib/python3.6/site-packages/h5py/__init__.py:36: FutureWarning: Conversion of the second argument of issubdtype from `float` to `np.floating` is deprecated. In future, it will be treated as `np.float64 == np.dtype(float).type`.\n",
      "  from ._conv import register_converters as _register_converters\n",
      "Using TensorFlow backend.\n"
     ]
    },
    {
     "data": {
      "text/plain": [
       "'2.2.4'"
      ]
     },
     "execution_count": 1,
     "metadata": {},
     "output_type": "execute_result"
    }
   ],
   "source": [
    "import keras\n",
    "keras.__version__"
   ]
  },
  {
   "cell_type": "markdown",
   "metadata": {},
   "source": [
    "### (9) 端末にてplotlyをインストール\n",
    "* pip install plotly\n",
    "* versionは、2.5.1以降3.0.0未満であればok\n",
    "* version3.0.0以降ではエラーが発生する場合がある"
   ]
  },
  {
   "cell_type": "code",
   "execution_count": 5,
   "metadata": {},
   "outputs": [
    {
     "name": "stdout",
     "output_type": "stream",
     "text": [
      "Uninstalling plotly-2.5.1:\r\n",
      "  Successfully uninstalled plotly-2.5.1\r\n"
     ]
    }
   ],
   "source": [
    "!pip uninstall -y plotly"
   ]
  },
  {
   "cell_type": "code",
   "execution_count": 6,
   "metadata": {},
   "outputs": [
    {
     "data": {
      "text/plain": [
       "'2.5.0'"
      ]
     },
     "execution_count": 6,
     "metadata": {},
     "output_type": "execute_result"
    }
   ],
   "source": [
    "import plotly\n",
    "plotly.__version__"
   ]
  },
  {
   "cell_type": "markdown",
   "metadata": {},
   "source": [
    "### (10)端末にてAugmentorをインストール\n",
    "* pip install Augmentor\n",
    "* versionは、0.2.3以降であればok"
   ]
  },
  {
   "cell_type": "code",
   "execution_count": 11,
   "metadata": {},
   "outputs": [
    {
     "data": {
      "text/plain": [
       "'0.2.3'"
      ]
     },
     "execution_count": 11,
     "metadata": {},
     "output_type": "execute_result"
    }
   ],
   "source": [
    "import Augmentor\n",
    "Augmentor.__version__"
   ]
  },
  {
   "cell_type": "markdown",
   "metadata": {},
   "source": [
    "### (11) Mecab環境の構築"
   ]
  },
  {
   "cell_type": "markdown",
   "metadata": {},
   "source": [
    "### Windowsの場合\n",
    "* 1.Mecabのインストール    \n",
    "    * http://oita.oika.me/2018/05/03/python3-mecab-on-windows/\n",
    "* 2.mecab-python-windowsのインストール    \n",
    "```\n",
    "pip install mecab-python-windows\n",
    "```\n",
    "        \n",
    "        \n",
    "\n",
    "### Mac, Linuxの場合\n",
    "#### 1.swigのインストール\n",
    "* Macの場合\n",
    "    * brew install swig\n",
    "* Ubuntuの場合\n",
    "    * sudo apt-get install swig\n",
    "    \n",
    "\n",
    "#### 2. MeCabのインストール\n",
    "* MeCabの公式サイト  \n",
    "    http://taku910.github.io/mecab/#install  \n",
    "* インストール方法  \n",
    "    mecab-0.996.tar.gzをダウンロードし、端末にて以下を実行する。\n",
    "    \n",
    "    ```    \n",
    "    tar zxfv mecab-0.996.tar.gz\n",
    "    cd mecab-0.996\n",
    "    ./configure \n",
    "    make\n",
    "    make check\n",
    "    sudo make install\n",
    "    ```\n",
    "\n",
    "    次に、辞書のインストール。mecab-ipadic-2.7.0-20070801.tar.gzをダウンロードし、端末にて以下を実行する。\n",
    "    \n",
    "    ```\n",
    "    tar zxfv mecab-ipadic-2.7.0-20070801.tar.gz\n",
    "    cd mecab-ipadic-2.7.0-20070801\n",
    "    ./configure --with-charset=utf8\n",
    "    make\n",
    "    sudo make install\n",
    "    ```\n",
    "\n",
    "#### 3. mecab-python3のインストール\n",
    "```\n",
    "pip install -U mecab-python3\n",
    "```\n"
   ]
  },
  {
   "cell_type": "code",
   "execution_count": 12,
   "metadata": {},
   "outputs": [
    {
     "data": {
      "text/plain": [
       "'0.996'"
      ]
     },
     "execution_count": 12,
     "metadata": {},
     "output_type": "execute_result"
    }
   ],
   "source": [
    "import MeCab\n",
    "MeCab.VERSION"
   ]
  },
  {
   "cell_type": "markdown",
   "metadata": {},
   "source": [
    "### (12) 端末にて、gensimをインストール\n",
    "* pip install gensim\n",
    "* versionは、3.4.0以降であればok"
   ]
  },
  {
   "cell_type": "code",
   "execution_count": 13,
   "metadata": {},
   "outputs": [
    {
     "data": {
      "text/plain": [
       "'3.4.0'"
      ]
     },
     "execution_count": 13,
     "metadata": {},
     "output_type": "execute_result"
    }
   ],
   "source": [
    "import gensim\n",
    "gensim.__version__"
   ]
  }
 ],
 "metadata": {
  "kernelspec": {
   "display_name": "Python 3",
   "language": "python",
   "name": "python3"
  },
  "language_info": {
   "codemirror_mode": {
    "name": "ipython",
    "version": 3
   },
   "file_extension": ".py",
   "mimetype": "text/x-python",
   "name": "python",
   "nbconvert_exporter": "python",
   "pygments_lexer": "ipython3",
   "version": "3.6.4"
  }
 },
 "nbformat": 4,
 "nbformat_minor": 2
}
