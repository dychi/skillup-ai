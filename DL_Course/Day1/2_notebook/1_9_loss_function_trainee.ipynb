{
 "cells": [
  {
   "cell_type": "markdown",
   "metadata": {},
   "source": [
    "# 損失関数の実装"
   ]
  },
  {
   "cell_type": "code",
   "execution_count": 1,
   "metadata": {
    "ExecuteTime": {
     "end_time": "2018-04-04T23:50:02.699566Z",
     "start_time": "2018-04-04T23:50:01.923397Z"
    }
   },
   "outputs": [],
   "source": [
    "import numpy as np\n",
    "import matplotlib.pyplot as plt\n"
   ]
  },
  {
   "cell_type": "markdown",
   "metadata": {
    "ExecuteTime": {
     "end_time": "2018-03-30T07:38:57.566688Z",
     "start_time": "2018-03-30T07:38:57.562153Z"
    }
   },
   "source": [
    "## 2乗和誤差\n",
    "$\\displaystyle L =\\frac{1}{2} \\sum_{k=1}^K{(y_{k} - t_{k})^2}$  \n",
    "$L$:損失関数  \n",
    "$K$:出力層のノード数  \n",
    "$k$:出力層のノード番号  \n",
    "$y_k$:ノード$k$の出力値  \n",
    "$t_k$:ノード$k$の正解値  "
   ]
  },
  {
   "cell_type": "markdown",
   "metadata": {},
   "source": [
    "### [演習]\n",
    "* 以下の2乗和誤差関数を完成させましょう"
   ]
  },
  {
   "cell_type": "code",
   "execution_count": 2,
   "metadata": {
    "ExecuteTime": {
     "end_time": "2018-04-04T23:50:02.714590Z",
     "start_time": "2018-04-04T23:50:02.702055Z"
    }
   },
   "outputs": [],
   "source": [
    "def squared_error(y, t):\n",
    "    \"\"\"\n",
    "    y : 出力値\n",
    "    t : 正解値\n",
    "    \"\"\"    \n",
    "    return np.sum((y - t) ** 2) / 2"
   ]
  },
  {
   "cell_type": "code",
   "execution_count": 3,
   "metadata": {
    "ExecuteTime": {
     "end_time": "2018-04-04T23:50:02.742000Z",
     "start_time": "2018-04-04T23:50:02.719435Z"
    }
   },
   "outputs": [
    {
     "name": "stdout",
     "output_type": "stream",
     "text": [
      "0.007550000000000006\n",
      "0.08389999999999999\n"
     ]
    }
   ],
   "source": [
    "# 正解データ\n",
    "t = np.array([0.4, 0.5, 0.6, 0.3, 0.45, 0.55, 0.6, 0.7, 0.8, 0.9])\n",
    "\n",
    "# 予測データ1\n",
    "y1 = np.array([0.42, 0.54, 0.62, 0.35, 0.40, 0.5, 0.61, 0.77, 0.81, 0.91])\n",
    "\n",
    "# 予測データ2\n",
    "y2 = np.array([0.2, 0.64, 0.52, 0.45, 0.60, 0.7, 0.51, 0.6, 0.71, 0.81])\n",
    "\n",
    "print(squared_error(y1, t))\n",
    "print(squared_error(y2, t))"
   ]
  },
  {
   "cell_type": "markdown",
   "metadata": {},
   "source": [
    "## クロスエントロピー誤差\n",
    "\n",
    "$\\displaystyle L =-\\sum_{k}^K{t_k \\log y_k}$  \n",
    "$L$:損失関数  \n",
    "$K$:出力層のノード数  \n",
    "$k$:出力層のノード番号  \n",
    "$y_k$:ノード$k$の出力値(通常は、0と1の間を取る値)  \n",
    "$t_k$:ノード$k$の正解値(通常は、0or1. つまり$t$はonehotベクトル)  "
   ]
  },
  {
   "cell_type": "markdown",
   "metadata": {},
   "source": [
    "### [演習]\n",
    "* 以下のクロスエントロピー誤差関数を完成させましょう。\n",
    "* delta=1e-7を関数内部で使ってください。"
   ]
  },
  {
   "cell_type": "code",
   "execution_count": 6,
   "metadata": {
    "ExecuteTime": {
     "end_time": "2018-04-04T23:50:02.754237Z",
     "start_time": "2018-04-04T23:50:02.746574Z"
    }
   },
   "outputs": [],
   "source": [
    "def cross_entropy_error(y, t):\n",
    "    \"\"\"\n",
    "    y : 出力値(通常は、0-1の確率)  \n",
    "    t : 正解値(通常は、0or1)  \n",
    "    \"\"\"\n",
    "    delta = 1e-7 #固定値\n",
    "    return - np.sum(t * np.log2(y + delta))"
   ]
  },
  {
   "cell_type": "markdown",
   "metadata": {},
   "source": [
    "### [問]\n",
    "* cross_enrtropy_error関数におけるdeltaの意味は？"
   ]
  },
  {
   "cell_type": "code",
   "execution_count": 7,
   "metadata": {
    "ExecuteTime": {
     "end_time": "2018-04-04T23:50:07.104234Z",
     "start_time": "2018-04-04T23:50:06.922509Z"
    }
   },
   "outputs": [
    {
     "name": "stderr",
     "output_type": "stream",
     "text": [
      "/Users/yamaokadaichi/.pyenv/versions/anaconda3-5.1.0/lib/python3.6/site-packages/ipykernel_launcher.py:3: RuntimeWarning: invalid value encountered in log\n",
      "  This is separate from the ipykernel package so we can avoid doing imports until\n"
     ]
    },
    {
     "data": {
      "image/png": "[encoded data removed]",
      "text/plain": [
       "<matplotlib.figure.Figure at 0x1061fcbe0>"
      ]
     },
     "metadata": {},
     "output_type": "display_data"
    },
    {
     "name": "stdout",
     "output_type": "stream",
     "text": [
      "-230.25850929940458\n"
     ]
    }
   ],
   "source": [
    "# ヒント：log関数\n",
    "x = np.linspace(-5,5,100)\n",
    "y = np.log(x)\n",
    "plt.plot(x,y)\n",
    "plt.show()\n",
    "print(np.log(1e-100))"
   ]
  },
  {
   "cell_type": "code",
   "execution_count": 8,
   "metadata": {
    "ExecuteTime": {
     "end_time": "2018-04-04T23:50:02.938200Z",
     "start_time": "2018-04-04T23:50:02.923734Z"
    }
   },
   "outputs": [
    {
     "name": "stdout",
     "output_type": "stream",
     "text": [
      "y1の合計= 1.0\n",
      "y2の合計= 1.0\n",
      "1.7369651132679393\n",
      "0.7369653537170529\n"
     ]
    }
   ],
   "source": [
    "# 正解データ, onehotベクトル\n",
    "t = np.array([0, 0, 0, 1, 0, 0]) \n",
    "\n",
    "# 予測データ1\n",
    "y1 = np.array([0.01, 0.02, 0.6, 0.3, 0.03, 0.04])\n",
    "print(\"y1の合計=\",np.sum(y1))\n",
    "\n",
    "# 予測データ2\n",
    "y2 = np.array([0.01, 0.02, 0.3, 0.6, 0.03, 0.04])\n",
    "print(\"y2の合計=\",np.sum(y2))\n",
    "\n",
    "print(cross_entropy_error(y1, t))\n",
    "print(cross_entropy_error(y2, t))"
   ]
  },
  {
   "cell_type": "markdown",
   "metadata": {},
   "source": [
    "## 2乗和誤差(バッチ対応版)\n",
    "$\\displaystyle L =\\frac{1}{N}\\sum_n^N \\bigl( \\frac{1}{2} \\sum_k^K{(y_{nk} - t_{nk})^2} \\bigr)=\\frac{1}{2N}\\sum_n^N \\sum_k^K{(y_{nk} - t_{nk})^2}$  \n",
    "$L$:損失関数  \n",
    "$N$:データ数  \n",
    "$n$:データ番号  \n",
    "$K$:出力層のノード数  \n",
    "$k$:出力層のノード番号  \n",
    "$y_{nk}$:データ$n$のノード$k$の出力値  \n",
    "$t_{nk}$:データ$n$のノード$k$の正解値  \n"
   ]
  },
  {
   "cell_type": "markdown",
   "metadata": {},
   "source": [
    "### [演習]\n",
    "* 以下のバッチ対応版2乗和誤差関数を完成させましょう"
   ]
  },
  {
   "cell_type": "code",
   "execution_count": null,
   "metadata": {},
   "outputs": [],
   "source": [
    "# ヒント\n",
    "print(np.mean(np.sum([[1,2,3],[4,5,6],[7,8,9]], axis=1)))\n",
    "print(np.sum([[1,2,3],[4,5,6],[7,8,9]])/3)"
   ]
  },
  {
   "cell_type": "code",
   "execution_count": null,
   "metadata": {},
   "outputs": [],
   "source": [
    "def mean_squared_error(y, t):\n",
    "    \"\"\"\n",
    "    y : 出力値\n",
    "    t : 正解値\n",
    "    \"\"\"    \n",
    "    if y.ndim==1:\n",
    "        t = t.reshape()\n",
    "        y = y.reshape()\n",
    "        \n",
    "    batch_size = y.shape[0]\n",
    "    return "
   ]
  },
  {
   "cell_type": "code",
   "execution_count": null,
   "metadata": {},
   "outputs": [],
   "source": [
    "# 正解データ\n",
    "t = np.array([0.4, 0.5, 0.6, 0.3, 0.45, 0.55, 0.6, 0.7, 0.8, 0.9])\n",
    "\n",
    "# 予測データ1\n",
    "y1 = np.array([0.42, 0.54, 0.62, 0.35, 0.40, 0.5, 0.61, 0.77, 0.81, 0.91])\n",
    "\n",
    "# 予測データ2\n",
    "y2 = np.array([0.2, 0.64, 0.52, 0.45, 0.60, 0.7, 0.51, 0.6, 0.71, 0.81])\n",
    "\n",
    "# 予測データ1\n",
    "t_ = np.array([[0.4, 0.5, 0.6, 0.3, 0.45, 0.55, 0.6, 0.7, 0.8, 0.9],\n",
    "                           [0.4, 0.5, 0.6, 0.3, 0.45, 0.55, 0.6, 0.7, 0.8, 0.9]])\n",
    "y3 = np.array([[0.42, 0.54, 0.62, 0.35, 0.40, 0.5, 0.61, 0.77, 0.81, 0.91],\n",
    "                         [0.2, 0.64, 0.52, 0.45, 0.60, 0.7, 0.51, 0.6, 0.71, 0.81]])\n",
    "\n",
    "print(mean_squared_error(y1, t))\n",
    "print(mean_squared_error(y2, t))\n",
    "print(mean_squared_error(y3, t_))"
   ]
  },
  {
   "cell_type": "markdown",
   "metadata": {},
   "source": [
    "## クロスエントロピー誤差(バッチ対応版)\n",
    "\n",
    "$\\displaystyle L = \\frac{1}{N}\\sum_n^N \\ \\bigl(-\\sum_k^K{t_{nk} \\log y_{nk}} \\bigr) = - \\frac{1}{N}\\sum_n^N \\sum_k^K{t_{nk} \\log y_{nk}}$  \n",
    "$L$:損失関数  \n",
    "$N$:データ数  \n",
    "$n$:データ番号    \n",
    "$K$:出力層のノード数  \n",
    "$k$:出力層のノード番号  \n",
    "$y_{nk}$:データ$n$のノード$k$の出力値(通常は、0と1の間を取る値)  \n",
    "$t_{nk}$:データ$n$のノード$k$の正解値(通常は、0or1. つまり$t$はonehotベクトル)  \n"
   ]
  },
  {
   "cell_type": "markdown",
   "metadata": {},
   "source": [
    "### [演習]\n",
    "* 以下のバッチ対応版クロスエントロピー誤差関数を完成させましょう"
   ]
  },
  {
   "cell_type": "code",
   "execution_count": null,
   "metadata": {},
   "outputs": [],
   "source": [
    "# ヒント\n",
    "print(np.sum(np.array([[1,2],[3,4]])))\n",
    "print(np.array([1,2,3,4]).reshape(1,-1))"
   ]
  },
  {
   "cell_type": "code",
   "execution_count": null,
   "metadata": {},
   "outputs": [],
   "source": [
    "def cross_entropy_error(y, t):\n",
    "    \"\"\"\n",
    "    y : 出力値(通常は、0-1の確率)  \n",
    "    t : 正解値(通常は、0or1)  \n",
    "    \"\"\"\n",
    "    if y.ndim==1:\n",
    "        t = t.reshape()\n",
    "        y = y.reshape()\n",
    "        \n",
    "    batch_size = \n",
    "    return"
   ]
  },
  {
   "cell_type": "code",
   "execution_count": null,
   "metadata": {},
   "outputs": [],
   "source": [
    "# 正解データ, onehotベクトル\n",
    "t = np.array([0, 0, 0, 1, 0, 0]) \n",
    "\n",
    "# 予測データ1\n",
    "y1 = np.array([0.01, 0.02, 0.6, 0.3, 0.03, 0.04])\n",
    "print(\"y1の合計=\",np.sum(y1))\n",
    "\n",
    "# 予測データ2\n",
    "y2 = np.array([0.01, 0.02, 0.3, 0.6, 0.03, 0.04])\n",
    "print(\"y2の合計=\",np.sum(y2))\n",
    "\n",
    "# 予測データ3\n",
    "t_ = np.array([[0, 0, 0, 1, 0, 0],\n",
    "                          [0, 0, 0, 1, 0, 0]]) \n",
    "y3 = np.array([[0.01, 0.02, 0.6, 0.3, 0.03, 0.04],\n",
    "                           [0.01, 0.02, 0.3, 0.6, 0.03, 0.04]])\n",
    "print(\"y3の合計=\",np.sum(y3, axis=1))\n",
    "\n",
    "print(cross_entropy_error(y1, t))\n",
    "print(cross_entropy_error(y2, t))\n",
    "print(cross_entropy_error(y3, t_))"
   ]
  },
  {
   "cell_type": "code",
   "execution_count": null,
   "metadata": {},
   "outputs": [],
   "source": []
  }
 ],
 "metadata": {
  "kernelspec": {
   "display_name": "Python 3",
   "language": "python",
   "name": "python3"
  },
  "language_info": {
   "codemirror_mode": {
    "name": "ipython",
    "version": 3
   },
   "file_extension": ".py",
   "mimetype": "text/x-python",
   "name": "python",
   "nbconvert_exporter": "python",
   "pygments_lexer": "ipython3",
   "version": "3.6.4"
  }
 },
 "nbformat": 4,
 "nbformat_minor": 2
}
