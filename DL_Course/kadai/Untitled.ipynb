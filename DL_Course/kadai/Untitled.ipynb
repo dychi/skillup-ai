{
 "cells": [
  {
   "cell_type": "code",
   "execution_count": 7,
   "metadata": {},
   "outputs": [],
   "source": [
    "import os\n",
    "import numpy as np\n",
    "from pathlib import Path\n",
    "from sklearn.model_selection import train_test_split\n",
    "import matplotlib.pyplot as plt\n",
    "%matplotlib inline"
   ]
  },
  {
   "cell_type": "code",
   "execution_count": 6,
   "metadata": {},
   "outputs": [],
   "source": [
    "def load_data():\n",
    "    # パスを指定\n",
    "    DATA_ROOT = Path('./template/1_data')\n",
    "\n",
    "    # データの読み込み\n",
    "    train_data = np.load(DATA_ROOT.joinpath('train_data.npy'))\n",
    "    train_label = np.load(DATA_ROOT.joinpath('train_label.npy'))\n",
    "    train_data = train_data.transpose(0, 2, 3, 1)\n",
    "    print(\"train data shape:\", train_data.shape)\n",
    "    print(\"train label shape:\", train_label.shape)\n",
    "\n",
    "    # 前処理\n",
    "    X_train, X_test, y_train, y_test = preprocess(train_data, train_label)\n",
    "\n",
    "    return X_train, X_test, y_train, y_test\n",
    "\n",
    "\n",
    "def preprocess(train_data, train_label):\n",
    "    # 正規化\n",
    "    train_data = (train_data - train_data.min()) / train_data.max()\n",
    "    train_data = train_data.astype('float32')\n",
    "\n",
    "    X_train, X_test, y_train, y_test = train_test_split(train_data, train_label, test_size=0.2,\n",
    "                                                        random_state=1234, shuffle=True)\n",
    "    return X_train, X_test, y_train, y_test"
   ]
  },
  {
   "cell_type": "code",
   "execution_count": 4,
   "metadata": {},
   "outputs": [
    {
     "name": "stdout",
     "output_type": "stream",
     "text": [
      "train data shape: (3000, 28, 28, 1)\n",
      "train label shape: (3000, 15)\n"
     ]
    }
   ],
   "source": [
    "X_train, X_test, y_train, y_test = load_data()"
   ]
  },
  {
   "cell_type": "code",
   "execution_count": 14,
   "metadata": {},
   "outputs": [
    {
     "data": {
      "text/plain": [
       "<matplotlib.image.AxesImage at 0x1a0e85aac8>"
      ]
     },
     "execution_count": 14,
     "metadata": {},
     "output_type": "execute_result"
    },
    {
     "data": {
      "image/png": "[encoded data removed]",
      "text/plain": [
       "<Figure size 432x288 with 1 Axes>"
      ]
     },
     "metadata": {},
     "output_type": "display_data"
    }
   ],
   "source": [
    "plt.imshow(X_train[70][:,:,0])"
   ]
  },
  {
   "cell_type": "code",
   "execution_count": null,
   "metadata": {},
   "outputs": [],
   "source": []
  }
 ],
 "metadata": {
  "kernelspec": {
   "display_name": "Python 3",
   "language": "python",
   "name": "python3"
  },
  "language_info": {
   "codemirror_mode": {
    "name": "ipython",
    "version": 3
   },
   "file_extension": ".py",
   "mimetype": "text/x-python",
   "name": "python",
   "nbconvert_exporter": "python",
   "pygments_lexer": "ipython3",
   "version": "3.6.8"
  }
 },
 "nbformat": 4,
 "nbformat_minor": 2
}
