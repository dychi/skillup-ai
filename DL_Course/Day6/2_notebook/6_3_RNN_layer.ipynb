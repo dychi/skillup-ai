{
 "cells": [
  {
   "cell_type": "markdown",
   "metadata": {},
   "source": [
    "# RNNレイヤの実装"
   ]
  },
  {
   "cell_type": "code",
   "execution_count": 2,
   "metadata": {},
   "outputs": [],
   "source": [
    "import numpy as np\n",
    "from common.functions import sigmoid"
   ]
  },
  {
   "cell_type": "markdown",
   "metadata": {},
   "source": [
    "### [演習]\n",
    "* 以下のTimeRNNレイヤのクラスを完成させましょう"
   ]
  },
  {
   "cell_type": "code",
   "execution_count": 3,
   "metadata": {
    "scrolled": true
   },
   "outputs": [],
   "source": [
    "class RNN:\n",
    "    def __init__(self, Wx, Wh, b):\n",
    "        \"\"\"\n",
    "        Wx : 入力xにかかる重み\n",
    "        Wh : １時刻前のhにかかる重み\n",
    "        b : バイアス\n",
    "        \"\"\"\n",
    "        \n",
    "        # パラメータのリスト\n",
    "        self.params = [Wx, Wh, b]\n",
    "        \n",
    "        # 勾配のリスト\n",
    "        self.grads = [np.zeros_like(Wx), np.zeros_like(Wh), np.zeros_like(b)]\n",
    "        self.cache = None\n",
    "\n",
    "    def forward(self, x, h_prev):\n",
    "        \"\"\"\n",
    "        順伝播計算\n",
    "        \"\"\"\n",
    "        Wx, Wh, b = self.params\n",
    "        \n",
    "        # 行列の積　+　行列の積 + バイアス\n",
    "        t = np.dot(h_prev, Wh) + np.dot(x, Wx) + b\n",
    "        \n",
    "        # 活性化関数に入れる\n",
    "        h_next = np.tanh(t)\n",
    "\n",
    "        # 値の一時保存\n",
    "        self.cache = (x, h_prev, h_next)\n",
    "        \n",
    "        return h_next\n",
    "\n",
    "    def backward(self, dh_next):\n",
    "        \"\"\"\n",
    "        逆伝播計算\n",
    "        \"\"\"\n",
    "        Wx, Wh, b = self.params\n",
    "        x, h_prev, h_next = self.cache\n",
    "\n",
    "        # tanhでの逆伝播\n",
    "        # dh_next * (1 - y^2)\n",
    "        A3 = dh_next * (1 - h_next ** 2)\n",
    "        \n",
    "        # バイアスbの勾配\n",
    "        # Nの方向に合計する\n",
    "        db = np.sum(A3, axis=0)\n",
    "        \n",
    "        # 重みWhの勾配\n",
    "        dWh = np.dot(h_prev.T, A3)\n",
    "        \n",
    "        # 1時刻前に渡す勾配\n",
    "        dh_prev = np.dot(A3, Wh.T)\n",
    "        \n",
    "        # 重みWxの勾配\n",
    "        dWx = np.dot(x.T, A3)\n",
    "        \n",
    "        # 入力xに渡す勾配\n",
    "        dx = np.dot(A3, Wx.T)\n",
    "\n",
    "        # 勾配をまとめる\n",
    "        self.grads[0] = dWx\n",
    "        self.grads[1] = dWh\n",
    "        self.grads[2] = db\n",
    "\n",
    "        return dx, dh_prev"
   ]
  },
  {
   "cell_type": "code",
   "execution_count": 4,
   "metadata": {},
   "outputs": [
    {
     "name": "stdout",
     "output_type": "stream",
     "text": [
      "h_next= [[-0.99652307 -0.946302   -0.99995941 -0.98376948  0.74944177]\n",
      " [-0.92473991  0.98440793 -0.11049856 -0.73101109  0.98869462]\n",
      " [-0.90770961 -0.09719778 -0.19842126 -0.58797553 -0.04650672]\n",
      " [ 0.98906712 -0.99879504 -0.95967091  0.74021008  0.9995459 ]]\n",
      "\n",
      "dx= [[ 0.7278653 ]\n",
      " [-0.23283255]\n",
      " [-0.51971531]\n",
      " [ 0.14800593]]\n",
      "\n",
      "dh_prev= [[ 0.34664104  1.2724381  -0.00627001  0.03929235 -0.22217923]\n",
      " [ 0.12422263 -0.7705414   0.40740494  0.54429844 -0.06576292]\n",
      " [ 0.00393132 -1.00677578  0.62787488  0.30069188  0.42819771]\n",
      " [ 0.0438729  -0.22252617  0.02286547  0.17761975 -0.05564238]]\n",
      "\n"
     ]
    }
   ],
   "source": [
    "D = 1 # 入力層のノード数\n",
    "H = 5 # 中間層のノード数\n",
    "Wx = np.random.randn(D, H)\n",
    "Wh = np.random.randn(H, H)\n",
    "b = np.zeros(H)\n",
    "\n",
    "# オブジェクトの生成\n",
    "rnn = RNN(Wx, Wh, b)\n",
    "\n",
    "# 順伝播計算\n",
    "N = 4 # バッチサイズ\n",
    "x = np.random.randn(N, D)\n",
    "h_prev = np.random.randn(N, H)\n",
    "h_next = rnn.forward(x, h_prev)\n",
    "print(\"h_next=\", h_next)\n",
    "print()\n",
    "\n",
    "# 逆伝播計算\n",
    "dh_next = np.random.randn(N, H )\n",
    "dx, dh_prev = rnn.backward(dh_next)\n",
    "print(\"dx=\", dx)\n",
    "print()\n",
    "print(\"dh_prev=\", dh_prev)\n",
    "print()\n"
   ]
  }
 ],
 "metadata": {
  "kernelspec": {
   "display_name": "Python 3",
   "language": "python",
   "name": "python3"
  },
  "language_info": {
   "codemirror_mode": {
    "name": "ipython",
    "version": 3
   },
   "file_extension": ".py",
   "mimetype": "text/x-python",
   "name": "python",
   "nbconvert_exporter": "python",
   "pygments_lexer": "ipython3",
   "version": "3.6.8"
  }
 },
 "nbformat": 4,
 "nbformat_minor": 2
}
