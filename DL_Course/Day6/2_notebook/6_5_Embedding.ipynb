{
 "cells": [
  {
   "cell_type": "markdown",
   "metadata": {},
   "source": [
    "# Embeddingレイヤを確認する\n",
    "Embeddingレイヤは、単語IDを埋め込みベクトルに変換するためのレイヤである"
   ]
  },
  {
   "cell_type": "code",
   "execution_count": 5,
   "metadata": {},
   "outputs": [],
   "source": [
    "import numpy as np"
   ]
  },
  {
   "cell_type": "code",
   "execution_count": 6,
   "metadata": {},
   "outputs": [
    {
     "name": "stdout",
     "output_type": "stream",
     "text": [
      "a= [[3. 3. 3.]\n",
      " [3. 3. 3.]\n",
      " [3. 3. 3.]\n",
      " [3. 3. 3.]\n",
      " [3. 3. 3.]] \n",
      "\n",
      "b= 3 \n",
      "\n"
     ]
    }
   ],
   "source": [
    "# 確認\n",
    "a = b = np.ones((5,3))\n",
    "a[...] = 3 #　numpyの配列の各要素に値を代入する\n",
    "b = 3 # 変数に値を代入する\n",
    "print(\"a=\",a, \"\\n\")\n",
    "print(\"b=\",b, \"\\n\")"
   ]
  },
  {
   "cell_type": "code",
   "execution_count": 7,
   "metadata": {},
   "outputs": [],
   "source": [
    "class Embedding:\n",
    "    def __init__(self, W):\n",
    "        \"\"\"\n",
    "        W : 重み行列, word2vecの埋め込み行列に相当する。配列形状は、(語彙数、埋め込みベクトルの要素数)\n",
    "        \"\"\"\n",
    "        self.params = [W]\n",
    "        self.grads = [np.zeros_like(W)]\n",
    "        self.idx = None\n",
    "\n",
    "    def forward(self, idx):\n",
    "        \"\"\"\n",
    "        順伝播計算\n",
    "        \"\"\"\n",
    "        W, = self.params # dWの後の,はリストから1つだけを抜き出すためにつけている\n",
    "        self.idx = idx\n",
    "        \n",
    "        # 埋め込み行列から埋め込みベクトルを取り出す\n",
    "        out = W[idx]\n",
    "        \n",
    "        return out\n",
    "\n",
    "    def backward(self, dout):\n",
    "        \"\"\"\n",
    "        逆伝播計算\n",
    "        \"\"\"\n",
    "        dW, = self.grads # dWの後の,はリストから1つだけを抜き出すためにつけている\n",
    "        \n",
    "        # 配列の全ての要素に0を代入する\n",
    "        dW[...] = 0 # [...]をつけると、全ての要素に代入してくれる\n",
    "        \n",
    "        # dWのidxの場所にdoutを代入する\n",
    "        np.add.at(dW, self.idx, dout)\n",
    "        return None"
   ]
  },
  {
   "cell_type": "code",
   "execution_count": 8,
   "metadata": {},
   "outputs": [
    {
     "name": "stdout",
     "output_type": "stream",
     "text": [
      "embed_W= [[-0.07423256 -1.44963934 -0.52424659]\n",
      " [-0.78650298 -0.36239714  0.22783209]\n",
      " [-1.31534108  0.62346674  1.38215743]\n",
      " [-1.28681662 -0.96249888 -0.67505484]\n",
      " [-0.11172007 -1.10565705  1.82131453]\n",
      " [-0.37675701 -0.238562   -0.34137412]\n",
      " [-0.34971342 -0.74088063 -0.47488522]\n",
      " [-0.03102835 -1.07320138 -0.17333452]\n",
      " [ 0.75328459  0.87431296 -1.67433695]\n",
      " [-1.39156084  0.01867831 -0.07056924]]\n",
      "\n",
      "dout= [0 1 2]\n",
      "\n",
      "dW= [[0. 0. 0.]\n",
      " [0. 0. 0.]\n",
      " [0. 1. 2.]\n",
      " [0. 0. 0.]\n",
      " [0. 0. 0.]\n",
      " [0. 0. 0.]\n",
      " [0. 0. 0.]\n",
      " [0. 0. 0.]\n",
      " [0. 0. 0.]\n",
      " [0. 0. 0.]]\n",
      "\n"
     ]
    }
   ],
   "source": [
    "V = 10 # 語彙数\n",
    "D = 3 # 埋め込みベクトルの要素数\n",
    "\n",
    "# パラメータの初期化\n",
    "embed_W = np.random.randn(V, D) \n",
    "print(\"embed_W=\", embed_W)\n",
    "print()\n",
    "\n",
    "# オブジェクトの生成\n",
    "emb = Embedding(embed_W)\n",
    "\n",
    "# 単語ID\n",
    "idx = 2\n",
    "\n",
    "# 順伝播計算\n",
    "emb.forward(idx)\n",
    "\n",
    "# 逆伝播計算\n",
    "dout = np.arange(D)\n",
    "print(\"dout=\", dout)\n",
    "print()\n",
    "emb.backward(dout)\n",
    "print(\"dW=\", emb.grads[0])\n",
    "print()"
   ]
  }
 ],
 "metadata": {
  "kernelspec": {
   "display_name": "Python 3",
   "language": "python",
   "name": "python3"
  },
  "language_info": {
   "codemirror_mode": {
    "name": "ipython",
    "version": 3
   },
   "file_extension": ".py",
   "mimetype": "text/x-python",
   "name": "python",
   "nbconvert_exporter": "python",
   "pygments_lexer": "ipython3",
   "version": "3.6.4"
  }
 },
 "nbformat": 4,
 "nbformat_minor": 2
}
