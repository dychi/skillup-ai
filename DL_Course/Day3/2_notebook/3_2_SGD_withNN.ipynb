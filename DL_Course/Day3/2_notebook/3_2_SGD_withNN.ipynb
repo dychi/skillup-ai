{
 "cells": [
  {
   "cell_type": "markdown",
   "metadata": {},
   "source": [
    "# 確率的勾配降下法などを用いたNNの計算"
   ]
  },
  {
   "cell_type": "code",
   "execution_count": 1,
   "metadata": {},
   "outputs": [],
   "source": [
    "from  common.network import TwoLayerNet\n",
    "import numpy as np\n",
    "import pandas as pd\n",
    "import matplotlib.pyplot as plt"
   ]
  },
  {
   "cell_type": "code",
   "execution_count": 2,
   "metadata": {},
   "outputs": [],
   "source": [
    "class SGD:\n",
    "    def __init__(self, lr=0.01):\n",
    "        \"\"\"\n",
    "        lr : 学習係数 learning rate\n",
    "        \"\"\"\n",
    "        self.lr = lr\n",
    "        \n",
    "    def update(self, params, grads):\n",
    "        \"\"\"\n",
    "        重みの更新\n",
    "        \"\"\"\n",
    "        for key in params.keys():\n",
    "            params[key] -= self.lr * grads[key]\n",
    "            \n",
    "class RMSProp:\n",
    "    \"\"\"\n",
    "    RMSProp\n",
    "    \"\"\"\n",
    "    def __init__(self, lr=0.01, rho=0.9):\n",
    "        \"\"\"\n",
    "        lr : 学習係数 learning rate\n",
    "        rho : 減衰率\n",
    "        \"\"\"\n",
    "        self.lr = lr\n",
    "        self.h = None\n",
    "        self.rho = rho\n",
    "        self.epsilon = 1e-6\n",
    "        \n",
    "    def update(self, params, grads):\n",
    "        \"\"\"\n",
    "        重みの更新\n",
    "        \"\"\"\n",
    "        if self.h is None:\n",
    "            \"\"\"\n",
    "            初回のみ\n",
    "            \"\"\"\n",
    "            self.h = {}\n",
    "            for key, val in params.items():\n",
    "                self.h[key] = np.zeros_like(val)\n",
    "                \n",
    "        for key in params.keys():\n",
    "            self.h[key] = self.rho * self.h[key] + (1 - self.rho) * grads[key] * grads[key]          \n",
    "            params[key] -= self.lr * grads[key] / (np.sqrt(self.h[key] + self.epsilon) ) # 原著論文に合わせてepsilonをルートの中に入れる            "
   ]
  },
  {
   "cell_type": "code",
   "execution_count": 6,
   "metadata": {},
   "outputs": [],
   "source": [
    "class Adagrad:\n",
    "    \"\"\"\n",
    "    Adagrad\n",
    "    \"\"\"\n",
    "    def __init__(self, lr=0.01):\n",
    "        \"\"\"\n",
    "        lr : 学習係数 learning rate\n",
    "        \"\"\"\n",
    "        self.lr = lr\n",
    "        self.h = None\n",
    "        self.epsilon = 1e-7\n",
    "        \n",
    "    def update(self, params, grads):\n",
    "        \"\"\"\n",
    "        重みの更新\n",
    "        \"\"\"\n",
    "        if self.h is None:\n",
    "            \"\"\"\n",
    "            初回のみ\n",
    "            \"\"\"\n",
    "            self.h = {}\n",
    "            for key, val in params.items():\n",
    "                self.h[key] = np.zeros_like(val)\n",
    "                \n",
    "        for key in params.keys():\n",
    "            self.h[key] += grads[key] * grads[key]          \n",
    "            params[key] -= self.lr * grads[key] / (self.epsilon + np.sqrt(self.h[key]) )"
   ]
  },
  {
   "cell_type": "code",
   "execution_count": 7,
   "metadata": {},
   "outputs": [],
   "source": [
    "class Adadelta:\n",
    "    \"\"\"\n",
    "    Adadelta\n",
    "    \"\"\"\n",
    "    def __init__(self, rho=0.95):\n",
    "        \"\"\"\n",
    "        rho : 減衰率\n",
    "        \"\"\"\n",
    "        self.h = None\n",
    "        self.r = None        \n",
    "        self.rho = rho\n",
    "        self.epsilon = 1e-6\n",
    "        \n",
    "    def update(self, params, grads):\n",
    "        \"\"\"\n",
    "        重みの更新\n",
    "        \"\"\"\n",
    "        if self.h is None:\n",
    "            \"\"\"\n",
    "            初回のみ\n",
    "            \"\"\"\n",
    "            self.h = {}\n",
    "            self.r = {}            \n",
    "            for key, val in params.items():\n",
    "                self.h[key] = np.zeros_like(val)\n",
    "                self.r[key] = np.zeros_like(val)\n",
    "                \n",
    "        for key in params.keys():\n",
    "            \n",
    "            # 1ステップ前における更新量の2乗の移動平均のルートを求める\n",
    "            rms_param = np.sqrt(self.r[key] + self.epsilon)\n",
    "                        \n",
    "            # 勾配の2乗の移動平均を求める\n",
    "            self.h[key] = self.rho * self.h[key] + (1 - self.rho) * grads[key] * grads[key]  \n",
    "            \n",
    "            # 勾配の2乗の移動平均のルートを求める\n",
    "            rms_grad =  np.sqrt(self.h[key] + self.epsilon)\n",
    "            \n",
    "            # 更新量の算出\n",
    "            dp = - rms_param / rms_grad * grads[key]             \n",
    "            \n",
    "            # 重みの更新\n",
    "            params[key] += dp\n",
    "            \n",
    "            # 次ステップのために、更新量の2乗の移動平均を求める \n",
    "            self.r[key]  = self.rho * self.r[key] + (1 - self.rho) * dp * dp"
   ]
  },
  {
   "cell_type": "code",
   "execution_count": 3,
   "metadata": {
    "scrolled": true
   },
   "outputs": [
    {
     "name": "stderr",
     "output_type": "stream",
     "text": [
      "/Users/yamaokadaichi/.pyenv/versions/anaconda3-5.1.0/lib/python3.6/site-packages/h5py/__init__.py:36: FutureWarning: Conversion of the second argument of issubdtype from `float` to `np.floating` is deprecated. In future, it will be treated as `np.float64 == np.dtype(float).type`.\n",
      "  from ._conv import register_converters as _register_converters\n"
     ]
    }
   ],
   "source": [
    "# Load the MNIST dataset\n",
    "import tensorflow as tf\n",
    "mnist = tf.keras.datasets.mnist\n",
    "(X_train, y_train),(X_test, y_test) = mnist.load_data()\n",
    "\n",
    "from sklearn.preprocessing import LabelBinarizer\n",
    "lb = LabelBinarizer()\n",
    "\n",
    "train = X_train/255\n",
    "test = X_test/255\n",
    "train = train.reshape(-1, 28*28)\n",
    "test = test.reshape(-1, 28*28)\n",
    "train_labels = lb.fit_transform(y_train)\n",
    "test_labels = lb.fit_transform(y_test)\n",
    "\n",
    "x_train, t_train = train, train_labels\n",
    "x_test, t_test = test, test_labels"
   ]
  },
  {
   "cell_type": "code",
   "execution_count": 24,
   "metadata": {
    "scrolled": true
   },
   "outputs": [],
   "source": [
    "x = train[:1000,:]\n",
    "t = train_labels[:1000,:]\n",
    "\n",
    "epochs = 30\n",
    "batch_size = 25\n",
    "\n",
    "def run(optimizer):\n",
    "    # 繰り返し回数\n",
    "    xsize = x.shape[0]\n",
    "    iter_num = np.ceil(xsize / batch_size).astype(np.int)\n",
    "\n",
    "    # 2層NNのオブジェクト生成\n",
    "    tnet = TwoLayerNet(input_size=784, hidden_size=50, output_size=10)\n",
    "\n",
    "    train_loss = []\n",
    "    test_loss = []\n",
    "    train_accuracy = []\n",
    "    test_accuracy = []\n",
    "    for epoch in range(epochs):\n",
    "#         print(\"epoch=%s\"%epoch)\n",
    "\n",
    "        # シャッフル\n",
    "        idx = np.arange(xsize)\n",
    "        np.random.shuffle(idx)\n",
    "\n",
    "        for it in range(iter_num):\n",
    "            \"\"\"\n",
    "            ランダムなミニバッチを順番に取り出す\n",
    "            \"\"\"\n",
    "            mask = idx[batch_size*it : batch_size*(it+1)]\n",
    "\n",
    "            # ミニバッチの生成\n",
    "            x_train = x[mask]\n",
    "            t_train = t[mask]\n",
    "\n",
    "            # 勾配の計算 (誤差逆伝播法を用いる) \n",
    "            grads = tnet.gradient(x_train, t_train)\n",
    "\n",
    "            # 更新\n",
    "            optimizer.update(tnet.params, grads)\n",
    "\n",
    "        ## 学習経過の記録\n",
    "\n",
    "        # 訓練データにおけるloss\n",
    "        train_loss.append(tnet.loss(x,  t))\n",
    "\n",
    "        # テストデータにおけるloss\n",
    "        test_loss.append(tnet.loss(test, test_labels))\n",
    "\n",
    "        # 訓練データにて精度を確認\n",
    "        train_accuracy.append(tnet.accuracy(x, t))\n",
    "\n",
    "        # テストデータにて精度を算出\n",
    "        test_accuracy.append(tnet.accuracy(test, test_labels))\n",
    "        \n",
    "\n",
    "    # lossのグラフ化\n",
    "    df_log = pd.DataFrame({\"train_loss\":train_loss,\n",
    "                 \"test_loss\":test_loss,\n",
    "                 \"train_accuracy\":train_accuracy,\n",
    "                 \"test_accuracy\":test_accuracy})\n",
    "    df_log.plot()\n",
    "    plt.ylabel(\"loss\")\n",
    "    plt.xlabel(\"epochs\")\n",
    "    plt.show()\n",
    "    \n",
    "    return df_log"
   ]
  },
  {
   "cell_type": "code",
   "execution_count": 41,
   "metadata": {},
   "outputs": [
    {
     "name": "stdout",
     "output_type": "stream",
     "text": [
      "AdaDelta, rho= 1e-08\n"
     ]
    },
    {
     "data": {
      "image/png": "[encoded data removed]",
      "text/plain": [
       "<matplotlib.figure.Figure at 0x1a3cac9668>"
      ]
     },
     "metadata": {},
     "output_type": "display_data"
    },
    {
     "data": {
      "text/html": [
       "<div>\n",
       "<style scoped>\n",
       "    .dataframe tbody tr th:only-of-type {\n",
       "        vertical-align: middle;\n",
       "    }\n",
       "\n",
       "    .dataframe tbody tr th {\n",
       "        vertical-align: top;\n",
       "    }\n",
       "\n",
       "    .dataframe thead th {\n",
       "        text-align: right;\n",
       "    }\n",
       "</style>\n",
       "<table border=\"1\" class=\"dataframe\">\n",
       "  <thead>\n",
       "    <tr style=\"text-align: right;\">\n",
       "      <th></th>\n",
       "      <th>test_accuracy</th>\n",
       "      <th>test_loss</th>\n",
       "      <th>train_accuracy</th>\n",
       "      <th>train_loss</th>\n",
       "    </tr>\n",
       "  </thead>\n",
       "  <tbody>\n",
       "    <tr>\n",
       "      <th>25</th>\n",
       "      <td>0.8695</td>\n",
       "      <td>0.542031</td>\n",
       "      <td>0.985</td>\n",
       "      <td>0.061275</td>\n",
       "    </tr>\n",
       "    <tr>\n",
       "      <th>26</th>\n",
       "      <td>0.8544</td>\n",
       "      <td>0.636051</td>\n",
       "      <td>0.984</td>\n",
       "      <td>0.068272</td>\n",
       "    </tr>\n",
       "    <tr>\n",
       "      <th>27</th>\n",
       "      <td>0.8680</td>\n",
       "      <td>0.560526</td>\n",
       "      <td>0.990</td>\n",
       "      <td>0.047111</td>\n",
       "    </tr>\n",
       "    <tr>\n",
       "      <th>28</th>\n",
       "      <td>0.8648</td>\n",
       "      <td>0.585592</td>\n",
       "      <td>0.991</td>\n",
       "      <td>0.044933</td>\n",
       "    </tr>\n",
       "    <tr>\n",
       "      <th>29</th>\n",
       "      <td>0.8679</td>\n",
       "      <td>0.570985</td>\n",
       "      <td>0.991</td>\n",
       "      <td>0.050423</td>\n",
       "    </tr>\n",
       "  </tbody>\n",
       "</table>\n",
       "</div>"
      ],
      "text/plain": [
       "    test_accuracy  test_loss  train_accuracy  train_loss\n",
       "25         0.8695   0.542031           0.985    0.061275\n",
       "26         0.8544   0.636051           0.984    0.068272\n",
       "27         0.8680   0.560526           0.990    0.047111\n",
       "28         0.8648   0.585592           0.991    0.044933\n",
       "29         0.8679   0.570985           0.991    0.050423"
      ]
     },
     "execution_count": 41,
     "metadata": {},
     "output_type": "execute_result"
    }
   ],
   "source": [
    "rho = 0.00000001\n",
    "print(\"AdaDelta, rho=\", rho)\n",
    "optimizer = Adadelta(rho=rho)\n",
    "df_log = run(optimizer)\n",
    "df_log.tail()"
   ]
  },
  {
   "cell_type": "code",
   "execution_count": null,
   "metadata": {},
   "outputs": [],
   "source": []
  },
  {
   "cell_type": "code",
   "execution_count": 43,
   "metadata": {},
   "outputs": [
    {
     "name": "stdout",
     "output_type": "stream",
     "text": [
      "Adagrad, lr= 2\n"
     ]
    },
    {
     "data": {
      "image/png": "[encoded data removed]",
      "text/plain": [
       "<matplotlib.figure.Figure at 0x1a3c4b9ef0>"
      ]
     },
     "metadata": {},
     "output_type": "display_data"
    },
    {
     "data": {
      "text/html": [
       "<div>\n",
       "<style scoped>\n",
       "    .dataframe tbody tr th:only-of-type {\n",
       "        vertical-align: middle;\n",
       "    }\n",
       "\n",
       "    .dataframe tbody tr th {\n",
       "        vertical-align: top;\n",
       "    }\n",
       "\n",
       "    .dataframe thead th {\n",
       "        text-align: right;\n",
       "    }\n",
       "</style>\n",
       "<table border=\"1\" class=\"dataframe\">\n",
       "  <thead>\n",
       "    <tr style=\"text-align: right;\">\n",
       "      <th></th>\n",
       "      <th>test_accuracy</th>\n",
       "      <th>test_loss</th>\n",
       "      <th>train_accuracy</th>\n",
       "      <th>train_loss</th>\n",
       "    </tr>\n",
       "  </thead>\n",
       "  <tbody>\n",
       "    <tr>\n",
       "      <th>25</th>\n",
       "      <td>0.8828</td>\n",
       "      <td>0.511031</td>\n",
       "      <td>1.0</td>\n",
       "      <td>0.002309</td>\n",
       "    </tr>\n",
       "    <tr>\n",
       "      <th>26</th>\n",
       "      <td>0.8840</td>\n",
       "      <td>0.513537</td>\n",
       "      <td>1.0</td>\n",
       "      <td>0.002126</td>\n",
       "    </tr>\n",
       "    <tr>\n",
       "      <th>27</th>\n",
       "      <td>0.8847</td>\n",
       "      <td>0.519322</td>\n",
       "      <td>1.0</td>\n",
       "      <td>0.001936</td>\n",
       "    </tr>\n",
       "    <tr>\n",
       "      <th>28</th>\n",
       "      <td>0.8841</td>\n",
       "      <td>0.524428</td>\n",
       "      <td>1.0</td>\n",
       "      <td>0.001817</td>\n",
       "    </tr>\n",
       "    <tr>\n",
       "      <th>29</th>\n",
       "      <td>0.8832</td>\n",
       "      <td>0.527825</td>\n",
       "      <td>1.0</td>\n",
       "      <td>0.001666</td>\n",
       "    </tr>\n",
       "  </tbody>\n",
       "</table>\n",
       "</div>"
      ],
      "text/plain": [
       "    test_accuracy  test_loss  train_accuracy  train_loss\n",
       "25         0.8828   0.511031             1.0    0.002309\n",
       "26         0.8840   0.513537             1.0    0.002126\n",
       "27         0.8847   0.519322             1.0    0.001936\n",
       "28         0.8841   0.524428             1.0    0.001817\n",
       "29         0.8832   0.527825             1.0    0.001666"
      ]
     },
     "execution_count": 43,
     "metadata": {},
     "output_type": "execute_result"
    }
   ],
   "source": [
    "lr = 2\n",
    "print(\"Adagrad, lr=\", lr)\n",
    "optimzer = Adagrad(lr=lr)\n",
    "df_log = run(optimizer)\n",
    "df_log.tail()"
   ]
  },
  {
   "cell_type": "code",
   "execution_count": null,
   "metadata": {},
   "outputs": [],
   "source": []
  },
  {
   "cell_type": "code",
   "execution_count": null,
   "metadata": {},
   "outputs": [],
   "source": []
  },
  {
   "cell_type": "code",
   "execution_count": 42,
   "metadata": {
    "scrolled": false
   },
   "outputs": [
    {
     "name": "stdout",
     "output_type": "stream",
     "text": [
      "AdaDelta, rho= 0.99\n"
     ]
    },
    {
     "data": {
      "image/png": "[encoded data removed]",
      "text/plain": [
       "<matplotlib.figure.Figure at 0x106cae5f8>"
      ]
     },
     "metadata": {},
     "output_type": "display_data"
    },
    {
     "name": "stdout",
     "output_type": "stream",
     "text": [
      "Adagrad, lr= 1e-06\n"
     ]
    },
    {
     "data": {
      "image/png": "[encoded data removed]",
      "text/plain": [
       "<matplotlib.figure.Figure at 0x106c784e0>"
      ]
     },
     "metadata": {},
     "output_type": "display_data"
    }
   ],
   "source": [
    "# 計算実行部分\n",
    "# 完成したら最適化手法をいろいろ変えてみる\n",
    "\n",
    "for  i in range(3):\n",
    "    \n",
    "#     if i==0:\n",
    "#         print(\"SGD, lr=0.01\")\n",
    "#         optimizer = SGD(lr=0.01)\n",
    "#         run(optimizer)\n",
    "#     elif i==1:\n",
    "#         print(\"SGD, lr=0.1\")        \n",
    "#         optimizer = SGD(lr=0.1)\n",
    "#         run(optimizer)        \n",
    "#     elif i==2:\n",
    "#         print(\"RMSProp, lr=0.01, rho=0.9\")        \n",
    "#         optimizer = RMSProp(lr=0.01, rho=0.9)\n",
    "#         run(optimizer)\n",
    "    if i == 0:\n",
    "        rho = 0.99\n",
    "        print(\"AdaDelta, rho=\", rho)\n",
    "        optimizer = Adadelta(rho=rho)\n",
    "        run(optimizer)\n",
    "    elif i == 1:\n",
    "        lr = 0.000001\n",
    "        print(\"Adagrad, lr=\", lr)\n",
    "        optimzer = Adagrad(lr=lr)\n",
    "        run(optimizer)"
   ]
  },
  {
   "cell_type": "markdown",
   "metadata": {},
   "source": [
    "### [演習]\n",
    "* 最適化手法を変更し、結果がどのように変わるかを確認しましょう"
   ]
  }
 ],
 "metadata": {
  "kernelspec": {
   "display_name": "Python 3",
   "language": "python",
   "name": "python3"
  },
  "language_info": {
   "codemirror_mode": {
    "name": "ipython",
    "version": 3
   },
   "file_extension": ".py",
   "mimetype": "text/x-python",
   "name": "python",
   "nbconvert_exporter": "python",
   "pygments_lexer": "ipython3",
   "version": "3.6.4"
  }
 },
 "nbformat": 4,
 "nbformat_minor": 2
}
