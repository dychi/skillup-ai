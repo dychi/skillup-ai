{
 "cells": [
  {
   "cell_type": "markdown",
   "metadata": {},
   "source": [
    "# 初期値の影響(ランダム値)\n",
    "* 初期値は、バラついていた方がいいということわかったので、乱数によってバラつかせることを考える。\n",
    "* ここでは、重みの初期を変化させた場合に、活性化関数通過後の値がどのように変化するかを実験してみる。\n",
    "* 以下のシミュレーションでは、sigmoid関数を使っていることに注意!!!!"
   ]
  },
  {
   "cell_type": "code",
   "execution_count": null,
   "metadata": {},
   "outputs": [],
   "source": [
    "import numpy as np\n",
    "import matplotlib.pyplot as plt\n",
    "from common.activations import sigmoid\n",
    "np.random.seed(1234)"
   ]
  },
  {
   "cell_type": "code",
   "execution_count": null,
   "metadata": {
    "scrolled": true
   },
   "outputs": [],
   "source": [
    "def simulation(num_in=100, num_x=1000, hidden_layer_size=5, num_node=100, sigma=1.0):\n",
    "    \"\"\"\n",
    "    num_in : 入力層のノードの数\n",
    "    num_x : 入力するデータの数\n",
    "    hidden_layer_size : 中間層の層数\n",
    "    num_node : 中間層のノード数\n",
    "    sigma : 乱数を抽出する際に用いる正規分布の標準偏差\n",
    "    \"\"\"\n",
    "    # num_in次元のデータをnum_x個つくる\n",
    "    X = np.random.randn(num_x, num_in) # 標準正規分布からのサンプリング\n",
    "\n",
    "    # 中間層ノードの出力値を格納するdict\n",
    "    h = {}\n",
    "\n",
    "    # 順伝播の計算\n",
    "    for i in range(hidden_layer_size):\n",
    "        if i==0:\n",
    "            X_ = X\n",
    "        else:\n",
    "            X_ = h[i-1]\n",
    "\n",
    "        # 重みの初期化\n",
    "        W = np.random.randn(num_node, num_node) * sigma\n",
    "\n",
    "        # 行列の積\n",
    "        z = np.dot(X_, W)\n",
    "\n",
    "        # シグモイド関数に入れる\n",
    "        a = sigmoid(z)\n",
    "\n",
    "        # dictに格納\n",
    "        h[i] = a\n",
    "\n",
    "    return h\n",
    "\n",
    "def histgram(h, ymax = 50000):\n",
    "    plt.figure(figsize=(14,4))\n",
    "    fig_num = len(h)\n",
    "    for key,value in h.items():\n",
    "        plt.subplot(1,fig_num, key+1)\n",
    "        plt.title(\"hiddlen_layer=%s\"%(key+1))\n",
    "        plt.hist(value.flatten())\n",
    "        plt.ylim([0, ymax])\n",
    "        plt.xlim([0, 1.0])\n",
    "        if key!=0:\n",
    "            plt.yticks([], [])\n",
    "    plt.show()"
   ]
  },
  {
   "cell_type": "markdown",
   "metadata": {},
   "source": [
    "## 標準偏差1.0の正規分布よりサンプリングした場合"
   ]
  },
  {
   "cell_type": "code",
   "execution_count": null,
   "metadata": {},
   "outputs": [],
   "source": [
    "# 実験\n",
    "h = simulation(sigma=1.0)\n",
    "\n",
    "# 中間層ノードの出力値(アクティベーションとも呼ばれる)のヒストグラムを描く\n",
    "histgram(h)"
   ]
  },
  {
   "cell_type": "markdown",
   "metadata": {},
   "source": [
    "## 標準偏差0.25の正規分布よりサンプリングした場合"
   ]
  },
  {
   "cell_type": "code",
   "execution_count": null,
   "metadata": {},
   "outputs": [],
   "source": [
    "# 実験\n",
    "h = simulation(sigma=0.25)\n",
    "\n",
    "# 中間層ノードの出力値(アクティベーションとも呼ばれる)のヒストグラムを描く\n",
    "histgram(h)"
   ]
  },
  {
   "cell_type": "markdown",
   "metadata": {},
   "source": [
    "## 標準偏差0.1の正規分布よりサンプリングした場合"
   ]
  },
  {
   "cell_type": "code",
   "execution_count": null,
   "metadata": {},
   "outputs": [],
   "source": [
    "# 実験\n",
    "h = simulation(sigma=0.1)\n",
    "\n",
    "# 中間層ノードの出力値(アクティベーションとも呼ばれる)のヒストグラムを描く\n",
    "histgram(h)"
   ]
  },
  {
   "cell_type": "markdown",
   "metadata": {},
   "source": [
    "## 標準偏差0.05の正規分布よりサンプリングした場合"
   ]
  },
  {
   "cell_type": "code",
   "execution_count": null,
   "metadata": {},
   "outputs": [],
   "source": [
    "# 実験\n",
    "h = simulation(sigma=0.05)\n",
    "\n",
    "# 中間層ノードの出力値(アクティベーションとも呼ばれる)のヒストグラムを描く\n",
    "histgram(h)"
   ]
  },
  {
   "cell_type": "markdown",
   "metadata": {},
   "source": [
    "## 標準偏差0.01の正規分布よりサンプリングした場合"
   ]
  },
  {
   "cell_type": "code",
   "execution_count": null,
   "metadata": {},
   "outputs": [],
   "source": [
    "# 実験\n",
    "h = simulation(sigma=0.01)\n",
    "\n",
    "# 中間層ノードの出力値(アクティベーションとも呼ばれる)のヒストグラムを描く\n",
    "histgram(h)"
   ]
  },
  {
   "cell_type": "markdown",
   "metadata": {},
   "source": [
    "### [問]\n",
    "* 標準偏差1の場合、0と1に偏っている。なぜ、0と1に偏るのでしょうか？ \n",
    "* 標準偏差0.01の場合、0.5に集中している。なぜ、0.5に集中するのでしょうか？\n",
    "* 最適な標準偏差はどのあたりでしょうか？"
   ]
  }
 ],
 "metadata": {
  "kernelspec": {
   "display_name": "Python 3",
   "language": "python",
   "name": "python3"
  },
  "language_info": {
   "codemirror_mode": {
    "name": "ipython",
    "version": 3
   },
   "file_extension": ".py",
   "mimetype": "text/x-python",
   "name": "python",
   "nbconvert_exporter": "python",
   "pygments_lexer": "ipython3",
   "version": "3.6.8"
  }
 },
 "nbformat": 4,
 "nbformat_minor": 2
}
