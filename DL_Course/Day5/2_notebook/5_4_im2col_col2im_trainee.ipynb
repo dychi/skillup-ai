{
 "cells": [
  {
   "cell_type": "markdown",
   "metadata": {},
   "source": [
    "# im2colとcol2imの実装"
   ]
  },
  {
   "cell_type": "code",
   "execution_count": 1,
   "metadata": {},
   "outputs": [],
   "source": [
    "import numpy as np"
   ]
  },
  {
   "cell_type": "markdown",
   "metadata": {},
   "source": [
    "## パディングの練習"
   ]
  },
  {
   "cell_type": "code",
   "execution_count": 2,
   "metadata": {},
   "outputs": [
    {
     "name": "stdout",
     "output_type": "stream",
     "text": [
      "1次元\n",
      "input_data=\n",
      "[-0.99  1.23]\n",
      "pad_data=\n",
      "[ 0.   -0.99  1.23  0.  ]\n",
      "\n",
      "2次元\n",
      "input_data=\n",
      "[[0.09 1.48]\n",
      " [1.74 0.3 ]]\n",
      "pad_data=\n",
      "[[0.   0.  ]\n",
      " [0.09 1.48]\n",
      " [1.74 0.3 ]\n",
      " [0.   0.  ]]\n",
      "\n",
      "2次元\n",
      "input_data=\n",
      "[[ 0.35  0.68]\n",
      " [-1.09  1.19]]\n",
      "pad_data=\n",
      "[[ 0.    0.    0.    0.  ]\n",
      " [ 0.    0.35  0.68  0.  ]\n",
      " [ 0.   -1.09  1.19  0.  ]\n",
      " [ 0.    0.    0.    0.  ]]\n",
      "\n",
      "3次元\n",
      "input_data=\n",
      "[[[-0.05 -1.29]\n",
      "  [ 1.41 -0.54]]\n",
      "\n",
      " [[-0.1   0.45]\n",
      "  [-0.21  1.15]]]\n",
      "pad_data=\n",
      "[[[ 0.    0.    0.    0.  ]\n",
      "  [ 0.    0.    0.    0.  ]\n",
      "  [ 0.    0.    0.    0.  ]\n",
      "  [ 0.    0.    0.    0.  ]]\n",
      "\n",
      " [[ 0.    0.    0.    0.  ]\n",
      "  [ 0.   -0.05 -1.29  0.  ]\n",
      "  [ 0.    1.41 -0.54  0.  ]\n",
      "  [ 0.    0.    0.    0.  ]]\n",
      "\n",
      " [[ 0.    0.    0.    0.  ]\n",
      "  [ 0.   -0.1   0.45  0.  ]\n",
      "  [ 0.   -0.21  1.15  0.  ]\n",
      "  [ 0.    0.    0.    0.  ]]\n",
      "\n",
      " [[ 0.    0.    0.    0.  ]\n",
      "  [ 0.    0.    0.    0.  ]\n",
      "  [ 0.    0.    0.    0.  ]\n",
      "  [ 0.    0.    0.    0.  ]]]\n",
      "\n"
     ]
    }
   ],
   "source": [
    "print(\"1次元\")\n",
    "input_data = np.random.randn(2).round(2)\n",
    "print(\"input_data=\")\n",
    "print(input_data)\n",
    "pad = 1\n",
    "pad_data = np.pad(input_data, [ (pad, pad)], 'constant')\n",
    "print(\"pad_data=\")\n",
    "print(pad_data)\n",
    "print()\n",
    "\n",
    "print(\"2次元\")\n",
    "input_data = np.random.randn(2,2).round(2)\n",
    "print(\"input_data=\")\n",
    "print(input_data)\n",
    "pad = 1\n",
    "pad_data = np.pad(input_data, [ (pad, pad), (0, 0)], 'constant')\n",
    "print(\"pad_data=\")\n",
    "print(pad_data)\n",
    "print()\n",
    "\n",
    "print(\"2次元\")\n",
    "input_data = np.random.randn(2,2).round(2)\n",
    "print(\"input_data=\")\n",
    "print(input_data)\n",
    "pad = 1\n",
    "pad_data = np.pad(input_data, [ (pad, pad), (pad, pad)], 'constant')\n",
    "print(\"pad_data=\")\n",
    "print(pad_data)\n",
    "print()\n",
    "\n",
    "print(\"3次元\")\n",
    "input_data = np.random.randn(2,2,2).round(2)\n",
    "print(\"input_data=\")\n",
    "print(input_data)\n",
    "pad = 1\n",
    "pad_data = np.pad(input_data, [ (pad, pad), (pad, pad), (pad, pad)], 'constant')\n",
    "print(\"pad_data=\")\n",
    "print(pad_data)\n",
    "print()"
   ]
  },
  {
   "cell_type": "markdown",
   "metadata": {},
   "source": [
    "## im2colの実装"
   ]
  },
  {
   "cell_type": "markdown",
   "metadata": {},
   "source": [
    "### [演習]\n",
    "* 以下のim2col関数を完成させましょう"
   ]
  },
  {
   "cell_type": "code",
   "execution_count": 3,
   "metadata": {},
   "outputs": [
    {
     "name": "stdout",
     "output_type": "stream",
     "text": [
      "5//2 =  2\n",
      "\n",
      "input_data=\n",
      " [[[[-1.67  0.15]\n",
      "   [ 0.61 -1.74]]\n",
      "\n",
      "  [[ 1.19 -1.17]\n",
      "   [-0.49 -0.12]]]]\n",
      "\n",
      "パディング=\n",
      "[[[[ 0.    0.    0.    0.    0.    0.  ]\n",
      "   [ 0.    0.    0.    0.    0.    0.  ]\n",
      "   [ 0.    0.   -1.67  0.15  0.    0.  ]\n",
      "   [ 0.    0.    0.61 -1.74  0.    0.  ]\n",
      "   [ 0.    0.    0.    0.    0.    0.  ]\n",
      "   [ 0.    0.    0.    0.    0.    0.  ]]\n",
      "\n",
      "  [[ 0.    0.    0.    0.    0.    0.  ]\n",
      "   [ 0.    0.    0.    0.    0.    0.  ]\n",
      "   [ 0.    0.    1.19 -1.17  0.    0.  ]\n",
      "   [ 0.    0.   -0.49 -0.12  0.    0.  ]\n",
      "   [ 0.    0.    0.    0.    0.    0.  ]\n",
      "   [ 0.    0.    0.    0.    0.    0.  ]]]]\n",
      "\n",
      "軸の入れ替え\n"
     ]
    },
    {
     "data": {
      "text/plain": [
       "array([[[[-1.67,  0.61],\n",
       "         [ 0.15, -1.74]],\n",
       "\n",
       "        [[ 1.19, -0.49],\n",
       "         [-1.17, -0.12]]]])"
      ]
     },
     "execution_count": 3,
     "metadata": {},
     "output_type": "execute_result"
    }
   ],
   "source": [
    "# ヒント\n",
    "print(\"5//2 = \", 5//2)\n",
    "print()\n",
    "\n",
    "input_data = np.random.randn(1,2,2,2).round(2)\n",
    "print(\"input_data=\\n\",input_data)\n",
    "pad = 2\n",
    "print()\n",
    "print(\"パディング=\")\n",
    "print(np.pad(input_data, [(0,0), (0,0), (pad, pad), (pad, pad)], 'constant'))\n",
    "print()\n",
    "print(\"軸の入れ替え\")\n",
    "input_data.transpose(0, 1,3,2)"
   ]
  },
  {
   "cell_type": "code",
   "execution_count": null,
   "metadata": {},
   "outputs": [],
   "source": [
    "def im2col(input_data, filter_h, filter_w, stride=1, pad=0, constant_values=0):\n",
    "    \"\"\"\n",
    "    input_data : (データ数, チャンネル数, 高さ, 幅)の4次元配列からなる入力データ. 画像データの形式を想定している\n",
    "    filter_h : フィルターの高さ\n",
    "    filter_w : フィルターの幅\n",
    "    stride : ストライド数\n",
    "    pad : パディングサイズ\n",
    "    constant_values : パディング処理で埋める際の値\n",
    "    return : 2次元配列\n",
    "    \"\"\"\n",
    "    \n",
    "    # 入力画像(元画像)のデータ数, チャンネル数, 高さ, 幅を取得する\n",
    "    N, C, H, W = input_data.shape \n",
    "    \n",
    "    # 出力(畳み込みまたはプーリングの演算後)の形状を計算する\n",
    "    out_h =        # 出力画像の高さ(端数は切り捨てる)\n",
    "    out_w =       # 出力画像の幅(端数は切り捨てる)\n",
    "\n",
    "    # パディング処理\n",
    "    img = np.pad(input_data,                   , 'constant',\n",
    "                             constant_values=constant_values) # pad=1以上の場合、周囲を0で埋める\n",
    "    \n",
    "    # 配列の初期化\n",
    "    col = np.zeros((N, C,     ,     , out_h, out_w)) \n",
    "\n",
    "    # 配列を並び替える(フィルター内のある1要素に対応する画像中の画素を取り出してcolに代入する)\n",
    "    for y in range(   ):\n",
    "        \"\"\"\n",
    "        フィルターの高さ方向のループ\n",
    "        \"\"\"\n",
    "        y_max = y + stride*out_h\n",
    "        \n",
    "        for x in range(   ):\n",
    "            \"\"\"\n",
    "            フィルターの幅方向のループ\n",
    "            \"\"\"\n",
    "            x_max = x + stride*out_w\n",
    "            \n",
    "            # imgから値を取り出し、colに入れる\n",
    "            col[:, :, y, x, :, :] = img[:, :, y:y_max:stride, x:x_max:stride]\n",
    "            # y:y_max:strideの意味  :  yからy_maxまでの場所をstride刻みで指定している\n",
    "            # x:x_max:stride の意味  :  xからx_maxまでの場所をstride刻みで指定している\n",
    "\n",
    "    col = col.transpose(0, 4, 5, 1, 2, 3).reshape(N*out_h*out_w, -1) # 軸を入れ替えて、2次元配列(行列)に変換する\n",
    "    return col"
   ]
  },
  {
   "cell_type": "code",
   "execution_count": null,
   "metadata": {},
   "outputs": [],
   "source": [
    "# データ数が1の場合の確認\n",
    "np.random.seed(1234)\n",
    "x1 = np.random.randn(1,3,3,3)\n",
    "print(\"x1=\",x1.round(2))\n",
    "print()\n",
    "print(\"パディングなし\")\n",
    "col1 = im2col(x1, 2, 2, stride=1, pad=0)\n",
    "print(\"col1=\",col1.round(2))\n",
    "print()\n",
    "print(\"パディングあり\")\n",
    "col1_p = im2col(x1, 2, 2, stride=1, pad=1)\n",
    "print(\"col1_p=\",col1_p.round(2))"
   ]
  },
  {
   "cell_type": "code",
   "execution_count": null,
   "metadata": {
    "scrolled": true
   },
   "outputs": [],
   "source": [
    "# データ数が5の場合の確認\n",
    "np.random.seed(1234)\n",
    "x5 = np.random.randn(5,3,3,3)\n",
    "print(\"x5=\",x5.round(2))\n",
    "print()\n",
    "print(\"パディングなし\")\n",
    "col5 = im2col(x5, 2, 2, stride=1, pad=0)\n",
    "print(\"col5=\",col5.round(2))\n",
    "print()\n",
    "print(\"パディングあり\")\n",
    "col5_p = im2col(x5, 2, 2, stride=1, pad=1)\n",
    "print(\"col5_p=\",col5_p.round(2))"
   ]
  },
  {
   "cell_type": "markdown",
   "metadata": {},
   "source": [
    "## col2imの実装"
   ]
  },
  {
   "cell_type": "markdown",
   "metadata": {},
   "source": [
    "### [演習]\n",
    "* 以下のcol2im関数を完成させましょう"
   ]
  },
  {
   "cell_type": "code",
   "execution_count": null,
   "metadata": {},
   "outputs": [],
   "source": [
    "def col2im(col, input_shape, filter_h, filter_w, stride=1, pad=0, is_backward=False):\n",
    "    \"\"\"\n",
    "    Parameters\n",
    "    ----------\n",
    "    col : 2次元配列\n",
    "    input_shape : 入力データの形状（例：(10, 1, 28, 28)）\n",
    "    filter_h : フィルターの高さ\n",
    "    filter_w : フィルターの幅\n",
    "    stride : ストライド数\n",
    "    pad : パディングサイズ\n",
    "    return : (データ数, チャンネル数, 高さ, 幅)の配列\n",
    "    -------\n",
    "    \"\"\"\n",
    "    \n",
    "    # 入力画像(元画像)のデータ数, チャンネル数, 高さ, 幅を取得する\n",
    "    N, C, H, W = input_shape\n",
    "    \n",
    "    # 出力(畳み込みまたはプーリングの演算後)の形状を計算する\n",
    "    out_h =            # 出力画像の高さ(端数は切り捨てる)\n",
    "    out_w =          # 出力画像の幅(端数は切り捨てる)\n",
    "    \n",
    "    # 配列の形を変えて、軸を入れ替える\n",
    "    col = col.reshape(N, out_h, out_w, C, filter_h, filter_w).transpose(0, 3, 4, 5, 1, 2)\n",
    "\n",
    "    # 配列の初期化\n",
    "    img = np.zeros((   ,    , H + 2*pad + stride - 1, W + 2*pad + stride - 1))  # pad分を大きくとる. stride分も大きくとる\n",
    "    \n",
    "    # 配列を並び替える\n",
    "    for y in range(   ):\n",
    "        \"\"\"\n",
    "        フィルターの高さ方向のループ\n",
    "        \"\"\"        \n",
    "        y_max = y + stride*out_h\n",
    "        \n",
    "        for x in range(    ):\n",
    "            \"\"\"\n",
    "            フィルターの幅方向のループ\n",
    "            \"\"\"            \n",
    "            x_max = x + stride*out_w\n",
    "            \n",
    "            # colから値を取り出し、imgに入れる\n",
    "            if is_backward:\n",
    "                img[:, :, y:y_max:stride, x:x_max:stride] += col[:, :, y, x, :, :]\n",
    "            else:\n",
    "                img[:, :, y:y_max:stride, x:x_max:stride] = col[:, :, y, x, :, :]\n",
    "\n",
    "    return img[:, :,    :H +    ,   :W + ] # pad分は除いておく(pad分を除いて真ん中だけを取り出す)"
   ]
  },
  {
   "cell_type": "code",
   "execution_count": null,
   "metadata": {
    "scrolled": false
   },
   "outputs": [],
   "source": [
    "# データ数が1の場合の確認\n",
    "im1= col2im(col1, input_shape=(1, 3, 3, 3), filter_h=2, filter_w=2, stride=1, pad=0)\n",
    "print(\"im1=\", im1.round(2))\n",
    "print()\n",
    "print(\"元の形に戻っていることを確認(値が0であればok)\")\n",
    "print((x1 - im1 ).sum())\n",
    "print()\n",
    "im1_p= col2im(col1_p, input_shape=(1, 3, 3, 3), filter_h=2, filter_w=2, stride=1, pad=1)\n",
    "print(\"im1_p=\", im1_p.round(2))\n",
    "print()\n",
    "print(\"元の形に戻っていることを確認(値が0であればok)\")\n",
    "print((x1 - im1_p ).sum())"
   ]
  },
  {
   "cell_type": "code",
   "execution_count": null,
   "metadata": {
    "scrolled": true
   },
   "outputs": [],
   "source": [
    "# データ数が5の場合の確認\n",
    "im5 = col2im(col5, input_shape=(5, 3, 3, 3), filter_h=2, filter_w=2, stride=1, pad=0)\n",
    "print(\"im5=\", im5.round(2))\n",
    "print()\n",
    "print(\"元の形に戻っていることを確認(値が0であればok)\")\n",
    "print((x5 - im5 ).sum())\n",
    "print()\n",
    "\n",
    "im5_p = col2im(col5_p, input_shape=(5, 3, 3, 3), filter_h=2, filter_w=2, stride=1, pad=1)\n",
    "print(\"im5_p=\", im5_p.round(2))\n",
    "print()\n",
    "print(\"元の形に戻っていることを確認(値が0であればok)\")\n",
    "print((x5 - im5_p ).sum())\n",
    "print()"
   ]
  }
 ],
 "metadata": {
  "kernelspec": {
   "display_name": "Python 3",
   "language": "python",
   "name": "python3"
  },
  "language_info": {
   "codemirror_mode": {
    "name": "ipython",
    "version": 3
   },
   "file_extension": ".py",
   "mimetype": "text/x-python",
   "name": "python",
   "nbconvert_exporter": "python",
   "pygments_lexer": "ipython3",
   "version": "3.6.8"
  }
 },
 "nbformat": 4,
 "nbformat_minor": 2
}
