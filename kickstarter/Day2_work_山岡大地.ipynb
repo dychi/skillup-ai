{
 "cells": [
  {
   "cell_type": "markdown",
   "metadata": {},
   "source": [
    "# 前回の復習・振り返り"
   ]
  },
  {
   "cell_type": "markdown",
   "metadata": {},
   "source": [
    "相関係数のヒートマップ表示\n",
    "```\n",
    "plt.figure(figsize=(10,10))\n",
    "sns.heatmap(df_one_hot.iloc[:,:20].corr(), cmap=\"coolwarm_r\", vmin=-1, vmax=1, center=0)\n",
    "```\n",
    "\n",
    "数値が少ないクラスは、othersでまとめてしまう</br>\n",
    "その上で2クラスのデータをone hotにしたら、各変数は必ず-1の相関がある</br>\n",
    "可視化の方法は、y軸:目的変数、x軸:どれかの説明変数</br>\n",
    "orderedな変数は、カテゴリカル変数にした方が良い、それ以外はone hot変数にした方が良い</br>\n",
    "SVMとカーネルサイズを試す</br>"
   ]
  },
  {
   "cell_type": "markdown",
   "metadata": {},
   "source": [
    "# Day2"
   ]
  },
  {
   "cell_type": "code",
   "execution_count": 1,
   "metadata": {},
   "outputs": [],
   "source": [
    "import pandas as pd\n",
    "import numpy as np\n",
    "\n",
    "import matplotlib.pyplot as plt\n",
    "%matplotlib inline\n",
    "import seaborn as sns"
   ]
  },
  {
   "cell_type": "code",
   "execution_count": 2,
   "metadata": {},
   "outputs": [],
   "source": [
    "# Model\n",
    "from sklearn.linear_model import SGDClassifier\n",
    "from sklearn.svm import SVC\n",
    "# Data process\n",
    "from sklearn.model_selection import KFold, train_test_split\n",
    "# Metrics\n",
    "from sklearn.metrics import log_loss, accuracy_score, confusion_matrix"
   ]
  },
  {
   "cell_type": "code",
   "execution_count": 3,
   "metadata": {},
   "outputs": [
    {
     "name": "stdout",
     "output_type": "stream",
     "text": [
      "Shape: (378661, 15)\n"
     ]
    },
    {
     "data": {
      "text/html": [
       "<div>\n",
       "<style scoped>\n",
       "    .dataframe tbody tr th:only-of-type {\n",
       "        vertical-align: middle;\n",
       "    }\n",
       "\n",
       "    .dataframe tbody tr th {\n",
       "        vertical-align: top;\n",
       "    }\n",
       "\n",
       "    .dataframe thead th {\n",
       "        text-align: right;\n",
       "    }\n",
       "</style>\n",
       "<table border=\"1\" class=\"dataframe\">\n",
       "  <thead>\n",
       "    <tr style=\"text-align: right;\">\n",
       "      <th></th>\n",
       "      <th>ID</th>\n",
       "      <th>name</th>\n",
       "      <th>category</th>\n",
       "      <th>main_category</th>\n",
       "      <th>currency</th>\n",
       "      <th>deadline</th>\n",
       "      <th>goal</th>\n",
       "      <th>launched</th>\n",
       "      <th>pledged</th>\n",
       "      <th>state</th>\n",
       "      <th>backers</th>\n",
       "      <th>country</th>\n",
       "      <th>usd pledged</th>\n",
       "      <th>usd_pledged_real</th>\n",
       "      <th>usd_goal_real</th>\n",
       "    </tr>\n",
       "  </thead>\n",
       "  <tbody>\n",
       "    <tr>\n",
       "      <th>0</th>\n",
       "      <td>1000002330</td>\n",
       "      <td>The Songs of Adelaide &amp; Abullah</td>\n",
       "      <td>Poetry</td>\n",
       "      <td>Publishing</td>\n",
       "      <td>GBP</td>\n",
       "      <td>2015-10-09</td>\n",
       "      <td>1000.0</td>\n",
       "      <td>2015-08-11 12:12:28</td>\n",
       "      <td>0.0</td>\n",
       "      <td>failed</td>\n",
       "      <td>0</td>\n",
       "      <td>GB</td>\n",
       "      <td>0.0</td>\n",
       "      <td>0.0</td>\n",
       "      <td>1533.95</td>\n",
       "    </tr>\n",
       "    <tr>\n",
       "      <th>1</th>\n",
       "      <td>1000003930</td>\n",
       "      <td>Greeting From Earth: ZGAC Arts Capsule For ET</td>\n",
       "      <td>Narrative Film</td>\n",
       "      <td>Film &amp; Video</td>\n",
       "      <td>USD</td>\n",
       "      <td>2017-11-01</td>\n",
       "      <td>30000.0</td>\n",
       "      <td>2017-09-02 04:43:57</td>\n",
       "      <td>2421.0</td>\n",
       "      <td>failed</td>\n",
       "      <td>15</td>\n",
       "      <td>US</td>\n",
       "      <td>100.0</td>\n",
       "      <td>2421.0</td>\n",
       "      <td>30000.00</td>\n",
       "    </tr>\n",
       "    <tr>\n",
       "      <th>2</th>\n",
       "      <td>1000004038</td>\n",
       "      <td>Where is Hank?</td>\n",
       "      <td>Narrative Film</td>\n",
       "      <td>Film &amp; Video</td>\n",
       "      <td>USD</td>\n",
       "      <td>2013-02-26</td>\n",
       "      <td>45000.0</td>\n",
       "      <td>2013-01-12 00:20:50</td>\n",
       "      <td>220.0</td>\n",
       "      <td>failed</td>\n",
       "      <td>3</td>\n",
       "      <td>US</td>\n",
       "      <td>220.0</td>\n",
       "      <td>220.0</td>\n",
       "      <td>45000.00</td>\n",
       "    </tr>\n",
       "    <tr>\n",
       "      <th>3</th>\n",
       "      <td>1000007540</td>\n",
       "      <td>ToshiCapital Rekordz Needs Help to Complete Album</td>\n",
       "      <td>Music</td>\n",
       "      <td>Music</td>\n",
       "      <td>USD</td>\n",
       "      <td>2012-04-16</td>\n",
       "      <td>5000.0</td>\n",
       "      <td>2012-03-17 03:24:11</td>\n",
       "      <td>1.0</td>\n",
       "      <td>failed</td>\n",
       "      <td>1</td>\n",
       "      <td>US</td>\n",
       "      <td>1.0</td>\n",
       "      <td>1.0</td>\n",
       "      <td>5000.00</td>\n",
       "    </tr>\n",
       "    <tr>\n",
       "      <th>4</th>\n",
       "      <td>1000011046</td>\n",
       "      <td>Community Film Project: The Art of Neighborhoo...</td>\n",
       "      <td>Film &amp; Video</td>\n",
       "      <td>Film &amp; Video</td>\n",
       "      <td>USD</td>\n",
       "      <td>2015-08-29</td>\n",
       "      <td>19500.0</td>\n",
       "      <td>2015-07-04 08:35:03</td>\n",
       "      <td>1283.0</td>\n",
       "      <td>canceled</td>\n",
       "      <td>14</td>\n",
       "      <td>US</td>\n",
       "      <td>1283.0</td>\n",
       "      <td>1283.0</td>\n",
       "      <td>19500.00</td>\n",
       "    </tr>\n",
       "  </tbody>\n",
       "</table>\n",
       "</div>"
      ],
      "text/plain": [
       "           ID                                               name  \\\n",
       "0  1000002330                    The Songs of Adelaide & Abullah   \n",
       "1  1000003930      Greeting From Earth: ZGAC Arts Capsule For ET   \n",
       "2  1000004038                                     Where is Hank?   \n",
       "3  1000007540  ToshiCapital Rekordz Needs Help to Complete Album   \n",
       "4  1000011046  Community Film Project: The Art of Neighborhoo...   \n",
       "\n",
       "         category main_category currency    deadline     goal  \\\n",
       "0          Poetry    Publishing      GBP  2015-10-09   1000.0   \n",
       "1  Narrative Film  Film & Video      USD  2017-11-01  30000.0   \n",
       "2  Narrative Film  Film & Video      USD  2013-02-26  45000.0   \n",
       "3           Music         Music      USD  2012-04-16   5000.0   \n",
       "4    Film & Video  Film & Video      USD  2015-08-29  19500.0   \n",
       "\n",
       "              launched  pledged     state  backers country  usd pledged  \\\n",
       "0  2015-08-11 12:12:28      0.0    failed        0      GB          0.0   \n",
       "1  2017-09-02 04:43:57   2421.0    failed       15      US        100.0   \n",
       "2  2013-01-12 00:20:50    220.0    failed        3      US        220.0   \n",
       "3  2012-03-17 03:24:11      1.0    failed        1      US          1.0   \n",
       "4  2015-07-04 08:35:03   1283.0  canceled       14      US       1283.0   \n",
       "\n",
       "   usd_pledged_real  usd_goal_real  \n",
       "0               0.0        1533.95  \n",
       "1            2421.0       30000.00  \n",
       "2             220.0       45000.00  \n",
       "3               1.0        5000.00  \n",
       "4            1283.0       19500.00  "
      ]
     },
     "execution_count": 3,
     "metadata": {},
     "output_type": "execute_result"
    }
   ],
   "source": [
    "# データの読み込み\n",
    "df = pd.read_csv('./data/ks-projects-201801.csv')\n",
    "print('Shape:', df.shape)\n",
    "df.head()"
   ]
  },
  {
   "cell_type": "code",
   "execution_count": 4,
   "metadata": {},
   "outputs": [
    {
     "data": {
      "text/html": [
       "<div>\n",
       "<style scoped>\n",
       "    .dataframe tbody tr th:only-of-type {\n",
       "        vertical-align: middle;\n",
       "    }\n",
       "\n",
       "    .dataframe tbody tr th {\n",
       "        vertical-align: top;\n",
       "    }\n",
       "\n",
       "    .dataframe thead th {\n",
       "        text-align: right;\n",
       "    }\n",
       "</style>\n",
       "<table border=\"1\" class=\"dataframe\">\n",
       "  <thead>\n",
       "    <tr style=\"text-align: right;\">\n",
       "      <th></th>\n",
       "      <th>name</th>\n",
       "      <th>category</th>\n",
       "      <th>main_category</th>\n",
       "      <th>currency</th>\n",
       "      <th>deadline</th>\n",
       "      <th>goal</th>\n",
       "      <th>launched</th>\n",
       "      <th>pledged</th>\n",
       "      <th>state</th>\n",
       "      <th>backers</th>\n",
       "      <th>country</th>\n",
       "      <th>usd pledged</th>\n",
       "      <th>usd_pledged_real</th>\n",
       "      <th>usd_goal_real</th>\n",
       "    </tr>\n",
       "  </thead>\n",
       "  <tbody>\n",
       "    <tr>\n",
       "      <th>0</th>\n",
       "      <td>The Songs of Adelaide &amp; Abullah</td>\n",
       "      <td>Poetry</td>\n",
       "      <td>Publishing</td>\n",
       "      <td>GBP</td>\n",
       "      <td>2015-10-09</td>\n",
       "      <td>1000.0</td>\n",
       "      <td>2015-08-11 12:12:28</td>\n",
       "      <td>0.0</td>\n",
       "      <td>failed</td>\n",
       "      <td>0</td>\n",
       "      <td>GB</td>\n",
       "      <td>0.0</td>\n",
       "      <td>0.0</td>\n",
       "      <td>1533.95</td>\n",
       "    </tr>\n",
       "    <tr>\n",
       "      <th>1</th>\n",
       "      <td>Greeting From Earth: ZGAC Arts Capsule For ET</td>\n",
       "      <td>Narrative Film</td>\n",
       "      <td>Film &amp; Video</td>\n",
       "      <td>USD</td>\n",
       "      <td>2017-11-01</td>\n",
       "      <td>30000.0</td>\n",
       "      <td>2017-09-02 04:43:57</td>\n",
       "      <td>2421.0</td>\n",
       "      <td>failed</td>\n",
       "      <td>15</td>\n",
       "      <td>US</td>\n",
       "      <td>100.0</td>\n",
       "      <td>2421.0</td>\n",
       "      <td>30000.00</td>\n",
       "    </tr>\n",
       "    <tr>\n",
       "      <th>2</th>\n",
       "      <td>Where is Hank?</td>\n",
       "      <td>Narrative Film</td>\n",
       "      <td>Film &amp; Video</td>\n",
       "      <td>USD</td>\n",
       "      <td>2013-02-26</td>\n",
       "      <td>45000.0</td>\n",
       "      <td>2013-01-12 00:20:50</td>\n",
       "      <td>220.0</td>\n",
       "      <td>failed</td>\n",
       "      <td>3</td>\n",
       "      <td>US</td>\n",
       "      <td>220.0</td>\n",
       "      <td>220.0</td>\n",
       "      <td>45000.00</td>\n",
       "    </tr>\n",
       "    <tr>\n",
       "      <th>3</th>\n",
       "      <td>ToshiCapital Rekordz Needs Help to Complete Album</td>\n",
       "      <td>Music</td>\n",
       "      <td>Music</td>\n",
       "      <td>USD</td>\n",
       "      <td>2012-04-16</td>\n",
       "      <td>5000.0</td>\n",
       "      <td>2012-03-17 03:24:11</td>\n",
       "      <td>1.0</td>\n",
       "      <td>failed</td>\n",
       "      <td>1</td>\n",
       "      <td>US</td>\n",
       "      <td>1.0</td>\n",
       "      <td>1.0</td>\n",
       "      <td>5000.00</td>\n",
       "    </tr>\n",
       "    <tr>\n",
       "      <th>4</th>\n",
       "      <td>Community Film Project: The Art of Neighborhoo...</td>\n",
       "      <td>Film &amp; Video</td>\n",
       "      <td>Film &amp; Video</td>\n",
       "      <td>USD</td>\n",
       "      <td>2015-08-29</td>\n",
       "      <td>19500.0</td>\n",
       "      <td>2015-07-04 08:35:03</td>\n",
       "      <td>1283.0</td>\n",
       "      <td>canceled</td>\n",
       "      <td>14</td>\n",
       "      <td>US</td>\n",
       "      <td>1283.0</td>\n",
       "      <td>1283.0</td>\n",
       "      <td>19500.00</td>\n",
       "    </tr>\n",
       "  </tbody>\n",
       "</table>\n",
       "</div>"
      ],
      "text/plain": [
       "                                                name        category  \\\n",
       "0                    The Songs of Adelaide & Abullah          Poetry   \n",
       "1      Greeting From Earth: ZGAC Arts Capsule For ET  Narrative Film   \n",
       "2                                     Where is Hank?  Narrative Film   \n",
       "3  ToshiCapital Rekordz Needs Help to Complete Album           Music   \n",
       "4  Community Film Project: The Art of Neighborhoo...    Film & Video   \n",
       "\n",
       "  main_category currency    deadline     goal             launched  pledged  \\\n",
       "0    Publishing      GBP  2015-10-09   1000.0  2015-08-11 12:12:28      0.0   \n",
       "1  Film & Video      USD  2017-11-01  30000.0  2017-09-02 04:43:57   2421.0   \n",
       "2  Film & Video      USD  2013-02-26  45000.0  2013-01-12 00:20:50    220.0   \n",
       "3         Music      USD  2012-04-16   5000.0  2012-03-17 03:24:11      1.0   \n",
       "4  Film & Video      USD  2015-08-29  19500.0  2015-07-04 08:35:03   1283.0   \n",
       "\n",
       "      state  backers country  usd pledged  usd_pledged_real  usd_goal_real  \n",
       "0    failed        0      GB          0.0               0.0        1533.95  \n",
       "1    failed       15      US        100.0            2421.0       30000.00  \n",
       "2    failed        3      US        220.0             220.0       45000.00  \n",
       "3    failed        1      US          1.0               1.0        5000.00  \n",
       "4  canceled       14      US       1283.0            1283.0       19500.00  "
      ]
     },
     "execution_count": 4,
     "metadata": {},
     "output_type": "execute_result"
    }
   ],
   "source": [
    "# IDを除く\n",
    "df = df.drop('ID', axis=1)\n",
    "df.head()"
   ]
  },
  {
   "cell_type": "markdown",
   "metadata": {},
   "source": [
    "# 目的変数の準備"
   ]
  },
  {
   "cell_type": "code",
   "execution_count": 5,
   "metadata": {},
   "outputs": [
    {
     "data": {
      "text/plain": [
       "failed        197719\n",
       "successful    133956\n",
       "canceled       38779\n",
       "undefined       3562\n",
       "live            2799\n",
       "suspended       1846\n",
       "Name: state, dtype: int64"
      ]
     },
     "metadata": {},
     "output_type": "display_data"
    },
    {
     "data": {
      "text/plain": [
       "<matplotlib.axes._subplots.AxesSubplot at 0x10db82208>"
      ]
     },
     "execution_count": 5,
     "metadata": {},
     "output_type": "execute_result"
    },
    {
     "data": {
      "image/png": "[encoded data removed]",
      "text/plain": [
       "<matplotlib.figure.Figure at 0x1a1862cb38>"
      ]
     },
     "metadata": {},
     "output_type": "display_data"
    }
   ],
   "source": [
    "# stateの可視化\n",
    "display(df.state.value_counts())\n",
    "df.state.value_counts().plot.bar()"
   ]
  },
  {
   "cell_type": "code",
   "execution_count": 6,
   "metadata": {},
   "outputs": [
    {
     "data": {
      "text/plain": [
       "0    False\n",
       "1    False\n",
       "2    False\n",
       "3    False\n",
       "4    False\n",
       "Name: state, dtype: bool"
      ]
     },
     "metadata": {},
     "output_type": "display_data"
    },
    {
     "data": {
      "text/plain": [
       "<matplotlib.axes._subplots.AxesSubplot at 0x10db82160>"
      ]
     },
     "execution_count": 6,
     "metadata": {},
     "output_type": "execute_result"
    },
    {
     "data": {
      "image/png": "[encoded data removed]",
      "text/plain": [
       "<matplotlib.figure.Figure at 0x107a217b8>"
      ]
     },
     "metadata": {},
     "output_type": "display_data"
    }
   ],
   "source": [
    "y_bool = df.state == 'successful'\n",
    "display(y_bool.head())\n",
    "y_bool.value_counts().plot.bar()"
   ]
  },
  {
   "cell_type": "markdown",
   "metadata": {},
   "source": [
    "# 説明変数の準備"
   ]
  },
  {
   "cell_type": "code",
   "execution_count": 7,
   "metadata": {},
   "outputs": [
    {
     "data": {
      "text/plain": [
       "0     1000.0\n",
       "1    30000.0\n",
       "2    45000.0\n",
       "3     5000.0\n",
       "4    19500.0\n",
       "Name: goal, dtype: float64"
      ]
     },
     "execution_count": 7,
     "metadata": {},
     "output_type": "execute_result"
    }
   ],
   "source": [
    "# 数字以外の抽出, nameはドロップ\n",
    "x_obj_df = df.select_dtypes(include=['O']).drop(['name', 'state'], axis=1)\n",
    "# 数字の抽出, 事前には知り得ない情報はドロップ\n",
    "x_num_df = df.goal\n",
    "x_num_df.head()"
   ]
  },
  {
   "cell_type": "code",
   "execution_count": 8,
   "metadata": {},
   "outputs": [
    {
     "data": {
      "text/html": [
       "<div>\n",
       "<style scoped>\n",
       "    .dataframe tbody tr th:only-of-type {\n",
       "        vertical-align: middle;\n",
       "    }\n",
       "\n",
       "    .dataframe tbody tr th {\n",
       "        vertical-align: top;\n",
       "    }\n",
       "\n",
       "    .dataframe thead th {\n",
       "        text-align: right;\n",
       "    }\n",
       "</style>\n",
       "<table border=\"1\" class=\"dataframe\">\n",
       "  <thead>\n",
       "    <tr style=\"text-align: right;\">\n",
       "      <th></th>\n",
       "      <th>category</th>\n",
       "      <th>main_category</th>\n",
       "      <th>currency</th>\n",
       "      <th>deadline</th>\n",
       "      <th>launched</th>\n",
       "      <th>country</th>\n",
       "      <th>goal</th>\n",
       "    </tr>\n",
       "  </thead>\n",
       "  <tbody>\n",
       "    <tr>\n",
       "      <th>0</th>\n",
       "      <td>Poetry</td>\n",
       "      <td>Publishing</td>\n",
       "      <td>GBP</td>\n",
       "      <td>2015-10-09</td>\n",
       "      <td>2015-08-11 12:12:28</td>\n",
       "      <td>GB</td>\n",
       "      <td>1000.0</td>\n",
       "    </tr>\n",
       "    <tr>\n",
       "      <th>1</th>\n",
       "      <td>Narrative Film</td>\n",
       "      <td>Film &amp; Video</td>\n",
       "      <td>USD</td>\n",
       "      <td>2017-11-01</td>\n",
       "      <td>2017-09-02 04:43:57</td>\n",
       "      <td>US</td>\n",
       "      <td>30000.0</td>\n",
       "    </tr>\n",
       "    <tr>\n",
       "      <th>2</th>\n",
       "      <td>Narrative Film</td>\n",
       "      <td>Film &amp; Video</td>\n",
       "      <td>USD</td>\n",
       "      <td>2013-02-26</td>\n",
       "      <td>2013-01-12 00:20:50</td>\n",
       "      <td>US</td>\n",
       "      <td>45000.0</td>\n",
       "    </tr>\n",
       "    <tr>\n",
       "      <th>3</th>\n",
       "      <td>Music</td>\n",
       "      <td>Music</td>\n",
       "      <td>USD</td>\n",
       "      <td>2012-04-16</td>\n",
       "      <td>2012-03-17 03:24:11</td>\n",
       "      <td>US</td>\n",
       "      <td>5000.0</td>\n",
       "    </tr>\n",
       "    <tr>\n",
       "      <th>4</th>\n",
       "      <td>Film &amp; Video</td>\n",
       "      <td>Film &amp; Video</td>\n",
       "      <td>USD</td>\n",
       "      <td>2015-08-29</td>\n",
       "      <td>2015-07-04 08:35:03</td>\n",
       "      <td>US</td>\n",
       "      <td>19500.0</td>\n",
       "    </tr>\n",
       "  </tbody>\n",
       "</table>\n",
       "</div>"
      ],
      "text/plain": [
       "         category main_category currency    deadline             launched  \\\n",
       "0          Poetry    Publishing      GBP  2015-10-09  2015-08-11 12:12:28   \n",
       "1  Narrative Film  Film & Video      USD  2017-11-01  2017-09-02 04:43:57   \n",
       "2  Narrative Film  Film & Video      USD  2013-02-26  2013-01-12 00:20:50   \n",
       "3           Music         Music      USD  2012-04-16  2012-03-17 03:24:11   \n",
       "4    Film & Video  Film & Video      USD  2015-08-29  2015-07-04 08:35:03   \n",
       "\n",
       "  country     goal  \n",
       "0      GB   1000.0  \n",
       "1      US  30000.0  \n",
       "2      US  45000.0  \n",
       "3      US   5000.0  \n",
       "4      US  19500.0  "
      ]
     },
     "execution_count": 8,
     "metadata": {},
     "output_type": "execute_result"
    }
   ],
   "source": [
    "# 説明変数の結合\n",
    "x_df = pd.concat([x_obj_df, x_num_df], axis=1)\n",
    "x_df.head()"
   ]
  },
  {
   "cell_type": "markdown",
   "metadata": {},
   "source": [
    "# 方針\n",
    "- 日付は差分を取って数値データに\n",
    "- カテゴリカル変数はデータ数の少ないものはothersにまとめて数値化\n",
    "- その後one-hotベクトルに"
   ]
  },
  {
   "cell_type": "markdown",
   "metadata": {},
   "source": [
    "### 日付データ"
   ]
  },
  {
   "cell_type": "code",
   "execution_count": 9,
   "metadata": {},
   "outputs": [
    {
     "data": {
      "text/html": [
       "<div>\n",
       "<style scoped>\n",
       "    .dataframe tbody tr th:only-of-type {\n",
       "        vertical-align: middle;\n",
       "    }\n",
       "\n",
       "    .dataframe tbody tr th {\n",
       "        vertical-align: top;\n",
       "    }\n",
       "\n",
       "    .dataframe thead th {\n",
       "        text-align: right;\n",
       "    }\n",
       "</style>\n",
       "<table border=\"1\" class=\"dataframe\">\n",
       "  <thead>\n",
       "    <tr style=\"text-align: right;\">\n",
       "      <th></th>\n",
       "      <th>deadline</th>\n",
       "      <th>launched</th>\n",
       "    </tr>\n",
       "  </thead>\n",
       "  <tbody>\n",
       "    <tr>\n",
       "      <th>0</th>\n",
       "      <td>2015-10-09</td>\n",
       "      <td>2015-08-11 12:12:28</td>\n",
       "    </tr>\n",
       "    <tr>\n",
       "      <th>1</th>\n",
       "      <td>2017-11-01</td>\n",
       "      <td>2017-09-02 04:43:57</td>\n",
       "    </tr>\n",
       "    <tr>\n",
       "      <th>2</th>\n",
       "      <td>2013-02-26</td>\n",
       "      <td>2013-01-12 00:20:50</td>\n",
       "    </tr>\n",
       "    <tr>\n",
       "      <th>3</th>\n",
       "      <td>2012-04-16</td>\n",
       "      <td>2012-03-17 03:24:11</td>\n",
       "    </tr>\n",
       "    <tr>\n",
       "      <th>4</th>\n",
       "      <td>2015-08-29</td>\n",
       "      <td>2015-07-04 08:35:03</td>\n",
       "    </tr>\n",
       "  </tbody>\n",
       "</table>\n",
       "</div>"
      ],
      "text/plain": [
       "    deadline            launched\n",
       "0 2015-10-09 2015-08-11 12:12:28\n",
       "1 2017-11-01 2017-09-02 04:43:57\n",
       "2 2013-02-26 2013-01-12 00:20:50\n",
       "3 2012-04-16 2012-03-17 03:24:11\n",
       "4 2015-08-29 2015-07-04 08:35:03"
      ]
     },
     "execution_count": 9,
     "metadata": {},
     "output_type": "execute_result"
    }
   ],
   "source": [
    "# 日付データに変更\n",
    "df_date = pd.DataFrame()\n",
    "for name in ['deadline', 'launched']:\n",
    "    df_date[name] = pd.to_datetime(x_df[name])\n",
    "df_date.head()"
   ]
  },
  {
   "cell_type": "code",
   "execution_count": 10,
   "metadata": {},
   "outputs": [
    {
     "data": {
      "text/plain": [
       "0   58 days 11:47:32\n",
       "1   59 days 19:16:03\n",
       "2   44 days 23:39:10\n",
       "3   29 days 20:35:49\n",
       "4   55 days 15:24:57\n",
       "Name: days, dtype: timedelta64[ns]"
      ]
     },
     "execution_count": 10,
     "metadata": {},
     "output_type": "execute_result"
    }
   ],
   "source": [
    "# 日付の差分を取る\n",
    "df_days = df_date['deadline'] - df_date['launched']\n",
    "df_days.name = 'days'\n",
    "df_days.head()"
   ]
  },
  {
   "cell_type": "code",
   "execution_count": 11,
   "metadata": {},
   "outputs": [
    {
     "data": {
      "text/plain": [
       "0    58.0\n",
       "1    59.0\n",
       "2    44.0\n",
       "3    29.0\n",
       "4    55.0\n",
       "Name: days, dtype: float64"
      ]
     },
     "execution_count": 11,
     "metadata": {},
     "output_type": "execute_result"
    }
   ],
   "source": [
    "# 日数に変更\n",
    "df_days = df_days.astype('timedelta64[D]')\n",
    "df_days.head()"
   ]
  },
  {
   "cell_type": "markdown",
   "metadata": {},
   "source": [
    "### カテゴリカルデータ\n",
    "- まずはそれぞれをプロット<br>\n",
    "category, main_category, currency, country"
   ]
  },
  {
   "cell_type": "code",
   "execution_count": 12,
   "metadata": {},
   "outputs": [
    {
     "data": {
      "text/plain": [
       "Product Design       22314\n",
       "Documentary          16139\n",
       "Music                15727\n",
       "Tabletop Games       14180\n",
       "Shorts               12357\n",
       "Video Games          11830\n",
       "Food                 11493\n",
       "Film & Video         10108\n",
       "Fiction               9169\n",
       "Fashion               8554\n",
       "Nonfiction            8318\n",
       "Art                   8253\n",
       "Apparel               7166\n",
       "Theater               7057\n",
       "Technology            6930\n",
       "Rock                  6758\n",
       "Children's Books      6756\n",
       "Apps                  6345\n",
       "Publishing            6018\n",
       "Webseries             5762\n",
       "Photography           5752\n",
       "Indie Rock            5657\n",
       "Narrative Film        5188\n",
       "Web                   5153\n",
       "Comics                4996\n",
       "Crafts                4664\n",
       "Country & Folk        4451\n",
       "Design                4199\n",
       "Hip-Hop               3912\n",
       "Hardware              3663\n",
       "                     ...  \n",
       "Couture                275\n",
       "Blues                  268\n",
       "Animals                255\n",
       "Fabrication Tools      250\n",
       "Makerspaces            238\n",
       "Printing               238\n",
       "Movie Theaters         232\n",
       "Puzzles                231\n",
       "Bacon                  221\n",
       "Stationery             219\n",
       "Photo                  196\n",
       "Video Art              194\n",
       "Romance                190\n",
       "Knitting               181\n",
       "Workshops              164\n",
       "Crochet                162\n",
       "Translations           153\n",
       "Pet Fashion            139\n",
       "Glass                  138\n",
       "Latin                  137\n",
       "Embroidery             113\n",
       "Typography             108\n",
       "Pottery                100\n",
       "Weaving                 93\n",
       "Quilts                  81\n",
       "Residencies             69\n",
       "Letterpress             49\n",
       "Chiptune                35\n",
       "Literary Spaces         27\n",
       "Taxidermy               13\n",
       "Name: category, Length: 159, dtype: int64"
      ]
     },
     "metadata": {},
     "output_type": "display_data"
    },
    {
     "data": {
      "text/plain": [
       "100"
      ]
     },
     "metadata": {},
     "output_type": "display_data"
    },
    {
     "data": {
      "text/plain": [
       "<matplotlib.axes._subplots.AxesSubplot at 0x10ffe9c88>"
      ]
     },
     "execution_count": 12,
     "metadata": {},
     "output_type": "execute_result"
    },
    {
     "data": {
      "image/png": "[encoded data removed]",
      "text/plain": [
       "<matplotlib.figure.Figure at 0x10ffd2cf8>"
      ]
     },
     "metadata": {},
     "output_type": "display_data"
    }
   ],
   "source": [
    "# category\n",
    "display(x_df.category.value_counts())\n",
    "display(x_df.category.value_counts()[151])\n",
    "x_df.category.value_counts().plot.bar()"
   ]
  },
  {
   "cell_type": "code",
   "execution_count": 13,
   "metadata": {},
   "outputs": [],
   "source": [
    "# 正規表現のシグマの値でしきい値を決める\n",
    "# x_df.category.value_counts()"
   ]
  },
  {
   "cell_type": "code",
   "execution_count": 14,
   "metadata": {},
   "outputs": [
    {
     "data": {
      "text/plain": [
       "95"
      ]
     },
     "metadata": {},
     "output_type": "display_data"
    },
    {
     "data": {
      "text/plain": [
       "727"
      ]
     },
     "execution_count": 14,
     "metadata": {},
     "output_type": "execute_result"
    }
   ],
   "source": [
    "one_sigma = 159 * 0.6\n",
    "display(int(one_sigma))\n",
    "x_df.category.value_counts()[int(one_sigma)]"
   ]
  },
  {
   "cell_type": "code",
   "execution_count": 15,
   "metadata": {},
   "outputs": [
    {
     "data": {
      "text/plain": [
       "array(['Poetry', 'Narrative Film', 'Music', 'Film & Video', 'Restaurants',\n",
       "       'Food', 'Drinks', 'Product Design', 'Documentary', 'Nonfiction',\n",
       "       'Indie Rock', 'Crafts', 'Games', 'Tabletop Games', 'Design',\n",
       "       'Comic Books', 'Art Books', 'Fashion', 'others', 'Theater',\n",
       "       'Comics', 'DIY', 'Webseries', 'Animation', 'Food Trucks',\n",
       "       'Public Art', 'Illustration', 'Photography', 'Pop', 'People',\n",
       "       'Art', 'Fiction', 'Accessories', 'Rock', 'Hardware', 'Software',\n",
       "       'Gadgets', 'Web', 'Jazz', 'Ready-to-wear', 'Festivals',\n",
       "       'Video Games', 'Anthologies', 'Publishing', 'Shorts',\n",
       "       'Electronic Music', 'Radio & Podcasts', 'Apps', 'Apparel',\n",
       "       'Comedy', 'Hip-Hop', 'Periodicals', 'Dance', 'Technology',\n",
       "       'Painting', 'World Music', 'Photobooks', 'Drama', 'Architecture',\n",
       "       'Young Adult', 'Mobile Games', 'Fine Art', 'Action',\n",
       "       'Playing Cards', 'Thrillers', \"Children's Books\",\n",
       "       'Performance Art', 'Graphic Novels', 'Performances', 'Sculpture',\n",
       "       'Events', 'Classical Music', 'Graphic Design', 'Spaces',\n",
       "       'Country & Folk', 'Wearables', 'Mixed Media', 'Journalism',\n",
       "       'Digital Art', 'Horror', 'Small Batch', 'DIY Electronics',\n",
       "       'Jewelry', 'Farms', 'Conceptual Art', 'Experimental',\n",
       "       'Science Fiction', 'Plays', 'Faith', 'Live Games', 'Woodworking',\n",
       "       'Places', 'Footwear', 'Academic', 'Musical', 'Television'],\n",
       "      dtype=object)"
      ]
     },
     "metadata": {},
     "output_type": "display_data"
    },
    {
     "data": {
      "text/plain": [
       "(96,)"
      ]
     },
     "metadata": {},
     "output_type": "display_data"
    },
    {
     "data": {
      "text/plain": [
       "<matplotlib.axes._subplots.AxesSubplot at 0x10e5b8198>"
      ]
     },
     "execution_count": 15,
     "metadata": {},
     "output_type": "execute_result"
    },
    {
     "data": {
      "image/png": "[encoded data removed]",
      "text/plain": [
       "<matplotlib.figure.Figure at 0x10ff07eb8>"
      ]
     },
     "metadata": {},
     "output_type": "display_data"
    }
   ],
   "source": [
    "# しきい値より低い値を'others'にまとめる\n",
    "cate_thread = x_df.category.value_counts()[int(one_sigma)] # = 2シグマ区間の151番目より小さい値をothersにまとめる\n",
    "cate_dict = x_df.category.value_counts().to_dict()\n",
    "cate_df = x_df.category.apply(lambda x: x if cate_dict[x] > cate_thread else 'others')\n",
    "display(cate_df.unique())\n",
    "display(cate_df.unique().shape)\n",
    "cate_df.value_counts().plot.bar()"
   ]
  },
  {
   "cell_type": "code",
   "execution_count": 16,
   "metadata": {},
   "outputs": [
    {
     "data": {
      "text/plain": [
       "Film & Video    63585\n",
       "Music           51918\n",
       "Publishing      39874\n",
       "Games           35231\n",
       "Technology      32569\n",
       "Design          30070\n",
       "Art             28153\n",
       "Food            24602\n",
       "Fashion         22816\n",
       "Theater         10913\n",
       "Comics          10819\n",
       "Photography     10779\n",
       "Crafts           8809\n",
       "Journalism       4755\n",
       "Dance            3768\n",
       "Name: main_category, dtype: int64"
      ]
     },
     "metadata": {},
     "output_type": "display_data"
    },
    {
     "data": {
      "text/plain": [
       "<matplotlib.axes._subplots.AxesSubplot at 0x10e72eac8>"
      ]
     },
     "execution_count": 16,
     "metadata": {},
     "output_type": "execute_result"
    },
    {
     "data": {
      "image/png": "[encoded data removed]",
      "text/plain": [
       "<matplotlib.figure.Figure at 0x10ff56940>"
      ]
     },
     "metadata": {},
     "output_type": "display_data"
    }
   ],
   "source": [
    "# main category\n",
    "display(x_df.main_category.value_counts())\n",
    "x_df.main_category.value_counts().plot.bar()"
   ]
  },
  {
   "cell_type": "code",
   "execution_count": 17,
   "metadata": {},
   "outputs": [
    {
     "data": {
      "text/plain": [
       "array(['Publishing', 'Film & Video', 'Music', 'Food', 'Design', 'others',\n",
       "       'Games', 'Fashion', 'Art', 'Technology'], dtype=object)"
      ]
     },
     "metadata": {},
     "output_type": "display_data"
    },
    {
     "data": {
      "text/plain": [
       "<matplotlib.axes._subplots.AxesSubplot at 0x10f067588>"
      ]
     },
     "execution_count": 17,
     "metadata": {},
     "output_type": "execute_result"
    },
    {
     "data": {
      "image/png": "[encoded data removed]",
      "text/plain": [
       "<matplotlib.figure.Figure at 0x10ee9f518>"
      ]
     },
     "metadata": {},
     "output_type": "display_data"
    }
   ],
   "source": [
    "# しきい値より低い値を'others'にまとめる\n",
    "main_cate_thread = 15000\n",
    "main_cate_dict = x_df.main_category.value_counts().to_dict()\n",
    "main_cate_df = x_df.main_category.apply(lambda x: x if main_cate_dict[x] > main_cate_thread else 'others')\n",
    "display(main_cate_df.unique())\n",
    "main_cate_df.value_counts().plot.bar()"
   ]
  },
  {
   "cell_type": "code",
   "execution_count": 18,
   "metadata": {},
   "outputs": [
    {
     "data": {
      "text/plain": [
       "USD    295365\n",
       "GBP     34132\n",
       "EUR     17405\n",
       "CAD     14962\n",
       "AUD      7950\n",
       "SEK      1788\n",
       "MXN      1752\n",
       "NZD      1475\n",
       "DKK      1129\n",
       "CHF       768\n",
       "NOK       722\n",
       "HKD       618\n",
       "SGD       555\n",
       "JPY        40\n",
       "Name: currency, dtype: int64"
      ]
     },
     "metadata": {},
     "output_type": "display_data"
    },
    {
     "data": {
      "text/plain": [
       "<matplotlib.axes._subplots.AxesSubplot at 0x10f0c8588>"
      ]
     },
     "execution_count": 18,
     "metadata": {},
     "output_type": "execute_result"
    },
    {
     "data": {
      "image/png": "[encoded data removed]",
      "text/plain": [
       "<matplotlib.figure.Figure at 0x10f36b358>"
      ]
     },
     "metadata": {},
     "output_type": "display_data"
    }
   ],
   "source": [
    "# currency\n",
    "display(x_df.currency.value_counts())\n",
    "x_df.currency.value_counts().plot.bar()"
   ]
  },
  {
   "cell_type": "code",
   "execution_count": 19,
   "metadata": {},
   "outputs": [
    {
     "data": {
      "text/plain": [
       "array(['GBP', 'USD', 'CAD', 'AUD', 'others', 'EUR'], dtype=object)"
      ]
     },
     "metadata": {},
     "output_type": "display_data"
    },
    {
     "data": {
      "text/plain": [
       "<matplotlib.axes._subplots.AxesSubplot at 0x10f3a2be0>"
      ]
     },
     "execution_count": 19,
     "metadata": {},
     "output_type": "execute_result"
    },
    {
     "data": {
      "image/png": "[encoded data removed]",
      "text/plain": [
       "<matplotlib.figure.Figure at 0x10e2d8828>"
      ]
     },
     "metadata": {},
     "output_type": "display_data"
    }
   ],
   "source": [
    "# しきい値より低い値を'others'にまとめる\n",
    "currency_thread = 7000 # AUD以下\n",
    "currency_dict = x_df.currency.value_counts().to_dict()\n",
    "currency_df = x_df.currency.apply(lambda x: x if currency_dict[x] > currency_thread else 'others')\n",
    "display(currency_df.unique())\n",
    "currency_df.value_counts().plot.bar()"
   ]
  },
  {
   "cell_type": "code",
   "execution_count": 20,
   "metadata": {},
   "outputs": [
    {
     "data": {
      "text/plain": [
       "US      292627\n",
       "GB       33672\n",
       "CA       14756\n",
       "AU        7839\n",
       "DE        4171\n",
       "N,0\"      3797\n",
       "FR        2939\n",
       "IT        2878\n",
       "NL        2868\n",
       "ES        2276\n",
       "SE        1757\n",
       "MX        1752\n",
       "NZ        1447\n",
       "DK        1113\n",
       "IE         811\n",
       "CH         761\n",
       "NO         708\n",
       "HK         618\n",
       "BE         617\n",
       "AT         597\n",
       "SG         555\n",
       "LU          62\n",
       "JP          40\n",
       "Name: country, dtype: int64"
      ]
     },
     "metadata": {},
     "output_type": "display_data"
    },
    {
     "data": {
      "text/plain": [
       "<matplotlib.axes._subplots.AxesSubplot at 0x10f6e7128>"
      ]
     },
     "execution_count": 20,
     "metadata": {},
     "output_type": "execute_result"
    },
    {
     "data": {
      "image/png": "[encoded data removed]",
      "text/plain": [
       "<matplotlib.figure.Figure at 0x10f39d9e8>"
      ]
     },
     "metadata": {},
     "output_type": "display_data"
    }
   ],
   "source": [
    "# country\n",
    "display(x_df.country.value_counts())\n",
    "x_df.country.value_counts().plot.bar()"
   ]
  },
  {
   "cell_type": "code",
   "execution_count": 21,
   "metadata": {},
   "outputs": [
    {
     "data": {
      "text/plain": [
       "array(['GB', 'US', 'CA', 'AU', 'others'], dtype=object)"
      ]
     },
     "metadata": {},
     "output_type": "display_data"
    },
    {
     "data": {
      "text/plain": [
       "<matplotlib.axes._subplots.AxesSubplot at 0x10f712470>"
      ]
     },
     "execution_count": 21,
     "metadata": {},
     "output_type": "execute_result"
    },
    {
     "data": {
      "image/png": "[encoded data removed]",
      "text/plain": [
       "<matplotlib.figure.Figure at 0x10fa39828>"
      ]
     },
     "metadata": {},
     "output_type": "display_data"
    }
   ],
   "source": [
    "# しきい値より低い値を'others'にまとめる\n",
    "country_thread = 7000 # AUD以下\n",
    "country_dict = x_df.country.value_counts().to_dict()\n",
    "country_df = x_df.country.apply(lambda x: x if country_dict[x] > country_thread else 'others')\n",
    "display(country_df.unique())\n",
    "country_df.value_counts().plot.bar()"
   ]
  },
  {
   "cell_type": "code",
   "execution_count": 22,
   "metadata": {},
   "outputs": [
    {
     "data": {
      "text/html": [
       "<div>\n",
       "<style scoped>\n",
       "    .dataframe tbody tr th:only-of-type {\n",
       "        vertical-align: middle;\n",
       "    }\n",
       "\n",
       "    .dataframe tbody tr th {\n",
       "        vertical-align: top;\n",
       "    }\n",
       "\n",
       "    .dataframe thead th {\n",
       "        text-align: right;\n",
       "    }\n",
       "</style>\n",
       "<table border=\"1\" class=\"dataframe\">\n",
       "  <thead>\n",
       "    <tr style=\"text-align: right;\">\n",
       "      <th></th>\n",
       "      <th>category</th>\n",
       "      <th>main_category</th>\n",
       "      <th>currency</th>\n",
       "      <th>country</th>\n",
       "    </tr>\n",
       "  </thead>\n",
       "  <tbody>\n",
       "    <tr>\n",
       "      <th>0</th>\n",
       "      <td>Poetry</td>\n",
       "      <td>Publishing</td>\n",
       "      <td>GBP</td>\n",
       "      <td>GB</td>\n",
       "    </tr>\n",
       "    <tr>\n",
       "      <th>1</th>\n",
       "      <td>Narrative Film</td>\n",
       "      <td>Film &amp; Video</td>\n",
       "      <td>USD</td>\n",
       "      <td>US</td>\n",
       "    </tr>\n",
       "    <tr>\n",
       "      <th>2</th>\n",
       "      <td>Narrative Film</td>\n",
       "      <td>Film &amp; Video</td>\n",
       "      <td>USD</td>\n",
       "      <td>US</td>\n",
       "    </tr>\n",
       "    <tr>\n",
       "      <th>3</th>\n",
       "      <td>Music</td>\n",
       "      <td>Music</td>\n",
       "      <td>USD</td>\n",
       "      <td>US</td>\n",
       "    </tr>\n",
       "    <tr>\n",
       "      <th>4</th>\n",
       "      <td>Film &amp; Video</td>\n",
       "      <td>Film &amp; Video</td>\n",
       "      <td>USD</td>\n",
       "      <td>US</td>\n",
       "    </tr>\n",
       "  </tbody>\n",
       "</table>\n",
       "</div>"
      ],
      "text/plain": [
       "         category main_category currency country\n",
       "0          Poetry    Publishing      GBP      GB\n",
       "1  Narrative Film  Film & Video      USD      US\n",
       "2  Narrative Film  Film & Video      USD      US\n",
       "3           Music         Music      USD      US\n",
       "4    Film & Video  Film & Video      USD      US"
      ]
     },
     "execution_count": 22,
     "metadata": {},
     "output_type": "execute_result"
    }
   ],
   "source": [
    "# 全部をまとめる <category, main_category, currency, country>\n",
    "x_df_cate_sum = pd.concat([cate_df, main_cate_df, currency_df, country_df], axis=1)\n",
    "x_df_cate_sum.head()"
   ]
  },
  {
   "cell_type": "code",
   "execution_count": 23,
   "metadata": {},
   "outputs": [],
   "source": [
    "# objectをカテゴリカルに変換\n",
    "x_df_cate_num = pd.DataFrame()\n",
    "for column in x_df_cate_sum.columns:\n",
    "    labels, uniques = pd.factorize(x_df_cate_sum[column])\n",
    "    x_df_cate_num[column] = labels"
   ]
  },
  {
   "cell_type": "code",
   "execution_count": 24,
   "metadata": {},
   "outputs": [
    {
     "data": {
      "text/html": [
       "<div>\n",
       "<style scoped>\n",
       "    .dataframe tbody tr th:only-of-type {\n",
       "        vertical-align: middle;\n",
       "    }\n",
       "\n",
       "    .dataframe tbody tr th {\n",
       "        vertical-align: top;\n",
       "    }\n",
       "\n",
       "    .dataframe thead th {\n",
       "        text-align: right;\n",
       "    }\n",
       "</style>\n",
       "<table border=\"1\" class=\"dataframe\">\n",
       "  <thead>\n",
       "    <tr style=\"text-align: right;\">\n",
       "      <th></th>\n",
       "      <th>category</th>\n",
       "      <th>main_category</th>\n",
       "      <th>currency</th>\n",
       "      <th>country</th>\n",
       "    </tr>\n",
       "  </thead>\n",
       "  <tbody>\n",
       "    <tr>\n",
       "      <th>0</th>\n",
       "      <td>0</td>\n",
       "      <td>0</td>\n",
       "      <td>0</td>\n",
       "      <td>0</td>\n",
       "    </tr>\n",
       "    <tr>\n",
       "      <th>1</th>\n",
       "      <td>1</td>\n",
       "      <td>1</td>\n",
       "      <td>1</td>\n",
       "      <td>1</td>\n",
       "    </tr>\n",
       "    <tr>\n",
       "      <th>2</th>\n",
       "      <td>1</td>\n",
       "      <td>1</td>\n",
       "      <td>1</td>\n",
       "      <td>1</td>\n",
       "    </tr>\n",
       "    <tr>\n",
       "      <th>3</th>\n",
       "      <td>2</td>\n",
       "      <td>2</td>\n",
       "      <td>1</td>\n",
       "      <td>1</td>\n",
       "    </tr>\n",
       "    <tr>\n",
       "      <th>4</th>\n",
       "      <td>3</td>\n",
       "      <td>1</td>\n",
       "      <td>1</td>\n",
       "      <td>1</td>\n",
       "    </tr>\n",
       "  </tbody>\n",
       "</table>\n",
       "</div>"
      ],
      "text/plain": [
       "   category  main_category  currency  country\n",
       "0         0              0         0        0\n",
       "1         1              1         1        1\n",
       "2         1              1         1        1\n",
       "3         2              2         1        1\n",
       "4         3              1         1        1"
      ]
     },
     "execution_count": 24,
     "metadata": {},
     "output_type": "execute_result"
    }
   ],
   "source": [
    "x_df_cate_num.head()"
   ]
  },
  {
   "cell_type": "markdown",
   "metadata": {},
   "source": [
    "# 説明変数と目的変数のscatterを表示"
   ]
  },
  {
   "cell_type": "code",
   "execution_count": 25,
   "metadata": {},
   "outputs": [
    {
     "data": {
      "text/plain": [
       "0    0\n",
       "1    0\n",
       "2    0\n",
       "3    0\n",
       "4    0\n",
       "Name: state, dtype: int64"
      ]
     },
     "execution_count": 25,
     "metadata": {},
     "output_type": "execute_result"
    }
   ],
   "source": [
    "# 目的変数を0,1に変換\n",
    "y_df_num = pd.Series(pd.factorize(y_bool)[0], name='state')\n",
    "y_df_num.head()"
   ]
  },
  {
   "cell_type": "code",
   "execution_count": 26,
   "metadata": {},
   "outputs": [
    {
     "data": {
      "text/html": [
       "<div>\n",
       "<style scoped>\n",
       "    .dataframe tbody tr th:only-of-type {\n",
       "        vertical-align: middle;\n",
       "    }\n",
       "\n",
       "    .dataframe tbody tr th {\n",
       "        vertical-align: top;\n",
       "    }\n",
       "\n",
       "    .dataframe thead th {\n",
       "        text-align: right;\n",
       "    }\n",
       "</style>\n",
       "<table border=\"1\" class=\"dataframe\">\n",
       "  <thead>\n",
       "    <tr style=\"text-align: right;\">\n",
       "      <th></th>\n",
       "      <th>state</th>\n",
       "      <th>category</th>\n",
       "      <th>main_category</th>\n",
       "      <th>currency</th>\n",
       "      <th>country</th>\n",
       "      <th>goal</th>\n",
       "    </tr>\n",
       "  </thead>\n",
       "  <tbody>\n",
       "    <tr>\n",
       "      <th>0</th>\n",
       "      <td>0</td>\n",
       "      <td>0</td>\n",
       "      <td>0</td>\n",
       "      <td>0</td>\n",
       "      <td>0</td>\n",
       "      <td>1000.0</td>\n",
       "    </tr>\n",
       "    <tr>\n",
       "      <th>1</th>\n",
       "      <td>0</td>\n",
       "      <td>1</td>\n",
       "      <td>1</td>\n",
       "      <td>1</td>\n",
       "      <td>1</td>\n",
       "      <td>30000.0</td>\n",
       "    </tr>\n",
       "    <tr>\n",
       "      <th>2</th>\n",
       "      <td>0</td>\n",
       "      <td>1</td>\n",
       "      <td>1</td>\n",
       "      <td>1</td>\n",
       "      <td>1</td>\n",
       "      <td>45000.0</td>\n",
       "    </tr>\n",
       "    <tr>\n",
       "      <th>3</th>\n",
       "      <td>0</td>\n",
       "      <td>2</td>\n",
       "      <td>2</td>\n",
       "      <td>1</td>\n",
       "      <td>1</td>\n",
       "      <td>5000.0</td>\n",
       "    </tr>\n",
       "    <tr>\n",
       "      <th>4</th>\n",
       "      <td>0</td>\n",
       "      <td>3</td>\n",
       "      <td>1</td>\n",
       "      <td>1</td>\n",
       "      <td>1</td>\n",
       "      <td>19500.0</td>\n",
       "    </tr>\n",
       "  </tbody>\n",
       "</table>\n",
       "</div>"
      ],
      "text/plain": [
       "   state  category  main_category  currency  country     goal\n",
       "0      0         0              0         0        0   1000.0\n",
       "1      0         1              1         1        1  30000.0\n",
       "2      0         1              1         1        1  45000.0\n",
       "3      0         2              2         1        1   5000.0\n",
       "4      0         3              1         1        1  19500.0"
      ]
     },
     "execution_count": 26,
     "metadata": {},
     "output_type": "execute_result"
    }
   ],
   "source": [
    "# 結合\n",
    "df_scatter = pd.concat([y_df_num, x_df_cate_num, x_df.goal], axis=1)\n",
    "df_scatter.head()"
   ]
  },
  {
   "cell_type": "code",
   "execution_count": 27,
   "metadata": {},
   "outputs": [
    {
     "data": {
      "image/png": "[encoded data removed]",
      "text/plain": [
       "<matplotlib.figure.Figure at 0x1a15e3b668>"
      ]
     },
     "metadata": {},
     "output_type": "display_data"
    }
   ],
   "source": [
    "# 散布図を表示\n",
    "pd.plotting.scatter_matrix(df_scatter.iloc[:1000, :], figsize=(10,10))\n",
    "plt.show()"
   ]
  },
  {
   "cell_type": "code",
   "execution_count": 28,
   "metadata": {},
   "outputs": [
    {
     "data": {
      "text/plain": [
       "<matplotlib.axes._subplots.AxesSubplot at 0x1a18044080>"
      ]
     },
     "execution_count": 28,
     "metadata": {},
     "output_type": "execute_result"
    },
    {
     "data": {
      "image/png": "[encoded data removed]",
      "text/plain": [
       "<matplotlib.figure.Figure at 0x1a14476710>"
      ]
     },
     "metadata": {},
     "output_type": "display_data"
    }
   ],
   "source": [
    "# 相関係数のヒートマップ表示\n",
    "plt.figure(figsize=(10,10))\n",
    "sns.heatmap(df_scatter.iloc[:,:].corr(), cmap=\"coolwarm_r\", vmin=-1, vmax=1, center=0)"
   ]
  },
  {
   "cell_type": "code",
   "execution_count": 31,
   "metadata": {},
   "outputs": [
    {
     "data": {
      "text/html": [
       "<div>\n",
       "<style scoped>\n",
       "    .dataframe tbody tr th:only-of-type {\n",
       "        vertical-align: middle;\n",
       "    }\n",
       "\n",
       "    .dataframe tbody tr th {\n",
       "        vertical-align: top;\n",
       "    }\n",
       "\n",
       "    .dataframe thead th {\n",
       "        text-align: right;\n",
       "    }\n",
       "</style>\n",
       "<table border=\"1\" class=\"dataframe\">\n",
       "  <thead>\n",
       "    <tr style=\"text-align: right;\">\n",
       "      <th></th>\n",
       "      <th>category_Academic</th>\n",
       "      <th>category_Accessories</th>\n",
       "      <th>category_Action</th>\n",
       "      <th>category_Animation</th>\n",
       "      <th>category_Anthologies</th>\n",
       "      <th>category_Apparel</th>\n",
       "      <th>category_Apps</th>\n",
       "      <th>category_Architecture</th>\n",
       "      <th>category_Art</th>\n",
       "      <th>category_Art Books</th>\n",
       "      <th>...</th>\n",
       "      <th>currency_CAD</th>\n",
       "      <th>currency_EUR</th>\n",
       "      <th>currency_GBP</th>\n",
       "      <th>currency_USD</th>\n",
       "      <th>currency_others</th>\n",
       "      <th>country_AU</th>\n",
       "      <th>country_CA</th>\n",
       "      <th>country_GB</th>\n",
       "      <th>country_US</th>\n",
       "      <th>country_others</th>\n",
       "    </tr>\n",
       "  </thead>\n",
       "  <tbody>\n",
       "    <tr>\n",
       "      <th>0</th>\n",
       "      <td>0</td>\n",
       "      <td>0</td>\n",
       "      <td>0</td>\n",
       "      <td>0</td>\n",
       "      <td>0</td>\n",
       "      <td>0</td>\n",
       "      <td>0</td>\n",
       "      <td>0</td>\n",
       "      <td>0</td>\n",
       "      <td>0</td>\n",
       "      <td>...</td>\n",
       "      <td>0</td>\n",
       "      <td>0</td>\n",
       "      <td>1</td>\n",
       "      <td>0</td>\n",
       "      <td>0</td>\n",
       "      <td>0</td>\n",
       "      <td>0</td>\n",
       "      <td>1</td>\n",
       "      <td>0</td>\n",
       "      <td>0</td>\n",
       "    </tr>\n",
       "    <tr>\n",
       "      <th>1</th>\n",
       "      <td>0</td>\n",
       "      <td>0</td>\n",
       "      <td>0</td>\n",
       "      <td>0</td>\n",
       "      <td>0</td>\n",
       "      <td>0</td>\n",
       "      <td>0</td>\n",
       "      <td>0</td>\n",
       "      <td>0</td>\n",
       "      <td>0</td>\n",
       "      <td>...</td>\n",
       "      <td>0</td>\n",
       "      <td>0</td>\n",
       "      <td>0</td>\n",
       "      <td>1</td>\n",
       "      <td>0</td>\n",
       "      <td>0</td>\n",
       "      <td>0</td>\n",
       "      <td>0</td>\n",
       "      <td>1</td>\n",
       "      <td>0</td>\n",
       "    </tr>\n",
       "    <tr>\n",
       "      <th>2</th>\n",
       "      <td>0</td>\n",
       "      <td>0</td>\n",
       "      <td>0</td>\n",
       "      <td>0</td>\n",
       "      <td>0</td>\n",
       "      <td>0</td>\n",
       "      <td>0</td>\n",
       "      <td>0</td>\n",
       "      <td>0</td>\n",
       "      <td>0</td>\n",
       "      <td>...</td>\n",
       "      <td>0</td>\n",
       "      <td>0</td>\n",
       "      <td>0</td>\n",
       "      <td>1</td>\n",
       "      <td>0</td>\n",
       "      <td>0</td>\n",
       "      <td>0</td>\n",
       "      <td>0</td>\n",
       "      <td>1</td>\n",
       "      <td>0</td>\n",
       "    </tr>\n",
       "    <tr>\n",
       "      <th>3</th>\n",
       "      <td>0</td>\n",
       "      <td>0</td>\n",
       "      <td>0</td>\n",
       "      <td>0</td>\n",
       "      <td>0</td>\n",
       "      <td>0</td>\n",
       "      <td>0</td>\n",
       "      <td>0</td>\n",
       "      <td>0</td>\n",
       "      <td>0</td>\n",
       "      <td>...</td>\n",
       "      <td>0</td>\n",
       "      <td>0</td>\n",
       "      <td>0</td>\n",
       "      <td>1</td>\n",
       "      <td>0</td>\n",
       "      <td>0</td>\n",
       "      <td>0</td>\n",
       "      <td>0</td>\n",
       "      <td>1</td>\n",
       "      <td>0</td>\n",
       "    </tr>\n",
       "    <tr>\n",
       "      <th>4</th>\n",
       "      <td>0</td>\n",
       "      <td>0</td>\n",
       "      <td>0</td>\n",
       "      <td>0</td>\n",
       "      <td>0</td>\n",
       "      <td>0</td>\n",
       "      <td>0</td>\n",
       "      <td>0</td>\n",
       "      <td>0</td>\n",
       "      <td>0</td>\n",
       "      <td>...</td>\n",
       "      <td>0</td>\n",
       "      <td>0</td>\n",
       "      <td>0</td>\n",
       "      <td>1</td>\n",
       "      <td>0</td>\n",
       "      <td>0</td>\n",
       "      <td>0</td>\n",
       "      <td>0</td>\n",
       "      <td>1</td>\n",
       "      <td>0</td>\n",
       "    </tr>\n",
       "  </tbody>\n",
       "</table>\n",
       "<p>5 rows × 117 columns</p>\n",
       "</div>"
      ],
      "text/plain": [
       "   category_Academic  category_Accessories  category_Action  \\\n",
       "0                  0                     0                0   \n",
       "1                  0                     0                0   \n",
       "2                  0                     0                0   \n",
       "3                  0                     0                0   \n",
       "4                  0                     0                0   \n",
       "\n",
       "   category_Animation  category_Anthologies  category_Apparel  category_Apps  \\\n",
       "0                   0                     0                 0              0   \n",
       "1                   0                     0                 0              0   \n",
       "2                   0                     0                 0              0   \n",
       "3                   0                     0                 0              0   \n",
       "4                   0                     0                 0              0   \n",
       "\n",
       "   category_Architecture  category_Art  category_Art Books       ...        \\\n",
       "0                      0             0                   0       ...         \n",
       "1                      0             0                   0       ...         \n",
       "2                      0             0                   0       ...         \n",
       "3                      0             0                   0       ...         \n",
       "4                      0             0                   0       ...         \n",
       "\n",
       "   currency_CAD  currency_EUR  currency_GBP  currency_USD  currency_others  \\\n",
       "0             0             0             1             0                0   \n",
       "1             0             0             0             1                0   \n",
       "2             0             0             0             1                0   \n",
       "3             0             0             0             1                0   \n",
       "4             0             0             0             1                0   \n",
       "\n",
       "   country_AU  country_CA  country_GB  country_US  country_others  \n",
       "0           0           0           1           0               0  \n",
       "1           0           0           0           1               0  \n",
       "2           0           0           0           1               0  \n",
       "3           0           0           0           1               0  \n",
       "4           0           0           0           1               0  \n",
       "\n",
       "[5 rows x 117 columns]"
      ]
     },
     "execution_count": 31,
     "metadata": {},
     "output_type": "execute_result"
    }
   ],
   "source": [
    "# カテゴリカルな説明変数をone hot に変換\n",
    "x_df_one_hot = pd.get_dummies(x_df_cate_sum.iloc[:,:])\n",
    "x_df_one_hot.head()"
   ]
  },
  {
   "cell_type": "code",
   "execution_count": 36,
   "metadata": {},
   "outputs": [
    {
     "data": {
      "text/plain": [
       "(378661, 118)"
      ]
     },
     "metadata": {},
     "output_type": "display_data"
    },
    {
     "data": {
      "text/html": [
       "<div>\n",
       "<style scoped>\n",
       "    .dataframe tbody tr th:only-of-type {\n",
       "        vertical-align: middle;\n",
       "    }\n",
       "\n",
       "    .dataframe tbody tr th {\n",
       "        vertical-align: top;\n",
       "    }\n",
       "\n",
       "    .dataframe thead th {\n",
       "        text-align: right;\n",
       "    }\n",
       "</style>\n",
       "<table border=\"1\" class=\"dataframe\">\n",
       "  <thead>\n",
       "    <tr style=\"text-align: right;\">\n",
       "      <th></th>\n",
       "      <th>category_Academic</th>\n",
       "      <th>category_Accessories</th>\n",
       "      <th>category_Action</th>\n",
       "      <th>category_Animation</th>\n",
       "      <th>category_Anthologies</th>\n",
       "      <th>category_Apparel</th>\n",
       "      <th>category_Apps</th>\n",
       "      <th>category_Architecture</th>\n",
       "      <th>category_Art</th>\n",
       "      <th>category_Art Books</th>\n",
       "      <th>...</th>\n",
       "      <th>currency_EUR</th>\n",
       "      <th>currency_GBP</th>\n",
       "      <th>currency_USD</th>\n",
       "      <th>currency_others</th>\n",
       "      <th>country_AU</th>\n",
       "      <th>country_CA</th>\n",
       "      <th>country_GB</th>\n",
       "      <th>country_US</th>\n",
       "      <th>country_others</th>\n",
       "      <th>days</th>\n",
       "    </tr>\n",
       "  </thead>\n",
       "  <tbody>\n",
       "    <tr>\n",
       "      <th>0</th>\n",
       "      <td>0</td>\n",
       "      <td>0</td>\n",
       "      <td>0</td>\n",
       "      <td>0</td>\n",
       "      <td>0</td>\n",
       "      <td>0</td>\n",
       "      <td>0</td>\n",
       "      <td>0</td>\n",
       "      <td>0</td>\n",
       "      <td>0</td>\n",
       "      <td>...</td>\n",
       "      <td>0</td>\n",
       "      <td>1</td>\n",
       "      <td>0</td>\n",
       "      <td>0</td>\n",
       "      <td>0</td>\n",
       "      <td>0</td>\n",
       "      <td>1</td>\n",
       "      <td>0</td>\n",
       "      <td>0</td>\n",
       "      <td>58.0</td>\n",
       "    </tr>\n",
       "    <tr>\n",
       "      <th>1</th>\n",
       "      <td>0</td>\n",
       "      <td>0</td>\n",
       "      <td>0</td>\n",
       "      <td>0</td>\n",
       "      <td>0</td>\n",
       "      <td>0</td>\n",
       "      <td>0</td>\n",
       "      <td>0</td>\n",
       "      <td>0</td>\n",
       "      <td>0</td>\n",
       "      <td>...</td>\n",
       "      <td>0</td>\n",
       "      <td>0</td>\n",
       "      <td>1</td>\n",
       "      <td>0</td>\n",
       "      <td>0</td>\n",
       "      <td>0</td>\n",
       "      <td>0</td>\n",
       "      <td>1</td>\n",
       "      <td>0</td>\n",
       "      <td>59.0</td>\n",
       "    </tr>\n",
       "    <tr>\n",
       "      <th>2</th>\n",
       "      <td>0</td>\n",
       "      <td>0</td>\n",
       "      <td>0</td>\n",
       "      <td>0</td>\n",
       "      <td>0</td>\n",
       "      <td>0</td>\n",
       "      <td>0</td>\n",
       "      <td>0</td>\n",
       "      <td>0</td>\n",
       "      <td>0</td>\n",
       "      <td>...</td>\n",
       "      <td>0</td>\n",
       "      <td>0</td>\n",
       "      <td>1</td>\n",
       "      <td>0</td>\n",
       "      <td>0</td>\n",
       "      <td>0</td>\n",
       "      <td>0</td>\n",
       "      <td>1</td>\n",
       "      <td>0</td>\n",
       "      <td>44.0</td>\n",
       "    </tr>\n",
       "    <tr>\n",
       "      <th>3</th>\n",
       "      <td>0</td>\n",
       "      <td>0</td>\n",
       "      <td>0</td>\n",
       "      <td>0</td>\n",
       "      <td>0</td>\n",
       "      <td>0</td>\n",
       "      <td>0</td>\n",
       "      <td>0</td>\n",
       "      <td>0</td>\n",
       "      <td>0</td>\n",
       "      <td>...</td>\n",
       "      <td>0</td>\n",
       "      <td>0</td>\n",
       "      <td>1</td>\n",
       "      <td>0</td>\n",
       "      <td>0</td>\n",
       "      <td>0</td>\n",
       "      <td>0</td>\n",
       "      <td>1</td>\n",
       "      <td>0</td>\n",
       "      <td>29.0</td>\n",
       "    </tr>\n",
       "    <tr>\n",
       "      <th>4</th>\n",
       "      <td>0</td>\n",
       "      <td>0</td>\n",
       "      <td>0</td>\n",
       "      <td>0</td>\n",
       "      <td>0</td>\n",
       "      <td>0</td>\n",
       "      <td>0</td>\n",
       "      <td>0</td>\n",
       "      <td>0</td>\n",
       "      <td>0</td>\n",
       "      <td>...</td>\n",
       "      <td>0</td>\n",
       "      <td>0</td>\n",
       "      <td>1</td>\n",
       "      <td>0</td>\n",
       "      <td>0</td>\n",
       "      <td>0</td>\n",
       "      <td>0</td>\n",
       "      <td>1</td>\n",
       "      <td>0</td>\n",
       "      <td>55.0</td>\n",
       "    </tr>\n",
       "  </tbody>\n",
       "</table>\n",
       "<p>5 rows × 118 columns</p>\n",
       "</div>"
      ],
      "text/plain": [
       "   category_Academic  category_Accessories  category_Action  \\\n",
       "0                  0                     0                0   \n",
       "1                  0                     0                0   \n",
       "2                  0                     0                0   \n",
       "3                  0                     0                0   \n",
       "4                  0                     0                0   \n",
       "\n",
       "   category_Animation  category_Anthologies  category_Apparel  category_Apps  \\\n",
       "0                   0                     0                 0              0   \n",
       "1                   0                     0                 0              0   \n",
       "2                   0                     0                 0              0   \n",
       "3                   0                     0                 0              0   \n",
       "4                   0                     0                 0              0   \n",
       "\n",
       "   category_Architecture  category_Art  category_Art Books  ...   \\\n",
       "0                      0             0                   0  ...    \n",
       "1                      0             0                   0  ...    \n",
       "2                      0             0                   0  ...    \n",
       "3                      0             0                   0  ...    \n",
       "4                      0             0                   0  ...    \n",
       "\n",
       "   currency_EUR  currency_GBP  currency_USD  currency_others  country_AU  \\\n",
       "0             0             1             0                0           0   \n",
       "1             0             0             1                0           0   \n",
       "2             0             0             1                0           0   \n",
       "3             0             0             1                0           0   \n",
       "4             0             0             1                0           0   \n",
       "\n",
       "   country_CA  country_GB  country_US  country_others  days  \n",
       "0           0           1           0               0  58.0  \n",
       "1           0           0           1               0  59.0  \n",
       "2           0           0           1               0  44.0  \n",
       "3           0           0           1               0  29.0  \n",
       "4           0           0           1               0  55.0  \n",
       "\n",
       "[5 rows x 118 columns]"
      ]
     },
     "execution_count": 36,
     "metadata": {},
     "output_type": "execute_result"
    }
   ],
   "source": [
    "# 説明変数を結合 \n",
    "# goalを入れると精度が下がる\n",
    "x_df_sum = pd.concat([x_df_one_hot, df_days], axis=1)\n",
    "display(x_df_sum.shape)\n",
    "x_df_sum.head()"
   ]
  },
  {
   "cell_type": "markdown",
   "metadata": {},
   "source": [
    "# 学習の実行\n",
    "- テストデータ、学習データに分割\n",
    "- 学習データをクロスバリデーションでモデル評価\n",
    "- テストデータで精度を見る"
   ]
  },
  {
   "cell_type": "code",
   "execution_count": 37,
   "metadata": {},
   "outputs": [
    {
     "data": {
      "text/plain": [
       "(302928, 118)"
      ]
     },
     "metadata": {},
     "output_type": "display_data"
    },
    {
     "data": {
      "text/plain": [
       "(75733, 118)"
      ]
     },
     "metadata": {},
     "output_type": "display_data"
    },
    {
     "data": {
      "text/plain": [
       "(302928,)"
      ]
     },
     "metadata": {},
     "output_type": "display_data"
    },
    {
     "data": {
      "text/plain": [
       "(75733,)"
      ]
     },
     "metadata": {},
     "output_type": "display_data"
    }
   ],
   "source": [
    "X = x_df_sum.values\n",
    "y = y_bool.values * 1\n",
    "test_size = 0.2        # 全データのうち、何%をテストデータにするか（今回は20%に設定）\n",
    "X_train, X_test, y_train, y_test = train_test_split(X, y, test_size=test_size, random_state=1234) # ホールドアウト法を実行（テストデータはランダム選択）\n",
    "display(X_train.shape, X_test.shape, y_train.shape, y_test.shape)"
   ]
  },
  {
   "cell_type": "markdown",
   "metadata": {},
   "source": [
    "### SGDClassifier"
   ]
  },
  {
   "cell_type": "markdown",
   "metadata": {},
   "source": [
    "## 各モデルを取り出す方法"
   ]
  },
  {
   "cell_type": "code",
   "execution_count": 38,
   "metadata": {},
   "outputs": [
    {
     "name": "stdout",
     "output_type": "stream",
     "text": [
      "Fold 1\n",
      "対数尤度 = -11.3\n",
      "正答率 = 67.285%\n",
      "\n",
      "テスト: 対数尤度 = -11.107\n",
      "テスト: 正答率 = 67.842%\n",
      "\n",
      "Fold 2\n",
      "対数尤度 = -13.737\n",
      "正答率 = 60.227%\n",
      "\n",
      "テスト: 対数尤度 = -13.649\n",
      "テスト: 正答率 = 60.484%\n",
      "\n",
      "Fold 3\n",
      "対数尤度 = -11.229\n",
      "正答率 = 67.488%\n",
      "\n",
      "テスト: 対数尤度 = -11.214\n",
      "テスト: 正答率 = 67.533%\n",
      "\n",
      "Fold 4\n",
      "対数尤度 = -10.942\n",
      "正答率 = 68.319%\n",
      "\n",
      "テスト: 対数尤度 = -10.909\n",
      "テスト: 正答率 = 68.417%\n",
      "\n",
      "Fold 5\n",
      "対数尤度 = -11.353\n",
      "正答率 = 67.129%\n",
      "\n",
      "テスト: 対数尤度 = -11.359\n",
      "テスト: 正答率 = 67.112%\n",
      "\n",
      "Cross Validation 対数尤度 = -11.712\n",
      "Cross Validation 正答率 = 66.089\n"
     ]
    },
    {
     "data": {
      "text/plain": [
       "(75733, 5)"
      ]
     },
     "execution_count": 38,
     "metadata": {},
     "output_type": "execute_result"
    }
   ],
   "source": [
    "n_split = 5 # グループ数を設定（今回は5分割）\n",
    "\n",
    "cross_valid_log_like = 0\n",
    "cross_valid_acc = 0\n",
    "split_num = 1\n",
    "\n",
    "# 検証役を交代させながら学習と評価を繰り返す\n",
    "regr = []\n",
    "# 配列の定義\n",
    "y_pred_test = np.empty((len(X_test), n_split))\n",
    "\n",
    "for i, (train_idx, valid_idx) in enumerate(KFold(n_splits=n_split, random_state=None).split(X_train)):\n",
    "    train_x, train_y = X_train[train_idx], y_train[train_idx] #学習用データ\n",
    "    valid_x, valid_y = X_train[valid_idx], y_train[valid_idx]     #検証用データ\n",
    "    \n",
    "    # 学習用データを使って線形回帰モデルを学習\n",
    "    regr.append(SGDClassifier(loss='log', penalty='none', max_iter=100, fit_intercept=False))\n",
    "    regr[i].fit(train_x, train_y)\n",
    "\n",
    "    # 検証データに対する予測を実行\n",
    "    y_pred_valid = regr[i].predict(valid_x)\n",
    "    \n",
    "    # 検証データに対する対数尤度を計算\n",
    "    log_like = - log_loss(valid_y, y_pred_valid)\n",
    "    acc = accuracy_score(valid_y, y_pred_valid)\n",
    "    print(\"Fold %s\"%split_num)\n",
    "    print(\"対数尤度 = %s\"%round(log_like, 3))\n",
    "    print('正答率 = {:.3f}%'.format(100 * acc))\n",
    "    print()\n",
    "    \n",
    "    cross_valid_log_like += log_like #後で平均を取るためにLog Likelihoodを加算\n",
    "    cross_valid_acc += 100 * acc\n",
    "    split_num += 1\n",
    "    \n",
    "    # テストデータの予測\n",
    "    # 配列の列方向に予測結果を挿入していく\n",
    "    y_pred_test[:,i] = regr[i].predict(X_test)\n",
    "    # テストデータに対する対数尤度を計算\n",
    "    test_log_like = - log_loss(y_test, y_pred_test[:,i])\n",
    "    test_acc = accuracy_score(y_test, y_pred_test[:,i])\n",
    "    print(\"テスト: 対数尤度 = %s\"%round(test_log_like, 3))\n",
    "    print('テスト: 正答率 = {:.3f}%'.format(100 * test_acc))\n",
    "    print()\n",
    "\n",
    "# MAEの平均値を最終的な汎化誤差値とする\n",
    "final_log_like = cross_valid_log_like / n_split\n",
    "final_acc = cross_valid_acc / n_split\n",
    "print(\"Cross Validation 対数尤度 = %s\"%round(final_log_like, 3))\n",
    "print(\"Cross Validation 正答率 = %s\"%round(final_acc, 3))\n",
    "\n",
    "# テスト\n",
    "y_pred_test.shape"
   ]
  },
  {
   "cell_type": "markdown",
   "metadata": {},
   "source": [
    "### KFold後のそれぞれのfoldでの結果を総合して計算"
   ]
  },
  {
   "cell_type": "code",
   "execution_count": 39,
   "metadata": {},
   "outputs": [
    {
     "data": {
      "text/plain": [
       "(75733,)"
      ]
     },
     "metadata": {},
     "output_type": "display_data"
    },
    {
     "name": "stdout",
     "output_type": "stream",
     "text": [
      "テスト: 対数尤度 = -11.212\n",
      "テスト: 正答率 = 67.539%\n"
     ]
    }
   ],
   "source": [
    "# 予測結果から合計して3以上を1,else 0→精度を再算出\n",
    "y_pred_test_sum = (y_pred_test.sum(axis=1) > 3) * 1\n",
    "display(y_pred_test_sum.shape)\n",
    "# テストデータに対する対数尤度を計算\n",
    "test_log_like = - log_loss(y_test, y_pred_test_sum)\n",
    "test_acc = accuracy_score(y_test, y_pred_test_sum)\n",
    "print(\"テスト: 対数尤度 = %s\"%round(test_log_like, 3))\n",
    "print('テスト: 正答率 = {:.3f}%'.format(100 * test_acc))"
   ]
  },
  {
   "cell_type": "markdown",
   "metadata": {},
   "source": [
    "## 相関のなさそうなcategoryを抜いて学習してみる"
   ]
  },
  {
   "cell_type": "code",
   "execution_count": 46,
   "metadata": {},
   "outputs": [
    {
     "data": {
      "text/plain": [
       "(378661, 22)"
      ]
     },
     "metadata": {},
     "output_type": "display_data"
    },
    {
     "data": {
      "text/html": [
       "<div>\n",
       "<style scoped>\n",
       "    .dataframe tbody tr th:only-of-type {\n",
       "        vertical-align: middle;\n",
       "    }\n",
       "\n",
       "    .dataframe tbody tr th {\n",
       "        vertical-align: top;\n",
       "    }\n",
       "\n",
       "    .dataframe thead th {\n",
       "        text-align: right;\n",
       "    }\n",
       "</style>\n",
       "<table border=\"1\" class=\"dataframe\">\n",
       "  <thead>\n",
       "    <tr style=\"text-align: right;\">\n",
       "      <th></th>\n",
       "      <th>main_category_Art</th>\n",
       "      <th>main_category_Design</th>\n",
       "      <th>main_category_Fashion</th>\n",
       "      <th>main_category_Film &amp; Video</th>\n",
       "      <th>main_category_Food</th>\n",
       "      <th>main_category_Games</th>\n",
       "      <th>main_category_Music</th>\n",
       "      <th>main_category_Publishing</th>\n",
       "      <th>main_category_Technology</th>\n",
       "      <th>main_category_others</th>\n",
       "      <th>...</th>\n",
       "      <th>currency_EUR</th>\n",
       "      <th>currency_GBP</th>\n",
       "      <th>currency_USD</th>\n",
       "      <th>currency_others</th>\n",
       "      <th>country_AU</th>\n",
       "      <th>country_CA</th>\n",
       "      <th>country_GB</th>\n",
       "      <th>country_US</th>\n",
       "      <th>country_others</th>\n",
       "      <th>days</th>\n",
       "    </tr>\n",
       "  </thead>\n",
       "  <tbody>\n",
       "    <tr>\n",
       "      <th>0</th>\n",
       "      <td>0</td>\n",
       "      <td>0</td>\n",
       "      <td>0</td>\n",
       "      <td>0</td>\n",
       "      <td>0</td>\n",
       "      <td>0</td>\n",
       "      <td>0</td>\n",
       "      <td>1</td>\n",
       "      <td>0</td>\n",
       "      <td>0</td>\n",
       "      <td>...</td>\n",
       "      <td>0</td>\n",
       "      <td>1</td>\n",
       "      <td>0</td>\n",
       "      <td>0</td>\n",
       "      <td>0</td>\n",
       "      <td>0</td>\n",
       "      <td>1</td>\n",
       "      <td>0</td>\n",
       "      <td>0</td>\n",
       "      <td>58.0</td>\n",
       "    </tr>\n",
       "    <tr>\n",
       "      <th>1</th>\n",
       "      <td>0</td>\n",
       "      <td>0</td>\n",
       "      <td>0</td>\n",
       "      <td>1</td>\n",
       "      <td>0</td>\n",
       "      <td>0</td>\n",
       "      <td>0</td>\n",
       "      <td>0</td>\n",
       "      <td>0</td>\n",
       "      <td>0</td>\n",
       "      <td>...</td>\n",
       "      <td>0</td>\n",
       "      <td>0</td>\n",
       "      <td>1</td>\n",
       "      <td>0</td>\n",
       "      <td>0</td>\n",
       "      <td>0</td>\n",
       "      <td>0</td>\n",
       "      <td>1</td>\n",
       "      <td>0</td>\n",
       "      <td>59.0</td>\n",
       "    </tr>\n",
       "    <tr>\n",
       "      <th>2</th>\n",
       "      <td>0</td>\n",
       "      <td>0</td>\n",
       "      <td>0</td>\n",
       "      <td>1</td>\n",
       "      <td>0</td>\n",
       "      <td>0</td>\n",
       "      <td>0</td>\n",
       "      <td>0</td>\n",
       "      <td>0</td>\n",
       "      <td>0</td>\n",
       "      <td>...</td>\n",
       "      <td>0</td>\n",
       "      <td>0</td>\n",
       "      <td>1</td>\n",
       "      <td>0</td>\n",
       "      <td>0</td>\n",
       "      <td>0</td>\n",
       "      <td>0</td>\n",
       "      <td>1</td>\n",
       "      <td>0</td>\n",
       "      <td>44.0</td>\n",
       "    </tr>\n",
       "    <tr>\n",
       "      <th>3</th>\n",
       "      <td>0</td>\n",
       "      <td>0</td>\n",
       "      <td>0</td>\n",
       "      <td>0</td>\n",
       "      <td>0</td>\n",
       "      <td>0</td>\n",
       "      <td>1</td>\n",
       "      <td>0</td>\n",
       "      <td>0</td>\n",
       "      <td>0</td>\n",
       "      <td>...</td>\n",
       "      <td>0</td>\n",
       "      <td>0</td>\n",
       "      <td>1</td>\n",
       "      <td>0</td>\n",
       "      <td>0</td>\n",
       "      <td>0</td>\n",
       "      <td>0</td>\n",
       "      <td>1</td>\n",
       "      <td>0</td>\n",
       "      <td>29.0</td>\n",
       "    </tr>\n",
       "    <tr>\n",
       "      <th>4</th>\n",
       "      <td>0</td>\n",
       "      <td>0</td>\n",
       "      <td>0</td>\n",
       "      <td>1</td>\n",
       "      <td>0</td>\n",
       "      <td>0</td>\n",
       "      <td>0</td>\n",
       "      <td>0</td>\n",
       "      <td>0</td>\n",
       "      <td>0</td>\n",
       "      <td>...</td>\n",
       "      <td>0</td>\n",
       "      <td>0</td>\n",
       "      <td>1</td>\n",
       "      <td>0</td>\n",
       "      <td>0</td>\n",
       "      <td>0</td>\n",
       "      <td>0</td>\n",
       "      <td>1</td>\n",
       "      <td>0</td>\n",
       "      <td>55.0</td>\n",
       "    </tr>\n",
       "  </tbody>\n",
       "</table>\n",
       "<p>5 rows × 22 columns</p>\n",
       "</div>"
      ],
      "text/plain": [
       "   main_category_Art  main_category_Design  main_category_Fashion  \\\n",
       "0                  0                     0                      0   \n",
       "1                  0                     0                      0   \n",
       "2                  0                     0                      0   \n",
       "3                  0                     0                      0   \n",
       "4                  0                     0                      0   \n",
       "\n",
       "   main_category_Film & Video  main_category_Food  main_category_Games  \\\n",
       "0                           0                   0                    0   \n",
       "1                           1                   0                    0   \n",
       "2                           1                   0                    0   \n",
       "3                           0                   0                    0   \n",
       "4                           1                   0                    0   \n",
       "\n",
       "   main_category_Music  main_category_Publishing  main_category_Technology  \\\n",
       "0                    0                         1                         0   \n",
       "1                    0                         0                         0   \n",
       "2                    0                         0                         0   \n",
       "3                    1                         0                         0   \n",
       "4                    0                         0                         0   \n",
       "\n",
       "   main_category_others  ...   currency_EUR  currency_GBP  currency_USD  \\\n",
       "0                     0  ...              0             1             0   \n",
       "1                     0  ...              0             0             1   \n",
       "2                     0  ...              0             0             1   \n",
       "3                     0  ...              0             0             1   \n",
       "4                     0  ...              0             0             1   \n",
       "\n",
       "   currency_others  country_AU  country_CA  country_GB  country_US  \\\n",
       "0                0           0           0           1           0   \n",
       "1                0           0           0           0           1   \n",
       "2                0           0           0           0           1   \n",
       "3                0           0           0           0           1   \n",
       "4                0           0           0           0           1   \n",
       "\n",
       "   country_others  days  \n",
       "0               0  58.0  \n",
       "1               0  59.0  \n",
       "2               0  44.0  \n",
       "3               0  29.0  \n",
       "4               0  55.0  \n",
       "\n",
       "[5 rows x 22 columns]"
      ]
     },
     "execution_count": 46,
     "metadata": {},
     "output_type": "execute_result"
    }
   ],
   "source": [
    "# カテゴリカルな説明変数をone hot に変換\n",
    "x_df_one_hot = pd.get_dummies(x_df_cate_sum.drop('category', axis=1).iloc[:,:])\n",
    "x_df_one_hot.head()\n",
    "# 説明変数を結合\n",
    "x_df_sum = pd.concat([x_df_one_hot, df_days], axis=1)\n",
    "display(x_df_sum.shape)\n",
    "x_df_sum.head()"
   ]
  },
  {
   "cell_type": "code",
   "execution_count": 47,
   "metadata": {},
   "outputs": [
    {
     "data": {
      "text/plain": [
       "(302928, 22)"
      ]
     },
     "metadata": {},
     "output_type": "display_data"
    },
    {
     "data": {
      "text/plain": [
       "(75733, 22)"
      ]
     },
     "metadata": {},
     "output_type": "display_data"
    },
    {
     "data": {
      "text/plain": [
       "(302928,)"
      ]
     },
     "metadata": {},
     "output_type": "display_data"
    },
    {
     "data": {
      "text/plain": [
       "(75733,)"
      ]
     },
     "metadata": {},
     "output_type": "display_data"
    }
   ],
   "source": [
    "X = x_df_sum.values\n",
    "y = y_bool.values * 1\n",
    "test_size = 0.2        # 全データのうち、何%をテストデータにするか（今回は20%に設定）\n",
    "X_train, X_test, y_train, y_test = train_test_split(X, y, test_size=test_size, random_state=1234) # ホールドアウト法を実行（テストデータはランダム選択）\n",
    "display(X_train.shape, X_test.shape, y_train.shape, y_test.shape)"
   ]
  },
  {
   "cell_type": "code",
   "execution_count": 48,
   "metadata": {},
   "outputs": [
    {
     "name": "stdout",
     "output_type": "stream",
     "text": [
      "Fold 1\n",
      "対数尤度 = -11.969\n",
      "正答率 = 65.347%\n",
      "\n",
      "テスト: 対数尤度 = -11.81\n",
      "テスト: 正答率 = 65.808%\n",
      "\n",
      "Fold 2\n",
      "対数尤度 = -12.073\n",
      "正答率 = 65.045%\n",
      "\n",
      "テスト: 対数尤度 = -11.96\n",
      "テスト: 正答率 = 65.373%\n",
      "\n",
      "Fold 3\n",
      "対数尤度 = -12.048\n",
      "正答率 = 65.117%\n",
      "\n",
      "テスト: 対数尤度 = -12.017\n",
      "テスト: 正答率 = 65.208%\n",
      "\n",
      "Fold 4\n",
      "対数尤度 = -12.112\n",
      "正答率 = 64.934%\n",
      "\n",
      "テスト: 対数尤度 = -12.036\n",
      "テスト: 正答率 = 65.151%\n",
      "\n",
      "Fold 5\n",
      "対数尤度 = -12.05\n",
      "正答率 = 65.112%\n",
      "\n",
      "テスト: 対数尤度 = -12.099\n",
      "テスト: 正答率 = 64.969%\n",
      "\n",
      "Cross Validation 対数尤度 = -12.05\n",
      "Cross Validation 正答率 = 65.111\n"
     ]
    },
    {
     "data": {
      "text/plain": [
       "(75733, 5)"
      ]
     },
     "execution_count": 48,
     "metadata": {},
     "output_type": "execute_result"
    }
   ],
   "source": [
    "n_split = 5 # グループ数を設定（今回は5分割）\n",
    "\n",
    "cross_valid_log_like = 0\n",
    "cross_valid_acc = 0\n",
    "split_num = 1\n",
    "\n",
    "# 検証役を交代させながら学習と評価を繰り返す\n",
    "regr = []\n",
    "# 配列の定義\n",
    "y_pred_test = np.empty((len(X_test), n_split))\n",
    "\n",
    "for i, (train_idx, valid_idx) in enumerate(KFold(n_splits=n_split, random_state=None).split(X_train)):\n",
    "    train_x, train_y = X_train[train_idx], y_train[train_idx] #学習用データ\n",
    "    valid_x, valid_y = X_train[valid_idx], y_train[valid_idx]     #検証用データ\n",
    "    \n",
    "    # 学習用データを使って線形回帰モデルを学習\n",
    "    regr.append(SGDClassifier(loss='log', penalty='none', max_iter=100, fit_intercept=False))\n",
    "    regr[i].fit(train_x, train_y)\n",
    "\n",
    "    # 検証データに対する予測を実行\n",
    "    y_pred_valid = regr[i].predict(valid_x)\n",
    "    \n",
    "    # 検証データに対する対数尤度を計算\n",
    "    log_like = - log_loss(valid_y, y_pred_valid)\n",
    "    acc = accuracy_score(valid_y, y_pred_valid)\n",
    "    print(\"Fold %s\"%split_num)\n",
    "    print(\"対数尤度 = %s\"%round(log_like, 3))\n",
    "    print('正答率 = {:.3f}%'.format(100 * acc))\n",
    "    print()\n",
    "    \n",
    "    cross_valid_log_like += log_like #後で平均を取るためにLog Likelihoodを加算\n",
    "    cross_valid_acc += 100 * acc\n",
    "    split_num += 1\n",
    "    \n",
    "    # テストデータの予測\n",
    "    # 配列の列方向に予測結果を挿入していく\n",
    "    y_pred_test[:,i] = regr[i].predict(X_test)\n",
    "    # テストデータに対する対数尤度を計算\n",
    "    test_log_like = - log_loss(y_test, y_pred_test[:,i])\n",
    "    test_acc = accuracy_score(y_test, y_pred_test[:,i])\n",
    "    print(\"テスト: 対数尤度 = %s\"%round(test_log_like, 3))\n",
    "    print('テスト: 正答率 = {:.3f}%'.format(100 * test_acc))\n",
    "    print()\n",
    "\n",
    "# MAEの平均値を最終的な汎化誤差値とする\n",
    "final_log_like = cross_valid_log_like / n_split\n",
    "final_acc = cross_valid_acc / n_split\n",
    "print(\"Cross Validation 対数尤度 = %s\"%round(final_log_like, 3))\n",
    "print(\"Cross Validation 正答率 = %s\"%round(final_acc, 3))\n",
    "\n",
    "# テスト\n",
    "y_pred_test.shape"
   ]
  },
  {
   "cell_type": "code",
   "execution_count": 49,
   "metadata": {},
   "outputs": [
    {
     "data": {
      "text/plain": [
       "(75733,)"
      ]
     },
     "metadata": {},
     "output_type": "display_data"
    },
    {
     "name": "stdout",
     "output_type": "stream",
     "text": [
      "テスト: 対数尤度 = -12.018\n",
      "テスト: 正答率 = 65.205%\n"
     ]
    }
   ],
   "source": [
    "# 予測結果から合計して3以上を1,else 0→精度を再算出\n",
    "y_pred_test_sum = (y_pred_test.sum(axis=1) > 3) * 1\n",
    "display(y_pred_test_sum.shape)\n",
    "# テストデータに対する対数尤度を計算\n",
    "test_log_like = - log_loss(y_test, y_pred_test_sum)\n",
    "test_acc = accuracy_score(y_test, y_pred_test_sum)\n",
    "print(\"テスト: 対数尤度 = %s\"%round(test_log_like, 3))\n",
    "print('テスト: 正答率 = {:.3f}%'.format(100 * test_acc))"
   ]
  },
  {
   "cell_type": "markdown",
   "metadata": {},
   "source": [
    "### ↑結果精度が落ちた"
   ]
  },
  {
   "cell_type": "markdown",
   "metadata": {},
   "source": [
    "# one-hotベクトルに変換"
   ]
  },
  {
   "cell_type": "code",
   "execution_count": 55,
   "metadata": {},
   "outputs": [
    {
     "data": {
      "text/html": [
       "<div>\n",
       "<style scoped>\n",
       "    .dataframe tbody tr th:only-of-type {\n",
       "        vertical-align: middle;\n",
       "    }\n",
       "\n",
       "    .dataframe tbody tr th {\n",
       "        vertical-align: top;\n",
       "    }\n",
       "\n",
       "    .dataframe thead th {\n",
       "        text-align: right;\n",
       "    }\n",
       "</style>\n",
       "<table border=\"1\" class=\"dataframe\">\n",
       "  <thead>\n",
       "    <tr style=\"text-align: right;\">\n",
       "      <th></th>\n",
       "      <th>category_Academic</th>\n",
       "      <th>category_Accessories</th>\n",
       "      <th>category_Action</th>\n",
       "      <th>category_Animation</th>\n",
       "      <th>category_Anthologies</th>\n",
       "      <th>category_Apparel</th>\n",
       "      <th>category_Apps</th>\n",
       "      <th>category_Architecture</th>\n",
       "      <th>category_Art</th>\n",
       "      <th>category_Art Books</th>\n",
       "      <th>...</th>\n",
       "      <th>currency_CAD</th>\n",
       "      <th>currency_EUR</th>\n",
       "      <th>currency_GBP</th>\n",
       "      <th>currency_USD</th>\n",
       "      <th>currency_others</th>\n",
       "      <th>country_AU</th>\n",
       "      <th>country_CA</th>\n",
       "      <th>country_GB</th>\n",
       "      <th>country_US</th>\n",
       "      <th>country_others</th>\n",
       "    </tr>\n",
       "  </thead>\n",
       "  <tbody>\n",
       "    <tr>\n",
       "      <th>0</th>\n",
       "      <td>0</td>\n",
       "      <td>0</td>\n",
       "      <td>0</td>\n",
       "      <td>0</td>\n",
       "      <td>0</td>\n",
       "      <td>0</td>\n",
       "      <td>0</td>\n",
       "      <td>0</td>\n",
       "      <td>0</td>\n",
       "      <td>0</td>\n",
       "      <td>...</td>\n",
       "      <td>0</td>\n",
       "      <td>0</td>\n",
       "      <td>1</td>\n",
       "      <td>0</td>\n",
       "      <td>0</td>\n",
       "      <td>0</td>\n",
       "      <td>0</td>\n",
       "      <td>1</td>\n",
       "      <td>0</td>\n",
       "      <td>0</td>\n",
       "    </tr>\n",
       "    <tr>\n",
       "      <th>1</th>\n",
       "      <td>0</td>\n",
       "      <td>0</td>\n",
       "      <td>0</td>\n",
       "      <td>0</td>\n",
       "      <td>0</td>\n",
       "      <td>0</td>\n",
       "      <td>0</td>\n",
       "      <td>0</td>\n",
       "      <td>0</td>\n",
       "      <td>0</td>\n",
       "      <td>...</td>\n",
       "      <td>0</td>\n",
       "      <td>0</td>\n",
       "      <td>0</td>\n",
       "      <td>1</td>\n",
       "      <td>0</td>\n",
       "      <td>0</td>\n",
       "      <td>0</td>\n",
       "      <td>0</td>\n",
       "      <td>1</td>\n",
       "      <td>0</td>\n",
       "    </tr>\n",
       "    <tr>\n",
       "      <th>2</th>\n",
       "      <td>0</td>\n",
       "      <td>0</td>\n",
       "      <td>0</td>\n",
       "      <td>0</td>\n",
       "      <td>0</td>\n",
       "      <td>0</td>\n",
       "      <td>0</td>\n",
       "      <td>0</td>\n",
       "      <td>0</td>\n",
       "      <td>0</td>\n",
       "      <td>...</td>\n",
       "      <td>0</td>\n",
       "      <td>0</td>\n",
       "      <td>0</td>\n",
       "      <td>1</td>\n",
       "      <td>0</td>\n",
       "      <td>0</td>\n",
       "      <td>0</td>\n",
       "      <td>0</td>\n",
       "      <td>1</td>\n",
       "      <td>0</td>\n",
       "    </tr>\n",
       "    <tr>\n",
       "      <th>3</th>\n",
       "      <td>0</td>\n",
       "      <td>0</td>\n",
       "      <td>0</td>\n",
       "      <td>0</td>\n",
       "      <td>0</td>\n",
       "      <td>0</td>\n",
       "      <td>0</td>\n",
       "      <td>0</td>\n",
       "      <td>0</td>\n",
       "      <td>0</td>\n",
       "      <td>...</td>\n",
       "      <td>0</td>\n",
       "      <td>0</td>\n",
       "      <td>0</td>\n",
       "      <td>1</td>\n",
       "      <td>0</td>\n",
       "      <td>0</td>\n",
       "      <td>0</td>\n",
       "      <td>0</td>\n",
       "      <td>1</td>\n",
       "      <td>0</td>\n",
       "    </tr>\n",
       "    <tr>\n",
       "      <th>4</th>\n",
       "      <td>0</td>\n",
       "      <td>0</td>\n",
       "      <td>0</td>\n",
       "      <td>0</td>\n",
       "      <td>0</td>\n",
       "      <td>0</td>\n",
       "      <td>0</td>\n",
       "      <td>0</td>\n",
       "      <td>0</td>\n",
       "      <td>0</td>\n",
       "      <td>...</td>\n",
       "      <td>0</td>\n",
       "      <td>0</td>\n",
       "      <td>0</td>\n",
       "      <td>1</td>\n",
       "      <td>0</td>\n",
       "      <td>0</td>\n",
       "      <td>0</td>\n",
       "      <td>0</td>\n",
       "      <td>1</td>\n",
       "      <td>0</td>\n",
       "    </tr>\n",
       "  </tbody>\n",
       "</table>\n",
       "<p>5 rows × 117 columns</p>\n",
       "</div>"
      ],
      "text/plain": [
       "   category_Academic  category_Accessories  category_Action  \\\n",
       "0                  0                     0                0   \n",
       "1                  0                     0                0   \n",
       "2                  0                     0                0   \n",
       "3                  0                     0                0   \n",
       "4                  0                     0                0   \n",
       "\n",
       "   category_Animation  category_Anthologies  category_Apparel  category_Apps  \\\n",
       "0                   0                     0                 0              0   \n",
       "1                   0                     0                 0              0   \n",
       "2                   0                     0                 0              0   \n",
       "3                   0                     0                 0              0   \n",
       "4                   0                     0                 0              0   \n",
       "\n",
       "   category_Architecture  category_Art  category_Art Books       ...        \\\n",
       "0                      0             0                   0       ...         \n",
       "1                      0             0                   0       ...         \n",
       "2                      0             0                   0       ...         \n",
       "3                      0             0                   0       ...         \n",
       "4                      0             0                   0       ...         \n",
       "\n",
       "   currency_CAD  currency_EUR  currency_GBP  currency_USD  currency_others  \\\n",
       "0             0             0             1             0                0   \n",
       "1             0             0             0             1                0   \n",
       "2             0             0             0             1                0   \n",
       "3             0             0             0             1                0   \n",
       "4             0             0             0             1                0   \n",
       "\n",
       "   country_AU  country_CA  country_GB  country_US  country_others  \n",
       "0           0           0           1           0               0  \n",
       "1           0           0           0           1               0  \n",
       "2           0           0           0           1               0  \n",
       "3           0           0           0           1               0  \n",
       "4           0           0           0           1               0  \n",
       "\n",
       "[5 rows x 117 columns]"
      ]
     },
     "execution_count": 55,
     "metadata": {},
     "output_type": "execute_result"
    }
   ],
   "source": [
    "# カテゴリカルな説明変数をone hot に変換\n",
    "x_df_one_hot = pd.get_dummies(x_df_cate_sum.iloc[:,:])\n",
    "x_df_one_hot.head()"
   ]
  },
  {
   "cell_type": "code",
   "execution_count": 61,
   "metadata": {},
   "outputs": [
    {
     "data": {
      "text/plain": [
       "<matplotlib.axes._subplots.AxesSubplot at 0x1a24db5e48>"
      ]
     },
     "execution_count": 61,
     "metadata": {},
     "output_type": "execute_result"
    },
    {
     "data": {
      "image/png": "[encoded data removed]",
      "text/plain": [
       "<matplotlib.figure.Figure at 0x1a24db5550>"
      ]
     },
     "metadata": {},
     "output_type": "display_data"
    }
   ],
   "source": [
    "# 相関係数のヒートマップ表示\n",
    "plt.figure(figsize=(10,10))\n",
    "df_scatter_one_hot = pd.concat([x_df_one_hot, y_bool], axis=1)\n",
    "sns.heatmap(df_scatter_one_hot.iloc[10000:,:].corr(), cmap=\"coolwarm_r\", vmin=-1, vmax=1, center=0)"
   ]
  },
  {
   "cell_type": "code",
   "execution_count": 112,
   "metadata": {},
   "outputs": [
    {
     "data": {
      "text/plain": [
       "category_Academic      -0.015762\n",
       "category_Accessories   -0.002789\n",
       "category_Action        -0.019199\n",
       "category_Animation     -0.014664\n",
       "category_Anthologies    0.029553\n",
       "Name: state, dtype: float64"
      ]
     },
     "execution_count": 112,
     "metadata": {},
     "output_type": "execute_result"
    }
   ],
   "source": [
    "state_row = df_scatter_one_hot.iloc[10000:,:].corr()['state']\n",
    "state_row.head()"
   ]
  },
  {
   "cell_type": "code",
   "execution_count": 90,
   "metadata": {},
   "outputs": [
    {
     "data": {
      "text/plain": [
       "category_Academic       0.015762\n",
       "category_Accessories    0.002789\n",
       "category_Action         0.019199\n",
       "category_Animation      0.014664\n",
       "category_Anthologies    0.029553\n",
       "Name: state, dtype: float64"
      ]
     },
     "execution_count": 90,
     "metadata": {},
     "output_type": "execute_result"
    }
   ],
   "source": [
    "abs_state = state_row.apply(np.abs)\n",
    "abs_state.head()"
   ]
  },
  {
   "cell_type": "code",
   "execution_count": 105,
   "metadata": {},
   "outputs": [
    {
     "data": {
      "text/plain": [
       "array([0.01576155,        nan, 0.0191994 , 0.01466391, 0.02955334,\n",
       "       0.04546681, 0.08037791, 0.01097068, 0.01707286, 0.02694295,\n",
       "       0.04805659, 0.04169325, 0.035766  , 0.06343755, 0.0246147 ,\n",
       "       0.02272389, 0.01071463, 0.05103067, 0.01004269, 0.01864653,\n",
       "       0.01573271, 0.01657896, 0.0309641 , 0.01896443, 0.03584414,\n",
       "       0.0170148 , 0.02479706, 0.03294866, 0.01379408, 0.02137214,\n",
       "       0.02765154, 0.04262374, 0.03042875, 0.07292029, 0.0358459 ,\n",
       "       0.01341676, 0.01178811, 0.01987035, 0.03853545, 0.02379673,\n",
       "       0.01584578, 0.02664399, 0.01630154, 0.01249825, 0.02837013,\n",
       "       0.01814355, 0.02828121, 0.02243769, 0.02786937, 0.02162951,\n",
       "       0.01886934, 0.03502179, 0.04613419, 0.07162415, 0.04362915,\n",
       "       0.08272178, 0.04706194, 0.02175074, 0.07820695, 0.05714877,\n",
       "       0.06574732, 0.01538928, 0.01190223, 0.0131909 , 0.01398058,\n",
       "       0.01867354, 0.03256177, 0.05751497, 0.01692862, 0.05904365,\n",
       "       0.09340876, 0.03207885, 0.10042045, 0.05738236, 0.03064761,\n",
       "       0.03271755, 0.05998543, 0.06498045, 0.02424916, 0.02936644,\n",
       "       0.03096621, 0.07597705, 0.08380146, 1.        ])"
      ]
     },
     "metadata": {},
     "output_type": "display_data"
    }
   ],
   "source": [
    "# しきい値より低い値を'others'にまとめる\n",
    "thread = 0.01 # AUD以下\n",
    "state_abs_dict = abs_state.to_dict()\n",
    "new_state_abs = abs_state.apply(lambda x: x if x > thread else None)\n",
    "display(new_state_abs.unique())"
   ]
  },
  {
   "cell_type": "code",
   "execution_count": 115,
   "metadata": {},
   "outputs": [
    {
     "data": {
      "text/plain": [
       "['category_Anthologies',\n",
       " 'category_Architecture',\n",
       " 'category_Animation',\n",
       " 'category_Country & Folk',\n",
       " 'category_Indie Rock',\n",
       " 'category_Mobile Games',\n",
       " 'category_Software',\n",
       " 'currency_others',\n",
       " 'category_Webseries',\n",
       " 'main_category_Art',\n",
       " 'category_Academic',\n",
       " 'currency_AUD',\n",
       " 'category_Fashion',\n",
       " 'category_Festivals',\n",
       " 'category_Comics',\n",
       " 'main_category_Technology',\n",
       " 'category_People',\n",
       " 'category_Art Books',\n",
       " 'category_Classical Music',\n",
       " 'main_category_others',\n",
       " 'category_Musical',\n",
       " 'category_Performance Art',\n",
       " 'category_Nonfiction',\n",
       " 'category_Pop',\n",
       " 'category_Apparel',\n",
       " 'category_Games',\n",
       " 'category_Theater',\n",
       " 'category_Dance',\n",
       " 'category_Young Adult',\n",
       " 'country_AU',\n",
       " 'category_Illustration',\n",
       " 'main_category_Music',\n",
       " 'category_Art',\n",
       " 'main_category_Film & Video',\n",
       " 'main_category_Fashion',\n",
       " 'category_Film & Video',\n",
       " 'category_Rock',\n",
       " 'category_Events',\n",
       " 'category_Graphic Novels',\n",
       " 'category_Jewelry',\n",
       " 'category_Public Art',\n",
       " 'category_Web',\n",
       " 'category_Farms',\n",
       " 'category_Music',\n",
       " 'currency_EUR',\n",
       " 'currency_USD',\n",
       " 'country_others',\n",
       " 'category_Food',\n",
       " 'category_Gadgets',\n",
       " 'main_category_Food',\n",
       " 'main_category_Publishing',\n",
       " 'state',\n",
       " 'category_Technology',\n",
       " 'category_Apps',\n",
       " 'category_Tabletop Games',\n",
       " 'category_Ready-to-wear',\n",
       " 'category_Woodworking',\n",
       " 'category_others',\n",
       " 'country_US',\n",
       " 'category_Live Games',\n",
       " 'category_Video Games',\n",
       " 'category_Fiction',\n",
       " 'currency_CAD',\n",
       " 'category_Places',\n",
       " 'category_DIY',\n",
       " 'category_Hip-Hop',\n",
       " 'category_Plays',\n",
       " 'category_Performances',\n",
       " 'category_Television',\n",
       " 'category_Action',\n",
       " 'category_Crafts',\n",
       " 'category_Journalism',\n",
       " 'category_Shorts',\n",
       " 'category_World Music',\n",
       " 'country_CA',\n",
       " 'category_Drinks',\n",
       " 'category_Restaurants',\n",
       " 'category_Publishing',\n",
       " 'category_Jazz',\n",
       " 'category_Comic Books',\n",
       " 'category_Food Trucks',\n",
       " 'category_DIY Electronics',\n",
       " 'category_Digital Art']"
      ]
     },
     "execution_count": 115,
     "metadata": {},
     "output_type": "execute_result"
    }
   ],
   "source": [
    "new_label = set(new_state_abs.dropna().index)\n",
    "list(new_label)"
   ]
  },
  {
   "cell_type": "code",
   "execution_count": 56,
   "metadata": {},
   "outputs": [
    {
     "data": {
      "text/plain": [
       "(378661, 118)"
      ]
     },
     "metadata": {},
     "output_type": "display_data"
    },
    {
     "data": {
      "text/html": [
       "<div>\n",
       "<style scoped>\n",
       "    .dataframe tbody tr th:only-of-type {\n",
       "        vertical-align: middle;\n",
       "    }\n",
       "\n",
       "    .dataframe tbody tr th {\n",
       "        vertical-align: top;\n",
       "    }\n",
       "\n",
       "    .dataframe thead th {\n",
       "        text-align: right;\n",
       "    }\n",
       "</style>\n",
       "<table border=\"1\" class=\"dataframe\">\n",
       "  <thead>\n",
       "    <tr style=\"text-align: right;\">\n",
       "      <th></th>\n",
       "      <th>category_Academic</th>\n",
       "      <th>category_Accessories</th>\n",
       "      <th>category_Action</th>\n",
       "      <th>category_Animation</th>\n",
       "      <th>category_Anthologies</th>\n",
       "      <th>category_Apparel</th>\n",
       "      <th>category_Apps</th>\n",
       "      <th>category_Architecture</th>\n",
       "      <th>category_Art</th>\n",
       "      <th>category_Art Books</th>\n",
       "      <th>...</th>\n",
       "      <th>currency_EUR</th>\n",
       "      <th>currency_GBP</th>\n",
       "      <th>currency_USD</th>\n",
       "      <th>currency_others</th>\n",
       "      <th>country_AU</th>\n",
       "      <th>country_CA</th>\n",
       "      <th>country_GB</th>\n",
       "      <th>country_US</th>\n",
       "      <th>country_others</th>\n",
       "      <th>days</th>\n",
       "    </tr>\n",
       "  </thead>\n",
       "  <tbody>\n",
       "    <tr>\n",
       "      <th>0</th>\n",
       "      <td>0</td>\n",
       "      <td>0</td>\n",
       "      <td>0</td>\n",
       "      <td>0</td>\n",
       "      <td>0</td>\n",
       "      <td>0</td>\n",
       "      <td>0</td>\n",
       "      <td>0</td>\n",
       "      <td>0</td>\n",
       "      <td>0</td>\n",
       "      <td>...</td>\n",
       "      <td>0</td>\n",
       "      <td>1</td>\n",
       "      <td>0</td>\n",
       "      <td>0</td>\n",
       "      <td>0</td>\n",
       "      <td>0</td>\n",
       "      <td>1</td>\n",
       "      <td>0</td>\n",
       "      <td>0</td>\n",
       "      <td>58.0</td>\n",
       "    </tr>\n",
       "    <tr>\n",
       "      <th>1</th>\n",
       "      <td>0</td>\n",
       "      <td>0</td>\n",
       "      <td>0</td>\n",
       "      <td>0</td>\n",
       "      <td>0</td>\n",
       "      <td>0</td>\n",
       "      <td>0</td>\n",
       "      <td>0</td>\n",
       "      <td>0</td>\n",
       "      <td>0</td>\n",
       "      <td>...</td>\n",
       "      <td>0</td>\n",
       "      <td>0</td>\n",
       "      <td>1</td>\n",
       "      <td>0</td>\n",
       "      <td>0</td>\n",
       "      <td>0</td>\n",
       "      <td>0</td>\n",
       "      <td>1</td>\n",
       "      <td>0</td>\n",
       "      <td>59.0</td>\n",
       "    </tr>\n",
       "    <tr>\n",
       "      <th>2</th>\n",
       "      <td>0</td>\n",
       "      <td>0</td>\n",
       "      <td>0</td>\n",
       "      <td>0</td>\n",
       "      <td>0</td>\n",
       "      <td>0</td>\n",
       "      <td>0</td>\n",
       "      <td>0</td>\n",
       "      <td>0</td>\n",
       "      <td>0</td>\n",
       "      <td>...</td>\n",
       "      <td>0</td>\n",
       "      <td>0</td>\n",
       "      <td>1</td>\n",
       "      <td>0</td>\n",
       "      <td>0</td>\n",
       "      <td>0</td>\n",
       "      <td>0</td>\n",
       "      <td>1</td>\n",
       "      <td>0</td>\n",
       "      <td>44.0</td>\n",
       "    </tr>\n",
       "    <tr>\n",
       "      <th>3</th>\n",
       "      <td>0</td>\n",
       "      <td>0</td>\n",
       "      <td>0</td>\n",
       "      <td>0</td>\n",
       "      <td>0</td>\n",
       "      <td>0</td>\n",
       "      <td>0</td>\n",
       "      <td>0</td>\n",
       "      <td>0</td>\n",
       "      <td>0</td>\n",
       "      <td>...</td>\n",
       "      <td>0</td>\n",
       "      <td>0</td>\n",
       "      <td>1</td>\n",
       "      <td>0</td>\n",
       "      <td>0</td>\n",
       "      <td>0</td>\n",
       "      <td>0</td>\n",
       "      <td>1</td>\n",
       "      <td>0</td>\n",
       "      <td>29.0</td>\n",
       "    </tr>\n",
       "    <tr>\n",
       "      <th>4</th>\n",
       "      <td>0</td>\n",
       "      <td>0</td>\n",
       "      <td>0</td>\n",
       "      <td>0</td>\n",
       "      <td>0</td>\n",
       "      <td>0</td>\n",
       "      <td>0</td>\n",
       "      <td>0</td>\n",
       "      <td>0</td>\n",
       "      <td>0</td>\n",
       "      <td>...</td>\n",
       "      <td>0</td>\n",
       "      <td>0</td>\n",
       "      <td>1</td>\n",
       "      <td>0</td>\n",
       "      <td>0</td>\n",
       "      <td>0</td>\n",
       "      <td>0</td>\n",
       "      <td>1</td>\n",
       "      <td>0</td>\n",
       "      <td>55.0</td>\n",
       "    </tr>\n",
       "  </tbody>\n",
       "</table>\n",
       "<p>5 rows × 118 columns</p>\n",
       "</div>"
      ],
      "text/plain": [
       "   category_Academic  category_Accessories  category_Action  \\\n",
       "0                  0                     0                0   \n",
       "1                  0                     0                0   \n",
       "2                  0                     0                0   \n",
       "3                  0                     0                0   \n",
       "4                  0                     0                0   \n",
       "\n",
       "   category_Animation  category_Anthologies  category_Apparel  category_Apps  \\\n",
       "0                   0                     0                 0              0   \n",
       "1                   0                     0                 0              0   \n",
       "2                   0                     0                 0              0   \n",
       "3                   0                     0                 0              0   \n",
       "4                   0                     0                 0              0   \n",
       "\n",
       "   category_Architecture  category_Art  category_Art Books  ...   \\\n",
       "0                      0             0                   0  ...    \n",
       "1                      0             0                   0  ...    \n",
       "2                      0             0                   0  ...    \n",
       "3                      0             0                   0  ...    \n",
       "4                      0             0                   0  ...    \n",
       "\n",
       "   currency_EUR  currency_GBP  currency_USD  currency_others  country_AU  \\\n",
       "0             0             1             0                0           0   \n",
       "1             0             0             1                0           0   \n",
       "2             0             0             1                0           0   \n",
       "3             0             0             1                0           0   \n",
       "4             0             0             1                0           0   \n",
       "\n",
       "   country_CA  country_GB  country_US  country_others  days  \n",
       "0           0           1           0               0  58.0  \n",
       "1           0           0           1               0  59.0  \n",
       "2           0           0           1               0  44.0  \n",
       "3           0           0           1               0  29.0  \n",
       "4           0           0           1               0  55.0  \n",
       "\n",
       "[5 rows x 118 columns]"
      ]
     },
     "execution_count": 56,
     "metadata": {},
     "output_type": "execute_result"
    }
   ],
   "source": [
    "# 説明変数を結合\n",
    "x_df_sum = pd.concat([x_df_one_hot, df_days], axis=1)\n",
    "display(x_df_sum.shape)\n",
    "x_df_sum.head()"
   ]
  },
  {
   "cell_type": "code",
   "execution_count": 119,
   "metadata": {},
   "outputs": [
    {
     "name": "stderr",
     "output_type": "stream",
     "text": [
      "/Users/yamaokadaichi/.pyenv/versions/anaconda3-5.1.0/lib/python3.6/site-packages/ipykernel_launcher.py:1: FutureWarning: \n",
      "Passing list-likes to .loc or [] with any missing label will raise\n",
      "KeyError in the future, you can use .reindex() as an alternative.\n",
      "\n",
      "See the documentation here:\n",
      "http://pandas.pydata.org/pandas-docs/stable/indexing.html#deprecate-loc-reindex-listlike\n",
      "  \"\"\"Entry point for launching an IPython kernel.\n",
      "/Users/yamaokadaichi/.pyenv/versions/anaconda3-5.1.0/lib/python3.6/site-packages/pandas/core/indexing.py:1367: FutureWarning: \n",
      "Passing list-likes to .loc or [] with any missing label will raise\n",
      "KeyError in the future, you can use .reindex() as an alternative.\n",
      "\n",
      "See the documentation here:\n",
      "http://pandas.pydata.org/pandas-docs/stable/indexing.html#deprecate-loc-reindex-listlike\n",
      "  return self._getitem_tuple(key)\n"
     ]
    },
    {
     "data": {
      "text/html": [
       "<div>\n",
       "<style scoped>\n",
       "    .dataframe tbody tr th:only-of-type {\n",
       "        vertical-align: middle;\n",
       "    }\n",
       "\n",
       "    .dataframe tbody tr th {\n",
       "        vertical-align: top;\n",
       "    }\n",
       "\n",
       "    .dataframe thead th {\n",
       "        text-align: right;\n",
       "    }\n",
       "</style>\n",
       "<table border=\"1\" class=\"dataframe\">\n",
       "  <thead>\n",
       "    <tr style=\"text-align: right;\">\n",
       "      <th></th>\n",
       "      <th>category_Anthologies</th>\n",
       "      <th>category_Architecture</th>\n",
       "      <th>category_Animation</th>\n",
       "      <th>category_Country &amp; Folk</th>\n",
       "      <th>category_Indie Rock</th>\n",
       "      <th>category_Mobile Games</th>\n",
       "      <th>category_Software</th>\n",
       "      <th>currency_others</th>\n",
       "      <th>category_Webseries</th>\n",
       "      <th>main_category_Art</th>\n",
       "      <th>...</th>\n",
       "      <th>category_World Music</th>\n",
       "      <th>country_CA</th>\n",
       "      <th>category_Drinks</th>\n",
       "      <th>category_Restaurants</th>\n",
       "      <th>category_Publishing</th>\n",
       "      <th>category_Jazz</th>\n",
       "      <th>category_Comic Books</th>\n",
       "      <th>category_Food Trucks</th>\n",
       "      <th>category_DIY Electronics</th>\n",
       "      <th>category_Digital Art</th>\n",
       "    </tr>\n",
       "  </thead>\n",
       "  <tbody>\n",
       "    <tr>\n",
       "      <th>0</th>\n",
       "      <td>0</td>\n",
       "      <td>0</td>\n",
       "      <td>0</td>\n",
       "      <td>0</td>\n",
       "      <td>0</td>\n",
       "      <td>0</td>\n",
       "      <td>0</td>\n",
       "      <td>0</td>\n",
       "      <td>0</td>\n",
       "      <td>0</td>\n",
       "      <td>...</td>\n",
       "      <td>0</td>\n",
       "      <td>0</td>\n",
       "      <td>0</td>\n",
       "      <td>0</td>\n",
       "      <td>0</td>\n",
       "      <td>0</td>\n",
       "      <td>0</td>\n",
       "      <td>0</td>\n",
       "      <td>0</td>\n",
       "      <td>0</td>\n",
       "    </tr>\n",
       "    <tr>\n",
       "      <th>1</th>\n",
       "      <td>0</td>\n",
       "      <td>0</td>\n",
       "      <td>0</td>\n",
       "      <td>0</td>\n",
       "      <td>0</td>\n",
       "      <td>0</td>\n",
       "      <td>0</td>\n",
       "      <td>0</td>\n",
       "      <td>0</td>\n",
       "      <td>0</td>\n",
       "      <td>...</td>\n",
       "      <td>0</td>\n",
       "      <td>0</td>\n",
       "      <td>0</td>\n",
       "      <td>0</td>\n",
       "      <td>0</td>\n",
       "      <td>0</td>\n",
       "      <td>0</td>\n",
       "      <td>0</td>\n",
       "      <td>0</td>\n",
       "      <td>0</td>\n",
       "    </tr>\n",
       "    <tr>\n",
       "      <th>2</th>\n",
       "      <td>0</td>\n",
       "      <td>0</td>\n",
       "      <td>0</td>\n",
       "      <td>0</td>\n",
       "      <td>0</td>\n",
       "      <td>0</td>\n",
       "      <td>0</td>\n",
       "      <td>0</td>\n",
       "      <td>0</td>\n",
       "      <td>0</td>\n",
       "      <td>...</td>\n",
       "      <td>0</td>\n",
       "      <td>0</td>\n",
       "      <td>0</td>\n",
       "      <td>0</td>\n",
       "      <td>0</td>\n",
       "      <td>0</td>\n",
       "      <td>0</td>\n",
       "      <td>0</td>\n",
       "      <td>0</td>\n",
       "      <td>0</td>\n",
       "    </tr>\n",
       "    <tr>\n",
       "      <th>3</th>\n",
       "      <td>0</td>\n",
       "      <td>0</td>\n",
       "      <td>0</td>\n",
       "      <td>0</td>\n",
       "      <td>0</td>\n",
       "      <td>0</td>\n",
       "      <td>0</td>\n",
       "      <td>0</td>\n",
       "      <td>0</td>\n",
       "      <td>0</td>\n",
       "      <td>...</td>\n",
       "      <td>0</td>\n",
       "      <td>0</td>\n",
       "      <td>0</td>\n",
       "      <td>0</td>\n",
       "      <td>0</td>\n",
       "      <td>0</td>\n",
       "      <td>0</td>\n",
       "      <td>0</td>\n",
       "      <td>0</td>\n",
       "      <td>0</td>\n",
       "    </tr>\n",
       "    <tr>\n",
       "      <th>4</th>\n",
       "      <td>0</td>\n",
       "      <td>0</td>\n",
       "      <td>0</td>\n",
       "      <td>0</td>\n",
       "      <td>0</td>\n",
       "      <td>0</td>\n",
       "      <td>0</td>\n",
       "      <td>0</td>\n",
       "      <td>0</td>\n",
       "      <td>0</td>\n",
       "      <td>...</td>\n",
       "      <td>0</td>\n",
       "      <td>0</td>\n",
       "      <td>0</td>\n",
       "      <td>0</td>\n",
       "      <td>0</td>\n",
       "      <td>0</td>\n",
       "      <td>0</td>\n",
       "      <td>0</td>\n",
       "      <td>0</td>\n",
       "      <td>0</td>\n",
       "    </tr>\n",
       "  </tbody>\n",
       "</table>\n",
       "<p>5 rows × 83 columns</p>\n",
       "</div>"
      ],
      "text/plain": [
       "   category_Anthologies  category_Architecture  category_Animation  \\\n",
       "0                     0                      0                   0   \n",
       "1                     0                      0                   0   \n",
       "2                     0                      0                   0   \n",
       "3                     0                      0                   0   \n",
       "4                     0                      0                   0   \n",
       "\n",
       "   category_Country & Folk  category_Indie Rock  category_Mobile Games  \\\n",
       "0                        0                    0                      0   \n",
       "1                        0                    0                      0   \n",
       "2                        0                    0                      0   \n",
       "3                        0                    0                      0   \n",
       "4                        0                    0                      0   \n",
       "\n",
       "   category_Software  currency_others  category_Webseries  main_category_Art  \\\n",
       "0                  0                0                   0                  0   \n",
       "1                  0                0                   0                  0   \n",
       "2                  0                0                   0                  0   \n",
       "3                  0                0                   0                  0   \n",
       "4                  0                0                   0                  0   \n",
       "\n",
       "           ...           category_World Music  country_CA  category_Drinks  \\\n",
       "0          ...                              0           0                0   \n",
       "1          ...                              0           0                0   \n",
       "2          ...                              0           0                0   \n",
       "3          ...                              0           0                0   \n",
       "4          ...                              0           0                0   \n",
       "\n",
       "   category_Restaurants  category_Publishing  category_Jazz  \\\n",
       "0                     0                    0              0   \n",
       "1                     0                    0              0   \n",
       "2                     0                    0              0   \n",
       "3                     0                    0              0   \n",
       "4                     0                    0              0   \n",
       "\n",
       "   category_Comic Books  category_Food Trucks  category_DIY Electronics  \\\n",
       "0                     0                     0                         0   \n",
       "1                     0                     0                         0   \n",
       "2                     0                     0                         0   \n",
       "3                     0                     0                         0   \n",
       "4                     0                     0                         0   \n",
       "\n",
       "   category_Digital Art  \n",
       "0                     0  \n",
       "1                     0  \n",
       "2                     0  \n",
       "3                     0  \n",
       "4                     0  \n",
       "\n",
       "[5 rows x 83 columns]"
      ]
     },
     "execution_count": 119,
     "metadata": {},
     "output_type": "execute_result"
    }
   ],
   "source": [
    "new_label_df = x_df_sum.loc[:, list(new_label)]\n",
    "new_label_df.head()"
   ]
  },
  {
   "cell_type": "markdown",
   "metadata": {},
   "source": [
    "## one-hotのカラムを減らした上で評価"
   ]
  },
  {
   "cell_type": "code",
   "execution_count": 120,
   "metadata": {},
   "outputs": [
    {
     "data": {
      "text/plain": [
       "(378661, 84)"
      ]
     },
     "metadata": {},
     "output_type": "display_data"
    },
    {
     "data": {
      "text/html": [
       "<div>\n",
       "<style scoped>\n",
       "    .dataframe tbody tr th:only-of-type {\n",
       "        vertical-align: middle;\n",
       "    }\n",
       "\n",
       "    .dataframe tbody tr th {\n",
       "        vertical-align: top;\n",
       "    }\n",
       "\n",
       "    .dataframe thead th {\n",
       "        text-align: right;\n",
       "    }\n",
       "</style>\n",
       "<table border=\"1\" class=\"dataframe\">\n",
       "  <thead>\n",
       "    <tr style=\"text-align: right;\">\n",
       "      <th></th>\n",
       "      <th>category_Anthologies</th>\n",
       "      <th>category_Architecture</th>\n",
       "      <th>category_Animation</th>\n",
       "      <th>category_Country &amp; Folk</th>\n",
       "      <th>category_Indie Rock</th>\n",
       "      <th>category_Mobile Games</th>\n",
       "      <th>category_Software</th>\n",
       "      <th>currency_others</th>\n",
       "      <th>category_Webseries</th>\n",
       "      <th>main_category_Art</th>\n",
       "      <th>...</th>\n",
       "      <th>country_CA</th>\n",
       "      <th>category_Drinks</th>\n",
       "      <th>category_Restaurants</th>\n",
       "      <th>category_Publishing</th>\n",
       "      <th>category_Jazz</th>\n",
       "      <th>category_Comic Books</th>\n",
       "      <th>category_Food Trucks</th>\n",
       "      <th>category_DIY Electronics</th>\n",
       "      <th>category_Digital Art</th>\n",
       "      <th>days</th>\n",
       "    </tr>\n",
       "  </thead>\n",
       "  <tbody>\n",
       "    <tr>\n",
       "      <th>0</th>\n",
       "      <td>0</td>\n",
       "      <td>0</td>\n",
       "      <td>0</td>\n",
       "      <td>0</td>\n",
       "      <td>0</td>\n",
       "      <td>0</td>\n",
       "      <td>0</td>\n",
       "      <td>0</td>\n",
       "      <td>0</td>\n",
       "      <td>0</td>\n",
       "      <td>...</td>\n",
       "      <td>0</td>\n",
       "      <td>0</td>\n",
       "      <td>0</td>\n",
       "      <td>0</td>\n",
       "      <td>0</td>\n",
       "      <td>0</td>\n",
       "      <td>0</td>\n",
       "      <td>0</td>\n",
       "      <td>0</td>\n",
       "      <td>58.0</td>\n",
       "    </tr>\n",
       "    <tr>\n",
       "      <th>1</th>\n",
       "      <td>0</td>\n",
       "      <td>0</td>\n",
       "      <td>0</td>\n",
       "      <td>0</td>\n",
       "      <td>0</td>\n",
       "      <td>0</td>\n",
       "      <td>0</td>\n",
       "      <td>0</td>\n",
       "      <td>0</td>\n",
       "      <td>0</td>\n",
       "      <td>...</td>\n",
       "      <td>0</td>\n",
       "      <td>0</td>\n",
       "      <td>0</td>\n",
       "      <td>0</td>\n",
       "      <td>0</td>\n",
       "      <td>0</td>\n",
       "      <td>0</td>\n",
       "      <td>0</td>\n",
       "      <td>0</td>\n",
       "      <td>59.0</td>\n",
       "    </tr>\n",
       "    <tr>\n",
       "      <th>2</th>\n",
       "      <td>0</td>\n",
       "      <td>0</td>\n",
       "      <td>0</td>\n",
       "      <td>0</td>\n",
       "      <td>0</td>\n",
       "      <td>0</td>\n",
       "      <td>0</td>\n",
       "      <td>0</td>\n",
       "      <td>0</td>\n",
       "      <td>0</td>\n",
       "      <td>...</td>\n",
       "      <td>0</td>\n",
       "      <td>0</td>\n",
       "      <td>0</td>\n",
       "      <td>0</td>\n",
       "      <td>0</td>\n",
       "      <td>0</td>\n",
       "      <td>0</td>\n",
       "      <td>0</td>\n",
       "      <td>0</td>\n",
       "      <td>44.0</td>\n",
       "    </tr>\n",
       "    <tr>\n",
       "      <th>3</th>\n",
       "      <td>0</td>\n",
       "      <td>0</td>\n",
       "      <td>0</td>\n",
       "      <td>0</td>\n",
       "      <td>0</td>\n",
       "      <td>0</td>\n",
       "      <td>0</td>\n",
       "      <td>0</td>\n",
       "      <td>0</td>\n",
       "      <td>0</td>\n",
       "      <td>...</td>\n",
       "      <td>0</td>\n",
       "      <td>0</td>\n",
       "      <td>0</td>\n",
       "      <td>0</td>\n",
       "      <td>0</td>\n",
       "      <td>0</td>\n",
       "      <td>0</td>\n",
       "      <td>0</td>\n",
       "      <td>0</td>\n",
       "      <td>29.0</td>\n",
       "    </tr>\n",
       "    <tr>\n",
       "      <th>4</th>\n",
       "      <td>0</td>\n",
       "      <td>0</td>\n",
       "      <td>0</td>\n",
       "      <td>0</td>\n",
       "      <td>0</td>\n",
       "      <td>0</td>\n",
       "      <td>0</td>\n",
       "      <td>0</td>\n",
       "      <td>0</td>\n",
       "      <td>0</td>\n",
       "      <td>...</td>\n",
       "      <td>0</td>\n",
       "      <td>0</td>\n",
       "      <td>0</td>\n",
       "      <td>0</td>\n",
       "      <td>0</td>\n",
       "      <td>0</td>\n",
       "      <td>0</td>\n",
       "      <td>0</td>\n",
       "      <td>0</td>\n",
       "      <td>55.0</td>\n",
       "    </tr>\n",
       "  </tbody>\n",
       "</table>\n",
       "<p>5 rows × 84 columns</p>\n",
       "</div>"
      ],
      "text/plain": [
       "   category_Anthologies  category_Architecture  category_Animation  \\\n",
       "0                     0                      0                   0   \n",
       "1                     0                      0                   0   \n",
       "2                     0                      0                   0   \n",
       "3                     0                      0                   0   \n",
       "4                     0                      0                   0   \n",
       "\n",
       "   category_Country & Folk  category_Indie Rock  category_Mobile Games  \\\n",
       "0                        0                    0                      0   \n",
       "1                        0                    0                      0   \n",
       "2                        0                    0                      0   \n",
       "3                        0                    0                      0   \n",
       "4                        0                    0                      0   \n",
       "\n",
       "   category_Software  currency_others  category_Webseries  main_category_Art  \\\n",
       "0                  0                0                   0                  0   \n",
       "1                  0                0                   0                  0   \n",
       "2                  0                0                   0                  0   \n",
       "3                  0                0                   0                  0   \n",
       "4                  0                0                   0                  0   \n",
       "\n",
       "   ...   country_CA  category_Drinks  category_Restaurants  \\\n",
       "0  ...            0                0                     0   \n",
       "1  ...            0                0                     0   \n",
       "2  ...            0                0                     0   \n",
       "3  ...            0                0                     0   \n",
       "4  ...            0                0                     0   \n",
       "\n",
       "   category_Publishing  category_Jazz  category_Comic Books  \\\n",
       "0                    0              0                     0   \n",
       "1                    0              0                     0   \n",
       "2                    0              0                     0   \n",
       "3                    0              0                     0   \n",
       "4                    0              0                     0   \n",
       "\n",
       "   category_Food Trucks  category_DIY Electronics  category_Digital Art  days  \n",
       "0                     0                         0                     0  58.0  \n",
       "1                     0                         0                     0  59.0  \n",
       "2                     0                         0                     0  44.0  \n",
       "3                     0                         0                     0  29.0  \n",
       "4                     0                         0                     0  55.0  \n",
       "\n",
       "[5 rows x 84 columns]"
      ]
     },
     "execution_count": 120,
     "metadata": {},
     "output_type": "execute_result"
    }
   ],
   "source": [
    "# 説明変数を結合\n",
    "x_df_sum = pd.concat([x_df_one_hot, df_days], axis=1)\n",
    "display(x_df_sum.shape)\n",
    "x_df_sum.head()"
   ]
  },
  {
   "cell_type": "code",
   "execution_count": 175,
   "metadata": {},
   "outputs": [
    {
     "data": {
      "text/plain": [
       "(302928, 84)"
      ]
     },
     "metadata": {},
     "output_type": "display_data"
    },
    {
     "data": {
      "text/plain": [
       "(75733, 84)"
      ]
     },
     "metadata": {},
     "output_type": "display_data"
    },
    {
     "data": {
      "text/plain": [
       "(302928,)"
      ]
     },
     "metadata": {},
     "output_type": "display_data"
    },
    {
     "data": {
      "text/plain": [
       "(75733,)"
      ]
     },
     "metadata": {},
     "output_type": "display_data"
    }
   ],
   "source": [
    "X = x_df_sum.fillna(0).values # 欠損値があった\n",
    "y = y_bool.values * 1\n",
    "test_size = 0.2        # 全データのうち、何%をテストデータにするか（今回は20%に設定）\n",
    "X_train, X_test, y_train, y_test = train_test_split(X, y, test_size=test_size, random_state=1234) # ホールドアウト法を実行（テストデータはランダム選択）\n",
    "display(X_train.shape, X_test.shape, y_train.shape, y_test.shape)"
   ]
  },
  {
   "cell_type": "code",
   "execution_count": 176,
   "metadata": {},
   "outputs": [
    {
     "name": "stdout",
     "output_type": "stream",
     "text": [
      "Fold 1\n",
      "対数尤度 = -11.775\n",
      "正答率 = 65.908%\n",
      "\n",
      "テスト: 対数尤度 = -11.667\n",
      "テスト: 正答率 = 66.219%\n",
      "\n",
      "Fold 2\n",
      "対数尤度 = -11.399\n",
      "正答率 = 66.997%\n",
      "\n",
      "テスト: 対数尤度 = -11.271\n",
      "テスト: 正答率 = 67.368%\n",
      "\n",
      "Fold 3\n",
      "対数尤度 = -11.144\n",
      "正答率 = 67.735%\n",
      "\n",
      "テスト: 対数尤度 = -11.07\n",
      "テスト: 正答率 = 67.951%\n",
      "\n",
      "Fold 4\n",
      "対数尤度 = -11.01\n",
      "正答率 = 68.122%\n",
      "\n",
      "テスト: 対数尤度 = -10.942\n",
      "テスト: 正答率 = 68.319%\n",
      "\n",
      "Fold 5\n",
      "対数尤度 = -11.197\n",
      "正答率 = 67.583%\n",
      "\n",
      "テスト: 対数尤度 = -11.112\n",
      "テスト: 正答率 = 67.828%\n",
      "\n",
      "Cross Validation 対数尤度 = -11.305\n",
      "Cross Validation 正答率 = 67.269\n"
     ]
    },
    {
     "data": {
      "text/plain": [
       "(75733, 5)"
      ]
     },
     "execution_count": 176,
     "metadata": {},
     "output_type": "execute_result"
    }
   ],
   "source": [
    "n_split = 5 # グループ数を設定（今回は5分割）\n",
    "\n",
    "cross_valid_log_like = 0\n",
    "cross_valid_acc = 0\n",
    "split_num = 1\n",
    "\n",
    "# 検証役を交代させながら学習と評価を繰り返す\n",
    "regr = []\n",
    "# 配列の定義\n",
    "y_pred_test = np.empty((len(X_test), n_split))\n",
    "\n",
    "for i, (train_idx, valid_idx) in enumerate(KFold(n_splits=n_split, random_state=None).split(X_train)):\n",
    "    train_x, train_y = X_train[train_idx], y_train[train_idx] #学習用データ\n",
    "    valid_x, valid_y = X_train[valid_idx], y_train[valid_idx]     #検証用データ\n",
    "    \n",
    "    # 学習用データを使って線形回帰モデルを学習\n",
    "    regr.append(SGDClassifier(loss='log', penalty='none', max_iter=100, fit_intercept=False))\n",
    "    regr[i].fit(train_x, train_y)\n",
    "\n",
    "    # 検証データに対する予測を実行\n",
    "    y_pred_valid = regr[i].predict(valid_x)\n",
    "    \n",
    "    # 検証データに対する対数尤度を計算\n",
    "    log_like = - log_loss(valid_y, y_pred_valid)\n",
    "    acc = accuracy_score(valid_y, y_pred_valid)\n",
    "    print(\"Fold %s\"%split_num)\n",
    "    print(\"対数尤度 = %s\"%round(log_like, 3))\n",
    "    print('正答率 = {:.3f}%'.format(100 * acc))\n",
    "    print()\n",
    "    \n",
    "    cross_valid_log_like += log_like #後で平均を取るためにLog Likelihoodを加算\n",
    "    cross_valid_acc += 100 * acc\n",
    "    split_num += 1\n",
    "    \n",
    "    # テストデータの予測\n",
    "    # 配列の列方向に予測結果を挿入していく\n",
    "    y_pred_test[:,i] = regr[i].predict(X_test)\n",
    "    # テストデータに対する対数尤度を計算\n",
    "    test_log_like = - log_loss(y_test, y_pred_test[:,i])\n",
    "    test_acc = accuracy_score(y_test, y_pred_test[:,i])\n",
    "    print(\"テスト: 対数尤度 = %s\"%round(test_log_like, 3))\n",
    "    print('テスト: 正答率 = {:.3f}%'.format(100 * test_acc))\n",
    "    print()\n",
    "\n",
    "# MAEの平均値を最終的な汎化誤差値とする\n",
    "final_log_like = cross_valid_log_like / n_split\n",
    "final_acc = cross_valid_acc / n_split\n",
    "print(\"Cross Validation 対数尤度 = %s\"%round(final_log_like, 3))\n",
    "print(\"Cross Validation 正答率 = %s\"%round(final_acc, 3))\n",
    "\n",
    "# テスト\n",
    "y_pred_test.shape"
   ]
  },
  {
   "cell_type": "markdown",
   "metadata": {},
   "source": [
    "### KFold後のそれぞれのfoldでの結果を総合して計算"
   ]
  },
  {
   "cell_type": "code",
   "execution_count": 177,
   "metadata": {},
   "outputs": [
    {
     "data": {
      "text/plain": [
       "(75733,)"
      ]
     },
     "metadata": {},
     "output_type": "display_data"
    },
    {
     "name": "stdout",
     "output_type": "stream",
     "text": [
      "テスト: 対数尤度 = -11.272\n",
      "テスト: 正答率 = 67.364%\n"
     ]
    }
   ],
   "source": [
    "# 予測結果から合計して3以上を1,else 0→精度を再算出\n",
    "y_pred_test_sum = (y_pred_test.sum(axis=1) > 3) * 1\n",
    "display(y_pred_test_sum.shape)\n",
    "# テストデータに対する対数尤度を計算\n",
    "test_log_like = - log_loss(y_test, y_pred_test_sum)\n",
    "test_acc = accuracy_score(y_test, y_pred_test_sum)\n",
    "print(\"テスト: 対数尤度 = %s\"%round(test_log_like, 3))\n",
    "print('テスト: 正答率 = {:.3f}%'.format(100 * test_acc))"
   ]
  },
  {
   "cell_type": "markdown",
   "metadata": {},
   "source": [
    "# SVMClassifier"
   ]
  },
  {
   "cell_type": "code",
   "execution_count": 182,
   "metadata": {},
   "outputs": [
    {
     "data": {
      "text/plain": [
       "(378661, 118)"
      ]
     },
     "metadata": {},
     "output_type": "display_data"
    },
    {
     "data": {
      "text/html": [
       "<div>\n",
       "<style scoped>\n",
       "    .dataframe tbody tr th:only-of-type {\n",
       "        vertical-align: middle;\n",
       "    }\n",
       "\n",
       "    .dataframe tbody tr th {\n",
       "        vertical-align: top;\n",
       "    }\n",
       "\n",
       "    .dataframe thead th {\n",
       "        text-align: right;\n",
       "    }\n",
       "</style>\n",
       "<table border=\"1\" class=\"dataframe\">\n",
       "  <thead>\n",
       "    <tr style=\"text-align: right;\">\n",
       "      <th></th>\n",
       "      <th>category_Academic</th>\n",
       "      <th>category_Accessories</th>\n",
       "      <th>category_Action</th>\n",
       "      <th>category_Animation</th>\n",
       "      <th>category_Anthologies</th>\n",
       "      <th>category_Apparel</th>\n",
       "      <th>category_Apps</th>\n",
       "      <th>category_Architecture</th>\n",
       "      <th>category_Art</th>\n",
       "      <th>category_Art Books</th>\n",
       "      <th>...</th>\n",
       "      <th>currency_EUR</th>\n",
       "      <th>currency_GBP</th>\n",
       "      <th>currency_USD</th>\n",
       "      <th>currency_others</th>\n",
       "      <th>country_AU</th>\n",
       "      <th>country_CA</th>\n",
       "      <th>country_GB</th>\n",
       "      <th>country_US</th>\n",
       "      <th>country_others</th>\n",
       "      <th>days</th>\n",
       "    </tr>\n",
       "  </thead>\n",
       "  <tbody>\n",
       "    <tr>\n",
       "      <th>0</th>\n",
       "      <td>0</td>\n",
       "      <td>0</td>\n",
       "      <td>0</td>\n",
       "      <td>0</td>\n",
       "      <td>0</td>\n",
       "      <td>0</td>\n",
       "      <td>0</td>\n",
       "      <td>0</td>\n",
       "      <td>0</td>\n",
       "      <td>0</td>\n",
       "      <td>...</td>\n",
       "      <td>0</td>\n",
       "      <td>1</td>\n",
       "      <td>0</td>\n",
       "      <td>0</td>\n",
       "      <td>0</td>\n",
       "      <td>0</td>\n",
       "      <td>1</td>\n",
       "      <td>0</td>\n",
       "      <td>0</td>\n",
       "      <td>58.0</td>\n",
       "    </tr>\n",
       "    <tr>\n",
       "      <th>1</th>\n",
       "      <td>0</td>\n",
       "      <td>0</td>\n",
       "      <td>0</td>\n",
       "      <td>0</td>\n",
       "      <td>0</td>\n",
       "      <td>0</td>\n",
       "      <td>0</td>\n",
       "      <td>0</td>\n",
       "      <td>0</td>\n",
       "      <td>0</td>\n",
       "      <td>...</td>\n",
       "      <td>0</td>\n",
       "      <td>0</td>\n",
       "      <td>1</td>\n",
       "      <td>0</td>\n",
       "      <td>0</td>\n",
       "      <td>0</td>\n",
       "      <td>0</td>\n",
       "      <td>1</td>\n",
       "      <td>0</td>\n",
       "      <td>59.0</td>\n",
       "    </tr>\n",
       "    <tr>\n",
       "      <th>2</th>\n",
       "      <td>0</td>\n",
       "      <td>0</td>\n",
       "      <td>0</td>\n",
       "      <td>0</td>\n",
       "      <td>0</td>\n",
       "      <td>0</td>\n",
       "      <td>0</td>\n",
       "      <td>0</td>\n",
       "      <td>0</td>\n",
       "      <td>0</td>\n",
       "      <td>...</td>\n",
       "      <td>0</td>\n",
       "      <td>0</td>\n",
       "      <td>1</td>\n",
       "      <td>0</td>\n",
       "      <td>0</td>\n",
       "      <td>0</td>\n",
       "      <td>0</td>\n",
       "      <td>1</td>\n",
       "      <td>0</td>\n",
       "      <td>44.0</td>\n",
       "    </tr>\n",
       "    <tr>\n",
       "      <th>3</th>\n",
       "      <td>0</td>\n",
       "      <td>0</td>\n",
       "      <td>0</td>\n",
       "      <td>0</td>\n",
       "      <td>0</td>\n",
       "      <td>0</td>\n",
       "      <td>0</td>\n",
       "      <td>0</td>\n",
       "      <td>0</td>\n",
       "      <td>0</td>\n",
       "      <td>...</td>\n",
       "      <td>0</td>\n",
       "      <td>0</td>\n",
       "      <td>1</td>\n",
       "      <td>0</td>\n",
       "      <td>0</td>\n",
       "      <td>0</td>\n",
       "      <td>0</td>\n",
       "      <td>1</td>\n",
       "      <td>0</td>\n",
       "      <td>29.0</td>\n",
       "    </tr>\n",
       "    <tr>\n",
       "      <th>4</th>\n",
       "      <td>0</td>\n",
       "      <td>0</td>\n",
       "      <td>0</td>\n",
       "      <td>0</td>\n",
       "      <td>0</td>\n",
       "      <td>0</td>\n",
       "      <td>0</td>\n",
       "      <td>0</td>\n",
       "      <td>0</td>\n",
       "      <td>0</td>\n",
       "      <td>...</td>\n",
       "      <td>0</td>\n",
       "      <td>0</td>\n",
       "      <td>1</td>\n",
       "      <td>0</td>\n",
       "      <td>0</td>\n",
       "      <td>0</td>\n",
       "      <td>0</td>\n",
       "      <td>1</td>\n",
       "      <td>0</td>\n",
       "      <td>55.0</td>\n",
       "    </tr>\n",
       "  </tbody>\n",
       "</table>\n",
       "<p>5 rows × 118 columns</p>\n",
       "</div>"
      ],
      "text/plain": [
       "   category_Academic  category_Accessories  category_Action  \\\n",
       "0                  0                     0                0   \n",
       "1                  0                     0                0   \n",
       "2                  0                     0                0   \n",
       "3                  0                     0                0   \n",
       "4                  0                     0                0   \n",
       "\n",
       "   category_Animation  category_Anthologies  category_Apparel  category_Apps  \\\n",
       "0                   0                     0                 0              0   \n",
       "1                   0                     0                 0              0   \n",
       "2                   0                     0                 0              0   \n",
       "3                   0                     0                 0              0   \n",
       "4                   0                     0                 0              0   \n",
       "\n",
       "   category_Architecture  category_Art  category_Art Books  ...   \\\n",
       "0                      0             0                   0  ...    \n",
       "1                      0             0                   0  ...    \n",
       "2                      0             0                   0  ...    \n",
       "3                      0             0                   0  ...    \n",
       "4                      0             0                   0  ...    \n",
       "\n",
       "   currency_EUR  currency_GBP  currency_USD  currency_others  country_AU  \\\n",
       "0             0             1             0                0           0   \n",
       "1             0             0             1                0           0   \n",
       "2             0             0             1                0           0   \n",
       "3             0             0             1                0           0   \n",
       "4             0             0             1                0           0   \n",
       "\n",
       "   country_CA  country_GB  country_US  country_others  days  \n",
       "0           0           1           0               0  58.0  \n",
       "1           0           0           1               0  59.0  \n",
       "2           0           0           1               0  44.0  \n",
       "3           0           0           1               0  29.0  \n",
       "4           0           0           1               0  55.0  \n",
       "\n",
       "[5 rows x 118 columns]"
      ]
     },
     "execution_count": 182,
     "metadata": {},
     "output_type": "execute_result"
    }
   ],
   "source": [
    "# 説明変数を結合\n",
    "x_df_sum = pd.concat([x_df_one_hot, df_days], axis=1)\n",
    "display(x_df_sum.shape)\n",
    "x_df_sum.head()"
   ]
  },
  {
   "cell_type": "code",
   "execution_count": 183,
   "metadata": {},
   "outputs": [
    {
     "data": {
      "text/plain": [
       "(80000, 118)"
      ]
     },
     "metadata": {},
     "output_type": "display_data"
    },
    {
     "data": {
      "text/plain": [
       "(20000, 118)"
      ]
     },
     "metadata": {},
     "output_type": "display_data"
    },
    {
     "data": {
      "text/plain": [
       "(80000,)"
      ]
     },
     "metadata": {},
     "output_type": "display_data"
    },
    {
     "data": {
      "text/plain": [
       "(20000,)"
      ]
     },
     "metadata": {},
     "output_type": "display_data"
    }
   ],
   "source": [
    "sample_size = 100000\n",
    "X = x_df_sum.iloc[:sample_size,:].values\n",
    "y = y_bool[:sample_size].values * 1\n",
    "test_size = 0.2        # 全データのうち、何%をテストデータにするか（今回は20%に設定）\n",
    "X_train, X_test, y_train, y_test = train_test_split(X, y, test_size=test_size, random_state=1234) # ホールドアウト法を実行（テストデータはランダム選択）\n",
    "display(X_train.shape, X_test.shape, y_train.shape, y_test.shape)"
   ]
  },
  {
   "cell_type": "code",
   "execution_count": null,
   "metadata": {},
   "outputs": [
    {
     "name": "stdout",
     "output_type": "stream",
     "text": [
      "Fold 1\n",
      "対数尤度 = -11.312\n",
      "正答率 = 67.250%\n",
      "\n"
     ]
    }
   ],
   "source": [
    "n_split = 5 # グループ数を設定（今回は5分割）\n",
    "C = 5\n",
    "kernel = \"rbf\"\n",
    "gamma = 1\n",
    "\n",
    "cross_valid_log_like = 0\n",
    "cross_valid_acc = 0\n",
    "split_num = 1\n",
    "\n",
    "# 検証役を交代させながら学習と評価を繰り返す\n",
    "regr = []\n",
    "# 配列の定義\n",
    "y_pred_test = np.empty((len(X_test), n_split))\n",
    "\n",
    "for i, (train_idx, valid_idx) in enumerate(KFold(n_splits=n_split, random_state=None).split(X_train)):\n",
    "    train_x, train_y = X_train[train_idx], y_train[train_idx] #学習用データ\n",
    "    valid_x, valid_y = X_train[valid_idx], y_train[valid_idx]     #検証用データ\n",
    "    \n",
    "    # 学習用データを使って線形回帰モデルを学習\n",
    "    regr.append(SVC(C=C, kernel=kernel, gamma=gamma))\n",
    "    regr[i].fit(train_x, train_y)\n",
    "\n",
    "    # 検証データに対する予測を実行\n",
    "    y_pred_valid = regr[i].predict(valid_x)\n",
    "    \n",
    "    # 検証データに対する対数尤度を計算\n",
    "    log_like = - log_loss(valid_y, y_pred_valid)\n",
    "    acc = accuracy_score(valid_y, y_pred_valid)\n",
    "    print(\"Fold %s\"%split_num)\n",
    "    print(\"対数尤度 = %s\"%round(log_like, 3))\n",
    "    print('正答率 = {:.3f}%'.format(100 * acc))\n",
    "    print()\n",
    "    \n",
    "    cross_valid_log_like += log_like #後で平均を取るためにLog Likelihoodを加算\n",
    "    cross_valid_acc += 100 * acc\n",
    "    split_num += 1\n",
    "    \n",
    "    # テストデータの予測\n",
    "    # 配列の列方向に予測結果を挿入していく\n",
    "    y_pred_test[:,i] = regr[i].predict(X_test)\n",
    "    # テストデータに対する対数尤度を計算\n",
    "    test_log_like = - log_loss(y_test, y_pred_test[:,i])\n",
    "    test_acc = accuracy_score(y_test, y_pred_test[:,i])\n",
    "    print(\"テスト: 対数尤度 = %s\"%round(test_log_like, 3))\n",
    "    print('テスト: 正答率 = {:.3f}%'.format(100 * test_acc))\n",
    "    print()\n",
    "\n",
    "# MAEの平均値を最終的な汎化誤差値とする\n",
    "final_log_like = cross_valid_log_like / n_split\n",
    "final_acc = cross_valid_acc / n_split\n",
    "print(\"Cross Validation 対数尤度 = %s\"%round(final_log_like, 3))\n",
    "print(\"Cross Validation 正答率 = %s\"%round(final_acc, 3))\n",
    "\n",
    "# テスト\n",
    "y_pred_test.shape"
   ]
  },
  {
   "cell_type": "markdown",
   "metadata": {},
   "source": [
    "### SVMの総合結果"
   ]
  },
  {
   "cell_type": "code",
   "execution_count": 44,
   "metadata": {},
   "outputs": [
    {
     "data": {
      "text/plain": [
       "(4000,)"
      ]
     },
     "metadata": {},
     "output_type": "display_data"
    },
    {
     "name": "stdout",
     "output_type": "stream",
     "text": [
      "テスト: 対数尤度 = -11.925\n",
      "テスト: 正答率 = 65.475%\n"
     ]
    }
   ],
   "source": [
    "# 予測結果から合計して3以上を1,else 0→精度を再算出\n",
    "y_pred_test_sum = (y_pred_test.sum(axis=1) > 3) * 1\n",
    "display(y_pred_test_sum.shape)\n",
    "# テストデータに対する対数尤度を計算\n",
    "test_log_like = - log_loss(y_test, y_pred_test_sum)\n",
    "test_acc = accuracy_score(y_test, y_pred_test_sum)\n",
    "print(\"テスト: 対数尤度 = %s\"%round(test_log_like, 3))\n",
    "print('テスト: 正答率 = {:.3f}%'.format(100 * test_acc))"
   ]
  },
  {
   "cell_type": "markdown",
   "metadata": {},
   "source": [
    "# 標準化、白色化\n",
    "- goal, days を標準化"
   ]
  },
  {
   "cell_type": "code",
   "execution_count": 40,
   "metadata": {},
   "outputs": [],
   "source": [
    "# 標準化\n",
    "from sklearn.preprocessing import StandardScaler"
   ]
  },
  {
   "cell_type": "code",
   "execution_count": 47,
   "metadata": {},
   "outputs": [
    {
     "data": {
      "text/html": [
       "<div>\n",
       "<style scoped>\n",
       "    .dataframe tbody tr th:only-of-type {\n",
       "        vertical-align: middle;\n",
       "    }\n",
       "\n",
       "    .dataframe tbody tr th {\n",
       "        vertical-align: top;\n",
       "    }\n",
       "\n",
       "    .dataframe thead th {\n",
       "        text-align: right;\n",
       "    }\n",
       "</style>\n",
       "<table border=\"1\" class=\"dataframe\">\n",
       "  <thead>\n",
       "    <tr style=\"text-align: right;\">\n",
       "      <th></th>\n",
       "      <th>category_Academic</th>\n",
       "      <th>category_Accessories</th>\n",
       "      <th>category_Action</th>\n",
       "      <th>category_Animation</th>\n",
       "      <th>category_Anthologies</th>\n",
       "      <th>category_Apparel</th>\n",
       "      <th>category_Apps</th>\n",
       "      <th>category_Architecture</th>\n",
       "      <th>category_Art</th>\n",
       "      <th>category_Art Books</th>\n",
       "      <th>...</th>\n",
       "      <th>currency_GBP</th>\n",
       "      <th>currency_USD</th>\n",
       "      <th>currency_others</th>\n",
       "      <th>country_AU</th>\n",
       "      <th>country_CA</th>\n",
       "      <th>country_GB</th>\n",
       "      <th>country_US</th>\n",
       "      <th>country_others</th>\n",
       "      <th>std_days</th>\n",
       "      <th>std_goal</th>\n",
       "    </tr>\n",
       "  </thead>\n",
       "  <tbody>\n",
       "    <tr>\n",
       "      <th>0</th>\n",
       "      <td>0</td>\n",
       "      <td>0</td>\n",
       "      <td>0</td>\n",
       "      <td>0</td>\n",
       "      <td>0</td>\n",
       "      <td>0</td>\n",
       "      <td>0</td>\n",
       "      <td>0</td>\n",
       "      <td>0</td>\n",
       "      <td>0</td>\n",
       "      <td>...</td>\n",
       "      <td>1</td>\n",
       "      <td>0</td>\n",
       "      <td>0</td>\n",
       "      <td>0</td>\n",
       "      <td>0</td>\n",
       "      <td>1</td>\n",
       "      <td>0</td>\n",
       "      <td>0</td>\n",
       "      <td>0.372011</td>\n",
       "      <td>-0.040630</td>\n",
       "    </tr>\n",
       "    <tr>\n",
       "      <th>1</th>\n",
       "      <td>0</td>\n",
       "      <td>0</td>\n",
       "      <td>0</td>\n",
       "      <td>0</td>\n",
       "      <td>0</td>\n",
       "      <td>0</td>\n",
       "      <td>0</td>\n",
       "      <td>0</td>\n",
       "      <td>0</td>\n",
       "      <td>0</td>\n",
       "      <td>...</td>\n",
       "      <td>0</td>\n",
       "      <td>1</td>\n",
       "      <td>0</td>\n",
       "      <td>0</td>\n",
       "      <td>0</td>\n",
       "      <td>0</td>\n",
       "      <td>1</td>\n",
       "      <td>0</td>\n",
       "      <td>0.387183</td>\n",
       "      <td>-0.016124</td>\n",
       "    </tr>\n",
       "    <tr>\n",
       "      <th>2</th>\n",
       "      <td>0</td>\n",
       "      <td>0</td>\n",
       "      <td>0</td>\n",
       "      <td>0</td>\n",
       "      <td>0</td>\n",
       "      <td>0</td>\n",
       "      <td>0</td>\n",
       "      <td>0</td>\n",
       "      <td>0</td>\n",
       "      <td>0</td>\n",
       "      <td>...</td>\n",
       "      <td>0</td>\n",
       "      <td>1</td>\n",
       "      <td>0</td>\n",
       "      <td>0</td>\n",
       "      <td>0</td>\n",
       "      <td>0</td>\n",
       "      <td>1</td>\n",
       "      <td>0</td>\n",
       "      <td>0.159597</td>\n",
       "      <td>-0.003448</td>\n",
       "    </tr>\n",
       "    <tr>\n",
       "      <th>3</th>\n",
       "      <td>0</td>\n",
       "      <td>0</td>\n",
       "      <td>0</td>\n",
       "      <td>0</td>\n",
       "      <td>0</td>\n",
       "      <td>0</td>\n",
       "      <td>0</td>\n",
       "      <td>0</td>\n",
       "      <td>0</td>\n",
       "      <td>0</td>\n",
       "      <td>...</td>\n",
       "      <td>0</td>\n",
       "      <td>1</td>\n",
       "      <td>0</td>\n",
       "      <td>0</td>\n",
       "      <td>0</td>\n",
       "      <td>0</td>\n",
       "      <td>1</td>\n",
       "      <td>0</td>\n",
       "      <td>-0.067989</td>\n",
       "      <td>-0.037250</td>\n",
       "    </tr>\n",
       "    <tr>\n",
       "      <th>4</th>\n",
       "      <td>0</td>\n",
       "      <td>0</td>\n",
       "      <td>0</td>\n",
       "      <td>0</td>\n",
       "      <td>0</td>\n",
       "      <td>0</td>\n",
       "      <td>0</td>\n",
       "      <td>0</td>\n",
       "      <td>0</td>\n",
       "      <td>0</td>\n",
       "      <td>...</td>\n",
       "      <td>0</td>\n",
       "      <td>1</td>\n",
       "      <td>0</td>\n",
       "      <td>0</td>\n",
       "      <td>0</td>\n",
       "      <td>0</td>\n",
       "      <td>1</td>\n",
       "      <td>0</td>\n",
       "      <td>0.326493</td>\n",
       "      <td>-0.024997</td>\n",
       "    </tr>\n",
       "  </tbody>\n",
       "</table>\n",
       "<p>5 rows × 119 columns</p>\n",
       "</div>"
      ],
      "text/plain": [
       "   category_Academic  category_Accessories  category_Action  \\\n",
       "0                  0                     0                0   \n",
       "1                  0                     0                0   \n",
       "2                  0                     0                0   \n",
       "3                  0                     0                0   \n",
       "4                  0                     0                0   \n",
       "\n",
       "   category_Animation  category_Anthologies  category_Apparel  category_Apps  \\\n",
       "0                   0                     0                 0              0   \n",
       "1                   0                     0                 0              0   \n",
       "2                   0                     0                 0              0   \n",
       "3                   0                     0                 0              0   \n",
       "4                   0                     0                 0              0   \n",
       "\n",
       "   category_Architecture  category_Art  category_Art Books    ...     \\\n",
       "0                      0             0                   0    ...      \n",
       "1                      0             0                   0    ...      \n",
       "2                      0             0                   0    ...      \n",
       "3                      0             0                   0    ...      \n",
       "4                      0             0                   0    ...      \n",
       "\n",
       "   currency_GBP  currency_USD  currency_others  country_AU  country_CA  \\\n",
       "0             1             0                0           0           0   \n",
       "1             0             1                0           0           0   \n",
       "2             0             1                0           0           0   \n",
       "3             0             1                0           0           0   \n",
       "4             0             1                0           0           0   \n",
       "\n",
       "   country_GB  country_US  country_others  std_days  std_goal  \n",
       "0           1           0               0  0.372011 -0.040630  \n",
       "1           0           1               0  0.387183 -0.016124  \n",
       "2           0           1               0  0.159597 -0.003448  \n",
       "3           0           1               0 -0.067989 -0.037250  \n",
       "4           0           1               0  0.326493 -0.024997  \n",
       "\n",
       "[5 rows x 119 columns]"
      ]
     },
     "execution_count": 47,
     "metadata": {},
     "output_type": "execute_result"
    }
   ],
   "source": [
    "stdsc = StandardScaler()\n",
    "x_df_std = x_df_sum.drop('days', axis=1)\n",
    "x_df_std['std_days'] = stdsc.fit_transform(x_df_sum['days'].values.reshape(-1,1))\n",
    "x_df_std['std_goal'] = stdsc.fit_transform(x_df['goal'].values.reshape(-1,1))\n",
    "x_df_std.head()"
   ]
  },
  {
   "cell_type": "code",
   "execution_count": 50,
   "metadata": {},
   "outputs": [
    {
     "data": {
      "text/plain": [
       "(302928, 119)"
      ]
     },
     "metadata": {},
     "output_type": "display_data"
    },
    {
     "data": {
      "text/plain": [
       "(75733, 119)"
      ]
     },
     "metadata": {},
     "output_type": "display_data"
    },
    {
     "data": {
      "text/plain": [
       "(302928,)"
      ]
     },
     "metadata": {},
     "output_type": "display_data"
    },
    {
     "data": {
      "text/plain": [
       "(75733,)"
      ]
     },
     "metadata": {},
     "output_type": "display_data"
    }
   ],
   "source": [
    "X = x_df_std.values\n",
    "y = y_bool.values * 1\n",
    "test_size = 0.2        # 全データのうち、何%をテストデータにするか（今回は20%に設定）\n",
    "X_train, X_test, y_train, y_test = train_test_split(X, y, test_size=test_size, random_state=1234) # ホールドアウト法を実行（テストデータはランダム選択）\n",
    "display(X_train.shape, X_test.shape, y_train.shape, y_test.shape)"
   ]
  },
  {
   "cell_type": "code",
   "execution_count": 51,
   "metadata": {},
   "outputs": [
    {
     "name": "stdout",
     "output_type": "stream",
     "text": [
      "Fold 1\n",
      "対数尤度 = -10.879\n",
      "正答率 = 68.501%\n",
      "\n",
      "テスト: 対数尤度 = -10.635\n",
      "テスト: 正答率 = 69.209%\n",
      "\n",
      "Fold 2\n",
      "対数尤度 = -10.78\n",
      "正答率 = 68.788%\n",
      "\n",
      "テスト: 対数尤度 = -10.64\n",
      "テスト: 正答率 = 69.193%\n",
      "\n",
      "Fold 3\n",
      "対数尤度 = -10.722\n",
      "正答率 = 68.958%\n",
      "\n",
      "テスト: 対数尤度 = -10.624\n",
      "テスト: 正答率 = 69.241%\n",
      "\n",
      "Fold 4\n",
      "対数尤度 = -10.662\n",
      "正答率 = 69.129%\n",
      "\n",
      "テスト: 対数尤度 = -10.613\n",
      "テスト: 正答率 = 69.272%\n",
      "\n",
      "Fold 5\n",
      "対数尤度 = -10.732\n",
      "正答率 = 68.928%\n",
      "\n",
      "テスト: 対数尤度 = -10.622\n",
      "テスト: 正答率 = 69.247%\n",
      "\n",
      "Cross Validation 対数尤度 = -10.755\n",
      "Cross Validation 正答率 = 68.861\n"
     ]
    },
    {
     "data": {
      "text/plain": [
       "(75733, 5)"
      ]
     },
     "execution_count": 51,
     "metadata": {},
     "output_type": "execute_result"
    }
   ],
   "source": [
    "n_split = 5 # グループ数を設定（今回は5分割）\n",
    "\n",
    "cross_valid_log_like = 0\n",
    "cross_valid_acc = 0\n",
    "split_num = 1\n",
    "\n",
    "# 検証役を交代させながら学習と評価を繰り返す\n",
    "regr = []\n",
    "# 配列の定義\n",
    "y_pred_test = np.empty((len(X_test), n_split))\n",
    "\n",
    "for i, (train_idx, valid_idx) in enumerate(KFold(n_splits=n_split, random_state=None).split(X_train)):\n",
    "    train_x, train_y = X_train[train_idx], y_train[train_idx] #学習用データ\n",
    "    valid_x, valid_y = X_train[valid_idx], y_train[valid_idx]     #検証用データ\n",
    "    \n",
    "    # 学習用データを使って線形回帰モデルを学習\n",
    "    regr.append(SGDClassifier(loss='log', penalty='none', max_iter=100, fit_intercept=False))\n",
    "    regr[i].fit(train_x, train_y)\n",
    "\n",
    "    # 検証データに対する予測を実行\n",
    "    y_pred_valid = regr[i].predict(valid_x)\n",
    "    \n",
    "    # 検証データに対する対数尤度を計算\n",
    "    log_like = - log_loss(valid_y, y_pred_valid)\n",
    "    acc = accuracy_score(valid_y, y_pred_valid)\n",
    "    print(\"Fold %s\"%split_num)\n",
    "    print(\"対数尤度 = %s\"%round(log_like, 3))\n",
    "    print('正答率 = {:.3f}%'.format(100 * acc))\n",
    "    print()\n",
    "    \n",
    "    cross_valid_log_like += log_like #後で平均を取るためにLog Likelihoodを加算\n",
    "    cross_valid_acc += 100 * acc\n",
    "    split_num += 1\n",
    "    \n",
    "    # テストデータの予測\n",
    "    # 配列の列方向に予測結果を挿入していく\n",
    "    y_pred_test[:,i] = regr[i].predict(X_test)\n",
    "    # テストデータに対する対数尤度を計算\n",
    "    test_log_like = - log_loss(y_test, y_pred_test[:,i])\n",
    "    test_acc = accuracy_score(y_test, y_pred_test[:,i])\n",
    "    print(\"テスト: 対数尤度 = %s\"%round(test_log_like, 3))\n",
    "    print('テスト: 正答率 = {:.3f}%'.format(100 * test_acc))\n",
    "    print()\n",
    "\n",
    "# MAEの平均値を最終的な汎化誤差値とする\n",
    "final_log_like = cross_valid_log_like / n_split\n",
    "final_acc = cross_valid_acc / n_split\n",
    "print(\"Cross Validation 対数尤度 = %s\"%round(final_log_like, 3))\n",
    "print(\"Cross Validation 正答率 = %s\"%round(final_acc, 3))\n",
    "\n",
    "# テスト\n",
    "y_pred_test.shape"
   ]
  },
  {
   "cell_type": "markdown",
   "metadata": {},
   "source": [
    "### KFold後のそれぞれのfoldでの結果を総合して計算"
   ]
  },
  {
   "cell_type": "code",
   "execution_count": 52,
   "metadata": {},
   "outputs": [
    {
     "data": {
      "text/plain": [
       "(75733,)"
      ]
     },
     "metadata": {},
     "output_type": "display_data"
    },
    {
     "name": "stdout",
     "output_type": "stream",
     "text": [
      "テスト: 対数尤度 = -10.627\n",
      "テスト: 正答率 = 69.233%\n"
     ]
    }
   ],
   "source": [
    "# 予測結果から合計して3以上を1,else 0→精度を再算出\n",
    "y_pred_test_sum = (y_pred_test.sum(axis=1) > 3) * 1\n",
    "display(y_pred_test_sum.shape)\n",
    "# テストデータに対する対数尤度を計算\n",
    "test_log_like = - log_loss(y_test, y_pred_test_sum)\n",
    "test_acc = accuracy_score(y_test, y_pred_test_sum)\n",
    "print(\"テスト: 対数尤度 = %s\"%round(test_log_like, 3))\n",
    "print('テスト: 正答率 = {:.3f}%'.format(100 * test_acc))"
   ]
  },
  {
   "cell_type": "markdown",
   "metadata": {},
   "source": [
    "#### 標準化で精度が上がった"
   ]
  },
  {
   "cell_type": "markdown",
   "metadata": {},
   "source": [
    "### 白色化"
   ]
  },
  {
   "cell_type": "code",
   "execution_count": 57,
   "metadata": {},
   "outputs": [
    {
     "data": {
      "text/plain": [
       "(378661, 119)"
      ]
     },
     "execution_count": 57,
     "metadata": {},
     "output_type": "execute_result"
    }
   ],
   "source": [
    "#  無相関化を行うための一連の処理\n",
    "cov = np.cov(X, rowvar=0) # 分散・共分散を求める\n",
    "_, S = np.linalg.eig(cov)           # 分散共分散行列の固有ベクトルを用いて\n",
    "X_decorr = np.dot(S.T, X.T).T #データを無相関化\n",
    "X_decorr.shape"
   ]
  },
  {
   "cell_type": "code",
   "execution_count": 58,
   "metadata": {},
   "outputs": [
    {
     "data": {
      "text/plain": [
       "(302928, 119)"
      ]
     },
     "metadata": {},
     "output_type": "display_data"
    },
    {
     "data": {
      "text/plain": [
       "(75733, 119)"
      ]
     },
     "metadata": {},
     "output_type": "display_data"
    },
    {
     "data": {
      "text/plain": [
       "(302928,)"
      ]
     },
     "metadata": {},
     "output_type": "display_data"
    },
    {
     "data": {
      "text/plain": [
       "(75733,)"
      ]
     },
     "metadata": {},
     "output_type": "display_data"
    }
   ],
   "source": [
    "y = y_bool.values * 1\n",
    "test_size = 0.2        # 全データのうち、何%をテストデータにするか（今回は20%に設定）\n",
    "X_train, X_test, y_train, y_test = train_test_split(X_decorr, y, test_size=test_size, random_state=1234) # ホールドアウト法を実行（テストデータはランダム選択）\n",
    "display(X_train.shape, X_test.shape, y_train.shape, y_test.shape)"
   ]
  },
  {
   "cell_type": "code",
   "execution_count": 59,
   "metadata": {},
   "outputs": [
    {
     "name": "stdout",
     "output_type": "stream",
     "text": [
      "Fold 1\n",
      "対数尤度 = -10.858\n",
      "正答率 = 68.562%\n",
      "\n",
      "テスト: 対数尤度 = -10.614\n",
      "テスト: 正答率 = 69.270%\n",
      "\n",
      "Fold 2\n",
      "対数尤度 = -10.798\n",
      "正答率 = 68.737%\n",
      "\n",
      "テスト: 対数尤度 = -10.644\n",
      "テスト: 正答率 = 69.184%\n",
      "\n",
      "Fold 3\n",
      "対数尤度 = -10.719\n",
      "正答率 = 68.965%\n",
      "\n",
      "テスト: 対数尤度 = -10.634\n",
      "テスト: 正答率 = 69.210%\n",
      "\n",
      "Fold 4\n",
      "対数尤度 = -10.674\n",
      "正答率 = 69.095%\n",
      "\n",
      "テスト: 対数尤度 = -10.619\n",
      "テスト: 正答率 = 69.254%\n",
      "\n",
      "Fold 5\n",
      "対数尤度 = -10.737\n",
      "正答率 = 68.915%\n",
      "\n",
      "テスト: 対数尤度 = -10.633\n",
      "テスト: 正答率 = 69.214%\n",
      "\n",
      "Cross Validation 対数尤度 = -10.757\n",
      "Cross Validation 正答率 = 68.855\n"
     ]
    },
    {
     "data": {
      "text/plain": [
       "(75733, 5)"
      ]
     },
     "execution_count": 59,
     "metadata": {},
     "output_type": "execute_result"
    }
   ],
   "source": [
    "n_split = 5 # グループ数を設定（今回は5分割）\n",
    "\n",
    "cross_valid_log_like = 0\n",
    "cross_valid_acc = 0\n",
    "split_num = 1\n",
    "\n",
    "# 検証役を交代させながら学習と評価を繰り返す\n",
    "regr = []\n",
    "# 配列の定義\n",
    "y_pred_test = np.empty((len(X_test), n_split))\n",
    "\n",
    "for i, (train_idx, valid_idx) in enumerate(KFold(n_splits=n_split, random_state=None).split(X_train)):\n",
    "    train_x, train_y = X_train[train_idx], y_train[train_idx] #学習用データ\n",
    "    valid_x, valid_y = X_train[valid_idx], y_train[valid_idx]     #検証用データ\n",
    "    \n",
    "    # 学習用データを使って線形回帰モデルを学習\n",
    "    regr.append(SGDClassifier(loss='log', penalty='none', max_iter=100, fit_intercept=False))\n",
    "    regr[i].fit(train_x, train_y)\n",
    "\n",
    "    # 検証データに対する予測を実行\n",
    "    y_pred_valid = regr[i].predict(valid_x)\n",
    "    \n",
    "    # 検証データに対する対数尤度を計算\n",
    "    log_like = - log_loss(valid_y, y_pred_valid)\n",
    "    acc = accuracy_score(valid_y, y_pred_valid)\n",
    "    print(\"Fold %s\"%split_num)\n",
    "    print(\"対数尤度 = %s\"%round(log_like, 3))\n",
    "    print('正答率 = {:.3f}%'.format(100 * acc))\n",
    "    print()\n",
    "    \n",
    "    cross_valid_log_like += log_like #後で平均を取るためにLog Likelihoodを加算\n",
    "    cross_valid_acc += 100 * acc\n",
    "    split_num += 1\n",
    "    \n",
    "    # テストデータの予測\n",
    "    # 配列の列方向に予測結果を挿入していく\n",
    "    y_pred_test[:,i] = regr[i].predict(X_test)\n",
    "    # テストデータに対する対数尤度を計算\n",
    "    test_log_like = - log_loss(y_test, y_pred_test[:,i])\n",
    "    test_acc = accuracy_score(y_test, y_pred_test[:,i])\n",
    "    print(\"テスト: 対数尤度 = %s\"%round(test_log_like, 3))\n",
    "    print('テスト: 正答率 = {:.3f}%'.format(100 * test_acc))\n",
    "    print()\n",
    "\n",
    "# MAEの平均値を最終的な汎化誤差値とする\n",
    "final_log_like = cross_valid_log_like / n_split\n",
    "final_acc = cross_valid_acc / n_split\n",
    "print(\"Cross Validation 対数尤度 = %s\"%round(final_log_like, 3))\n",
    "print(\"Cross Validation 正答率 = %s\"%round(final_acc, 3))\n",
    "\n",
    "# テスト\n",
    "y_pred_test.shape"
   ]
  },
  {
   "cell_type": "markdown",
   "metadata": {},
   "source": [
    "### KFold後のそれぞれのfoldでの結果を総合して計算"
   ]
  },
  {
   "cell_type": "code",
   "execution_count": 60,
   "metadata": {},
   "outputs": [
    {
     "data": {
      "text/plain": [
       "(75733,)"
      ]
     },
     "metadata": {},
     "output_type": "display_data"
    },
    {
     "name": "stdout",
     "output_type": "stream",
     "text": [
      "テスト: 対数尤度 = -10.636\n",
      "テスト: 正答率 = 69.206%\n"
     ]
    }
   ],
   "source": [
    "# 予測結果から合計して3以上を1,else 0→精度を再算出\n",
    "y_pred_test_sum = (y_pred_test.sum(axis=1) > 3) * 1\n",
    "display(y_pred_test_sum.shape)\n",
    "# テストデータに対する対数尤度を計算\n",
    "test_log_like = - log_loss(y_test, y_pred_test_sum)\n",
    "test_acc = accuracy_score(y_test, y_pred_test_sum)\n",
    "print(\"テスト: 対数尤度 = %s\"%round(test_log_like, 3))\n",
    "print('テスト: 正答率 = {:.3f}%'.format(100 * test_acc))"
   ]
  },
  {
   "cell_type": "markdown",
   "metadata": {},
   "source": [
    "## SVM"
   ]
  },
  {
   "cell_type": "code",
   "execution_count": 62,
   "metadata": {},
   "outputs": [
    {
     "data": {
      "text/plain": [
       "(8000, 119)"
      ]
     },
     "metadata": {},
     "output_type": "display_data"
    },
    {
     "data": {
      "text/plain": [
       "(2000, 119)"
      ]
     },
     "metadata": {},
     "output_type": "display_data"
    },
    {
     "data": {
      "text/plain": [
       "(8000,)"
      ]
     },
     "metadata": {},
     "output_type": "display_data"
    },
    {
     "data": {
      "text/plain": [
       "(2000,)"
      ]
     },
     "metadata": {},
     "output_type": "display_data"
    }
   ],
   "source": [
    "sample_size = 10000\n",
    "X = X_decorr[:sample_size]\n",
    "y = y_bool[:sample_size].values * 1\n",
    "test_size = 0.2        # 全データのうち、何%をテストデータにするか（今回は20%に設定）\n",
    "X_train, X_test, y_train, y_test = train_test_split(X, y, test_size=test_size, random_state=1234) # ホールドアウト法を実行（テストデータはランダム選択）\n",
    "display(X_train.shape, X_test.shape, y_train.shape, y_test.shape)"
   ]
  },
  {
   "cell_type": "code",
   "execution_count": 63,
   "metadata": {},
   "outputs": [
    {
     "name": "stdout",
     "output_type": "stream",
     "text": [
      "Fold 1\n",
      "対数尤度 = -11.959\n",
      "正答率 = 65.375%\n",
      "\n",
      "テスト: 対数尤度 = -12.192\n",
      "テスト: 正答率 = 64.700%\n",
      "\n",
      "Fold 2\n",
      "対数尤度 = -10.707\n",
      "正答率 = 69.000%\n",
      "\n",
      "テスト: 対数尤度 = -11.778\n",
      "テスト: 正答率 = 65.900%\n",
      "\n",
      "Fold 3\n",
      "対数尤度 = -10.858\n",
      "正答率 = 68.562%\n",
      "\n",
      "テスト: 対数尤度 = -11.985\n",
      "テスト: 正答率 = 65.300%\n",
      "\n",
      "Fold 4\n",
      "対数尤度 = -11.052\n",
      "正答率 = 68.000%\n",
      "\n",
      "テスト: 対数尤度 = -11.812\n",
      "テスト: 正答率 = 65.800%\n",
      "\n",
      "Fold 5\n",
      "対数尤度 = -11.506\n",
      "正答率 = 66.688%\n",
      "\n",
      "テスト: 対数尤度 = -11.899\n",
      "テスト: 正答率 = 65.550%\n",
      "\n",
      "Cross Validation 対数尤度 = -11.217\n",
      "Cross Validation 正答率 = 67.525\n"
     ]
    },
    {
     "data": {
      "text/plain": [
       "(2000, 5)"
      ]
     },
     "execution_count": 63,
     "metadata": {},
     "output_type": "execute_result"
    }
   ],
   "source": [
    "n_split = 5 # グループ数を設定（今回は5分割）\n",
    "C = 5\n",
    "kernel = \"rbf\"\n",
    "gamma = 1\n",
    "\n",
    "cross_valid_log_like = 0\n",
    "cross_valid_acc = 0\n",
    "split_num = 1\n",
    "\n",
    "# 検証役を交代させながら学習と評価を繰り返す\n",
    "regr = []\n",
    "# 配列の定義\n",
    "y_pred_test = np.empty((len(X_test), n_split))\n",
    "\n",
    "for i, (train_idx, valid_idx) in enumerate(KFold(n_splits=n_split, random_state=None).split(X_train)):\n",
    "    train_x, train_y = X_train[train_idx], y_train[train_idx] #学習用データ\n",
    "    valid_x, valid_y = X_train[valid_idx], y_train[valid_idx]     #検証用データ\n",
    "    \n",
    "    # 学習用データを使って線形回帰モデルを学習\n",
    "    regr.append(SVC(C=C, kernel=kernel, gamma=gamma))\n",
    "    regr[i].fit(train_x, train_y)\n",
    "\n",
    "    # 検証データに対する予測を実行\n",
    "    y_pred_valid = regr[i].predict(valid_x)\n",
    "    \n",
    "    # 検証データに対する対数尤度を計算\n",
    "    log_like = - log_loss(valid_y, y_pred_valid)\n",
    "    acc = accuracy_score(valid_y, y_pred_valid)\n",
    "    print(\"Fold %s\"%split_num)\n",
    "    print(\"対数尤度 = %s\"%round(log_like, 3))\n",
    "    print('正答率 = {:.3f}%'.format(100 * acc))\n",
    "    print()\n",
    "    \n",
    "    cross_valid_log_like += log_like #後で平均を取るためにLog Likelihoodを加算\n",
    "    cross_valid_acc += 100 * acc\n",
    "    split_num += 1\n",
    "    \n",
    "    # テストデータの予測\n",
    "    # 配列の列方向に予測結果を挿入していく\n",
    "    y_pred_test[:,i] = regr[i].predict(X_test)\n",
    "    # テストデータに対する対数尤度を計算\n",
    "    test_log_like = - log_loss(y_test, y_pred_test[:,i])\n",
    "    test_acc = accuracy_score(y_test, y_pred_test[:,i])\n",
    "    print(\"テスト: 対数尤度 = %s\"%round(test_log_like, 3))\n",
    "    print('テスト: 正答率 = {:.3f}%'.format(100 * test_acc))\n",
    "    print()\n",
    "\n",
    "# MAEの平均値を最終的な汎化誤差値とする\n",
    "final_log_like = cross_valid_log_like / n_split\n",
    "final_acc = cross_valid_acc / n_split\n",
    "print(\"Cross Validation 対数尤度 = %s\"%round(final_log_like, 3))\n",
    "print(\"Cross Validation 正答率 = %s\"%round(final_acc, 3))\n",
    "\n",
    "# テスト\n",
    "y_pred_test.shape"
   ]
  },
  {
   "cell_type": "markdown",
   "metadata": {},
   "source": [
    "### SVMの総合結果"
   ]
  },
  {
   "cell_type": "code",
   "execution_count": 64,
   "metadata": {},
   "outputs": [
    {
     "data": {
      "text/plain": [
       "(2000,)"
      ]
     },
     "metadata": {},
     "output_type": "display_data"
    },
    {
     "name": "stdout",
     "output_type": "stream",
     "text": [
      "テスト: 対数尤度 = -11.864\n",
      "テスト: 正答率 = 65.650%\n"
     ]
    }
   ],
   "source": [
    "# 予測結果から合計して3以上を1,else 0→精度を再算出\n",
    "y_pred_test_sum = (y_pred_test.sum(axis=1) > 3) * 1\n",
    "display(y_pred_test_sum.shape)\n",
    "# テストデータに対する対数尤度を計算\n",
    "test_log_like = - log_loss(y_test, y_pred_test_sum)\n",
    "test_acc = accuracy_score(y_test, y_pred_test_sum)\n",
    "print(\"テスト: 対数尤度 = %s\"%round(test_log_like, 3))\n",
    "print('テスト: 正答率 = {:.3f}%'.format(100 * test_acc))"
   ]
  },
  {
   "cell_type": "code",
   "execution_count": null,
   "metadata": {},
   "outputs": [],
   "source": []
  }
 ],
 "metadata": {
  "kernelspec": {
   "display_name": "Python 3",
   "language": "python",
   "name": "python3"
  },
  "language_info": {
   "codemirror_mode": {
    "name": "ipython",
    "version": 3
   },
   "file_extension": ".py",
   "mimetype": "text/x-python",
   "name": "python",
   "nbconvert_exporter": "python",
   "pygments_lexer": "ipython3",
   "version": "3.6.4"
  }
 },
 "nbformat": 4,
 "nbformat_minor": 2
}
