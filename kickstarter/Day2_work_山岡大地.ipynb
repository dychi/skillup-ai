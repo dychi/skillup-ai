{
 "cells": [
  {
   "cell_type": "markdown",
   "metadata": {},
   "source": [
    "# 前回の復習・振り返り"
   ]
  },
  {
   "cell_type": "markdown",
   "metadata": {},
   "source": [
    "相関係数のヒートマップ表示\n",
    "```\n",
    "plt.figure(figsize=(10,10))\n",
    "sns.heatmap(df_one_hot.iloc[:,:20].corr(), cmap=\"coolwarm_r\", vmin=-1, vmax=1, center=0)\n",
    "```\n",
    "\n",
    "数値が少ないクラスは、othersでまとめてしまう</br>\n",
    "その上で2クラスのデータをone hotにしたら、各変数は必ず-1の相関がある</br>\n",
    "可視化の方法は、y軸:目的変数、x軸:どれかの説明変数</br>\n",
    "orderedな変数は、カテゴリカル変数にした方が良い、それ以外はone hot変数にした方が良い</br>\n",
    "SVMとカーネルサイズを試す</br>"
   ]
  },
  {
   "cell_type": "markdown",
   "metadata": {},
   "source": [
    "# Day2"
   ]
  },
  {
   "cell_type": "code",
   "execution_count": null,
   "metadata": {},
   "outputs": [],
   "source": []
  },
  {
   "cell_type": "code",
   "execution_count": null,
   "metadata": {},
   "outputs": [],
   "source": []
  },
  {
   "cell_type": "code",
   "execution_count": null,
   "metadata": {},
   "outputs": [],
   "source": []
  }
 ],
 "metadata": {
  "kernelspec": {
   "display_name": "Python 3",
   "language": "python",
   "name": "python3"
  },
  "language_info": {
   "codemirror_mode": {
    "name": "ipython",
    "version": 3
   },
   "file_extension": ".py",
   "mimetype": "text/x-python",
   "name": "python",
   "nbconvert_exporter": "python",
   "pygments_lexer": "ipython3",
   "version": "3.6.4"
  }
 },
 "nbformat": 4,
 "nbformat_minor": 2
}
