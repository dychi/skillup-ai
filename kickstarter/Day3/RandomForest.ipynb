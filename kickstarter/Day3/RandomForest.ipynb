{
 "cells": [
  {
   "cell_type": "code",
   "execution_count": 1,
   "metadata": {},
   "outputs": [],
   "source": [
    "import pandas as pd\n",
    "import numpy as np\n",
    "\n",
    "import matplotlib.pyplot as plt\n",
    "%matplotlib inline\n",
    "import seaborn as sns"
   ]
  },
  {
   "cell_type": "code",
   "execution_count": 4,
   "metadata": {},
   "outputs": [],
   "source": [
    "# Model\n",
    "from sklearn.linear_model import ElasticNetCV, ElasticNet\n",
    "# Data process\n",
    "from sklearn.model_selection import KFold, train_test_split\n",
    "# Metrics\n",
    "from sklearn.metrics import log_loss, accuracy_score, confusion_matrix\n",
    "# Feature Selectioon\n",
    "from sklearn.feature_selection import RFECV\n",
    "# Decision Tree\n",
    "from sklearn.tree import DecisionTreeClassifier, export_graphviz"
   ]
  },
  {
   "cell_type": "code",
   "execution_count": 5,
   "metadata": {
    "scrolled": true
   },
   "outputs": [
    {
     "data": {
      "text/html": [
       "<div>\n",
       "<style scoped>\n",
       "    .dataframe tbody tr th:only-of-type {\n",
       "        vertical-align: middle;\n",
       "    }\n",
       "\n",
       "    .dataframe tbody tr th {\n",
       "        vertical-align: top;\n",
       "    }\n",
       "\n",
       "    .dataframe thead th {\n",
       "        text-align: right;\n",
       "    }\n",
       "</style>\n",
       "<table border=\"1\" class=\"dataframe\">\n",
       "  <thead>\n",
       "    <tr style=\"text-align: right;\">\n",
       "      <th></th>\n",
       "      <th>state</th>\n",
       "      <th>category</th>\n",
       "      <th>main_category</th>\n",
       "      <th>currency</th>\n",
       "      <th>country</th>\n",
       "      <th>days</th>\n",
       "      <th>goal</th>\n",
       "    </tr>\n",
       "  </thead>\n",
       "  <tbody>\n",
       "    <tr>\n",
       "      <th>0</th>\n",
       "      <td>False</td>\n",
       "      <td>Poetry</td>\n",
       "      <td>Publishing</td>\n",
       "      <td>GBP</td>\n",
       "      <td>GB</td>\n",
       "      <td>58.0</td>\n",
       "      <td>1000.0</td>\n",
       "    </tr>\n",
       "    <tr>\n",
       "      <th>1</th>\n",
       "      <td>False</td>\n",
       "      <td>Narrative Film</td>\n",
       "      <td>Film &amp; Video</td>\n",
       "      <td>USD</td>\n",
       "      <td>US</td>\n",
       "      <td>59.0</td>\n",
       "      <td>30000.0</td>\n",
       "    </tr>\n",
       "    <tr>\n",
       "      <th>2</th>\n",
       "      <td>False</td>\n",
       "      <td>Narrative Film</td>\n",
       "      <td>Film &amp; Video</td>\n",
       "      <td>USD</td>\n",
       "      <td>US</td>\n",
       "      <td>44.0</td>\n",
       "      <td>45000.0</td>\n",
       "    </tr>\n",
       "    <tr>\n",
       "      <th>3</th>\n",
       "      <td>False</td>\n",
       "      <td>Music</td>\n",
       "      <td>Music</td>\n",
       "      <td>USD</td>\n",
       "      <td>US</td>\n",
       "      <td>29.0</td>\n",
       "      <td>5000.0</td>\n",
       "    </tr>\n",
       "    <tr>\n",
       "      <th>4</th>\n",
       "      <td>False</td>\n",
       "      <td>Film &amp; Video</td>\n",
       "      <td>Film &amp; Video</td>\n",
       "      <td>USD</td>\n",
       "      <td>US</td>\n",
       "      <td>55.0</td>\n",
       "      <td>19500.0</td>\n",
       "    </tr>\n",
       "  </tbody>\n",
       "</table>\n",
       "</div>"
      ],
      "text/plain": [
       "   state        category main_category currency country  days     goal\n",
       "0  False          Poetry    Publishing      GBP      GB  58.0   1000.0\n",
       "1  False  Narrative Film  Film & Video      USD      US  59.0  30000.0\n",
       "2  False  Narrative Film  Film & Video      USD      US  44.0  45000.0\n",
       "3  False           Music         Music      USD      US  29.0   5000.0\n",
       "4  False    Film & Video  Film & Video      USD      US  55.0  19500.0"
      ]
     },
     "execution_count": 5,
     "metadata": {},
     "output_type": "execute_result"
    }
   ],
   "source": [
    "# データ読み込み\n",
    "df = pd.read_csv('../data/day2_categorical.csv')\n",
    "df.head()"
   ]
  },
  {
   "cell_type": "markdown",
   "metadata": {},
   "source": [
    "## DecisionTree"
   ]
  },
  {
   "cell_type": "code",
   "execution_count": 19,
   "metadata": {},
   "outputs": [],
   "source": [
    "train_col = [\"category\", 'main_category', 'currency', 'country']\n",
    "# objectをカテゴリカルに変換\n",
    "cate_num_df = pd.DataFrame()\n",
    "for column in train_col:\n",
    "    labels, uniques = pd.factorize(df[column])\n",
    "    cate_num_df[column] = labels"
   ]
  },
  {
   "cell_type": "code",
   "execution_count": 22,
   "metadata": {},
   "outputs": [
    {
     "data": {
      "text/html": [
       "<div>\n",
       "<style scoped>\n",
       "    .dataframe tbody tr th:only-of-type {\n",
       "        vertical-align: middle;\n",
       "    }\n",
       "\n",
       "    .dataframe tbody tr th {\n",
       "        vertical-align: top;\n",
       "    }\n",
       "\n",
       "    .dataframe thead th {\n",
       "        text-align: right;\n",
       "    }\n",
       "</style>\n",
       "<table border=\"1\" class=\"dataframe\">\n",
       "  <thead>\n",
       "    <tr style=\"text-align: right;\">\n",
       "      <th></th>\n",
       "      <th>category</th>\n",
       "      <th>main_category</th>\n",
       "      <th>currency</th>\n",
       "      <th>country</th>\n",
       "      <th>days</th>\n",
       "      <th>goal</th>\n",
       "    </tr>\n",
       "  </thead>\n",
       "  <tbody>\n",
       "    <tr>\n",
       "      <th>0</th>\n",
       "      <td>0</td>\n",
       "      <td>0</td>\n",
       "      <td>0</td>\n",
       "      <td>0</td>\n",
       "      <td>58.0</td>\n",
       "      <td>1000.0</td>\n",
       "    </tr>\n",
       "    <tr>\n",
       "      <th>1</th>\n",
       "      <td>1</td>\n",
       "      <td>1</td>\n",
       "      <td>1</td>\n",
       "      <td>1</td>\n",
       "      <td>59.0</td>\n",
       "      <td>30000.0</td>\n",
       "    </tr>\n",
       "    <tr>\n",
       "      <th>2</th>\n",
       "      <td>1</td>\n",
       "      <td>1</td>\n",
       "      <td>1</td>\n",
       "      <td>1</td>\n",
       "      <td>44.0</td>\n",
       "      <td>45000.0</td>\n",
       "    </tr>\n",
       "    <tr>\n",
       "      <th>3</th>\n",
       "      <td>2</td>\n",
       "      <td>2</td>\n",
       "      <td>1</td>\n",
       "      <td>1</td>\n",
       "      <td>29.0</td>\n",
       "      <td>5000.0</td>\n",
       "    </tr>\n",
       "    <tr>\n",
       "      <th>4</th>\n",
       "      <td>3</td>\n",
       "      <td>1</td>\n",
       "      <td>1</td>\n",
       "      <td>1</td>\n",
       "      <td>55.0</td>\n",
       "      <td>19500.0</td>\n",
       "    </tr>\n",
       "  </tbody>\n",
       "</table>\n",
       "</div>"
      ],
      "text/plain": [
       "   category  main_category  currency  country  days     goal\n",
       "0         0              0         0        0  58.0   1000.0\n",
       "1         1              1         1        1  59.0  30000.0\n",
       "2         1              1         1        1  44.0  45000.0\n",
       "3         2              2         1        1  29.0   5000.0\n",
       "4         3              1         1        1  55.0  19500.0"
      ]
     },
     "execution_count": 22,
     "metadata": {},
     "output_type": "execute_result"
    }
   ],
   "source": [
    "x_df = pd.concat([cate_num_df, df[['days', 'goal']]], axis=1)\n",
    "x_df.head()"
   ]
  },
  {
   "cell_type": "code",
   "execution_count": 27,
   "metadata": {},
   "outputs": [
    {
     "data": {
      "text/plain": [
       "(302928, 6)"
      ]
     },
     "metadata": {},
     "output_type": "display_data"
    },
    {
     "data": {
      "text/plain": [
       "(75733, 6)"
      ]
     },
     "metadata": {},
     "output_type": "display_data"
    },
    {
     "data": {
      "text/plain": [
       "(302928,)"
      ]
     },
     "metadata": {},
     "output_type": "display_data"
    },
    {
     "data": {
      "text/plain": [
       "(75733,)"
      ]
     },
     "metadata": {},
     "output_type": "display_data"
    },
    {
     "name": "stdout",
     "output_type": "stream",
     "text": [
      "score= 0.6709756645055656\n",
      "[1 0 0 ... 1 0 0]\n"
     ]
    }
   ],
   "source": [
    "X = x_df.values\n",
    "y = df[\"state\"].values * 1\n",
    "\n",
    "test_size = 0.2        # 全データのうち、何%をテストデータにするか（今回は20%に設定）\n",
    "X_train, X_test, y_train, y_test = train_test_split(X, y, test_size=test_size, random_state=1234) # ホールドアウト法を実行（テストデータはランダム選択）\n",
    "display(X_train.shape, X_test.shape, y_train.shape, y_test.shape)\n",
    "\n",
    "clf = DecisionTreeClassifier(criterion=\"gini\", max_depth=None, min_samples_split=3, min_samples_leaf=3, random_state=1234)\n",
    "clf = clf.fit(X_train, y_train)\n",
    "print(\"score=\", clf.score(X_test, y_test))\n",
    "print(clf.predict(X_test)) #予測したい場合"
   ]
  },
  {
   "cell_type": "code",
   "execution_count": null,
   "metadata": {},
   "outputs": [],
   "source": []
  },
  {
   "cell_type": "code",
   "execution_count": null,
   "metadata": {},
   "outputs": [],
   "source": [
    "train_col = [\"category\", 'main_category', 'currency', 'country']\n"
   ]
  },
  {
   "cell_type": "markdown",
   "metadata": {},
   "source": [
    "## RandomForest"
   ]
  },
  {
   "cell_type": "code",
   "execution_count": 87,
   "metadata": {},
   "outputs": [],
   "source": [
    "from sklearn.ensemble import RandomForestClassifier, AdaBoostClassifier, GradientBoostingClassifier"
   ]
  },
  {
   "cell_type": "code",
   "execution_count": 29,
   "metadata": {},
   "outputs": [
    {
     "name": "stdout",
     "output_type": "stream",
     "text": [
      "score= 0.685407946337792\n",
      "[0.2133404  0.08923764 0.01880269 0.02684213 0.21445709 0.43732005]\n"
     ]
    },
    {
     "data": {
      "image/png": "[encoded data removed]",
      "text/plain": [
       "<matplotlib.figure.Figure at 0x112e1ee10>"
      ]
     },
     "metadata": {},
     "output_type": "display_data"
    }
   ],
   "source": [
    "clf = RandomForestClassifier(n_estimators=10, max_depth=None, criterion=\"gini\",\n",
    "                                                 min_samples_leaf=2, min_samples_split=2, random_state=1234)\n",
    "clf.fit(X_train, y_train)\n",
    "print(\"score=\", clf.score(X_test, y_test))\n",
    "\n",
    "# 説明変数の重要度を出力する\n",
    "# scikit-learnで算出される重要度は、ある説明変数による不純度の減少量合計である。\n",
    "print(clf.feature_importances_)\n",
    "pd.DataFrame(clf.feature_importances_, index=[\"category\", 'main_category', 'currency', 'country', 'days', 'goal']).plot.bar(figsize=(7,2))\n",
    "plt.ylabel(\"Importance\")\n",
    "plt.xlabel(\"Features\")\n",
    "plt.show()"
   ]
  },
  {
   "cell_type": "markdown",
   "metadata": {},
   "source": [
    "# currecny countryを除去"
   ]
  },
  {
   "cell_type": "code",
   "execution_count": 40,
   "metadata": {},
   "outputs": [
    {
     "data": {
      "text/html": [
       "<div>\n",
       "<style scoped>\n",
       "    .dataframe tbody tr th:only-of-type {\n",
       "        vertical-align: middle;\n",
       "    }\n",
       "\n",
       "    .dataframe tbody tr th {\n",
       "        vertical-align: top;\n",
       "    }\n",
       "\n",
       "    .dataframe thead th {\n",
       "        text-align: right;\n",
       "    }\n",
       "</style>\n",
       "<table border=\"1\" class=\"dataframe\">\n",
       "  <thead>\n",
       "    <tr style=\"text-align: right;\">\n",
       "      <th></th>\n",
       "      <th>category</th>\n",
       "      <th>main_category</th>\n",
       "      <th>days</th>\n",
       "      <th>goal</th>\n",
       "    </tr>\n",
       "  </thead>\n",
       "  <tbody>\n",
       "    <tr>\n",
       "      <th>0</th>\n",
       "      <td>0</td>\n",
       "      <td>0</td>\n",
       "      <td>58.0</td>\n",
       "      <td>1000.0</td>\n",
       "    </tr>\n",
       "    <tr>\n",
       "      <th>1</th>\n",
       "      <td>1</td>\n",
       "      <td>1</td>\n",
       "      <td>59.0</td>\n",
       "      <td>30000.0</td>\n",
       "    </tr>\n",
       "    <tr>\n",
       "      <th>2</th>\n",
       "      <td>1</td>\n",
       "      <td>1</td>\n",
       "      <td>44.0</td>\n",
       "      <td>45000.0</td>\n",
       "    </tr>\n",
       "    <tr>\n",
       "      <th>3</th>\n",
       "      <td>2</td>\n",
       "      <td>2</td>\n",
       "      <td>29.0</td>\n",
       "      <td>5000.0</td>\n",
       "    </tr>\n",
       "    <tr>\n",
       "      <th>4</th>\n",
       "      <td>3</td>\n",
       "      <td>1</td>\n",
       "      <td>55.0</td>\n",
       "      <td>19500.0</td>\n",
       "    </tr>\n",
       "  </tbody>\n",
       "</table>\n",
       "</div>"
      ],
      "text/plain": [
       "   category  main_category  days     goal\n",
       "0         0              0  58.0   1000.0\n",
       "1         1              1  59.0  30000.0\n",
       "2         1              1  44.0  45000.0\n",
       "3         2              2  29.0   5000.0\n",
       "4         3              1  55.0  19500.0"
      ]
     },
     "execution_count": 40,
     "metadata": {},
     "output_type": "execute_result"
    }
   ],
   "source": [
    "new_df = x_df.loc[:, ['category', 'main_category', 'days', 'goal']]\n",
    "new_df.head()"
   ]
  },
  {
   "cell_type": "code",
   "execution_count": 41,
   "metadata": {},
   "outputs": [
    {
     "data": {
      "text/plain": [
       "(302928, 4)"
      ]
     },
     "metadata": {},
     "output_type": "display_data"
    },
    {
     "data": {
      "text/plain": [
       "(75733, 4)"
      ]
     },
     "metadata": {},
     "output_type": "display_data"
    },
    {
     "data": {
      "text/plain": [
       "(302928,)"
      ]
     },
     "metadata": {},
     "output_type": "display_data"
    },
    {
     "data": {
      "text/plain": [
       "(75733,)"
      ]
     },
     "metadata": {},
     "output_type": "display_data"
    },
    {
     "name": "stdout",
     "output_type": "stream",
     "text": [
      "score= 0.6730091241598775\n",
      "[1 0 0 ... 1 0 0]\n"
     ]
    }
   ],
   "source": [
    "X = new_df.values\n",
    "y = df[\"state\"].values * 1\n",
    "\n",
    "test_size = 0.2        # 全データのうち、何%をテストデータにするか（今回は20%に設定）\n",
    "X_train, X_test, y_train, y_test = train_test_split(X, y, test_size=test_size, random_state=1234) # ホールドアウト法を実行（テストデータはランダム選択）\n",
    "display(X_train.shape, X_test.shape, y_train.shape, y_test.shape)\n",
    "\n",
    "clf = DecisionTreeClassifier(criterion=\"gini\", max_depth=None, min_samples_split=3, min_samples_leaf=3, random_state=1234)\n",
    "clf = clf.fit(X_train, y_train)\n",
    "print(\"score=\", clf.score(X_test, y_test))\n",
    "print(clf.predict(X_test)) #予測したい場合"
   ]
  },
  {
   "cell_type": "markdown",
   "metadata": {},
   "source": [
    "## RandomForest"
   ]
  },
  {
   "cell_type": "code",
   "execution_count": 43,
   "metadata": {},
   "outputs": [
    {
     "name": "stdout",
     "output_type": "stream",
     "text": [
      "score= 0.6806940171391599\n",
      "[0.22155233 0.08950338 0.23602143 0.45292285]\n"
     ]
    },
    {
     "data": {
      "image/png": "[encoded data removed]",
      "text/plain": [
       "<matplotlib.figure.Figure at 0x112e31c18>"
      ]
     },
     "metadata": {},
     "output_type": "display_data"
    }
   ],
   "source": [
    "clf = RandomForestClassifier(n_estimators=10, max_depth=None, criterion=\"gini\",\n",
    "                                                 min_samples_leaf=2, min_samples_split=2, random_state=1234)\n",
    "clf.fit(X_train, y_train)\n",
    "print(\"score=\", clf.score(X_test, y_test))\n",
    "\n",
    "# 説明変数の重要度を出力する\n",
    "# scikit-learnで算出される重要度は、ある説明変数による不純度の減少量合計である。\n",
    "print(clf.feature_importances_)\n",
    "pd.DataFrame(clf.feature_importances_, index=[\"category\", 'main_category', 'days', 'goal']).plot.bar(figsize=(7,2))\n",
    "plt.ylabel(\"Importance\")\n",
    "plt.xlabel(\"Features\")\n",
    "plt.show()"
   ]
  },
  {
   "cell_type": "markdown",
   "metadata": {},
   "source": [
    "# onehotのデータを読み込み"
   ]
  },
  {
   "cell_type": "code",
   "execution_count": 44,
   "metadata": {
    "scrolled": true
   },
   "outputs": [
    {
     "data": {
      "text/html": [
       "<div>\n",
       "<style scoped>\n",
       "    .dataframe tbody tr th:only-of-type {\n",
       "        vertical-align: middle;\n",
       "    }\n",
       "\n",
       "    .dataframe tbody tr th {\n",
       "        vertical-align: top;\n",
       "    }\n",
       "\n",
       "    .dataframe thead th {\n",
       "        text-align: right;\n",
       "    }\n",
       "</style>\n",
       "<table border=\"1\" class=\"dataframe\">\n",
       "  <thead>\n",
       "    <tr style=\"text-align: right;\">\n",
       "      <th></th>\n",
       "      <th>state</th>\n",
       "      <th>category_Academic</th>\n",
       "      <th>category_Accessories</th>\n",
       "      <th>category_Action</th>\n",
       "      <th>category_Animation</th>\n",
       "      <th>category_Anthologies</th>\n",
       "      <th>category_Apparel</th>\n",
       "      <th>category_Apps</th>\n",
       "      <th>category_Architecture</th>\n",
       "      <th>category_Art</th>\n",
       "      <th>...</th>\n",
       "      <th>currency_GBP</th>\n",
       "      <th>currency_USD</th>\n",
       "      <th>currency_others</th>\n",
       "      <th>country_AU</th>\n",
       "      <th>country_CA</th>\n",
       "      <th>country_GB</th>\n",
       "      <th>country_US</th>\n",
       "      <th>country_others</th>\n",
       "      <th>days</th>\n",
       "      <th>goal</th>\n",
       "    </tr>\n",
       "  </thead>\n",
       "  <tbody>\n",
       "    <tr>\n",
       "      <th>0</th>\n",
       "      <td>False</td>\n",
       "      <td>0</td>\n",
       "      <td>0</td>\n",
       "      <td>0</td>\n",
       "      <td>0</td>\n",
       "      <td>0</td>\n",
       "      <td>0</td>\n",
       "      <td>0</td>\n",
       "      <td>0</td>\n",
       "      <td>0</td>\n",
       "      <td>...</td>\n",
       "      <td>1</td>\n",
       "      <td>0</td>\n",
       "      <td>0</td>\n",
       "      <td>0</td>\n",
       "      <td>0</td>\n",
       "      <td>1</td>\n",
       "      <td>0</td>\n",
       "      <td>0</td>\n",
       "      <td>58.0</td>\n",
       "      <td>1000.0</td>\n",
       "    </tr>\n",
       "    <tr>\n",
       "      <th>1</th>\n",
       "      <td>False</td>\n",
       "      <td>0</td>\n",
       "      <td>0</td>\n",
       "      <td>0</td>\n",
       "      <td>0</td>\n",
       "      <td>0</td>\n",
       "      <td>0</td>\n",
       "      <td>0</td>\n",
       "      <td>0</td>\n",
       "      <td>0</td>\n",
       "      <td>...</td>\n",
       "      <td>0</td>\n",
       "      <td>1</td>\n",
       "      <td>0</td>\n",
       "      <td>0</td>\n",
       "      <td>0</td>\n",
       "      <td>0</td>\n",
       "      <td>1</td>\n",
       "      <td>0</td>\n",
       "      <td>59.0</td>\n",
       "      <td>30000.0</td>\n",
       "    </tr>\n",
       "    <tr>\n",
       "      <th>2</th>\n",
       "      <td>False</td>\n",
       "      <td>0</td>\n",
       "      <td>0</td>\n",
       "      <td>0</td>\n",
       "      <td>0</td>\n",
       "      <td>0</td>\n",
       "      <td>0</td>\n",
       "      <td>0</td>\n",
       "      <td>0</td>\n",
       "      <td>0</td>\n",
       "      <td>...</td>\n",
       "      <td>0</td>\n",
       "      <td>1</td>\n",
       "      <td>0</td>\n",
       "      <td>0</td>\n",
       "      <td>0</td>\n",
       "      <td>0</td>\n",
       "      <td>1</td>\n",
       "      <td>0</td>\n",
       "      <td>44.0</td>\n",
       "      <td>45000.0</td>\n",
       "    </tr>\n",
       "    <tr>\n",
       "      <th>3</th>\n",
       "      <td>False</td>\n",
       "      <td>0</td>\n",
       "      <td>0</td>\n",
       "      <td>0</td>\n",
       "      <td>0</td>\n",
       "      <td>0</td>\n",
       "      <td>0</td>\n",
       "      <td>0</td>\n",
       "      <td>0</td>\n",
       "      <td>0</td>\n",
       "      <td>...</td>\n",
       "      <td>0</td>\n",
       "      <td>1</td>\n",
       "      <td>0</td>\n",
       "      <td>0</td>\n",
       "      <td>0</td>\n",
       "      <td>0</td>\n",
       "      <td>1</td>\n",
       "      <td>0</td>\n",
       "      <td>29.0</td>\n",
       "      <td>5000.0</td>\n",
       "    </tr>\n",
       "    <tr>\n",
       "      <th>4</th>\n",
       "      <td>False</td>\n",
       "      <td>0</td>\n",
       "      <td>0</td>\n",
       "      <td>0</td>\n",
       "      <td>0</td>\n",
       "      <td>0</td>\n",
       "      <td>0</td>\n",
       "      <td>0</td>\n",
       "      <td>0</td>\n",
       "      <td>0</td>\n",
       "      <td>...</td>\n",
       "      <td>0</td>\n",
       "      <td>1</td>\n",
       "      <td>0</td>\n",
       "      <td>0</td>\n",
       "      <td>0</td>\n",
       "      <td>0</td>\n",
       "      <td>1</td>\n",
       "      <td>0</td>\n",
       "      <td>55.0</td>\n",
       "      <td>19500.0</td>\n",
       "    </tr>\n",
       "  </tbody>\n",
       "</table>\n",
       "<p>5 rows × 120 columns</p>\n",
       "</div>"
      ],
      "text/plain": [
       "   state  category_Academic  category_Accessories  category_Action  \\\n",
       "0  False                  0                     0                0   \n",
       "1  False                  0                     0                0   \n",
       "2  False                  0                     0                0   \n",
       "3  False                  0                     0                0   \n",
       "4  False                  0                     0                0   \n",
       "\n",
       "   category_Animation  category_Anthologies  category_Apparel  category_Apps  \\\n",
       "0                   0                     0                 0              0   \n",
       "1                   0                     0                 0              0   \n",
       "2                   0                     0                 0              0   \n",
       "3                   0                     0                 0              0   \n",
       "4                   0                     0                 0              0   \n",
       "\n",
       "   category_Architecture  category_Art   ...     currency_GBP  currency_USD  \\\n",
       "0                      0             0   ...                1             0   \n",
       "1                      0             0   ...                0             1   \n",
       "2                      0             0   ...                0             1   \n",
       "3                      0             0   ...                0             1   \n",
       "4                      0             0   ...                0             1   \n",
       "\n",
       "   currency_others  country_AU  country_CA  country_GB  country_US  \\\n",
       "0                0           0           0           1           0   \n",
       "1                0           0           0           0           1   \n",
       "2                0           0           0           0           1   \n",
       "3                0           0           0           0           1   \n",
       "4                0           0           0           0           1   \n",
       "\n",
       "   country_others  days     goal  \n",
       "0               0  58.0   1000.0  \n",
       "1               0  59.0  30000.0  \n",
       "2               0  44.0  45000.0  \n",
       "3               0  29.0   5000.0  \n",
       "4               0  55.0  19500.0  \n",
       "\n",
       "[5 rows x 120 columns]"
      ]
     },
     "execution_count": 44,
     "metadata": {},
     "output_type": "execute_result"
    }
   ],
   "source": [
    "onehot_df = pd.read_csv('../data/day2_onehot.csv')\n",
    "onehot_df.head()"
   ]
  },
  {
   "cell_type": "code",
   "execution_count": 50,
   "metadata": {},
   "outputs": [
    {
     "data": {
      "text/plain": [
       "Index(['category_Academic', 'category_Accessories', 'category_Action',\n",
       "       'category_Animation', 'category_Anthologies', 'category_Apparel',\n",
       "       'category_Apps', 'category_Architecture', 'category_Art',\n",
       "       'category_Art Books',\n",
       "       ...\n",
       "       'currency_GBP', 'currency_USD', 'currency_others', 'country_AU',\n",
       "       'country_CA', 'country_GB', 'country_US', 'country_others', 'days',\n",
       "       'goal'],\n",
       "      dtype='object', length=119)"
      ]
     },
     "execution_count": 50,
     "metadata": {},
     "output_type": "execute_result"
    }
   ],
   "source": [
    "onehot_df.columns[1:]"
   ]
  },
  {
   "cell_type": "code",
   "execution_count": 48,
   "metadata": {},
   "outputs": [
    {
     "data": {
      "text/plain": [
       "(302928, 119)"
      ]
     },
     "metadata": {},
     "output_type": "display_data"
    },
    {
     "data": {
      "text/plain": [
       "(75733, 119)"
      ]
     },
     "metadata": {},
     "output_type": "display_data"
    },
    {
     "data": {
      "text/plain": [
       "(302928,)"
      ]
     },
     "metadata": {},
     "output_type": "display_data"
    },
    {
     "data": {
      "text/plain": [
       "(75733,)"
      ]
     },
     "metadata": {},
     "output_type": "display_data"
    },
    {
     "name": "stdout",
     "output_type": "stream",
     "text": [
      "score= 0.6714774272774088\n",
      "[1 0 0 ... 1 0 0]\n"
     ]
    }
   ],
   "source": [
    "X = onehot_df.drop(['state'], axis=1).values\n",
    "y = df[\"state\"].values * 1\n",
    "\n",
    "test_size = 0.2        # 全データのうち、何%をテストデータにするか（今回は20%に設定）\n",
    "X_train, X_test, y_train, y_test = train_test_split(X, y, test_size=test_size, random_state=1234) # ホールドアウト法を実行（テストデータはランダム選択）\n",
    "display(X_train.shape, X_test.shape, y_train.shape, y_test.shape)\n",
    "\n",
    "clf = DecisionTreeClassifier(criterion=\"gini\", max_depth=None, min_samples_split=3, min_samples_leaf=3, random_state=1234)\n",
    "clf = clf.fit(X_train, y_train)\n",
    "print(\"score=\", clf.score(X_test, y_test))\n",
    "print(clf.predict(X_test)) #予測したい場合"
   ]
  },
  {
   "cell_type": "markdown",
   "metadata": {},
   "source": [
    "## RandomForest"
   ]
  },
  {
   "cell_type": "code",
   "execution_count": 78,
   "metadata": {
    "scrolled": true
   },
   "outputs": [
    {
     "name": "stdout",
     "output_type": "stream",
     "text": [
      "score= 0.6890523285753899\n",
      "[5.37252168e-04 9.52244739e-04 8.03240046e-04 8.25250744e-04\n",
      " 2.18169584e-03 3.10600444e-03 7.53521636e-03 4.44910272e-04\n",
      " 1.06181878e-03 2.51472192e-03 1.09131950e-03 2.94737405e-03\n",
      " 1.23818829e-03 3.30749239e-03 2.63525682e-03 4.40045900e-04\n",
      " 4.90000492e-03 3.14133071e-03 1.73609348e-03 1.10682904e-03\n",
      " 4.48735497e-03 8.25141748e-04 9.28124641e-04 2.37445886e-03\n",
      " 9.06038046e-04 4.57105347e-04 1.45834441e-03 4.74705747e-04\n",
      " 9.70101101e-04 5.39950306e-04 3.39935514e-04 1.15166305e-03\n",
      " 1.13515073e-03 3.49947562e-03 1.54957634e-03 5.55108174e-04\n",
      " 9.80736237e-04 1.20182172e-03 5.32605979e-04 9.60051592e-04\n",
      " 1.20764741e-03 7.61473425e-04 1.96677705e-03 1.55696286e-03\n",
      " 7.87627600e-03 6.43509170e-04 1.46071006e-03 6.66916426e-03\n",
      " 1.39206545e-03 3.81544904e-04 8.94907846e-04 6.83826700e-04\n",
      " 7.59918882e-04 2.43038919e-03 2.78084753e-03 9.05640026e-04\n",
      " 1.57040412e-03 1.75482534e-03 9.49685949e-04 1.05080339e-03\n",
      " 6.40629381e-04 1.80424945e-03 6.58834867e-04 1.08250105e-03\n",
      " 1.63289278e-03 1.11451770e-03 1.24526027e-03 1.74448661e-03\n",
      " 5.18022994e-04 7.91761034e-04 2.13642943e-03 1.67360860e-03\n",
      " 9.97844695e-04 7.21251888e-04 4.76670727e-04 6.54029418e-04\n",
      " 1.94863296e-03 5.42895311e-04 5.38524785e-04 7.85045690e-03\n",
      " 4.16202434e-04 1.69272263e-03 6.47707521e-04 1.42012448e-02\n",
      " 1.72156458e-03 6.54311039e-04 1.09972872e-02 4.90932296e-04\n",
      " 4.58984752e-03 7.07135126e-04 6.09242274e-03 1.42640837e-03\n",
      " 9.94364500e-04 6.31172866e-04 5.48876729e-04 6.36301674e-03\n",
      " 2.25251850e-03 2.16978277e-03 5.77710709e-03 2.31847264e-03\n",
      " 4.59685255e-03 3.91822162e-03 1.28189914e-02 2.92759577e-03\n",
      " 7.96180259e-03 3.49532504e-03 9.65153085e-04 1.32198152e-03\n",
      " 2.52162737e-03 2.20100895e-03 4.36660001e-03 1.63677658e-03\n",
      " 9.28990851e-04 1.25924668e-03 2.29437973e-03 7.33401358e-03\n",
      " 9.12753223e-03 2.57149803e-01 4.74176378e-01]\n"
     ]
    },
    {
     "data": {
      "image/png": "[encoded data removed]",
      "text/plain": [
       "<matplotlib.figure.Figure at 0x1160d40f0>"
      ]
     },
     "metadata": {},
     "output_type": "display_data"
    }
   ],
   "source": [
    "clf = RandomForestClassifier(n_estimators=100, max_depth=None, criterion=\"gini\",\n",
    "                                                 min_samples_leaf=2, min_samples_split=2, random_state=1234, )\n",
    "clf.fit(X_train, y_train)\n",
    "print(\"score=\", clf.score(X_test, y_test))\n",
    "\n",
    "# 説明変数の重要度を出力する\n",
    "# scikit-learnで算出される重要度は、ある説明変数による不純度の減少量合計である。\n",
    "print(clf.feature_importances_)\n",
    "importance_label = pd.DataFrame(clf.feature_importances_, index=onehot_df.columns[1:], columns=['value'])\n",
    "importance_label.plot.bar(figsize=(7,2))\n",
    "plt.ylabel(\"Importance\")\n",
    "plt.xlabel(\"Features\")\n",
    "plt.show()"
   ]
  },
  {
   "cell_type": "code",
   "execution_count": 76,
   "metadata": {},
   "outputs": [
    {
     "data": {
      "text/html": [
       "<div>\n",
       "<style scoped>\n",
       "    .dataframe tbody tr th:only-of-type {\n",
       "        vertical-align: middle;\n",
       "    }\n",
       "\n",
       "    .dataframe tbody tr th {\n",
       "        vertical-align: top;\n",
       "    }\n",
       "\n",
       "    .dataframe thead th {\n",
       "        text-align: right;\n",
       "    }\n",
       "</style>\n",
       "<table border=\"1\" class=\"dataframe\">\n",
       "  <thead>\n",
       "    <tr style=\"text-align: right;\">\n",
       "      <th></th>\n",
       "      <th>value</th>\n",
       "    </tr>\n",
       "  </thead>\n",
       "  <tbody>\n",
       "    <tr>\n",
       "      <th>category_Academic</th>\n",
       "      <td>0.000516</td>\n",
       "    </tr>\n",
       "    <tr>\n",
       "      <th>category_Accessories</th>\n",
       "      <td>0.000832</td>\n",
       "    </tr>\n",
       "    <tr>\n",
       "      <th>category_Action</th>\n",
       "      <td>0.000846</td>\n",
       "    </tr>\n",
       "    <tr>\n",
       "      <th>category_Animation</th>\n",
       "      <td>0.000845</td>\n",
       "    </tr>\n",
       "    <tr>\n",
       "      <th>category_Anthologies</th>\n",
       "      <td>0.001997</td>\n",
       "    </tr>\n",
       "    <tr>\n",
       "      <th>category_Apparel</th>\n",
       "      <td>0.003367</td>\n",
       "    </tr>\n",
       "    <tr>\n",
       "      <th>category_Apps</th>\n",
       "      <td>0.006123</td>\n",
       "    </tr>\n",
       "    <tr>\n",
       "      <th>category_Architecture</th>\n",
       "      <td>0.000456</td>\n",
       "    </tr>\n",
       "    <tr>\n",
       "      <th>category_Art</th>\n",
       "      <td>0.000933</td>\n",
       "    </tr>\n",
       "    <tr>\n",
       "      <th>category_Art Books</th>\n",
       "      <td>0.002157</td>\n",
       "    </tr>\n",
       "    <tr>\n",
       "      <th>category_Children's Books</th>\n",
       "      <td>0.001070</td>\n",
       "    </tr>\n",
       "    <tr>\n",
       "      <th>category_Classical Music</th>\n",
       "      <td>0.004072</td>\n",
       "    </tr>\n",
       "    <tr>\n",
       "      <th>category_Comedy</th>\n",
       "      <td>0.001115</td>\n",
       "    </tr>\n",
       "    <tr>\n",
       "      <th>category_Comic Books</th>\n",
       "      <td>0.003237</td>\n",
       "    </tr>\n",
       "    <tr>\n",
       "      <th>category_Comics</th>\n",
       "      <td>0.002096</td>\n",
       "    </tr>\n",
       "    <tr>\n",
       "      <th>category_Conceptual Art</th>\n",
       "      <td>0.000364</td>\n",
       "    </tr>\n",
       "    <tr>\n",
       "      <th>category_Country &amp; Folk</th>\n",
       "      <td>0.006282</td>\n",
       "    </tr>\n",
       "    <tr>\n",
       "      <th>category_Crafts</th>\n",
       "      <td>0.003687</td>\n",
       "    </tr>\n",
       "    <tr>\n",
       "      <th>category_DIY</th>\n",
       "      <td>0.001673</td>\n",
       "    </tr>\n",
       "    <tr>\n",
       "      <th>category_DIY Electronics</th>\n",
       "      <td>0.001180</td>\n",
       "    </tr>\n",
       "    <tr>\n",
       "      <th>category_Dance</th>\n",
       "      <td>0.004354</td>\n",
       "    </tr>\n",
       "    <tr>\n",
       "      <th>category_Design</th>\n",
       "      <td>0.000789</td>\n",
       "    </tr>\n",
       "    <tr>\n",
       "      <th>category_Digital Art</th>\n",
       "      <td>0.000872</td>\n",
       "    </tr>\n",
       "    <tr>\n",
       "      <th>category_Documentary</th>\n",
       "      <td>0.001955</td>\n",
       "    </tr>\n",
       "    <tr>\n",
       "      <th>category_Drama</th>\n",
       "      <td>0.000878</td>\n",
       "    </tr>\n",
       "    <tr>\n",
       "      <th>category_Drinks</th>\n",
       "      <td>0.000324</td>\n",
       "    </tr>\n",
       "    <tr>\n",
       "      <th>category_Electronic Music</th>\n",
       "      <td>0.001155</td>\n",
       "    </tr>\n",
       "    <tr>\n",
       "      <th>category_Events</th>\n",
       "      <td>0.000434</td>\n",
       "    </tr>\n",
       "    <tr>\n",
       "      <th>category_Experimental</th>\n",
       "      <td>0.000877</td>\n",
       "    </tr>\n",
       "    <tr>\n",
       "      <th>category_Faith</th>\n",
       "      <td>0.000455</td>\n",
       "    </tr>\n",
       "    <tr>\n",
       "      <th>...</th>\n",
       "      <td>...</td>\n",
       "    </tr>\n",
       "    <tr>\n",
       "      <th>category_Wearables</th>\n",
       "      <td>0.000733</td>\n",
       "    </tr>\n",
       "    <tr>\n",
       "      <th>category_Web</th>\n",
       "      <td>0.005674</td>\n",
       "    </tr>\n",
       "    <tr>\n",
       "      <th>category_Webseries</th>\n",
       "      <td>0.001511</td>\n",
       "    </tr>\n",
       "    <tr>\n",
       "      <th>category_Woodworking</th>\n",
       "      <td>0.001084</td>\n",
       "    </tr>\n",
       "    <tr>\n",
       "      <th>category_World Music</th>\n",
       "      <td>0.000555</td>\n",
       "    </tr>\n",
       "    <tr>\n",
       "      <th>category_Young Adult</th>\n",
       "      <td>0.000567</td>\n",
       "    </tr>\n",
       "    <tr>\n",
       "      <th>category_others</th>\n",
       "      <td>0.006432</td>\n",
       "    </tr>\n",
       "    <tr>\n",
       "      <th>main_category_Art</th>\n",
       "      <td>0.001798</td>\n",
       "    </tr>\n",
       "    <tr>\n",
       "      <th>main_category_Design</th>\n",
       "      <td>0.001995</td>\n",
       "    </tr>\n",
       "    <tr>\n",
       "      <th>main_category_Fashion</th>\n",
       "      <td>0.005511</td>\n",
       "    </tr>\n",
       "    <tr>\n",
       "      <th>main_category_Film &amp; Video</th>\n",
       "      <td>0.001889</td>\n",
       "    </tr>\n",
       "    <tr>\n",
       "      <th>main_category_Food</th>\n",
       "      <td>0.004866</td>\n",
       "    </tr>\n",
       "    <tr>\n",
       "      <th>main_category_Games</th>\n",
       "      <td>0.003981</td>\n",
       "    </tr>\n",
       "    <tr>\n",
       "      <th>main_category_Music</th>\n",
       "      <td>0.010822</td>\n",
       "    </tr>\n",
       "    <tr>\n",
       "      <th>main_category_Publishing</th>\n",
       "      <td>0.002536</td>\n",
       "    </tr>\n",
       "    <tr>\n",
       "      <th>main_category_Technology</th>\n",
       "      <td>0.010902</td>\n",
       "    </tr>\n",
       "    <tr>\n",
       "      <th>main_category_others</th>\n",
       "      <td>0.003824</td>\n",
       "    </tr>\n",
       "    <tr>\n",
       "      <th>currency_AUD</th>\n",
       "      <td>0.000914</td>\n",
       "    </tr>\n",
       "    <tr>\n",
       "      <th>currency_CAD</th>\n",
       "      <td>0.001329</td>\n",
       "    </tr>\n",
       "    <tr>\n",
       "      <th>currency_EUR</th>\n",
       "      <td>0.002794</td>\n",
       "    </tr>\n",
       "    <tr>\n",
       "      <th>currency_GBP</th>\n",
       "      <td>0.002169</td>\n",
       "    </tr>\n",
       "    <tr>\n",
       "      <th>currency_USD</th>\n",
       "      <td>0.003761</td>\n",
       "    </tr>\n",
       "    <tr>\n",
       "      <th>currency_others</th>\n",
       "      <td>0.001601</td>\n",
       "    </tr>\n",
       "    <tr>\n",
       "      <th>country_AU</th>\n",
       "      <td>0.000862</td>\n",
       "    </tr>\n",
       "    <tr>\n",
       "      <th>country_CA</th>\n",
       "      <td>0.001042</td>\n",
       "    </tr>\n",
       "    <tr>\n",
       "      <th>country_GB</th>\n",
       "      <td>0.001639</td>\n",
       "    </tr>\n",
       "    <tr>\n",
       "      <th>country_US</th>\n",
       "      <td>0.006853</td>\n",
       "    </tr>\n",
       "    <tr>\n",
       "      <th>country_others</th>\n",
       "      <td>0.009184</td>\n",
       "    </tr>\n",
       "    <tr>\n",
       "      <th>days</th>\n",
       "      <td>0.260309</td>\n",
       "    </tr>\n",
       "    <tr>\n",
       "      <th>goal</th>\n",
       "      <td>0.478468</td>\n",
       "    </tr>\n",
       "  </tbody>\n",
       "</table>\n",
       "<p>119 rows × 1 columns</p>\n",
       "</div>"
      ],
      "text/plain": [
       "                               value\n",
       "category_Academic           0.000516\n",
       "category_Accessories        0.000832\n",
       "category_Action             0.000846\n",
       "category_Animation          0.000845\n",
       "category_Anthologies        0.001997\n",
       "category_Apparel            0.003367\n",
       "category_Apps               0.006123\n",
       "category_Architecture       0.000456\n",
       "category_Art                0.000933\n",
       "category_Art Books          0.002157\n",
       "category_Children's Books   0.001070\n",
       "category_Classical Music    0.004072\n",
       "category_Comedy             0.001115\n",
       "category_Comic Books        0.003237\n",
       "category_Comics             0.002096\n",
       "category_Conceptual Art     0.000364\n",
       "category_Country & Folk     0.006282\n",
       "category_Crafts             0.003687\n",
       "category_DIY                0.001673\n",
       "category_DIY Electronics    0.001180\n",
       "category_Dance              0.004354\n",
       "category_Design             0.000789\n",
       "category_Digital Art        0.000872\n",
       "category_Documentary        0.001955\n",
       "category_Drama              0.000878\n",
       "category_Drinks             0.000324\n",
       "category_Electronic Music   0.001155\n",
       "category_Events             0.000434\n",
       "category_Experimental       0.000877\n",
       "category_Faith              0.000455\n",
       "...                              ...\n",
       "category_Wearables          0.000733\n",
       "category_Web                0.005674\n",
       "category_Webseries          0.001511\n",
       "category_Woodworking        0.001084\n",
       "category_World Music        0.000555\n",
       "category_Young Adult        0.000567\n",
       "category_others             0.006432\n",
       "main_category_Art           0.001798\n",
       "main_category_Design        0.001995\n",
       "main_category_Fashion       0.005511\n",
       "main_category_Film & Video  0.001889\n",
       "main_category_Food          0.004866\n",
       "main_category_Games         0.003981\n",
       "main_category_Music         0.010822\n",
       "main_category_Publishing    0.002536\n",
       "main_category_Technology    0.010902\n",
       "main_category_others        0.003824\n",
       "currency_AUD                0.000914\n",
       "currency_CAD                0.001329\n",
       "currency_EUR                0.002794\n",
       "currency_GBP                0.002169\n",
       "currency_USD                0.003761\n",
       "currency_others             0.001601\n",
       "country_AU                  0.000862\n",
       "country_CA                  0.001042\n",
       "country_GB                  0.001639\n",
       "country_US                  0.006853\n",
       "country_others              0.009184\n",
       "days                        0.260309\n",
       "goal                        0.478468\n",
       "\n",
       "[119 rows x 1 columns]"
      ]
     },
     "execution_count": 76,
     "metadata": {},
     "output_type": "execute_result"
    }
   ],
   "source": [
    "importance_label"
   ]
  },
  {
   "cell_type": "code",
   "execution_count": 77,
   "metadata": {
    "scrolled": true
   },
   "outputs": [
    {
     "data": {
      "text/plain": [
       "goal                         0.478468\n",
       "days                         0.260309\n",
       "category_Tabletop Games      0.014296\n",
       "category_Theater             0.011037\n",
       "main_category_Technology     0.010902\n",
       "main_category_Music          0.010822\n",
       "country_others               0.009184\n",
       "category_Shorts              0.007578\n",
       "category_Indie Rock          0.007511\n",
       "country_US                   0.006853\n",
       "category_others              0.006432\n",
       "category_Country & Folk      0.006282\n",
       "category_Apps                0.006123\n",
       "category_Web                 0.005674\n",
       "category_Hip-Hop             0.005560\n",
       "main_category_Fashion        0.005511\n",
       "category_Video Games         0.005132\n",
       "main_category_Food           0.004866\n",
       "category_Dance               0.004354\n",
       "category_Classical Music     0.004072\n",
       "main_category_Games          0.003981\n",
       "main_category_others         0.003824\n",
       "currency_USD                 0.003761\n",
       "category_Crafts              0.003687\n",
       "category_Music               0.003661\n",
       "category_Fiction             0.003541\n",
       "category_Apparel             0.003367\n",
       "category_Comic Books         0.003237\n",
       "currency_EUR                 0.002794\n",
       "main_category_Publishing     0.002536\n",
       "                               ...   \n",
       "category_Restaurants         0.000746\n",
       "category_Wearables           0.000733\n",
       "category_Graphic Design      0.000726\n",
       "category_Television          0.000711\n",
       "category_Mixed Media         0.000698\n",
       "category_Pop                 0.000646\n",
       "category_Live Games          0.000627\n",
       "category_Radio & Podcasts    0.000622\n",
       "category_Periodicals         0.000619\n",
       "category_Horror              0.000610\n",
       "category_Performance Art     0.000572\n",
       "category_Young Adult         0.000567\n",
       "category_World Music         0.000555\n",
       "category_Fine Art            0.000548\n",
       "category_Spaces              0.000519\n",
       "category_Academic            0.000516\n",
       "category_Sculpture           0.000515\n",
       "category_Footwear            0.000502\n",
       "category_Thrillers           0.000487\n",
       "category_Architecture        0.000456\n",
       "category_Faith               0.000455\n",
       "category_Science Fiction     0.000449\n",
       "category_Poetry              0.000439\n",
       "category_Events              0.000434\n",
       "category_Small Batch         0.000388\n",
       "category_Ready-to-wear       0.000383\n",
       "category_Conceptual Art      0.000364\n",
       "category_Drinks              0.000324\n",
       "category_Jewelry             0.000288\n",
       "category_Farms               0.000256\n",
       "Name: value, Length: 119, dtype: float64"
      ]
     },
     "execution_count": 77,
     "metadata": {},
     "output_type": "execute_result"
    }
   ],
   "source": [
    "importance_label.value.sort_values(ascending=False)"
   ]
  },
  {
   "cell_type": "code",
   "execution_count": 79,
   "metadata": {
    "scrolled": true
   },
   "outputs": [
    {
     "data": {
      "text/plain": [
       "goal                         0.474176\n",
       "days                         0.257150\n",
       "category_Tabletop Games      0.014201\n",
       "main_category_Music          0.012819\n",
       "category_Theater             0.010997\n",
       "country_others               0.009128\n",
       "main_category_Technology     0.007962\n",
       "category_Hip-Hop             0.007876\n",
       "category_Shorts              0.007850\n",
       "category_Apps                0.007535\n",
       "country_US                   0.007334\n",
       "category_Indie Rock          0.006669\n",
       "category_others              0.006363\n",
       "category_Web                 0.006092\n",
       "main_category_Fashion        0.005777\n",
       "category_Country & Folk      0.004900\n",
       "main_category_Food           0.004597\n",
       "category_Video Games         0.004590\n",
       "category_Dance               0.004487\n",
       "currency_USD                 0.004367\n",
       "main_category_Games          0.003918\n",
       "category_Fiction             0.003499\n",
       "main_category_others         0.003495\n",
       "category_Comic Books         0.003307\n",
       "category_Crafts              0.003141\n",
       "category_Apparel             0.003106\n",
       "category_Classical Music     0.002947\n",
       "main_category_Publishing     0.002928\n",
       "category_Music               0.002781\n",
       "category_Comics              0.002635\n",
       "                               ...   \n",
       "category_Pop                 0.000792\n",
       "category_Graphic Design      0.000761\n",
       "category_Mixed Media         0.000760\n",
       "category_Radio & Podcasts    0.000721\n",
       "category_Wearables           0.000707\n",
       "category_Live Games          0.000684\n",
       "category_Periodicals         0.000659\n",
       "category_Television          0.000654\n",
       "category_Restaurants         0.000654\n",
       "category_Spaces              0.000648\n",
       "category_Horror              0.000644\n",
       "category_Performance Art     0.000641\n",
       "category_World Music         0.000631\n",
       "category_Fine Art            0.000555\n",
       "category_Young Adult         0.000549\n",
       "category_Science Fiction     0.000543\n",
       "category_Faith               0.000540\n",
       "category_Sculpture           0.000539\n",
       "category_Academic            0.000537\n",
       "category_Footwear            0.000533\n",
       "category_Poetry              0.000518\n",
       "category_Thrillers           0.000491\n",
       "category_Ready-to-wear       0.000477\n",
       "category_Events              0.000475\n",
       "category_Drinks              0.000457\n",
       "category_Architecture        0.000445\n",
       "category_Conceptual Art      0.000440\n",
       "category_Small Batch         0.000416\n",
       "category_Jewelry             0.000382\n",
       "category_Farms               0.000340\n",
       "Name: value, Length: 119, dtype: float64"
      ]
     },
     "execution_count": 79,
     "metadata": {},
     "output_type": "execute_result"
    }
   ],
   "source": [
    "importance_label.value.sort_values(ascending=False)"
   ]
  },
  {
   "cell_type": "markdown",
   "metadata": {},
   "source": [
    "# Adaboost"
   ]
  },
  {
   "cell_type": "code",
   "execution_count": null,
   "metadata": {},
   "outputs": [],
   "source": []
  },
  {
   "cell_type": "code",
   "execution_count": 86,
   "metadata": {},
   "outputs": [
    {
     "name": "stdout",
     "output_type": "stream",
     "text": [
      "score= 0.665324231180595\n",
      "[1.12526558e-04 1.80866248e-04 1.13615348e-04 2.48529163e-04\n",
      " 2.63147891e-04 6.75892224e-04 4.04964157e-04 9.31762718e-05\n",
      "            nan 8.49865121e-04 7.93611007e-04 2.00207004e-04\n",
      " 2.97569556e-04 3.78135342e-04 3.92853055e-04 1.54157695e-04\n",
      " 6.49252491e-04 7.29212103e-04 1.56450667e-04            nan\n",
      " 4.57473540e-04 2.95965663e-04 1.59049649e-04 5.84751640e-04\n",
      " 2.37735283e-04 1.82992258e-04 2.73212091e-04 1.13172560e-04\n",
      " 1.98622845e-04 1.07950107e-04 1.17396906e-04 4.52351332e-04\n",
      " 1.98631558e-04 3.83822486e-04 9.42235896e-04 1.30174723e-04\n",
      " 3.34350564e-04 1.06303615e-04 1.16624487e-04 2.35234494e-04\n",
      " 7.22459487e-04 2.01655581e-04 2.84022985e-04 2.64692830e-04\n",
      " 9.68510446e-04 1.80186250e-04 2.78607255e-04 6.44394989e-04\n",
      " 1.76926377e-04 8.96344922e-05            nan 9.39667140e-05\n",
      " 2.39489933e-04 1.60446741e-04 3.51715401e-04 1.75624880e-04\n",
      " 1.15570396e-03 3.76055111e-04 2.80027816e-04 1.36506954e-04\n",
      " 2.29858339e-04 6.94741878e-04 2.04696423e-04 2.15486444e-04\n",
      " 8.19305305e-04 5.29168062e-04 2.69941195e-04 2.42248231e-04\n",
      " 1.68892699e-04 2.35640417e-04 4.73532154e-04            nan\n",
      " 3.42819506e-04 1.73540899e-04 7.01613031e-05 5.65528065e-04\n",
      "            nan 1.27551860e-04 2.12083831e-04 6.39886900e-04\n",
      " 3.63114445e-04            nan 1.56804376e-04 3.15942622e-03\n",
      " 2.48007214e-04 1.15370488e-04 1.82273610e-03 1.08169995e-04\n",
      " 2.85451771e-04 1.30853653e-04 4.00198972e-04 3.71369692e-04\n",
      " 1.50363799e-04 1.93113003e-04 8.45670279e-05            nan\n",
      " 4.68828355e-04 4.52969119e-04 6.75727874e-04 9.57186516e-04\n",
      "            nan 3.22302398e-04 1.86048263e-03 1.10914340e-03\n",
      " 5.01528321e-04 5.44502322e-04 4.17346331e-04 6.26418537e-04\n",
      " 3.18113126e-04 1.18149615e-03 1.42671646e-03 3.70257643e-04\n",
      " 4.42826195e-04 8.49468461e-04 9.86742397e-04 1.42511768e-03\n",
      " 1.38296230e-03 2.40619789e-02            nan]\n"
     ]
    },
    {
     "data": {
      "image/png": "[encoded data removed]",
      "text/plain": [
       "<matplotlib.figure.Figure at 0x1134fb438>"
      ]
     },
     "metadata": {},
     "output_type": "display_data"
    }
   ],
   "source": [
    "clf = AdaBoostClassifier(base_estimator=DecisionTreeClassifier(), n_estimators=10, algorithm='SAMME.R')\n",
    "clf.fit(X_train, y_train)\n",
    "print(\"score=\", clf.score(X_test, y_test))\n",
    "\n",
    "# 説明変数の重要度を出力する\n",
    "# scikit-learnで算出される重要度は、ある説明変数による不純度の減少量合計である。\n",
    "print(clf.feature_importances_)\n",
    "importance_label = pd.DataFrame(clf.feature_importances_, index=onehot_df.columns[1:], columns=['value'])\n",
    "importance_label.plot.bar(figsize=(7,2))\n",
    "plt.ylabel(\"Importance\")\n",
    "plt.xlabel(\"Features\")\n",
    "plt.show()"
   ]
  },
  {
   "cell_type": "markdown",
   "metadata": {},
   "source": [
    "# GradientBoosting"
   ]
  },
  {
   "cell_type": "code",
   "execution_count": 89,
   "metadata": {},
   "outputs": [
    {
     "name": "stdout",
     "output_type": "stream",
     "text": [
      "score= 0.6529518175696196\n",
      "[0.00000000e+00 0.00000000e+00 0.00000000e+00 0.00000000e+00\n",
      " 0.00000000e+00 0.00000000e+00 1.40248762e-02 0.00000000e+00\n",
      " 0.00000000e+00 0.00000000e+00 0.00000000e+00 0.00000000e+00\n",
      " 0.00000000e+00 0.00000000e+00 0.00000000e+00 0.00000000e+00\n",
      " 0.00000000e+00 0.00000000e+00 0.00000000e+00 0.00000000e+00\n",
      " 0.00000000e+00 0.00000000e+00 0.00000000e+00 0.00000000e+00\n",
      " 0.00000000e+00 0.00000000e+00 0.00000000e+00 0.00000000e+00\n",
      " 0.00000000e+00 0.00000000e+00 0.00000000e+00 0.00000000e+00\n",
      " 0.00000000e+00 0.00000000e+00 0.00000000e+00 0.00000000e+00\n",
      " 0.00000000e+00 0.00000000e+00 0.00000000e+00 0.00000000e+00\n",
      " 0.00000000e+00 0.00000000e+00 0.00000000e+00 0.00000000e+00\n",
      " 0.00000000e+00 0.00000000e+00 0.00000000e+00 0.00000000e+00\n",
      " 0.00000000e+00 0.00000000e+00 0.00000000e+00 0.00000000e+00\n",
      " 0.00000000e+00 0.00000000e+00 0.00000000e+00 0.00000000e+00\n",
      " 0.00000000e+00 0.00000000e+00 0.00000000e+00 0.00000000e+00\n",
      " 0.00000000e+00 0.00000000e+00 0.00000000e+00 0.00000000e+00\n",
      " 0.00000000e+00 0.00000000e+00 0.00000000e+00 0.00000000e+00\n",
      " 0.00000000e+00 0.00000000e+00 6.07382249e-04 0.00000000e+00\n",
      " 0.00000000e+00 0.00000000e+00 0.00000000e+00 0.00000000e+00\n",
      " 0.00000000e+00 0.00000000e+00 0.00000000e+00 0.00000000e+00\n",
      " 0.00000000e+00 0.00000000e+00 0.00000000e+00 6.48349187e-02\n",
      " 0.00000000e+00 0.00000000e+00 2.78737133e-02 0.00000000e+00\n",
      " 0.00000000e+00 0.00000000e+00 0.00000000e+00 0.00000000e+00\n",
      " 0.00000000e+00 0.00000000e+00 0.00000000e+00 0.00000000e+00\n",
      " 0.00000000e+00 0.00000000e+00 1.86268011e-02 0.00000000e+00\n",
      " 0.00000000e+00 0.00000000e+00 4.97405809e-02 0.00000000e+00\n",
      " 0.00000000e+00 0.00000000e+00 0.00000000e+00 0.00000000e+00\n",
      " 0.00000000e+00 0.00000000e+00 3.95609732e-03 0.00000000e+00\n",
      " 0.00000000e+00 0.00000000e+00 0.00000000e+00 8.31194387e-03\n",
      " 3.96414605e-02 1.47143686e-01 6.25238540e-01]\n"
     ]
    },
    {
     "data": {
      "image/png": "[encoded data removed]",
      "text/plain": [
       "<matplotlib.figure.Figure at 0x1159cf390>"
      ]
     },
     "metadata": {},
     "output_type": "display_data"
    }
   ],
   "source": [
    "clf = GradientBoostingClassifier(n_estimators=10, loss='deviance')\n",
    "clf.fit(X_train, y_train)\n",
    "print(\"score=\", clf.score(X_test, y_test))\n",
    "\n",
    "# 説明変数の重要度を出力する\n",
    "# scikit-learnで算出される重要度は、ある説明変数による不純度の減少量合計である。\n",
    "print(clf.feature_importances_)\n",
    "importance_label = pd.DataFrame(clf.feature_importances_, index=onehot_df.columns[1:], columns=['value'])\n",
    "importance_label.plot.bar(figsize=(7,2))\n",
    "plt.ylabel(\"Importance\")\n",
    "plt.xlabel(\"Features\")\n",
    "plt.show()"
   ]
  },
  {
   "cell_type": "code",
   "execution_count": null,
   "metadata": {},
   "outputs": [],
   "source": []
  }
 ],
 "metadata": {
  "kernelspec": {
   "display_name": "Python 3",
   "language": "python",
   "name": "python3"
  },
  "language_info": {
   "codemirror_mode": {
    "name": "ipython",
    "version": 3
   },
   "file_extension": ".py",
   "mimetype": "text/x-python",
   "name": "python",
   "nbconvert_exporter": "python",
   "pygments_lexer": "ipython3",
   "version": "3.6.4"
  }
 },
 "nbformat": 4,
 "nbformat_minor": 2
}
