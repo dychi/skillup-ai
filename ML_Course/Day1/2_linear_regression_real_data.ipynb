{
 "cells": [
  {
   "cell_type": "markdown",
   "metadata": {},
   "source": [
    "## 線形回帰\n",
    "- 実際のデータを使って線形回帰を行う"
   ]
  },
  {
   "cell_type": "code",
   "execution_count": null,
   "metadata": {},
   "outputs": [],
   "source": [
    "%matplotlib inline\n",
    "import pandas as pd\n",
    "import numpy as np\n",
    "import matplotlib.pyplot as plt\n",
    "from sklearn.linear_model import LinearRegression"
   ]
  },
  {
   "cell_type": "markdown",
   "metadata": {},
   "source": [
    "### 1. データの読み込み "
   ]
  },
  {
   "cell_type": "code",
   "execution_count": null,
   "metadata": {},
   "outputs": [],
   "source": [
    "df_diamond = pd.read_csv(\"../1_data/diamond_data.csv\")\n",
    "\n",
    "#ダイヤモンドの重さの単位であるカラットとその価格に関する実際のデータ。『回帰分析入門』より引用\n",
    "display(df_diamond.head())\n",
    "df_diamond.describe()"
   ]
  },
  {
   "cell_type": "code",
   "execution_count": null,
   "metadata": {},
   "outputs": [],
   "source": [
    "x = df_diamond[\"carat\"].values\n",
    "y = df_diamond[\"price\"].values\n",
    "\n",
    "plt.scatter(x, y, marker='o')\n",
    "plt.grid(which='major',color='black',linestyle=':')\n",
    "plt.grid(which='minor',color='black',linestyle=':')\n",
    "plt.ylabel('price')\n",
    "plt.xlabel('carat')\n",
    "plt.show()"
   ]
  },
  {
   "cell_type": "markdown",
   "metadata": {},
   "source": [
    "### 2. [演習] Scikit-learnを用いて線形回帰を実装してみましょう\n",
    "- w0, w1, 二乗誤差を表示し，回帰直線（モデルからの出力）をグラフに重ねて表示してみましょう"
   ]
  },
  {
   "cell_type": "code",
   "execution_count": null,
   "metadata": {},
   "outputs": [],
   "source": [
    "X = x.reshape(-1,1)\n",
    "regr = LinearRegression(fit_intercept=True)\n",
    "regr.fit(X, y)\n",
    "y_est_sklearn = regr.intercept_ + regr.coef_[0] * x\n",
    "squared_error = 0.5 * np.sum( (y_est_sklearn - y) ** 2)\n",
    "print(\"w0 = {:.3f}, w1 = {:.3f}, 二乗誤差 = {:.3f}\".format(regr.intercept_, regr.coef_[0], squared_error))\n",
    "\n",
    "# グラフに重ねて表示する\n",
    "plt.plot(x, y, 'o')\n",
    "plt.ylabel(\"price\")\n",
    "plt.xlabel(\"carat\")\n",
    "plt.grid(which='major',color='black',linestyle=':')\n",
    "plt.grid(which='minor',color='black',linestyle=':')\n",
    "plt.plot(x, y_est_sklearn)\n",
    "plt.show()"
   ]
  }
 ],
 "metadata": {
  "kernelspec": {
   "display_name": "Python 3",
   "language": "python",
   "name": "python3"
  },
  "language_info": {
   "codemirror_mode": {
    "name": "ipython",
    "version": 3
   },
   "file_extension": ".py",
   "mimetype": "text/x-python",
   "name": "python",
   "nbconvert_exporter": "python",
   "pygments_lexer": "ipython3",
   "version": "3.6.8"
  }
 },
 "nbformat": 4,
 "nbformat_minor": 2
}
