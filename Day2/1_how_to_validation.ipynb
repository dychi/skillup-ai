{
 "cells": [
  {
   "cell_type": "markdown",
   "metadata": {},
   "source": [
    "## ホールドアウト法と交差検証法\n",
    "- 線形回帰モデルの汎化誤差をホールドアウト法と交差検証法によってそれぞれ評価する"
   ]
  },
  {
   "cell_type": "code",
   "execution_count": 1,
   "metadata": {},
   "outputs": [],
   "source": [
    "%matplotlib inline\n",
    "import pandas as pd\n",
    "import numpy as np\n",
    "import matplotlib.pyplot as plt\n",
    "from sklearn.linear_model import LinearRegression\n",
    "from sklearn.model_selection import train_test_split # ホールドアウト法に関する関数\n",
    "from sklearn.model_selection import KFold # 交差検証法に関する関数\n",
    "from sklearn.metrics import mean_absolute_error # 回帰問題における性能評価に関する関数"
   ]
  },
  {
   "cell_type": "markdown",
   "metadata": {},
   "source": [
    "### 1. データの読み込み "
   ]
  },
  {
   "cell_type": "code",
   "execution_count": 2,
   "metadata": {},
   "outputs": [
    {
     "data": {
      "text/html": [
       "<div>\n",
       "<style scoped>\n",
       "    .dataframe tbody tr th:only-of-type {\n",
       "        vertical-align: middle;\n",
       "    }\n",
       "\n",
       "    .dataframe tbody tr th {\n",
       "        vertical-align: top;\n",
       "    }\n",
       "\n",
       "    .dataframe thead th {\n",
       "        text-align: right;\n",
       "    }\n",
       "</style>\n",
       "<table border=\"1\" class=\"dataframe\">\n",
       "  <thead>\n",
       "    <tr style=\"text-align: right;\">\n",
       "      <th></th>\n",
       "      <th>carat</th>\n",
       "      <th>price</th>\n",
       "    </tr>\n",
       "  </thead>\n",
       "  <tbody>\n",
       "    <tr>\n",
       "      <th>0</th>\n",
       "      <td>0.30</td>\n",
       "      <td>1302</td>\n",
       "    </tr>\n",
       "    <tr>\n",
       "      <th>1</th>\n",
       "      <td>0.30</td>\n",
       "      <td>1510</td>\n",
       "    </tr>\n",
       "    <tr>\n",
       "      <th>2</th>\n",
       "      <td>0.30</td>\n",
       "      <td>1510</td>\n",
       "    </tr>\n",
       "    <tr>\n",
       "      <th>3</th>\n",
       "      <td>0.30</td>\n",
       "      <td>1260</td>\n",
       "    </tr>\n",
       "    <tr>\n",
       "      <th>4</th>\n",
       "      <td>0.31</td>\n",
       "      <td>1641</td>\n",
       "    </tr>\n",
       "  </tbody>\n",
       "</table>\n",
       "</div>"
      ],
      "text/plain": [
       "   carat  price\n",
       "0   0.30   1302\n",
       "1   0.30   1510\n",
       "2   0.30   1510\n",
       "3   0.30   1260\n",
       "4   0.31   1641"
      ]
     },
     "metadata": {},
     "output_type": "display_data"
    },
    {
     "data": {
      "text/html": [
       "<div>\n",
       "<style scoped>\n",
       "    .dataframe tbody tr th:only-of-type {\n",
       "        vertical-align: middle;\n",
       "    }\n",
       "\n",
       "    .dataframe tbody tr th {\n",
       "        vertical-align: top;\n",
       "    }\n",
       "\n",
       "    .dataframe thead th {\n",
       "        text-align: right;\n",
       "    }\n",
       "</style>\n",
       "<table border=\"1\" class=\"dataframe\">\n",
       "  <thead>\n",
       "    <tr style=\"text-align: right;\">\n",
       "      <th></th>\n",
       "      <th>carat</th>\n",
       "      <th>price</th>\n",
       "    </tr>\n",
       "  </thead>\n",
       "  <tbody>\n",
       "    <tr>\n",
       "      <th>count</th>\n",
       "      <td>308.000000</td>\n",
       "      <td>308.000000</td>\n",
       "    </tr>\n",
       "    <tr>\n",
       "      <th>mean</th>\n",
       "      <td>0.630909</td>\n",
       "      <td>5019.483766</td>\n",
       "    </tr>\n",
       "    <tr>\n",
       "      <th>std</th>\n",
       "      <td>0.277183</td>\n",
       "      <td>3403.115715</td>\n",
       "    </tr>\n",
       "    <tr>\n",
       "      <th>min</th>\n",
       "      <td>0.180000</td>\n",
       "      <td>638.000000</td>\n",
       "    </tr>\n",
       "    <tr>\n",
       "      <th>25%</th>\n",
       "      <td>0.350000</td>\n",
       "      <td>1625.000000</td>\n",
       "    </tr>\n",
       "    <tr>\n",
       "      <th>50%</th>\n",
       "      <td>0.620000</td>\n",
       "      <td>4215.000000</td>\n",
       "    </tr>\n",
       "    <tr>\n",
       "      <th>75%</th>\n",
       "      <td>0.850000</td>\n",
       "      <td>7446.000000</td>\n",
       "    </tr>\n",
       "    <tr>\n",
       "      <th>max</th>\n",
       "      <td>1.100000</td>\n",
       "      <td>16008.000000</td>\n",
       "    </tr>\n",
       "  </tbody>\n",
       "</table>\n",
       "</div>"
      ],
      "text/plain": [
       "            carat         price\n",
       "count  308.000000    308.000000\n",
       "mean     0.630909   5019.483766\n",
       "std      0.277183   3403.115715\n",
       "min      0.180000    638.000000\n",
       "25%      0.350000   1625.000000\n",
       "50%      0.620000   4215.000000\n",
       "75%      0.850000   7446.000000\n",
       "max      1.100000  16008.000000"
      ]
     },
     "execution_count": 2,
     "metadata": {},
     "output_type": "execute_result"
    }
   ],
   "source": [
    "df_diamond = pd.read_csv(\"../1_data/diamond_data.csv\")\n",
    "\n",
    "#ダイヤモンドの重さの単位であるカラットとその価格に関する疑似データ。\n",
    "display(df_diamond.head())\n",
    "df_diamond.describe()"
   ]
  },
  {
   "cell_type": "code",
   "execution_count": 3,
   "metadata": {},
   "outputs": [
    {
     "data": {
      "image/png": "[encoded data removed]",
      "text/plain": [
       "<matplotlib.figure.Figure at 0x1a0b860f98>"
      ]
     },
     "metadata": {},
     "output_type": "display_data"
    }
   ],
   "source": [
    "x = df_diamond[\"carat\"].values\n",
    "y = df_diamond[\"price\"].values\n",
    "\n",
    "plt.scatter(x, y, marker='o')\n",
    "plt.grid(which='major',color='black',linestyle=':')\n",
    "plt.grid(which='minor',color='black',linestyle=':')\n",
    "plt.ylabel('price')\n",
    "plt.xlabel('carat')\n",
    "plt.show()"
   ]
  },
  {
   "cell_type": "markdown",
   "metadata": {},
   "source": [
    "### 2. ホールドアウト法\n",
    "- データを事前に学習用とテスト用に分割し、テスト用データで学習済みモデルの汎化誤差を評価する方法のこと"
   ]
  },
  {
   "cell_type": "code",
   "execution_count": 4,
   "metadata": {},
   "outputs": [],
   "source": [
    "X = x.reshape(-1,1) # scikit-learnに入力するために整形\n",
    "test_size = 0.2        # 全データのうち、何%をテストデータにするか（今回は20%に設定）\n",
    "X_train, X_test, y_train, y_test = train_test_split(X, y, test_size=test_size, random_state=1234) # ホールドアウト法を実行（テストデータはランダム選択）"
   ]
  },
  {
   "cell_type": "markdown",
   "metadata": {},
   "source": [
    "- `X_train` : 学習用データの説明変数\n",
    "- `X_test` : テスト用データの説明変数\n",
    "- `y_train` : 学習用データの目的変数\n",
    "- `y_test` : テスト用データの目的変数"
   ]
  },
  {
   "cell_type": "code",
   "execution_count": 5,
   "metadata": {},
   "outputs": [
    {
     "name": "stdout",
     "output_type": "stream",
     "text": [
      "MAE = 707.119\n"
     ]
    }
   ],
   "source": [
    "# 学習用データを使って線形回帰モデルを学習\n",
    "regr = LinearRegression(fit_intercept=True)\n",
    "regr.fit(X_train, y_train)\n",
    "\n",
    "# 学習用データに対する予測を実行\n",
    "y_pred_train = regr.predict(X_train)\n",
    "\n",
    "# 学習データに対するMAEを計算（訓練誤差の評価）\n",
    "mae = mean_absolute_error(y_train, y_pred_train)\n",
    "print(\"MAE = %s\"%round(mae,3) )"
   ]
  },
  {
   "cell_type": "code",
   "execution_count": 6,
   "metadata": {},
   "outputs": [
    {
     "name": "stdout",
     "output_type": "stream",
     "text": [
      "MAE = 855.624\n"
     ]
    }
   ],
   "source": [
    "# テストデータに対する予測を実行\n",
    "y_pred_test = regr.predict(X_test)\n",
    "\n",
    "# テストデータに対するMAEを計算（汎化誤差の評価）\n",
    "mae = mean_absolute_error(y_test, y_pred_test)\n",
    "print(\"MAE = %s\"%round(mae,3) )"
   ]
  },
  {
   "cell_type": "code",
   "execution_count": 7,
   "metadata": {},
   "outputs": [
    {
     "data": {
      "image/png": "[encoded data removed]",
      "text/plain": [
       "<matplotlib.figure.Figure at 0x1a0b898630>"
      ]
     },
     "metadata": {},
     "output_type": "display_data"
    }
   ],
   "source": [
    "# グラフに重ねて表示する\n",
    "plt.plot(X_train, y_train, 'o', label='training data')\n",
    "plt.plot(X_test, y_test, '^', label='test data')\n",
    "plt.ylabel(\"price\")\n",
    "plt.xlabel(\"carat\")\n",
    "plt.grid(which='major',color='black',linestyle=':')\n",
    "plt.grid(which='minor',color='black',linestyle=':')\n",
    "plt.plot(X_train, y_pred_train, label='regression')\n",
    "plt.legend(loc='best')\n",
    "plt.show()"
   ]
  },
  {
   "cell_type": "markdown",
   "metadata": {},
   "source": [
    "### 3. 交差検証（クロスバリデーション）法\n",
    "- 交差検証法とは、データを複数のグループにわけ、テスト役と学習役を交代させていくことで少ないデータでも汎化誤差を評価する方法"
   ]
  },
  {
   "cell_type": "code",
   "execution_count": 8,
   "metadata": {},
   "outputs": [
    {
     "name": "stdout",
     "output_type": "stream",
     "text": [
      "Fold 1\n",
      "MAE = 1341.723\n",
      "\n",
      "Fold 2\n",
      "MAE = 1239.992\n",
      "\n",
      "Fold 3\n",
      "MAE = 949.845\n",
      "\n",
      "Fold 4\n",
      "MAE = 1136.542\n",
      "\n",
      "Fold 5\n",
      "MAE = 1342.977\n",
      "\n",
      "Cross Validation MAE = 1202.216\n"
     ]
    }
   ],
   "source": [
    "X = x.reshape(-1,1) # scikit-learnに入力するために整形\n",
    "n_split = 5 # グループ数を設定（今回は5分割）\n",
    "\n",
    "cross_valid_mae = 0\n",
    "split_num = 1\n",
    "\n",
    "# テスト役を交代させながら学習と評価を繰り返す\n",
    "for train_idx, test_idx in KFold(n_splits=n_split, random_state=1234).split(X, y):\n",
    "    X_train, y_train = X[train_idx], y[train_idx] #学習用データ\n",
    "    X_test, y_test = X[test_idx], y[test_idx]     #テスト用データ\n",
    "    \n",
    "    # 学習用データを使って線形回帰モデルを学習\n",
    "    regr = LinearRegression(fit_intercept=False)\n",
    "    regr.fit(X_train, y_train)\n",
    "\n",
    "    # テストデータに対する予測を実行\n",
    "    y_pred_test = regr.predict(X_test)\n",
    "    \n",
    "    # テストデータに対するMAEを計算\n",
    "    mae = mean_absolute_error(y_test, y_pred_test)\n",
    "    print(\"Fold %s\"%split_num)\n",
    "    print(\"MAE = %s\"%round(mae, 3))\n",
    "    print()\n",
    "    \n",
    "    cross_valid_mae += mae #後で平均を取るためにMAEを加算\n",
    "    split_num += 1\n",
    "\n",
    "# MAEの平均値を最終的な汎化誤差値とする\n",
    "final_mae = cross_valid_mae / n_split\n",
    "print(\"Cross Validation MAE = %s\"%round(final_mae, 3))"
   ]
  }
 ],
 "metadata": {
  "kernelspec": {
   "display_name": "Python 3",
   "language": "python",
   "name": "python3"
  },
  "language_info": {
   "codemirror_mode": {
    "name": "ipython",
    "version": 3
   },
   "file_extension": ".py",
   "mimetype": "text/x-python",
   "name": "python",
   "nbconvert_exporter": "python",
   "pygments_lexer": "ipython3",
   "version": "3.6.4"
  }
 },
 "nbformat": 4,
 "nbformat_minor": 2
}
