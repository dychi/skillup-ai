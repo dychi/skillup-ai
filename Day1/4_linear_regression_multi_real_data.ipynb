{
 "cells": [
  {
   "cell_type": "markdown",
   "metadata": {},
   "source": [
    "## 線形回帰\n",
    "- 実際のデータを使って線形回帰を行う"
   ]
  },
  {
   "cell_type": "code",
   "execution_count": null,
   "metadata": {},
   "outputs": [],
   "source": [
    "%matplotlib inline\n",
    "import pandas as pd\n",
    "import numpy as np\n",
    "from sklearn.linear_model import LinearRegression\n",
    "import seaborn as sns\n",
    "import matplotlib.pyplot as plt\n",
    "from mpl_toolkits.mplot3d import Axes3D #3D散布図の描画"
   ]
  },
  {
   "cell_type": "markdown",
   "metadata": {},
   "source": [
    "### 1. データの読み込み "
   ]
  },
  {
   "cell_type": "code",
   "execution_count": null,
   "metadata": {},
   "outputs": [],
   "source": [
    "df_house = pd.read_csv(\"../1_data/kc_house_data.csv\")[['price', 'sqft_living', 'sqft_lot', 'sqft_above', 'yr_built', 'sqft_living15', 'sqft_lot15']]\n",
    "\n",
    "# 先程と似た中古住宅のデータ\n",
    "display(df_house.head())\n",
    "df_house.describe()"
   ]
  },
  {
   "cell_type": "markdown",
   "metadata": {},
   "source": [
    "### 2. [演習] データの統計量を確認し，Scikit-learnを用いて線形回帰を実装してみましょう\n",
    "- 先程は説明変数を選択しましたが，この演習ではすべての説明変数を使用しましょう\n",
    "- 散布図行列を書いてみましょう\n",
    "- 相関係数を確認してみましょう\n",
    "- 相関係数をヒートマップで可視化してみましょう\n",
    "- w0, w1, ..., w6と二乗誤差を表示してみましょう"
   ]
  },
  {
   "cell_type": "code",
   "execution_count": null,
   "metadata": {},
   "outputs": [],
   "source": [
    "# 散布図行列を書いてみる\n",
    "pd.plotting.scatter_matrix(df_house, figsize=(10,10))\n",
    "plt.show()"
   ]
  },
  {
   "cell_type": "code",
   "execution_count": null,
   "metadata": {},
   "outputs": [],
   "source": [
    "# 相関係数を確認\n",
    "df_house.corr()"
   ]
  },
  {
   "cell_type": "code",
   "execution_count": null,
   "metadata": {},
   "outputs": [],
   "source": [
    "# 相関係数をヒートマップにして可視化\n",
    "sns.heatmap(df_house.corr())\n",
    "plt.show()"
   ]
  },
  {
   "cell_type": "code",
   "execution_count": null,
   "metadata": {},
   "outputs": [],
   "source": [
    "# 係数を求める\n",
    "y = df_house[\"price\"].values\n",
    "X = df_house[['sqft_living', 'sqft_lot', 'sqft_above', 'yr_built', 'sqft_living15', 'sqft_lot15']].values\n",
    "regr = LinearRegression(fit_intercept=True)\n",
    "regr.fit(X, y)\n",
    "\n",
    "# 重みを取り出す\n",
    "w0 = regr.intercept_\n",
    "w1 = regr.coef_[0]\n",
    "w2 = regr.coef_[1]\n",
    "w3 = regr.coef_[2]\n",
    "w4 = regr.coef_[3]\n",
    "w5 = regr.coef_[4]\n",
    "w6 = regr.coef_[5]"
   ]
  },
  {
   "cell_type": "code",
   "execution_count": null,
   "metadata": {},
   "outputs": [],
   "source": [
    "x1 = df_house['sqft_living'].values\n",
    "x2 = df_house['sqft_lot'].values\n",
    "x3 = df_house['sqft_above'].values\n",
    "x4 = df_house['yr_built'].values\n",
    "x5 = df_house['sqft_living15'].values\n",
    "x6 = df_house['sqft_lot15'].values\n",
    "\n",
    "# 重みと二乗誤差の確認\n",
    "y_est = w0 + w1 * x1 + w2 * x2 + w3 * x3 + w4 * x4 + w5 * x5 + w6 * x6\n",
    "squared_error = 0.5 * np.sum((y - y_est) ** 2)\n",
    "print('w0 = {:.3f}, w1 = {:.3f}, w2 = {:.3f}, w3 = {:.3f}, w4 = {:.3f}, w5 = {:.3f}, w6 = {:.3f}'.format(w0, w1, w2, w3, w4, w5, w6))\n",
    "print('二乗誤差 = {:.3f}'.format(squared_error))"
   ]
  }
 ],
 "metadata": {
  "kernelspec": {
   "display_name": "Python 3",
   "language": "python",
   "name": "python3"
  },
  "language_info": {
   "codemirror_mode": {
    "name": "ipython",
    "version": 3
   },
   "file_extension": ".py",
   "mimetype": "text/x-python",
   "name": "python",
   "nbconvert_exporter": "python",
   "pygments_lexer": "ipython3",
   "version": "3.6.4"
  }
 },
 "nbformat": 4,
 "nbformat_minor": 2
}
