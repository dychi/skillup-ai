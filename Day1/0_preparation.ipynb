{
 "cells": [
  {
   "cell_type": "markdown",
   "metadata": {},
   "source": [
    "## 事前準備のお願い\n",
    "- こちらのNotebookがすべてエラーなく実行できれば事前準備はOKです\n",
    "- 実行するときは，実行したい部分（セル）をクリックした後にShiftキーとEnterキーを同時押し"
   ]
  },
  {
   "cell_type": "markdown",
   "metadata": {},
   "source": [
    "### (0) Anaconda3-5.1.0がインストールされていることを確認\n",
    "* 古いバージョンのAnacondaの場合、演習用Notebookでエラーがでることがあります。\n",
    "* 最新のAnacondaの場合、TensorFlowがPython3.7に公式対応していないため、インストールがうまくいかない場合があります。\n",
    "* Anaconda3-5.1.0でない場合は、一旦このNotebookを閉じて、Anaconda3-5.1.0をインストールしなおしてください。その際、バージョンの混乱を避けるため、先にインストール済みのAnacondaをアンインストールしておいて下さい。\n",
    "* Anaconda3-5.1.0のAnacondaがインストールされていることを確認できた方は、(1)以降に進んでください。"
   ]
  },
  {
   "cell_type": "markdown",
   "metadata": {
    "ExecuteTime": {
     "end_time": "2018-03-30T03:25:46.484654Z",
     "start_time": "2018-03-30T03:25:46.471092Z"
    }
   },
   "source": [
    "### (1) Numpy・Pandasのアップデート\n",
    "* `pip install -U numpy`\n",
    "* `pip install -U pandas`"
   ]
  },
  {
   "cell_type": "code",
   "execution_count": 1,
   "metadata": {},
   "outputs": [
    {
     "data": {
      "text/plain": [
       "'1.15.4'"
      ]
     },
     "execution_count": 1,
     "metadata": {},
     "output_type": "execute_result"
    }
   ],
   "source": [
    "import numpy as np\n",
    "np.__version__"
   ]
  },
  {
   "cell_type": "code",
   "execution_count": 2,
   "metadata": {
    "ExecuteTime": {
     "end_time": "2018-03-30T03:27:15.882241Z",
     "start_time": "2018-03-30T03:27:15.870827Z"
    }
   },
   "outputs": [
    {
     "data": {
      "text/plain": [
       "'0.20.3'"
      ]
     },
     "execution_count": 2,
     "metadata": {},
     "output_type": "execute_result"
    }
   ],
   "source": [
    "import pandas as pd\n",
    "pd.__version__"
   ]
  },
  {
   "cell_type": "markdown",
   "metadata": {},
   "source": [
    "### (2) scikit-learnのアップデート\n",
    "* `pip install -U sklearn`"
   ]
  },
  {
   "cell_type": "code",
   "execution_count": 3,
   "metadata": {},
   "outputs": [
    {
     "data": {
      "text/plain": [
       "'0.19.0'"
      ]
     },
     "execution_count": 3,
     "metadata": {},
     "output_type": "execute_result"
    }
   ],
   "source": [
    "import sklearn as sk\n",
    "sk.__version__"
   ]
  },
  {
   "cell_type": "markdown",
   "metadata": {},
   "source": [
    "### (3) matplotlib, seabornのアップデート\n",
    "* `pip install -U matplotlib`\n",
    "* `pip install -U seaborn`\n",
    "  * Anacondaのバージョンが古い場合，seabornが入っていない場合がある．そのときは `pip install seaborn` でインストール"
   ]
  },
  {
   "cell_type": "code",
   "execution_count": 4,
   "metadata": {},
   "outputs": [
    {
     "data": {
      "text/plain": [
       "'3.0.2'"
      ]
     },
     "execution_count": 4,
     "metadata": {},
     "output_type": "execute_result"
    }
   ],
   "source": [
    "import matplotlib as mpl\n",
    "import matplotlib.pyplot as plt \n",
    "%matplotlib inline\n",
    "mpl.__version__"
   ]
  },
  {
   "cell_type": "code",
   "execution_count": 5,
   "metadata": {},
   "outputs": [
    {
     "data": {
      "text/plain": [
       "'0.8.0'"
      ]
     },
     "execution_count": 5,
     "metadata": {},
     "output_type": "execute_result"
    }
   ],
   "source": [
    "import seaborn as sns\n",
    "sns.__version__"
   ]
  },
  {
   "cell_type": "markdown",
   "metadata": {},
   "source": [
    "### (4) 描画用ライブラリのインストール\n",
    "\n",
    "#### mac, linuxの場合\n",
    "* `pip install graphviz`\n",
    "* `conda install python-graphviz`\n",
    "* `pip install pydotplus`\n",
    "\n",
    "#### windowsの場合\n",
    "* graphvizのインストール  \n",
    "http://ruby.kyoto-wu.ac.jp/info-com/Softwares/Graphviz/\n",
    "* `conda install python-graphviz`\n",
    "* `pip install pydotplus`\n"
   ]
  },
  {
   "cell_type": "code",
   "execution_count": 1,
   "metadata": {},
   "outputs": [
    {
     "name": "stdout",
     "output_type": "stream",
     "text": [
      "Requirement already satisfied: graphviz in /Users/daichi/.pyenv/versions/anaconda3-5.0.0/lib/python3.6/site-packages (0.10.1)\n",
      "Solving environment: done\n",
      "\n",
      "## Package Plan ##\n",
      "\n",
      "  environment location: /Users/daichi/.pyenv/versions/anaconda3-5.0.0\n",
      "\n",
      "  added / updated specs: \n",
      "    - python-graphviz\n",
      "\n",
      "\n",
      "The following packages will be downloaded:\n",
      "\n",
      "    package                    |            build\n",
      "    ---------------------------|-----------------\n",
      "    curl-7.64.0                |       ha441bb4_2         147 KB\n",
      "    expat-2.2.6                |       h0a44026_0         129 KB\n",
      "    cryptography-2.6.1         |   py36ha12b0ac_0         576 KB\n",
      "    graphviz-2.40.1            |       h0a44026_0         6.7 MB\n",
      "    certifi-2019.3.9           |           py36_0         155 KB\n",
      "    cairo-1.14.12              |       hab642c4_0         1.3 MB\n",
      "    pycurl-7.43.0.2            |   py36ha12b0ac_0         185 KB\n",
      "    libpng-1.6.36              |       ha441bb4_0         296 KB\n",
      "    krb5-1.16.1                |       hddcf347_7         1.1 MB\n",
      "    ca-certificates-2019.1.23  |                0         126 KB\n",
      "    ncurses-6.1                |       h0a44026_1         887 KB\n",
      "    sqlite-3.27.2              |       ha441bb4_0         2.3 MB\n",
      "    python-3.6.8               |       haf84260_0        20.5 MB\n",
      "    openssl-1.1.1b             |       h1de35cc_1         3.4 MB\n",
      "    harfbuzz-1.7.6             |       h08e020e_0         707 KB\n",
      "    pango-1.41.0               |       h3bae10e_0         533 KB\n",
      "    readline-7.0               |       h1de35cc_5         393 KB\n",
      "    libcurl-7.64.0             |       h051b688_2         531 KB\n",
      "    libedit-3.1.20181209       |       hb402a30_0         159 KB\n",
      "    python-graphviz-0.8.4      |           py36_1          27 KB\n",
      "    conda-4.6.14               |           py36_0         2.1 MB\n",
      "    tk-8.6.8                   |       ha441bb4_0         3.2 MB\n",
      "    ------------------------------------------------------------\n",
      "                                           Total:        45.5 MB\n",
      "\n",
      "The following NEW packages will be INSTALLED:\n",
      "\n",
      "    graphviz:        2.40.1-h0a44026_0                \n",
      "    krb5:            1.16.1-hddcf347_7                \n",
      "    libcurl:         7.64.0-h051b688_2                \n",
      "    pango:           1.41.0-h3bae10e_0                \n",
      "    python-graphviz: 0.8.4-py36_1                     \n",
      "\n",
      "The following packages will be UPDATED:\n",
      "\n",
      "    ca-certificates: 2018.4.16-0           conda-forge --> 2019.1.23-0            \n",
      "    cairo:           1.14.10-h913ea44_6                --> 1.14.12-hab642c4_0     \n",
      "    certifi:         2018.4.16-py36_0      conda-forge --> 2019.3.9-py36_0        \n",
      "    conda:           4.5.1-py36_0          conda-forge --> 4.6.14-py36_0          \n",
      "    cryptography:    2.0.3-py36h22d4226_1              --> 2.6.1-py36ha12b0ac_0   \n",
      "    curl:            7.55.1-h7601780_3                 --> 7.64.0-ha441bb4_2      \n",
      "    expat:           2.2.4-h8f26bf8_1                  --> 2.2.6-h0a44026_0       \n",
      "    harfbuzz:        1.5.0-h6db888e_0                  --> 1.7.6-h08e020e_0       \n",
      "    libedit:         3.1-hb4e282d_0                    --> 3.1.20181209-hb402a30_0\n",
      "    libpng:          1.6.32-hce72d48_2                 --> 1.6.36-ha441bb4_0      \n",
      "    ncurses:         6.0-ha932d30_1                    --> 6.1-h0a44026_1         \n",
      "    openssl:         1.0.2o-0              conda-forge --> 1.1.1b-h1de35cc_1      \n",
      "    pycurl:          7.43.0-py36hdb90038_3             --> 7.43.0.2-py36ha12b0ac_0\n",
      "    python:          3.6.2-h26d10c0_12                 --> 3.6.8-haf84260_0       \n",
      "    readline:        7.0-h81b24a6_3                    --> 7.0-h1de35cc_5         \n",
      "    sqlite:          3.20.1-h900c3b0_1                 --> 3.27.2-ha441bb4_0      \n",
      "    tk:              8.6.7-hcdce994_1                  --> 8.6.8-ha441bb4_0       \n",
      "    xz:              5.2.3-ha24016e_1                  --> 5.2.4-h1de35cc_4       \n",
      "\n",
      "\n",
      "Downloading and Extracting Packages\n",
      "curl 7.64.0############################################################# | 100% \n",
      "expat 2.2.6############################################################# | 100% \n",
      "cryptography 2.6.1###################################################### | 100% \n",
      "graphviz 2.40.1######################################################### | 100% \n",
      "certifi 2019.3.9######################################################## | 100% \n",
      "cairo 1.14.12########################################################### | 100% \n",
      "pycurl 7.43.0.2######################################################### | 100% \n",
      "libpng 1.6.36########################################################### | 100% \n",
      "krb5 1.16.1############################################################# | 100% \n",
      "ca-certificates 2019.1.23############################################### | 100% \n",
      "ncurses 6.1############################################################# | 100% \n",
      "sqlite 3.27.2########################################################### | 100% \n",
      "python 3.6.8############################################################ | 100% \n",
      "openssl 1.1.1b########################################################## | 100% \n",
      "harfbuzz 1.7.6########################################################## | 100% \n",
      "pango 1.41.0############################################################ | 100% \n",
      "readline 7.0############################################################ | 100% \n",
      "libcurl 7.64.0########################################################## | 100% \n",
      "libedit 3.1.20181209#################################################### | 100% \n",
      "python-graphviz 0.8.4################################################### | 100% \n",
      "conda 4.6.14############################################################ | 100% \n",
      "tk 8.6.8################################################################ | 100% \n",
      "Preparing transaction: done\n",
      "Verifying transaction: done\n",
      "Executing transaction: done\n",
      "Requirement already satisfied: pydotplus in /Users/daichi/.pyenv/versions/anaconda3-5.0.0/lib/python3.6/site-packages (2.0.2)\n",
      "Requirement already satisfied: pyparsing>=2.0.1 in /Users/daichi/.pyenv/versions/anaconda3-5.0.0/lib/python3.6/site-packages (from pydotplus) (2.2.0)\n"
     ]
    }
   ],
   "source": [
    "!pip install graphviz\n",
    "!conda install -y python-graphviz\n",
    "!pip install pydotplus"
   ]
  },
  {
   "cell_type": "code",
   "execution_count": 2,
   "metadata": {
    "ExecuteTime": {
     "end_time": "2018-03-30T03:27:19.014087Z",
     "start_time": "2018-03-30T03:27:19.005961Z"
    }
   },
   "outputs": [
    {
     "data": {
      "text/plain": [
       "'0.8.4'"
      ]
     },
     "execution_count": 2,
     "metadata": {},
     "output_type": "execute_result"
    }
   ],
   "source": [
    "import pydotplus\n",
    "import graphviz\n",
    "graphviz.__version__"
   ]
  },
  {
   "cell_type": "markdown",
   "metadata": {},
   "source": [
    "### (5) TensorFlowのインストール\n",
    "* インストールガイド： https://www.tensorflow.org/install/\n",
    "* 基本的には`pip install tensorflow`でインストールできる\n",
    "* すでにインストールされている場合は`pip install -U tensorflow`でアップデート"
   ]
  },
  {
   "cell_type": "code",
   "execution_count": 10,
   "metadata": {},
   "outputs": [
    {
     "name": "stderr",
     "output_type": "stream",
     "text": [
      "/Users/daichi/.pyenv/versions/anaconda3-5.0.0/lib/python3.6/site-packages/h5py/__init__.py:36: FutureWarning: Conversion of the second argument of issubdtype from `float` to `np.floating` is deprecated. In future, it will be treated as `np.float64 == np.dtype(float).type`.\n",
      "  from ._conv import register_converters as _register_converters\n"
     ]
    },
    {
     "data": {
      "text/plain": [
       "'1.12.0'"
      ]
     },
     "execution_count": 10,
     "metadata": {},
     "output_type": "execute_result"
    }
   ],
   "source": [
    "import tensorflow as tf\n",
    "tf.__version__"
   ]
  },
  {
   "cell_type": "markdown",
   "metadata": {},
   "source": [
    "### (6) kerasのインストール\n",
    "* `pip install keras`\n",
    "* すでにインストールされている場合は`pip install -U keras`でアップデート"
   ]
  },
  {
   "cell_type": "code",
   "execution_count": 11,
   "metadata": {},
   "outputs": [
    {
     "name": "stderr",
     "output_type": "stream",
     "text": [
      "Using TensorFlow backend.\n"
     ]
    },
    {
     "data": {
      "text/plain": [
       "'2.1.5'"
      ]
     },
     "execution_count": 11,
     "metadata": {},
     "output_type": "execute_result"
    }
   ],
   "source": [
    "import keras\n",
    "keras.__version__"
   ]
  },
  {
   "cell_type": "code",
   "execution_count": null,
   "metadata": {},
   "outputs": [],
   "source": []
  }
 ],
 "metadata": {
  "kernelspec": {
   "display_name": "Python 3",
   "language": "python",
   "name": "python3"
  },
  "language_info": {
   "codemirror_mode": {
    "name": "ipython",
    "version": 3
   },
   "file_extension": ".py",
   "mimetype": "text/x-python",
   "name": "python",
   "nbconvert_exporter": "python",
   "pygments_lexer": "ipython3",
   "version": "3.6.8"
  }
 },
 "nbformat": 4,
 "nbformat_minor": 2
}
